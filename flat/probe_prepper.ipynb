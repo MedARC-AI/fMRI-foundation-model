{
 "cells": [
  {
   "cell_type": "code",
   "execution_count": 1,
   "id": "b8e236f1-385a-4d93-bb39-bea3ee384d76",
   "metadata": {
    "scrolled": true,
    "tags": []
   },
   "outputs": [
    {
     "name": "stdout",
     "output_type": "stream",
     "text": [
      "outdir /weka/proj-fmri/paulscotti/fMRI-foundation-model/flat/checkpoints/NSDflat_large_gsrFalse_\n",
      "Loaded config.yaml from ckpt folder /weka/proj-fmri/paulscotti/fMRI-foundation-model/flat/checkpoints/NSDflat_large_gsrFalse_\n",
      "\n",
      "__CONFIG__\n",
      "base_lr = 0.001\n",
      "batch_size = 32\n",
      "ckpt_interval = 5\n",
      "ckpt_saving = True\n",
      "cls_embed = True\n",
      "contrastive_loss_weight = 1.0\n",
      "datasets_to_include = NSD\n",
      "decoder_embed_dim = 512\n",
      "grad_accumulation_steps = 1\n",
      "grad_clip = 1.0\n",
      "gsr = False\n",
      "hcp_flat_path = /weka/proj-medarc/shared/HCP-Flat\n",
      "mask_ratio = 0.75\n",
      "model_name = NSDflat_large_gsrFalse_\n",
      "no_qkv_bias = False\n",
      "norm_pix_loss = False\n",
      "nsd_flat_path = /weka/proj-medarc/shared/NSD-Flat\n",
      "num_epochs = 100\n",
      "num_frames = 16\n",
      "num_samples_per_epoch = 200000\n",
      "num_workers = 10\n",
      "patch_size = 16\n",
      "pct_masks_to_decode = 1\n",
      "plotting = True\n",
      "pred_t_dim = 8\n",
      "print_interval = 20\n",
      "probe_base_lr = 0.0003\n",
      "probe_batch_size = 8\n",
      "probe_num_epochs = 30\n",
      "probe_num_samples_per_epoch = 100000\n",
      "resume_from_ckpt = True\n",
      "seed = 42\n",
      "sep_pos_embed = True\n",
      "t_patch_size = 2\n",
      "test_num_samples_per_epoch = 50000\n",
      "test_set = False\n",
      "trunc_init = False\n",
      "use_contrastive_loss = False\n",
      "wandb_log = True\n",
      "\n",
      "\n",
      "Number of available CUDA devices: 1\n",
      "LOCAL RANK=0\n",
      "NUM GPUS=1\n",
      "NODE=0\n",
      "GLOBAL RANK=0\n",
      "WORLD_SIZE=1\n",
      "PID of this process = 2402229\n",
      "device = cuda distributed = False num_devices = 1 local rank = 0 world size = 1 data_type = torch.float32\n"
     ]
    }
   ],
   "source": [
    "# Import packages and setup gpu configuration.\n",
    "# This code block shouldnt need to be adjusted!\n",
    "import os\n",
    "import sys\n",
    "import json\n",
    "import yaml\n",
    "import numpy as np\n",
    "import copy\n",
    "import math\n",
    "import time\n",
    "import datetime\n",
    "import random\n",
    "from tqdm import tqdm\n",
    "import webdataset as wds\n",
    "import matplotlib.pyplot as plt\n",
    "import pandas as pd\n",
    "\n",
    "import torch\n",
    "import torch.nn as nn\n",
    "from torchvision import transforms\n",
    "import utils\n",
    "from flat_models import *\n",
    "\n",
    "from elbow.sinks import BufferedParquetWriter\n",
    "\n",
    "# tf32 data type is faster than standard float32\n",
    "torch.backends.cuda.matmul.allow_tf32 = True\n",
    "# following fixes a Conv3D CUDNN_NOT_SUPPORTED error\n",
    "torch.backends.cudnn.benchmark = True\n",
    "\n",
    "## MODEL TO LOAD ##\n",
    "model_name = \"NSDflat_large_gsrFalse_\"\n",
    "outdir = os.path.abspath(f'checkpoints/{model_name}')\n",
    "print(\"outdir\", outdir)\n",
    "\n",
    "# Load previous config.yaml\n",
    "assert os.path.exists(f\"{outdir}/config.yaml\")\n",
    "config = yaml.load(open(f\"{outdir}/config.yaml\", 'r'), Loader=yaml.FullLoader)\n",
    "print(f\"Loaded config.yaml from ckpt folder {outdir}\")\n",
    "# create global variables from the config\n",
    "print(\"\\n__CONFIG__\")\n",
    "for attribute_name in config.keys():\n",
    "    print(f\"{attribute_name} = {config[attribute_name]}\")\n",
    "    globals()[attribute_name] = config[f'{attribute_name}']\n",
    "print(\"\\n\")\n",
    "    \n",
    "### Multi-GPU config ###\n",
    "device_count = torch.cuda.device_count()\n",
    "print(f\"Number of available CUDA devices: {device_count}\")\n",
    "\n",
    "local_rank = os.getenv('LOCAL_RANK')\n",
    "if local_rank is None: \n",
    "    local_rank = 0\n",
    "else:\n",
    "    local_rank = int(local_rank)\n",
    "print(f\"LOCAL RANK={local_rank}\")\n",
    "\n",
    "num_devices = os.getenv('NUM_GPUS')\n",
    "if num_devices is None: \n",
    "    num_devices = 1\n",
    "else:\n",
    "    num_devices = int(num_devices)\n",
    "print(f\"NUM GPUS={num_devices}\")\n",
    "distributed = True if num_devices>1 else False\n",
    "if distributed: assert device_count==num_devices\n",
    "\n",
    "node = os.getenv('SLURM_NODEID')\n",
    "if node is None:\n",
    "    node = 0\n",
    "else:\n",
    "    node = int(node)\n",
    "print(f\"NODE={node}\")\n",
    "\n",
    "global_rank = os.getenv('RANK')\n",
    "if global_rank is None:\n",
    "    global_rank = 0\n",
    "else:\n",
    "    global_rank = int(global_rank)\n",
    "print(f\"GLOBAL RANK={global_rank}\")\n",
    "\n",
    "world_size = os.getenv('WORLD_SIZE')\n",
    "if world_size is None: \n",
    "    world_size = 1\n",
    "else:\n",
    "    world_size = int(world_size)\n",
    "print(f\"WORLD_SIZE={world_size}\")\n",
    "\n",
    "if utils.is_interactive():\n",
    "    # Following allows you to change functions in models.py or utils.py and \n",
    "    # have this notebook automatically update with your revisions\n",
    "    %load_ext autoreload\n",
    "    %autoreload 2\n",
    "\n",
    "batch_size = probe_batch_size\n",
    "num_epochs = probe_num_epochs\n",
    "\n",
    "data_type = torch.float32 # change depending on your mixed_precision\n",
    "global_batch_size = batch_size * world_size\n",
    "\n",
    "device = torch.device('cuda')\n",
    "\n",
    "print(\"PID of this process =\",os.getpid())\n",
    "print(\"device =\", device, \"distributed =\",distributed, \"num_devices =\", num_devices, \"local rank =\", local_rank, \"world size =\", world_size, \"data_type =\", data_type)\n",
    "\n",
    "# seed all random functions\n",
    "utils.seed_everything(seed + global_rank)"
   ]
  },
  {
   "cell_type": "markdown",
   "id": "ab15aca0-148e-435f-b8f2-7a708b61a6d9",
   "metadata": {},
   "source": [
    "# hcp_flat"
   ]
  },
  {
   "cell_type": "code",
   "execution_count": 2,
   "id": "de1a5b87-fa69-44e1-bdb9-bd9e257485c6",
   "metadata": {
    "tags": []
   },
   "outputs": [
    {
     "name": "stdout",
     "output_type": "stream",
     "text": [
      "img_size (144, 320) patch_size (16, 16) frames 16 t_patch_size 2\n",
      "model initialized\n"
     ]
    }
   ],
   "source": [
    "from util.flat import load_hcp_flat_mask, load_nsd_flat_mask\n",
    "from util.flat import create_hcp_flat, create_nsd_flat\n",
    "from util.flat import batch_unmask\n",
    "import util.visualize as vis\n",
    "\n",
    "if \"HCP\" in datasets_to_include:\n",
    "    flat_mask = load_hcp_flat_mask()\n",
    "elif \"NSD\" in datasets_to_include:\n",
    "    flat_mask = load_nsd_flat_mask()\n",
    "\n",
    "model = mae_vit_large_fmri(\n",
    "    patch_size=patch_size,\n",
    "    decoder_embed_dim=decoder_embed_dim,\n",
    "    t_patch_size=t_patch_size,\n",
    "    pred_t_dim=pred_t_dim,\n",
    "    decoder_depth=4,\n",
    "    cls_embed=cls_embed,\n",
    "    norm_pix_loss=norm_pix_loss,\n",
    "    no_qkv_bias=no_qkv_bias,\n",
    "    sep_pos_embed=sep_pos_embed,\n",
    "    trunc_init=trunc_init,\n",
    "    pct_masks_to_decode=pct_masks_to_decode,\n",
    "    img_mask=flat_mask,\n",
    ")"
   ]
  },
  {
   "cell_type": "markdown",
   "id": "2b8e6baa-4b1c-4f38-b078-70b2b092d14d",
   "metadata": {},
   "source": [
    "# Load checkpoint"
   ]
  },
  {
   "cell_type": "code",
   "execution_count": 3,
   "id": "4da73c08-ca61-48ef-9e63-b70db6f07a59",
   "metadata": {
    "tags": []
   },
   "outputs": [
    {
     "name": "stdout",
     "output_type": "stream",
     "text": [
      "\n",
      "Loaded checkpoint epoch99.pth from /weka/proj-fmri/paulscotti/fMRI-foundation-model/flat/checkpoints/NSDflat_large_gsrFalse_\n",
      "\n"
     ]
    }
   ],
   "source": [
    "checkpoint_files = [f for f in os.listdir(outdir) if f.endswith('.pth')]\n",
    "\n",
    "# Extract epoch numbers and find the largest\n",
    "epoch_numbers = []\n",
    "for file in checkpoint_files:\n",
    "    try:\n",
    "        epoch_number = int(file.split('epoch')[-1].split('.')[0])\n",
    "        epoch_numbers.append(epoch_number)\n",
    "    except ValueError:\n",
    "        continue\n",
    "latest_epoch = max(epoch_numbers)\n",
    "latest_checkpoint = f\"epoch{latest_epoch}.pth\"\n",
    "\n",
    "# # Or specify epoch number \n",
    "# latest_checkpoint = \"epoch15.pth\"\n",
    "\n",
    "# Load the checkpoint\n",
    "checkpoint_path = os.path.join(outdir, latest_checkpoint)\n",
    "\n",
    "state = torch.load(checkpoint_path)\n",
    "model.load_state_dict(state[\"model_state_dict\"], strict=False)\n",
    "model.to(device)\n",
    "\n",
    "print(f\"\\nLoaded checkpoint {latest_checkpoint} from {outdir}\\n\")"
   ]
  },
  {
   "cell_type": "markdown",
   "id": "3dd51ddf-fb71-48f4-bdbd-88753b44d2aa",
   "metadata": {},
   "source": [
    "## Create dataset and data loaders"
   ]
  },
  {
   "cell_type": "code",
   "execution_count": 4,
   "id": "3e330cd2-8f4f-4ca7-ae68-16698e90060f",
   "metadata": {
    "tags": []
   },
   "outputs": [
    {
     "name": "stdout",
     "output_type": "stream",
     "text": [
      "changed batch_size to 1\n"
     ]
    }
   ],
   "source": [
    "batch_size = 1\n",
    "print(f\"changed batch_size to {batch_size}\")\n",
    "\n",
    "## Test ##\n",
    "if \"HCP\" in datasets_to_include:\n",
    "    err # this notebook needs some revisions to handle HCP again\n",
    "    test_dataset = create_hcp_flat(root=hcp_flat_path, \n",
    "                    split=\"test\", frames=num_frames, shuffle=False, gsr=gsr)\n",
    "elif \"NSD\" in datasets_to_include:\n",
    "    test_dataset = create_nsd_flat(root=nsd_flat_path, \n",
    "                    frames=num_frames, shuffle=False, \n",
    "                    gsr=gsr, sub=\"sub-01\", run=\"task-only\")\n",
    "test_dl = wds.WebLoader(\n",
    "    test_dataset.batched(batch_size, partial=False),\n",
    "    batch_size=None,\n",
    "    shuffle=False,\n",
    "    num_workers=1,\n",
    "    pin_memory=True,\n",
    ")"
   ]
  },
  {
   "cell_type": "markdown",
   "id": "c43a5055-8afd-468a-93bf-32f94bd1d042",
   "metadata": {},
   "source": [
    "# Start extraction"
   ]
  },
  {
   "cell_type": "code",
   "execution_count": 5,
   "id": "d8e725d3-161e-4e1d-ad8a-5c4a8bc082c1",
   "metadata": {},
   "outputs": [
    {
     "name": "stdout",
     "output_type": "stream",
     "text": [
      "cnt 125400\n",
      "total 125400\n"
     ]
    }
   ],
   "source": [
    "# if \"HCP\" in datasets_to_include:\n",
    "#     cnt = \n",
    "# elif \"NSD\" in datasets_to_include:\n",
    "#     cnt = 125400\n",
    "\n",
    "### to determine ctn and for debugging, run below ###\n",
    "sessions = []\n",
    "runs = []\n",
    "starts = []\n",
    "cnt = 0\n",
    "total = 0\n",
    "if \"HCP\" in datasets_to_include:\n",
    "    for sample, sample_meta in test_dl:\n",
    "        cnt += 1\n",
    "        total += len(sample)\n",
    "elif \"NSD\" in datasets_to_include:\n",
    "    for sample, sample_meta, sample_events, sample_means, sample_sds in test_dl:\n",
    "        sessions.append([s['ses'] for s in sample_meta])\n",
    "        runs.append([s['run'] for s in sample_meta])\n",
    "        starts.append([s['start'] for s in sample_meta])\n",
    "        cnt += 1\n",
    "        total += len(sample)\n",
    "print(\"cnt\", cnt)\n",
    "print(\"total\", total)\n",
    "sessions=np.array(sessions).flatten()\n",
    "runs=np.array(runs).flatten()\n",
    "starts=np.array(starts).flatten()"
   ]
  },
  {
   "cell_type": "code",
   "execution_count": 6,
   "id": "abbc4e68-8cbf-4c97-b2d6-f64baee79baa",
   "metadata": {},
   "outputs": [
    {
     "data": {
      "text/plain": [
       "'NSD'"
      ]
     },
     "execution_count": 6,
     "metadata": {},
     "output_type": "execute_result"
    }
   ],
   "source": [
    "datasets_to_include"
   ]
  },
  {
   "cell_type": "code",
   "execution_count": 31,
   "id": "cc09058c-43cf-449d-96b9-65b6375b5d31",
   "metadata": {},
   "outputs": [
    {
     "name": "stdout",
     "output_type": "stream",
     "text": [
      "285\n",
      "285\n",
      "284\n"
     ]
    }
   ],
   "source": [
    "sess=25\n",
    "run=13\n",
    "print(np.unique(sessions))\n",
    "print(len(np.sort(starts[(sessions==sess)&(runs==run)])))\n",
    "print(len(np.unique(np.sort(starts[(sessions==sess)&(runs==run)]))))\n",
    "print(np.sort(starts[(sessions==sess)&(runs==run)])[-1])"
   ]
  },
  {
   "cell_type": "code",
   "execution_count": 32,
   "id": "6507067f-1ece-46ac-ad8c-24ef7a9b3a58",
   "metadata": {
    "tags": []
   },
   "outputs": [],
   "source": [
    "@torch.no_grad()\n",
    "def extract_features(dl, dataset=\"nsd\"):\n",
    "    if dataset==\"hcp\":\n",
    "        err\n",
    "        for samples, samples_meta in tqdm(dl,total=cnt):\n",
    "    \n",
    "            samples = samples.to(device)\n",
    "            \n",
    "            features = model.forward_features(samples)\n",
    "    \n",
    "            features = features.cpu().numpy()\n",
    "    \n",
    "            for feat, meta in zip(features, samples_meta):\n",
    "                yield {\"feature\": feat, **meta}\n",
    "    elif dataset==\"nsd\": \n",
    "        for samples, samples_meta, samples_events, sample_means, sample_sds in tqdm(dl,total=cnt):\n",
    "            # # Normalize and unmask the inputs\n",
    "            # samples -= sample_means[:, None]\n",
    "            # samples /= sample_sds[:, None]\n",
    "            # samples = batch_unmask(samples, flat_mask).unsqueeze(1)\n",
    "            \n",
    "            features = model.forward_features(samples.to(device))\n",
    "    \n",
    "            features = features.cpu().numpy()\n",
    "    \n",
    "            for feat, meta, events in zip(features, samples_meta, samples_events):\n",
    "                yield {\"feature\": feat, **meta,\n",
    "                       \"events\": events}"
   ]
  },
  {
   "cell_type": "code",
   "execution_count": 33,
   "id": "8b75050d-ea61-489c-a777-7725935a6a74",
   "metadata": {},
   "outputs": [
    {
     "name": "stdout",
     "output_type": "stream",
     "text": [
      "/weka/proj-fmri/paulscotti/fMRI-foundation-model/flat/checkpoints/nsdflat_large_gsr_mindeye_run2to12/epoch2\n"
     ]
    }
   ],
   "source": [
    "outdir_parquet = f'{outdir}/{latest_checkpoint[:-4]}'\n",
    "print(outdir_parquet)\n",
    "\n",
    "os.makedirs(outdir_parquet,exist_ok=True)"
   ]
  },
  {
   "cell_type": "code",
   "execution_count": 34,
   "id": "c3461199-e805-4e9c-8c91-894e83cf8bc3",
   "metadata": {
    "tags": []
   },
   "outputs": [
    {
     "name": "stdout",
     "output_type": "stream",
     "text": [
      "Start extract\n",
      "output location: /weka/proj-fmri/paulscotti/fMRI-foundation-model/flat/checkpoints/nsdflat_large_gsr_mindeye_run2to12/epoch2/test.parquet\n"
     ]
    },
    {
     "name": "stderr",
     "output_type": "stream",
     "text": [
      "100%|███████████████████████████████████████| 5130/5130 [01:38<00:00, 52.04it/s]\n"
     ]
    },
    {
     "name": "stdout",
     "output_type": "stream",
     "text": [
      "Extract time 0:01:38\n",
      "10541011456\n"
     ]
    }
   ],
   "source": [
    "utils.seed_everything(seed)\n",
    "\n",
    "print(\"Start extract\")\n",
    "print(\"output location:\", f\"{outdir_parquet}/test.parquet\")\n",
    "start_time = time.time()\n",
    "\n",
    "with BufferedParquetWriter(f\"{outdir_parquet}/test.parquet\", blocking=True) as writer:\n",
    "    if \"NSD\" in datasets_to_include:\n",
    "        for sample in extract_features(test_dl, dataset=\"nsd\"):\n",
    "            writer.write(sample)\n",
    "    elif \"HCP\" in datasets_to_include:\n",
    "        for sample in extract_features(test_dl, dataset=\"hcp\"):\n",
    "            writer.write(sample)\n",
    "    else:\n",
    "        raise ValueError(\"No valid dataset specified in datasets_to_include\")\n",
    "\n",
    "total_time = time.time() - start_time\n",
    "total_time_str = str(datetime.timedelta(seconds=int(total_time)))\n",
    "print(\"Extract time {}\".format(total_time_str))\n",
    "print(torch.cuda.memory_allocated())"
   ]
  },
  {
   "cell_type": "code",
   "execution_count": 35,
   "id": "d74b9e19-3098-441e-bca9-949e6da82af8",
   "metadata": {},
   "outputs": [
    {
     "name": "stdout",
     "output_type": "stream",
     "text": [
      "output location: /weka/proj-fmri/paulscotti/fMRI-foundation-model/flat/checkpoints/nsdflat_large_gsr_mindeye_run2to12/epoch2/test.parquet\n"
     ]
    }
   ],
   "source": [
    "print(\"output location:\", f\"{outdir_parquet}/test.parquet\")"
   ]
  },
  {
   "cell_type": "code",
   "execution_count": null,
   "id": "1461acf6-8053-4fcc-80e3-9ff66e0f1dc4",
   "metadata": {},
   "outputs": [],
   "source": [
    "features = pd.read_parquet(f\"{outdir_parquet}/test.parquet\")\n",
    "features"
   ]
  },
  {
   "cell_type": "code",
   "execution_count": null,
   "id": "a28f589f",
   "metadata": {},
   "outputs": [],
   "source": [
    "sess=9#5\n",
    "run=7#3\n",
    "len(np.sort(features[(features['sub']==1)&(features['ses']==sess)&(features['run']==run)]['start'].values))"
   ]
  }
 ],
 "metadata": {
  "kernelspec": {
   "display_name": "found2",
   "language": "python",
   "name": "found2"
  },
  "language_info": {
   "codemirror_mode": {
    "name": "ipython",
    "version": 3
   },
   "file_extension": ".py",
   "mimetype": "text/x-python",
   "name": "python",
   "nbconvert_exporter": "python",
   "pygments_lexer": "ipython3",
   "version": "3.12.4"
  }
 },
 "nbformat": 4,
 "nbformat_minor": 5
}
