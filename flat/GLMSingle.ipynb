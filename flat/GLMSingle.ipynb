{
 "cells": [
  {
   "cell_type": "code",
   "execution_count": 1,
   "id": "a81b9ce7-73c8-462e-aa08-f0316c72f66b",
   "metadata": {},
   "outputs": [
    {
     "name": "stdout",
     "output_type": "stream",
     "text": [
      "outdir /weka/proj-fmri/paulscotti/fMRI-foundation-model/flat/checkpoints/nsdflat_large\n",
      "Loaded config.yaml from ckpt folder /weka/proj-fmri/paulscotti/fMRI-foundation-model/flat/checkpoints/nsdflat_large\n",
      "\n",
      "__CONFIG__\n",
      "base_lr = 0.001\n",
      "batch_size = 32\n",
      "ckpt_interval = 5\n",
      "ckpt_saving = True\n",
      "cls_embed = True\n",
      "decoder_embed_dim = 512\n",
      "grad_accumulation_steps = 1\n",
      "grad_clip = 1.0\n",
      "hcp_flat_path = /weka/proj-medarc/shared/NSD-Flat\n",
      "mask_ratio = 0.75\n",
      "model_name = nsdflat_large\n",
      "no_qkv_bias = False\n",
      "norm_pix_loss = False\n",
      "num_epochs = 100\n",
      "num_frames = 16\n",
      "num_samples_per_epoch = 200000\n",
      "num_workers = 10\n",
      "patch_size = 16\n",
      "pct_masks_to_decode = 1\n",
      "pred_t_dim = 8\n",
      "print_interval = 20\n",
      "probe_base_lr = 0.0003\n",
      "probe_batch_size = 8\n",
      "probe_num_epochs = 30\n",
      "probe_num_samples_per_epoch = 100000\n",
      "resume_from_ckpt = True\n",
      "seed = 42\n",
      "sep_pos_embed = True\n",
      "t_patch_size = 2\n",
      "test_num_samples_per_epoch = 50000\n",
      "test_set = False\n",
      "trunc_init = False\n",
      "use_contrastive_loss = False\n",
      "wandb_log = True\n",
      "\n",
      "\n"
     ]
    },
    {
     "data": {
      "application/javascript": [
       "IPython.notebook.set_autosave_interval(5000)"
      ]
     },
     "metadata": {},
     "output_type": "display_data"
    },
    {
     "name": "stdout",
     "output_type": "stream",
     "text": [
      "Autosaving every 5 seconds\n"
     ]
    }
   ],
   "source": [
    "import numpy as np\n",
    "import yaml\n",
    "import pandas as pd\n",
    "import nibabel as nib\n",
    "from nibabel import imagestats\n",
    "import nilearn\n",
    "from nilearn.input_data import NiftiMasker\n",
    "from nilearn.masking import intersect_masks\n",
    "from nilearn import image\n",
    "from nilearn.plotting import plot_roi\n",
    "from nilearn.plotting import plot_anat\n",
    "from nilearn.plotting import plot_epi\n",
    "import scipy\n",
    "import scipy.stats as stats\n",
    "import scipy.io as sio\n",
    "import matplotlib.pyplot as plt\n",
    "\n",
    "import os\n",
    "from os.path import join, exists, split\n",
    "import sys\n",
    "import time\n",
    "import urllib.request\n",
    "import copy\n",
    "import warnings\n",
    "from tqdm import tqdm\n",
    "from pprint import pprint\n",
    "warnings.filterwarnings('ignore')\n",
    "import h5py\n",
    "\n",
    "## MODEL TO LOAD ##\n",
    "model_name = \"nsdflat_large\"\n",
    "outdir = os.path.abspath(f'checkpoints/{model_name}')\n",
    "print(\"outdir\", outdir)\n",
    "# Load previous config.yaml if available\n",
    "if os.path.exists(f\"{outdir}/config.yaml\"):\n",
    "    config = yaml.load(open(f\"{outdir}/config.yaml\", 'r'), Loader=yaml.FullLoader)\n",
    "    print(f\"Loaded config.yaml from ckpt folder {outdir}\")\n",
    "    # create global variables from the config\n",
    "    print(\"\\n__CONFIG__\")\n",
    "    for attribute_name in config.keys():\n",
    "        print(f\"{attribute_name} = {config[attribute_name]}\")\n",
    "        globals()[attribute_name] = config[f'{attribute_name}']\n",
    "    print(\"\\n\")\n",
    "\n",
    "import glmsingle\n",
    "from glmsingle.glmsingle import GLM_single\n",
    "\n",
    "%matplotlib inline \n",
    "%autosave 5\n",
    "\n",
    "def zscore(data,train_mean=None,train_std=None):\n",
    "    # assuming that first dim is num_samples and second dim is num_voxels\n",
    "    if train_mean is None:\n",
    "        train_mean = np.mean(data,axis=0)\n",
    "    if train_std is None:\n",
    "        train_std = np.std(data,axis=0)\n",
    "    zscored_data = (data - train_mean) / (train_std + 1e-6)\n",
    "    return zscored_data"
   ]
  },
  {
   "cell_type": "code",
   "execution_count": 93,
   "id": "75e23b2a-f104-42a6-8c30-7b449cbdc7b1",
   "metadata": {},
   "outputs": [],
   "source": [
    "run_glmsingle = 1\n",
    "stimdur = 3\n",
    "tr_orig = 1.6\n",
    "tr = 1 # after upsampling"
   ]
  },
  {
   "cell_type": "code",
   "execution_count": 94,
   "id": "539e011a-858b-4c02-9fc1-d303564ba572",
   "metadata": {},
   "outputs": [
    {
     "name": "stdout",
     "output_type": "stream",
     "text": [
      "/weka/proj-fmri/paulscotti/fMRI-foundation-model/flat/checkpoints/nsdflat_large/epoch99\n"
     ]
    }
   ],
   "source": [
    "outputdir_glmsingle = \"glmsingle\"\n",
    "os.makedirs(outputdir_glmsingle,exist_ok=True)\n",
    "\n",
    "latest_checkpoint = 'epoch99.pth'\n",
    "outdir_parquet = f'{outdir}/{latest_checkpoint[:-4]}'\n",
    "print(outdir_parquet)"
   ]
  },
  {
   "cell_type": "code",
   "execution_count": 95,
   "id": "1331c658-3681-4bb8-ba2b-4260d4dd8fcd",
   "metadata": {},
   "outputs": [
    {
     "name": "stdout",
     "output_type": "stream",
     "text": [
      "146688\n"
     ]
    },
    {
     "data": {
      "text/html": [
       "<div>\n",
       "<style scoped>\n",
       "    .dataframe tbody tr th:only-of-type {\n",
       "        vertical-align: middle;\n",
       "    }\n",
       "\n",
       "    .dataframe tbody tr th {\n",
       "        vertical-align: top;\n",
       "    }\n",
       "\n",
       "    .dataframe thead th {\n",
       "        text-align: right;\n",
       "    }\n",
       "</style>\n",
       "<table border=\"1\" class=\"dataframe\">\n",
       "  <thead>\n",
       "    <tr style=\"text-align: right;\">\n",
       "      <th></th>\n",
       "      <th>feature</th>\n",
       "      <th>key</th>\n",
       "      <th>sub</th>\n",
       "      <th>ses</th>\n",
       "      <th>run</th>\n",
       "      <th>start</th>\n",
       "      <th>events</th>\n",
       "    </tr>\n",
       "  </thead>\n",
       "  <tbody>\n",
       "    <tr>\n",
       "      <th>0</th>\n",
       "      <td>[1.2957616, 0.8341554, 0.977095, 0.7594984, 0....</td>\n",
       "      <td>sub-01_ses-25_run-09</td>\n",
       "      <td>1</td>\n",
       "      <td>25</td>\n",
       "      <td>9</td>\n",
       "      <td>0</td>\n",
       "      <td>[{'index': 12, 'nsd_id': 45455}, {'index': 16,...</td>\n",
       "    </tr>\n",
       "    <tr>\n",
       "      <th>1</th>\n",
       "      <td>[1.6828736, 0.76685095, 0.801588, 1.1775866, 0...</td>\n",
       "      <td>sub-01_ses-25_run-09</td>\n",
       "      <td>1</td>\n",
       "      <td>25</td>\n",
       "      <td>9</td>\n",
       "      <td>16</td>\n",
       "      <td>[{'index': 12, 'nsd_id': 45455}, {'index': 16,...</td>\n",
       "    </tr>\n",
       "    <tr>\n",
       "      <th>2</th>\n",
       "      <td>[1.3467954, 0.62295175, 0.53726166, 0.94804835...</td>\n",
       "      <td>sub-01_ses-25_run-09</td>\n",
       "      <td>1</td>\n",
       "      <td>25</td>\n",
       "      <td>9</td>\n",
       "      <td>32</td>\n",
       "      <td>[{'index': 12, 'nsd_id': 45455}, {'index': 16,...</td>\n",
       "    </tr>\n",
       "    <tr>\n",
       "      <th>3</th>\n",
       "      <td>[1.2597265, 0.56107175, 0.88799864, 1.0987167,...</td>\n",
       "      <td>sub-01_ses-25_run-09</td>\n",
       "      <td>1</td>\n",
       "      <td>25</td>\n",
       "      <td>9</td>\n",
       "      <td>48</td>\n",
       "      <td>[{'index': 12, 'nsd_id': 45455}, {'index': 16,...</td>\n",
       "    </tr>\n",
       "    <tr>\n",
       "      <th>4</th>\n",
       "      <td>[0.9291683, 0.7384197, 0.43327004, 0.96608216,...</td>\n",
       "      <td>sub-01_ses-25_run-09</td>\n",
       "      <td>1</td>\n",
       "      <td>25</td>\n",
       "      <td>9</td>\n",
       "      <td>64</td>\n",
       "      <td>[{'index': 12, 'nsd_id': 45455}, {'index': 16,...</td>\n",
       "    </tr>\n",
       "    <tr>\n",
       "      <th>...</th>\n",
       "      <td>...</td>\n",
       "      <td>...</td>\n",
       "      <td>...</td>\n",
       "      <td>...</td>\n",
       "      <td>...</td>\n",
       "      <td>...</td>\n",
       "      <td>...</td>\n",
       "    </tr>\n",
       "    <tr>\n",
       "      <th>146683</th>\n",
       "      <td>[0.39492762, 0.9567513, 1.9104024, 0.6862465, ...</td>\n",
       "      <td>sub-01_ses-09_run-07</td>\n",
       "      <td>1</td>\n",
       "      <td>9</td>\n",
       "      <td>7</td>\n",
       "      <td>15</td>\n",
       "      <td>[{'index': 12, 'nsd_id': 46391}, {'index': 16,...</td>\n",
       "    </tr>\n",
       "    <tr>\n",
       "      <th>146684</th>\n",
       "      <td>[0.6176336, 0.97453976, 1.6229396, 0.7125873, ...</td>\n",
       "      <td>sub-01_ses-09_run-07</td>\n",
       "      <td>1</td>\n",
       "      <td>9</td>\n",
       "      <td>7</td>\n",
       "      <td>31</td>\n",
       "      <td>[{'index': 12, 'nsd_id': 46391}, {'index': 16,...</td>\n",
       "    </tr>\n",
       "    <tr>\n",
       "      <th>146685</th>\n",
       "      <td>[0.36875397, 0.9014565, 2.026524, 0.7028155, 0...</td>\n",
       "      <td>sub-01_ses-09_run-07</td>\n",
       "      <td>1</td>\n",
       "      <td>9</td>\n",
       "      <td>7</td>\n",
       "      <td>47</td>\n",
       "      <td>[{'index': 12, 'nsd_id': 46391}, {'index': 16,...</td>\n",
       "    </tr>\n",
       "    <tr>\n",
       "      <th>146686</th>\n",
       "      <td>[0.11672564, 0.7731965, 2.1594627, 0.8890982, ...</td>\n",
       "      <td>sub-01_ses-09_run-07</td>\n",
       "      <td>1</td>\n",
       "      <td>9</td>\n",
       "      <td>7</td>\n",
       "      <td>63</td>\n",
       "      <td>[{'index': 12, 'nsd_id': 46391}, {'index': 16,...</td>\n",
       "    </tr>\n",
       "    <tr>\n",
       "      <th>146687</th>\n",
       "      <td>[-0.31813443, 0.6642333, 1.2111845, 0.8097815,...</td>\n",
       "      <td>sub-01_ses-09_run-07</td>\n",
       "      <td>1</td>\n",
       "      <td>9</td>\n",
       "      <td>7</td>\n",
       "      <td>79</td>\n",
       "      <td>[{'index': 12, 'nsd_id': 46391}, {'index': 16,...</td>\n",
       "    </tr>\n",
       "  </tbody>\n",
       "</table>\n",
       "<p>146688 rows × 7 columns</p>\n",
       "</div>"
      ],
      "text/plain": [
       "                                                  feature  \\\n",
       "0       [1.2957616, 0.8341554, 0.977095, 0.7594984, 0....   \n",
       "1       [1.6828736, 0.76685095, 0.801588, 1.1775866, 0...   \n",
       "2       [1.3467954, 0.62295175, 0.53726166, 0.94804835...   \n",
       "3       [1.2597265, 0.56107175, 0.88799864, 1.0987167,...   \n",
       "4       [0.9291683, 0.7384197, 0.43327004, 0.96608216,...   \n",
       "...                                                   ...   \n",
       "146683  [0.39492762, 0.9567513, 1.9104024, 0.6862465, ...   \n",
       "146684  [0.6176336, 0.97453976, 1.6229396, 0.7125873, ...   \n",
       "146685  [0.36875397, 0.9014565, 2.026524, 0.7028155, 0...   \n",
       "146686  [0.11672564, 0.7731965, 2.1594627, 0.8890982, ...   \n",
       "146687  [-0.31813443, 0.6642333, 1.2111845, 0.8097815,...   \n",
       "\n",
       "                         key  sub  ses  run  start  \\\n",
       "0       sub-01_ses-25_run-09    1   25    9      0   \n",
       "1       sub-01_ses-25_run-09    1   25    9     16   \n",
       "2       sub-01_ses-25_run-09    1   25    9     32   \n",
       "3       sub-01_ses-25_run-09    1   25    9     48   \n",
       "4       sub-01_ses-25_run-09    1   25    9     64   \n",
       "...                      ...  ...  ...  ...    ...   \n",
       "146683  sub-01_ses-09_run-07    1    9    7     15   \n",
       "146684  sub-01_ses-09_run-07    1    9    7     31   \n",
       "146685  sub-01_ses-09_run-07    1    9    7     47   \n",
       "146686  sub-01_ses-09_run-07    1    9    7     63   \n",
       "146687  sub-01_ses-09_run-07    1    9    7     79   \n",
       "\n",
       "                                                   events  \n",
       "0       [{'index': 12, 'nsd_id': 45455}, {'index': 16,...  \n",
       "1       [{'index': 12, 'nsd_id': 45455}, {'index': 16,...  \n",
       "2       [{'index': 12, 'nsd_id': 45455}, {'index': 16,...  \n",
       "3       [{'index': 12, 'nsd_id': 45455}, {'index': 16,...  \n",
       "4       [{'index': 12, 'nsd_id': 45455}, {'index': 16,...  \n",
       "...                                                   ...  \n",
       "146683  [{'index': 12, 'nsd_id': 46391}, {'index': 16,...  \n",
       "146684  [{'index': 12, 'nsd_id': 46391}, {'index': 16,...  \n",
       "146685  [{'index': 12, 'nsd_id': 46391}, {'index': 16,...  \n",
       "146686  [{'index': 12, 'nsd_id': 46391}, {'index': 16,...  \n",
       "146687  [{'index': 12, 'nsd_id': 46391}, {'index': 16,...  \n",
       "\n",
       "[146688 rows x 7 columns]"
      ]
     },
     "execution_count": 95,
     "metadata": {},
     "output_type": "execute_result"
    }
   ],
   "source": [
    "features = pd.read_parquet(f\"{outdir_parquet}/test.parquet\")\n",
    "print(len(features))\n",
    "features"
   ]
  },
  {
   "cell_type": "code",
   "execution_count": 96,
   "id": "fc49b895-ab44-4528-9dc8-a789802c0283",
   "metadata": {},
   "outputs": [
    {
     "name": "stdout",
     "output_type": "stream",
     "text": [
      "n_sessions 40  sess 1  n_runs 12  n_TRs 285  n_features 1024\n"
     ]
    }
   ],
   "source": [
    "n_sessions = 40 # ses ranges from 1 to 40\n",
    "sess = 1\n",
    "n_runs = features[(features['ses']==sess)]['run'].max()\n",
    "n_TRs = len(features[(features['ses']==sess)&(features['run']==1)])\n",
    "n_features = len(features[(features['ses']==sess)]['feature'].values[0])\n",
    "print(f\"n_sessions {n_sessions}  sess {sess}  n_runs {n_runs}  n_TRs {n_TRs}  n_features {n_features}\")"
   ]
  },
  {
   "cell_type": "markdown",
   "id": "b24e21da-db63-4ee4-b872-66fc4b41d4d6",
   "metadata": {},
   "source": [
    "## Data matrix"
   ]
  },
  {
   "cell_type": "code",
   "execution_count": 220,
   "id": "17ba0422-a3b0-4c8c-aab8-c4aaa9673b32",
   "metadata": {},
   "outputs": [
    {
     "name": "stdout",
     "output_type": "stream",
     "text": [
      "run = 1\n",
      "run = 2\n",
      "run = 3\n",
      "run = 4\n",
      "run = 5\n",
      "run = 6\n",
      "run = 7\n",
      "run = 8\n",
      "run = 9\n",
      "run = 10\n",
      "run = 11\n",
      "run = 12\n",
      "(1024, 285)\n"
     ]
    }
   ],
   "source": [
    "data = [np.zeros((n_features, n_TRs)) for _ in range(n_runs)]\n",
    "for cur_run in range(1,n_runs+1):\n",
    "    print(f\"run = {cur_run}\")\n",
    "    for timepoint in range(n_TRs):\n",
    "        feats = features[(features['run']==cur_run)&(features['ses']==sess)&(features['start']==0)]['feature'].values[0]\n",
    "        data[cur_run-1][:, timepoint] = feats\n",
    "print(data[1].shape)"
   ]
  },
  {
   "cell_type": "markdown",
   "id": "112da7f6-d4f0-46ff-aa18-fbcdbe0d2674",
   "metadata": {},
   "source": [
    "## Design matrix"
   ]
  },
  {
   "cell_type": "code",
   "execution_count": 221,
   "id": "9529492b-cf32-4c2c-9eb3-c0b058d6f661",
   "metadata": {},
   "outputs": [
    {
     "name": "stdout",
     "output_type": "stream",
     "text": [
      "750\n",
      "583\n"
     ]
    }
   ],
   "source": [
    "images = []\n",
    "indices = []\n",
    "run_ids = []\n",
    "for r in range(1,n_runs+1):\n",
    "    images = np.append(images, [even['nsd_id'] for even in features[(features['run']==r)&(features['ses']==sess)&(features['start']==0)]['events'].values[0]])\n",
    "    indices = np.append(indices, [even['index'] for even in features[(features['run']==r)&(features['ses']==sess)&(features['start']==0)]['events'].values[0]])\n",
    "    run_ids = np.append(run_ids, np.repeat(r, len([even['index'] for even in features[(features['run']==r)&(features['ses']==sess)&(features['start']==0)]['events'].values[0]])))\n",
    "\n",
    "len_images = len(images)\n",
    "print(len_images)\n",
    "unique_images = np.unique(images)\n",
    "len_unique_images = len(unique_images)\n",
    "print(len_unique_images)"
   ]
  },
  {
   "cell_type": "code",
   "execution_count": 239,
   "id": "2b547fa2-7e88-4b44-97cb-3215f0db78b7",
   "metadata": {},
   "outputs": [],
   "source": [
    "# np.save(f\"sess{sess}_images\", images-1) # because it was 1-indexed"
   ]
  },
  {
   "cell_type": "code",
   "execution_count": 222,
   "id": "b5879472-5978-42bd-93b9-993e5cbddb72",
   "metadata": {},
   "outputs": [
    {
     "name": "stdout",
     "output_type": "stream",
     "text": [
      "run = 1\n",
      "run = 2\n",
      "run = 3\n",
      "run = 4\n",
      "run = 5\n",
      "run = 6\n",
      "run = 7\n",
      "run = 8\n",
      "run = 9\n",
      "run = 10\n",
      "run = 11\n",
      "run = 12\n"
     ]
    }
   ],
   "source": [
    "design = [np.zeros((n_TRs, len_unique_images)) for _ in range(n_runs)]\n",
    "for cur_run in range(1,n_runs+1):\n",
    "    print(f\"run = {cur_run}\")\n",
    "    for im,idx in zip(images[run_ids==cur_run], indices[run_ids==cur_run]):\n",
    "        image_idx = np.where(im==unique_images)[0].item()\n",
    "        timepoint = int(idx)\n",
    "        design[cur_run-1][timepoint, image_idx] = 1"
   ]
  },
  {
   "cell_type": "code",
   "execution_count": 223,
   "id": "054f7002-0f88-4e16-8f34-6f2faf0c2ceb",
   "metadata": {},
   "outputs": [
    {
     "data": {
      "text/plain": [
       "Text(0, 0.5, 'time (TR)')"
      ]
     },
     "execution_count": 223,
     "metadata": {},
     "output_type": "execute_result"
    },
    {
     "data": {
      "image/png": "[encoded data removed]",
      "text/plain": [
       "<Figure size 1600x1600 with 1 Axes>"
      ]
     },
     "metadata": {},
     "output_type": "display_data"
    }
   ],
   "source": [
    "# Plot design matrix for each run\n",
    "run=10\n",
    "plt.figure(figsize=(16,16))\n",
    "plt.imshow(design[run],interpolation='none')\n",
    "plt.title(' design matrix from run %i' %(run+1), fontsize=16)\n",
    "plt.xlabel('conditions',fontsize=16)\n",
    "plt.ylabel('time (TR)',fontsize=16) "
   ]
  },
  {
   "cell_type": "markdown",
   "id": "f38592ad-82e4-4c38-8333-02bcad7080f6",
   "metadata": {},
   "source": [
    "# Repeats analysis (no GLM)"
   ]
  },
  {
   "cell_type": "code",
   "execution_count": 224,
   "id": "aa0d177f-5d57-4d30-ad3c-c71d4ea49eb1",
   "metadata": {},
   "outputs": [
    {
     "name": "stdout",
     "output_type": "stream",
     "text": [
      "dataALL shape (features, TRs): (1024, 3420)\n",
      "designALL shape (TRs, conditions): (3420, 583)\n"
     ]
    }
   ],
   "source": [
    "# consolidate matrices\n",
    "dataALL = np.concatenate(data,axis=1)\n",
    "print('dataALL shape (features, TRs):', dataALL.shape)\n",
    "designALL = np.concatenate(design,axis=0)\n",
    "print('designALL shape (TRs, conditions):', designALL.shape)"
   ]
  },
  {
   "cell_type": "code",
   "execution_count": 225,
   "id": "e25aa16c-bf5b-4217-a74c-9b37930a3c39",
   "metadata": {},
   "outputs": [
    {
     "name": "stdout",
     "output_type": "stream",
     "text": [
      "(136, 1024) (136, 1024)\n"
     ]
    }
   ],
   "source": [
    "featA, featB = None, None\n",
    "for uniq_image in range(designALL.shape[1]): # loop over every condition\n",
    "    if len(np.where(designALL[:,uniq_image])[0]) > 1:\n",
    "        tr1, tr2 = np.where(designALL[:,uniq_image])[0][:2]\n",
    "        if featA is None:\n",
    "            featA = dataALL[:,tr1][None]\n",
    "            featB = dataALL[:,tr2][None]\n",
    "        else:\n",
    "            featA = np.vstack((featA, dataALL[:,tr1][None]))\n",
    "            featB = np.vstack((featB, dataALL[:,tr2][None]))\n",
    "\n",
    "print(featA.shape, featB.shape)"
   ]
  },
  {
   "cell_type": "code",
   "execution_count": 226,
   "id": "f78ad2e0-4f5a-4949-a10a-1a176f55e5ad",
   "metadata": {},
   "outputs": [
    {
     "name": "stdout",
     "output_type": "stream",
     "text": [
      "0.669530725161829\n",
      "0.6136010562719441\n"
     ]
    }
   ],
   "source": [
    "corrs = []\n",
    "for i in range(len(featA)):\n",
    "    corrs = np.append(corrs, np.corrcoef(featA[i], featB[i])[0][1])\n",
    "print(np.mean(corrs))\n",
    "\n",
    "rand_corrs = []\n",
    "for rr in range(30):\n",
    "    for i in range(len(featA)):\n",
    "        j = np.random.randint(len(featA))\n",
    "        rand_corrs = np.append(rand_corrs, np.corrcoef(featA[i], featB[j])[0][1])\n",
    "print(np.mean(rand_corrs))"
   ]
  },
  {
   "cell_type": "markdown",
   "id": "f5dbe5d0-92c0-4c11-96eb-787749698bfd",
   "metadata": {},
   "source": [
    "# GLMSingle"
   ]
  },
  {
   "cell_type": "code",
   "execution_count": 103,
   "id": "9fa846dc-0970-4d5a-be0d-65f0326e2418",
   "metadata": {},
   "outputs": [],
   "source": [
    "# outputs and figures will be stored in a folder (you can specify its name\n",
    "# as the 5th output to GLMsingle). model estimates can be also\n",
    "# saved to the 'results' variable which is the only output of\n",
    "# GLMsingle.\n",
    "\n",
    "# optional parameters below can be assigned to a structure, i.e., opt =\n",
    "# dict('wantlibrary':1, 'wantglmdenoise':1); options are the 6th input to\n",
    "# GLMsingle.\n",
    "\n",
    "# there are many options that can be specified; here, we comment on the\n",
    "# main options that one might want to modify/set. defaults for the options\n",
    "# are indicated below.\n",
    "\n",
    "# wantlibrary = 1 -> fit HRF to each voxel \n",
    "# wantglmdenoise = 1 -> use GLMdenoise \n",
    "# wantfracridge = 1 -> use ridge regression to improve beta estimates \n",
    "# chunklen = 50000 -> is the number of voxels that we will\n",
    "#    process at the same time. for setups with lower memory, you may need to \n",
    "#    decrease this number.\n",
    "\n",
    "# wantmemoryoutputs is a logical vector [A B C D] indicating which of the\n",
    "#     four model types to return in the output <results>. the user must be\n",
    "#     careful with this, as large datasets can require a lot of RAM. if you\n",
    "#     do not request the various model types, they will be cleared from\n",
    "#     memory (but still potentially saved to disk). default: [0 0 0 1]\n",
    "#     which means return only the final type-D model.\n",
    "\n",
    "# wantfileoutputs is a logical vector [A B C D] indicating which of the\n",
    "#     four model types to save to disk (assuming that they are computed). A\n",
    "#     = 0/1 for saving the results of the ONOFF model, B = 0/1 for saving\n",
    "#     the results of the FITHRF model, C = 0/1 for saving the results of the\n",
    "#     FITHRF_GLMdenoise model, D = 0/1 for saving the results of the\n",
    "#     FITHRF_GLMdenoise_RR model. default: [1 1 1 1] which means save all\n",
    "#     computed results to disk.\n",
    "\n",
    "# numpcstotry (optional) is a non-negative integer indicating the maximum\n",
    "#     number of GLMdenoise PCs to enter into the model. default: 10.\n",
    "\n",
    "# fracs (optional) is a vector of fractions that are greater than 0\n",
    "#     and less than or equal to 1. we automatically sort in descending\n",
    "#     order and ensure the fractions are unique. these fractions indicate\n",
    "#     the regularization levels to evaluate using fractional ridge\n",
    "#     regression (fracridge) and cross-validation. default:\n",
    "#     fliplr(.05:.05:1). a special case is when <fracs> is specified as a\n",
    "#     single scalar value. in this case, cross-validation is NOT performed\n",
    "#     for the type-D model, and we instead blindly use the supplied\n",
    "#     fractional value for the type-D model."
   ]
  },
  {
   "cell_type": "code",
   "execution_count": 104,
   "id": "614ebdbf-7bad-4e11-95bc-2aba9840bcc1",
   "metadata": {},
   "outputs": [
    {
     "name": "stdout",
     "output_type": "stream",
     "text": [
      "{'R2thresh': 0,\n",
      " 'brainR2': [],\n",
      " 'brainexclude': False,\n",
      " 'brainthresh': [99.0, 0.1],\n",
      " 'chunklen': 50000,\n",
      " 'extra_regressors': False,\n",
      " 'fracs': array([1.  , 0.95, 0.9 , 0.85, 0.8 , 0.75, 0.7 , 0.65, 0.6 , 0.55, 0.5 ,\n",
      "       0.45, 0.4 , 0.35, 0.3 , 0.25, 0.2 , 0.15, 0.1 , 0.05]),\n",
      " 'hrffitmask': 1,\n",
      " 'hrfmodel': 'optimise',\n",
      " 'hrfthresh': 0.5,\n",
      " 'lambda': 0,\n",
      " 'n_boots': 100,\n",
      " 'n_jobs': 1,\n",
      " 'n_pcs': 10,\n",
      " 'numforhrf': 50,\n",
      " 'pcR2cutoff': [],\n",
      " 'pcR2cutoffmask': 1,\n",
      " 'pcstop': 1.05,\n",
      " 'seed': 1724249722.5607312,\n",
      " 'suppressoutput': 0,\n",
      " 'wantautoscale': 1,\n",
      " 'wantfileoutputs': [0, 0, 0, 1],\n",
      " 'wantfracridge': 1,\n",
      " 'wantglmdenoise': 1,\n",
      " 'wanthdf5': 0,\n",
      " 'wantlibrary': 1,\n",
      " 'wantlss': 0,\n",
      " 'wantmemoryoutputs': [1, 1, 1, 1],\n",
      " 'wantparametric': 0,\n",
      " 'wantpercentbold': 1}\n"
     ]
    }
   ],
   "source": [
    "opt = dict()\n",
    "\n",
    "# set important fields for completeness (but these would be enabled by default)\n",
    "opt['wantlibrary'] = 1\n",
    "opt['wantglmdenoise'] = 1\n",
    "opt['wantfracridge'] = 1\n",
    "\n",
    "# for the purpose of this example we will keep the relevant outputs in memory\n",
    "# and also save them to the disk\n",
    "opt['wantfileoutputs'] = [0,0,0,1]\n",
    "opt['wantmemoryoutputs'] = [1,1,1,1]\n",
    "#opt['wanthdf5'] = 1\n",
    "\n",
    "# running python GLMsingle involves creating a GLM_single object\n",
    "# and then running the procedure using the .fit() routine\n",
    "glmsingle_obj = GLM_single(opt)\n",
    "\n",
    "# visualize all the hyperparameters\n",
    "pprint(glmsingle_obj.params)"
   ]
  },
  {
   "cell_type": "code",
   "execution_count": 105,
   "id": "cc476c9d-66b6-45d7-beff-10163d9cc742",
   "metadata": {},
   "outputs": [
    {
     "name": "stdout",
     "output_type": "stream",
     "text": [
      "shape of data before running GLMsingle:\n",
      "(1024, 285)\n",
      "shape of design matrix:\n",
      "(285, 583)\n"
     ]
    }
   ],
   "source": [
    "print('shape of data before running GLMsingle:')\n",
    "print(data[0].shape)\n",
    "print('shape of design matrix:')\n",
    "print(design[0].shape)"
   ]
  },
  {
   "cell_type": "code",
   "execution_count": 106,
   "id": "1e177f44-f445-4eaf-b7dd-fb1964a3164e",
   "metadata": {},
   "outputs": [
    {
     "name": "stdout",
     "output_type": "stream",
     "text": [
      "saving outputs to glmsingle\n",
      "running GLMsingle...\n",
      "*** DIAGNOSTICS ***:\n",
      "There are 12 runs.\n",
      "The number of conditions in this experiment is 583.\n",
      "The stimulus duration corresponding to each trial is 3.00 seconds.\n",
      "The TR (time between successive data points) is 1.00 seconds.\n",
      "The number of trials in each run is: [63, 62, 63, 62, 63, 62, 63, 62, 63, 62, 63, 62].\n",
      "The number of trials for each condition is: [1, 1, 1, 1, 1, 1, 1, 1, 1, 1, 1, 1, 1, 2, 1, 1, 2, 1, 2, 1, 1, 2, 1, 2, 1, 1, 2, 1, 2, 1, 1, 1, 1, 1, 1, 2, 2, 1, 1, 1, 1, 1, 3, 3, 1, 1, 1, 2, 1, 1, 1, 1, 1, 1, 3, 1, 2, 1, 2, 1, 1, 3, 1, 1, 2, 2, 2, 1, 1, 1, 1, 1, 1, 3, 1, 1, 1, 1, 1, 1, 1, 2, 1, 1, 1, 1, 2, 1, 1, 1, 1, 1, 1, 2, 3, 1, 1, 1, 2, 1, 1, 1, 1, 1, 1, 1, 2, 1, 1, 1, 1, 2, 1, 1, 1, 1, 1, 1, 2, 1, 2, 1, 1, 1, 1, 1, 1, 1, 1, 3, 1, 3, 1, 2, 2, 2, 1, 2, 1, 2, 1, 1, 2, 2, 1, 2, 1, 1, 1, 1, 1, 3, 1, 1, 2, 1, 2, 1, 1, 2, 1, 2, 1, 1, 1, 1, 1, 1, 1, 1, 1, 1, 1, 3, 1, 1, 1, 1, 2, 1, 1, 1, 1, 1, 1, 3, 3, 1, 1, 1, 1, 1, 2, 1, 1, 1, 1, 1, 1, 1, 1, 1, 1, 2, 2, 1, 1, 2, 1, 1, 1, 2, 1, 1, 1, 2, 1, 1, 1, 1, 1, 2, 1, 1, 1, 1, 1, 2, 1, 1, 1, 1, 1, 2, 1, 2, 1, 1, 1, 3, 2, 1, 1, 1, 1, 2, 1, 1, 1, 1, 2, 1, 1, 1, 1, 1, 1, 1, 1, 3, 1, 1, 1, 1, 2, 1, 1, 1, 1, 2, 1, 1, 1, 2, 1, 1, 3, 1, 1, 2, 2, 1, 1, 1, 1, 1, 2, 1, 1, 1, 2, 2, 1, 1, 1, 1, 1, 1, 2, 3, 1, 1, 1, 1, 1, 1, 2, 1, 1, 2, 2, 1, 1, 1, 1, 1, 1, 3, 2, 1, 1, 1, 1, 1, 1, 1, 1, 1, 1, 2, 1, 1, 1, 1, 1, 1, 1, 1, 1, 1, 2, 1, 1, 1, 1, 1, 1, 1, 3, 1, 1, 1, 1, 1, 1, 1, 1, 2, 1, 1, 1, 1, 1, 1, 2, 1, 2, 1, 1, 2, 2, 1, 3, 1, 1, 2, 3, 2, 2, 1, 1, 1, 1, 2, 1, 2, 1, 1, 1, 1, 1, 1, 1, 2, 1, 1, 1, 1, 1, 1, 1, 1, 1, 3, 1, 1, 1, 1, 2, 1, 1, 1, 1, 1, 1, 1, 1, 2, 1, 1, 2, 1, 1, 1, 2, 2, 1, 1, 3, 2, 2, 3, 1, 1, 1, 1, 1, 1, 1, 1, 1, 1, 2, 1, 1, 2, 2, 2, 1, 1, 1, 1, 1, 1, 1, 1, 1, 1, 1, 1, 2, 3, 1, 2, 1, 1, 1, 1, 2, 2, 1, 1, 1, 1, 1, 1, 1, 1, 1, 1, 1, 1, 2, 1, 1, 1, 1, 1, 1, 1, 1, 1, 2, 1, 1, 2, 1, 1, 1, 1, 1, 1, 1, 1, 2, 1, 1, 1, 3, 1, 1, 1, 1, 2, 2, 1, 1, 1, 1, 1, 1, 1, 2, 1, 2, 1, 1, 1, 1, 3, 1, 1, 1, 1, 3, 1, 1, 3, 1, 1, 1, 1, 1, 1, 1, 1, 1, 1, 1, 1, 3, 1, 1, 1, 2, 3, 2, 1, 1, 1, 3, 1, 1, 2, 2, 1, 2, 1, 1, 1, 1, 1, 1, 1, 2, 1, 1, 1, 2, 1, 1, 1, 1].\n",
      "For each condition, the number of runs in which it appears: [1, 1, 1, 1, 1, 1, 1, 1, 1, 1, 1, 1, 1, 2, 1, 1, 2, 1, 2, 1, 1, 1, 1, 2, 1, 1, 2, 1, 1, 1, 1, 1, 1, 1, 1, 2, 2, 1, 1, 1, 1, 1, 3, 3, 1, 1, 1, 1, 1, 1, 1, 1, 1, 1, 3, 1, 2, 1, 2, 1, 1, 2, 1, 1, 2, 2, 2, 1, 1, 1, 1, 1, 1, 3, 1, 1, 1, 1, 1, 1, 1, 2, 1, 1, 1, 1, 2, 1, 1, 1, 1, 1, 1, 2, 2, 1, 1, 1, 2, 1, 1, 1, 1, 1, 1, 1, 1, 1, 1, 1, 1, 2, 1, 1, 1, 1, 1, 1, 2, 1, 2, 1, 1, 1, 1, 1, 1, 1, 1, 3, 1, 3, 1, 2, 1, 1, 1, 1, 1, 2, 1, 1, 2, 1, 1, 2, 1, 1, 1, 1, 1, 3, 1, 1, 2, 1, 2, 1, 1, 2, 1, 1, 1, 1, 1, 1, 1, 1, 1, 1, 1, 1, 1, 3, 1, 1, 1, 1, 1, 1, 1, 1, 1, 1, 1, 2, 3, 1, 1, 1, 1, 1, 1, 1, 1, 1, 1, 1, 1, 1, 1, 1, 1, 1, 2, 1, 1, 2, 1, 1, 1, 2, 1, 1, 1, 2, 1, 1, 1, 1, 1, 2, 1, 1, 1, 1, 1, 2, 1, 1, 1, 1, 1, 2, 1, 1, 1, 1, 1, 3, 2, 1, 1, 1, 1, 2, 1, 1, 1, 1, 2, 1, 1, 1, 1, 1, 1, 1, 1, 3, 1, 1, 1, 1, 2, 1, 1, 1, 1, 2, 1, 1, 1, 2, 1, 1, 2, 1, 1, 1, 2, 1, 1, 1, 1, 1, 2, 1, 1, 1, 2, 2, 1, 1, 1, 1, 1, 1, 2, 2, 1, 1, 1, 1, 1, 1, 2, 1, 1, 2, 2, 1, 1, 1, 1, 1, 1, 3, 2, 1, 1, 1, 1, 1, 1, 1, 1, 1, 1, 2, 1, 1, 1, 1, 1, 1, 1, 1, 1, 1, 2, 1, 1, 1, 1, 1, 1, 1, 2, 1, 1, 1, 1, 1, 1, 1, 1, 2, 1, 1, 1, 1, 1, 1, 2, 1, 2, 1, 1, 2, 2, 1, 3, 1, 1, 2, 3, 2, 2, 1, 1, 1, 1, 2, 1, 2, 1, 1, 1, 1, 1, 1, 1, 2, 1, 1, 1, 1, 1, 1, 1, 1, 1, 3, 1, 1, 1, 1, 2, 1, 1, 1, 1, 1, 1, 1, 1, 2, 1, 1, 2, 1, 1, 1, 2, 2, 1, 1, 2, 2, 2, 1, 1, 1, 1, 1, 1, 1, 1, 1, 1, 1, 2, 1, 1, 2, 2, 2, 1, 1, 1, 1, 1, 1, 1, 1, 1, 1, 1, 1, 2, 3, 1, 2, 1, 1, 1, 1, 2, 2, 1, 1, 1, 1, 1, 1, 1, 1, 1, 1, 1, 1, 1, 1, 1, 1, 1, 1, 1, 1, 1, 1, 2, 1, 1, 1, 1, 1, 1, 1, 1, 1, 1, 1, 2, 1, 1, 1, 3, 1, 1, 1, 1, 2, 2, 1, 1, 1, 1, 1, 1, 1, 2, 1, 2, 1, 1, 1, 1, 3, 1, 1, 1, 1, 3, 1, 1, 3, 1, 1, 1, 1, 1, 1, 1, 1, 1, 1, 1, 1, 3, 1, 1, 1, 2, 3, 2, 1, 1, 1, 2, 1, 1, 2, 2, 1, 2, 1, 1, 1, 1, 1, 1, 1, 2, 1, 1, 1, 2, 1, 1, 1, 1].\n",
      "For each run, how much ending buffer do we have in seconds? [4, 8, 4, 8, 4, 8, 4, 8, 4, 8, 4, 8].\n",
      "*** Saving design-related results to glmsingle/DESIGNINFO.npy. ***\n",
      "*** FITTING DIAGNOSTIC RUN-WISE FIR MODEL ***\n",
      "*** Saving FIR results to glmsingle/RUNWISEFIR.npy. ***\n",
      "\n",
      "*** FITTING TYPE-A MODEL (ONOFF) ***\n",
      "\n",
      "fitting model...\n",
      "done.\n",
      "\n",
      "preparing output...\n",
      "done.\n",
      "\n",
      "computing model fits...\n",
      "done.\n",
      "\n",
      "computing R^2...\n",
      "done.\n",
      "\n",
      "computing SNR...\n",
      "done.\n",
      "\n",
      "*** Setting brain R2 threshold to 0.01820765728404168 ***\n",
      "\n",
      "*** FITTING TYPE-B MODEL (FITHRF) ***\n",
      "\n"
     ]
    },
    {
     "name": "stderr",
     "output_type": "stream",
     "text": [
      "chunks:   0%|                                                                                                     | 0/1 [00:00<?, ?it/s]"
     ]
    },
    {
     "name": "stdout",
     "output_type": "stream",
     "text": [
      "Warning: One or more regressors are all zeros; we will estimate a 0 weight for those regressors.\n",
      "Warning: One or more regressors are all zeros; we will estimate a 0 weight for those regressors.\n"
     ]
    },
    {
     "name": "stderr",
     "output_type": "stream",
     "text": [
      "chunks: 100%|█████████████████████████████████████████████████████████████████████████████████████████████| 1/1 [00:14<00:00, 14.69s/it]\n"
     ]
    },
    {
     "name": "stdout",
     "output_type": "stream",
     "text": [
      "*** DETERMINING GLMDENOISE REGRESSORS ***\n",
      "\n",
      "*** CROSS-VALIDATING DIFFERENT NUMBERS OF REGRESSORS ***\n",
      "\n"
     ]
    },
    {
     "name": "stderr",
     "output_type": "stream",
     "text": [
      "chunks:   0%|                                                                                                     | 0/1 [00:00<?, ?it/s]"
     ]
    },
    {
     "name": "stdout",
     "output_type": "stream",
     "text": [
      "Warning: One or more regressors are all zeros; we will estimate a 0 weight for those regressors.\n",
      "Warning: One or more regressors are all zeros; we will estimate a 0 weight for those regressors.\n",
      "Warning: One or more regressors are all zeros; we will estimate a 0 weight for those regressors.\n",
      "Warning: One or more regressors are all zeros; we will estimate a 0 weight for those regressors.\n",
      "Warning: One or more regressors are all zeros; we will estimate a 0 weight for those regressors.\n",
      "Warning: One or more regressors are all zeros; we will estimate a 0 weight for those regressors.\n",
      "Warning: One or more regressors are all zeros; we will estimate a 0 weight for those regressors.\n",
      "Warning: One or more regressors are all zeros; we will estimate a 0 weight for those regressors.\n",
      "Warning: One or more regressors are all zeros; we will estimate a 0 weight for those regressors.\n",
      "Warning: One or more regressors are all zeros; we will estimate a 0 weight for those regressors.\n",
      "Warning: One or more regressors are all zeros; we will estimate a 0 weight for those regressors.\n",
      "Warning: One or more regressors are all zeros; we will estimate a 0 weight for those regressors.\n",
      "Warning: One or more regressors are all zeros; we will estimate a 0 weight for those regressors.\n",
      "Warning: One or more regressors are all zeros; we will estimate a 0 weight for those regressors.\n",
      "Warning: One or more regressors are all zeros; we will estimate a 0 weight for those regressors.\n",
      "Warning: One or more regressors are all zeros; we will estimate a 0 weight for those regressors.\n",
      "Warning: One or more regressors are all zeros; we will estimate a 0 weight for those regressors.\n",
      "Warning: One or more regressors are all zeros; we will estimate a 0 weight for those regressors.\n",
      "Warning: One or more regressors are all zeros; we will estimate a 0 weight for those regressors.\n",
      "Warning: One or more regressors are all zeros; we will estimate a 0 weight for those regressors.\n",
      "Warning: One or more regressors are all zeros; we will estimate a 0 weight for those regressors.\n",
      "Warning: One or more regressors are all zeros; we will estimate a 0 weight for those regressors.\n"
     ]
    },
    {
     "name": "stderr",
     "output_type": "stream",
     "text": [
      "chunks: 100%|█████████████████████████████████████████████████████████████████████████████████████████████| 1/1 [01:12<00:00, 72.18s/it]\n"
     ]
    },
    {
     "name": "stdout",
     "output_type": "stream",
     "text": [
      "\n",
      "*** FITTING TYPE-C MODEL (GLMDENOISE) ***\n",
      "\n"
     ]
    },
    {
     "name": "stderr",
     "output_type": "stream",
     "text": [
      "chunks: 100%|█████████████████████████████████████████████████████████████████████████████████████████████| 1/1 [00:11<00:00, 11.42s/it]\n"
     ]
    },
    {
     "name": "stdout",
     "output_type": "stream",
     "text": [
      "*** FITTING TYPE-D MODEL (GLMDENOISE_RR) ***\n",
      "\n"
     ]
    },
    {
     "name": "stderr",
     "output_type": "stream",
     "text": [
      "chunks: 100%|████████████████████████████████████████████████████████████████████████████████████████████| 1/1 [02:26<00:00, 146.24s/it]"
     ]
    },
    {
     "name": "stdout",
     "output_type": "stream",
     "text": [
      "\n",
      "*** Saving results to glmsingle/TYPED_FITHRF_GLMDENOISE_RR.npy. ***\n",
      "\n",
      "*** All model types done ***\n",
      "\n",
      "*** return model types in results ***\n",
      "\n",
      "\telapsed time:  00:04:07\n"
     ]
    },
    {
     "name": "stderr",
     "output_type": "stream",
     "text": [
      "\n"
     ]
    }
   ],
   "source": [
    "# Try running with brainexclude=avg_mask\n",
    "# if it crashes, then increase max to 1,500,000\n",
    "\n",
    "# this example saves output files to the outputdir folder\n",
    "# if these outputs don't already exist, we will perform the time-consuming call to GLMsingle;\n",
    "# otherwise, we will just load from disk.\n",
    "\n",
    "start_time = time.time()\n",
    "\n",
    "#if not exists(outputdir_glmsingle):\n",
    "if run_glmsingle == 1:\n",
    "    print('saving outputs to', outputdir_glmsingle)\n",
    "    print(f'running GLMsingle...')\n",
    "    \n",
    "    # run GLMsingle\n",
    "    results_glmsingle = glmsingle_obj.fit(\n",
    "       design,\n",
    "       data,\n",
    "       stimdur,\n",
    "       tr,\n",
    "       outputdir=outputdir_glmsingle,\n",
    "       figuredir=outputdir_glmsingle,\n",
    "       )\n",
    "    \n",
    "    # save results in memory to npz\n",
    "    np.savez(join(outputdir_glmsingle,'TYPEA_ONOFF.npz'), **results_glmsingle['typea'])\n",
    "    np.savez(join(outputdir_glmsingle,'TYPEB_FITHRF.npz'), **results_glmsingle['typeb'])\n",
    "    np.savez(join(outputdir_glmsingle,'TYPEC_FITHRF_GLMDENOISE.npz'), **results_glmsingle['typec'])\n",
    "    np.savez(join(outputdir_glmsingle,'TYPED_FITHRF_GLMDENOISE_RR.npz'), **results_glmsingle['typed'])\n",
    "    \n",
    "    # we assign outputs of GLMsingle to the \"results_glmsingle\" variable.\n",
    "    # note that results_glmsingle['typea'] contains GLM estimates from an ONOFF model,\n",
    "    # where all images are treated as the same condition. these estimates\n",
    "    # could be potentially used to find cortical areas that respond to\n",
    "    # visual stimuli. we want to compare beta weights between conditions\n",
    "    # therefore we are not going to include the ONOFF betas in any analyses of \n",
    "    # voxel reliability\n",
    "    \n",
    "elif run_glmsingle == 0:\n",
    "    print(f'loading existing GLMsingle outputs from directory:\\n\\t{outputdir_glmsingle}')\n",
    "    # takes about 2 minutes to load\n",
    "    \n",
    "    # load existing file outputs if they exist\n",
    "    results_glmsingle = dict()\n",
    "    \n",
    "    if opt['wanthdf5'] == 1: #if outputs are in hdf5 format\n",
    "        results_intm = dict()\n",
    "        results_intm['typea'] = h5py.File(join(outputdir_glmsingle,'TYPEA_ONOFF.hdf5'), 'r')\n",
    "        results_intm['typeb'] = h5py.File(join(outputdir_glmsingle,'TYPEB_FITHRF.hdf5'), 'r')\n",
    "        results_intm['typec'] = h5py.File(join(outputdir_glmsingle,'TYPEC_FITHRF_GLMDENOISE.hdf5'), 'r')\n",
    "        results_intm['typed'] = h5py.File(join(outputdir_glmsingle,'TYPED_FITHRF_GLMDENOISE_RR.hdf5'), 'r')\n",
    "        \n",
    "        model_types = ['typea', 'typeb', 'typec', 'typed']\n",
    "        for model in range(len(model_types)):\n",
    "            results_glmsingle[model_types[model]] = dict()\n",
    "            plot_fields = list(results_intm[model_types[model]].keys())\n",
    "    \n",
    "            for i in range(len(plot_fields)):\n",
    "                results_glmsingle[model_types[model]][plot_fields[i]] = results_intm[model_types[model]].get(plot_fields[i]).value\n",
    "    \n",
    "    else:\n",
    "        results_glmsingle['typea'] = np.load(join(outputdir_glmsingle,'TYPEA_ONOFF.npz'))\n",
    "        results_glmsingle['typeb'] = np.load(join(outputdir_glmsingle,'TYPEB_FITHRF.npz'))\n",
    "        results_glmsingle['typec'] = np.load(join(outputdir_glmsingle,'TYPEC_FITHRF_GLMDENOISE.npz'))\n",
    "        results_glmsingle['typed'] = np.load(join(outputdir_glmsingle,'TYPED_FITHRF_GLMDENOISE_RR.npz'))\n",
    "        \n",
    "elapsed_time = time.time() - start_time\n",
    "\n",
    "print(\n",
    "    '\\telapsed time: ',\n",
    "    f'{time.strftime(\"%H:%M:%S\", time.gmtime(elapsed_time))}'\n",
    ")"
   ]
  },
  {
   "cell_type": "code",
   "execution_count": 107,
   "id": "48aaa8ce-18fd-4379-8b36-7742cf77b62f",
   "metadata": {},
   "outputs": [],
   "source": [
    "# convert everything back to 3D/4D array format\n",
    "model_types = ['typea','typeb','typec','typed']\n",
    "plot_fields = ['betasmd','meanvol', 'R2','HRFindex','FRACvalue']\n",
    "\n",
    "models = dict()\n",
    "models['assumehrf'] = results_glmsingle['typea']['betasmd']\n",
    "models['fithrf'] = results_glmsingle['typeb']['betasmd']\n",
    "models['fithrf_glmdenoise'] = results_glmsingle['typec']['betasmd']\n",
    "models['fithrf_glmdenoise_rr'] = results_glmsingle['typed']['betasmd']"
   ]
  },
  {
   "cell_type": "code",
   "execution_count": null,
   "id": "766ed4eb-ea22-48dc-bcc7-e5db1d908a73",
   "metadata": {},
   "outputs": [],
   "source": [
    "designALL = np.concatenate(design,axis=0)\n",
    "print('designALL shape (TRs, conditions):', designALL.shape)\n",
    "\n",
    "# construct a vector containing 0-indexed condition numbers in chronological order\n",
    "corder = []\n",
    "for p in range(designALL.shape[0]):\n",
    "    if np.any(designALL[p]):\n",
    "        corder.append(np.argwhere(designALL[p])[0,0])\n",
    "\n",
    "corder = np.array(corder)\n",
    "\n",
    "# let's take a look at the first few entries\n",
    "print(corder[:3])\n",
    "\n",
    "repindices = [] # 2 x images containing stimulus trial indices.\n",
    "\n",
    "# the first row refers to the first presentation; the second row refers to second presentation.\n",
    "for p in range(designALL.shape[1]): # loop over every condition\n",
    "    temp = np.argwhere(corder==p)[:,0] # find indices where this condition was shown\n",
    "    \n",
    "    # only add repeated conditions to repindices\n",
    "    if len(temp) >= 2:\n",
    "        repindices.append([temp[0], temp[1]]) # note that for now we only look at first 2 repetitions\n",
    "\n",
    "repindices = np.vstack(np.array(repindices)).T\n",
    "print(repindices.shape, '(repetitions, condition)')"
   ]
  },
  {
   "cell_type": "code",
   "execution_count": 108,
   "id": "0db1b7c2-fdac-4361-940b-324a826fd450",
   "metadata": {},
   "outputs": [
    {
     "name": "stdout",
     "output_type": "stream",
     "text": [
      "['fithrf', 'fithrf_glmdenoise', 'fithrf_glmdenoise_rr']\n",
      "computing reliability for beta version: fithrf\n"
     ]
    },
    {
     "name": "stderr",
     "output_type": "stream",
     "text": [
      "100%|████████████████████████████████████████████████████████████████████████████████████████████| 1024/1024 [00:00<00:00, 18262.08it/s]\n"
     ]
    },
    {
     "name": "stdout",
     "output_type": "stream",
     "text": [
      "computing reliability for beta version: fithrf_glmdenoise\n"
     ]
    },
    {
     "name": "stderr",
     "output_type": "stream",
     "text": [
      "100%|████████████████████████████████████████████████████████████████████████████████████████████| 1024/1024 [00:00<00:00, 18521.81it/s]\n"
     ]
    },
    {
     "name": "stdout",
     "output_type": "stream",
     "text": [
      "computing reliability for beta version: fithrf_glmdenoise_rr\n"
     ]
    },
    {
     "name": "stderr",
     "output_type": "stream",
     "text": [
      "100%|████████████████████████████████████████████████████████████████████████████████████████████| 1024/1024 [00:00<00:00, 18065.44it/s]\n"
     ]
    }
   ],
   "source": [
    "vox_reliabilities = [] # output variable for reliability values\n",
    "\n",
    "modelnames = list(models.keys())[1:]\n",
    "print(modelnames)\n",
    "\n",
    "# for each beta version...\n",
    "for m in range(len(modelnames)):\n",
    "\n",
    "    print(f'computing reliability for beta version: {modelnames[m]}')\n",
    "    time.sleep(1)\n",
    "\n",
    "    # get the repeated-condition GLM betas using our repindices variable\n",
    "    betas = models[modelnames[m]][:,:,:,repindices] # automatically reshapes to (X x Y x Z x 2 x nConditions)\n",
    "    # betas = models[modelnames[m]]['betasmd'][:,None,None,:][:,:,:,repindices] # automatically reshapes to (X x Y x Z x 2 x nConditions)\n",
    "    x,y,z = betas.shape[:3] \n",
    "\n",
    "    rels = np.full((x,y,z),np.nan)\n",
    "\n",
    "    # loop through voxels in the 3D volume...\n",
    "    for xx in tqdm(range(x)):\n",
    "        for yy in range(y):\n",
    "            for zz in range(z):\n",
    "\n",
    "                # reliability at a given voxel is pearson correlation between response profiles from first and \n",
    "                # second image presentations (dim = 136 conditions)\n",
    "                rels[xx,yy,zz] = np.corrcoef(betas[xx,yy,zz,0],\n",
    "                                             betas[xx,yy,zz,1])[1,0]\n",
    "\n",
    "    vox_reliabilities.append(rels)"
   ]
  },
  {
   "cell_type": "code",
   "execution_count": 113,
   "id": "ff7c9495-3d78-462e-90a8-a77c4774d0c8",
   "metadata": {},
   "outputs": [
    {
     "data": {
      "image/png": "[encoded data removed]",
      "text/plain": [
       "<Figure size 400x400 with 1 Axes>"
      ]
     },
     "metadata": {},
     "output_type": "display_data"
    }
   ],
   "source": [
    "x_version = 'assume_hrf'\n",
    "y_version = 'fithrf_glmdenoise_rr'\n",
    "\n",
    "x = vox_reliabilities[0]\n",
    "y = vox_reliabilities[-1]\n",
    "\n",
    "plt.figure(figsize=(4,4))\n",
    "plt.grid('on')\n",
    "plt.scatter(x, y, 10, alpha = 0.5)\n",
    "plt.axis('square')\n",
    "\n",
    "plt.plot(np.arange(-0.6,0.7,0.01),np.arange(-0.6,0.7,0.01),'r',linewidth=2.5,zorder=10)\n",
    "\n",
    "# get rid of the frame\n",
    "for spine in plt.gca().spines.values():\n",
    "    spine.set_visible(False)"
   ]
  },
  {
   "cell_type": "code",
   "execution_count": 111,
   "id": "3d675756-1749-4fe1-94d1-0302c74b4b45",
   "metadata": {},
   "outputs": [
    {
     "data": {
      "image/png": "[encoded data removed]",
      "text/plain": [
       "<Figure size 640x480 with 1 Axes>"
      ]
     },
     "metadata": {},
     "output_type": "display_data"
    }
   ],
   "source": [
    "plt.plot(np.sort(x.flatten()))\n",
    "plt.plot(np.sort(y.flatten()))\n",
    "plt.show()"
   ]
  },
  {
   "cell_type": "code",
   "execution_count": 112,
   "id": "693d9e29-f586-4958-b168-b433125dec6f",
   "metadata": {},
   "outputs": [
    {
     "data": {
      "image/png": "[encoded data removed]",
      "text/plain": [
       "<Figure size 1800x600 with 1 Axes>"
      ]
     },
     "metadata": {},
     "output_type": "display_data"
    }
   ],
   "source": [
    "comparison = []\n",
    "for vr in vox_reliabilities:\n",
    "    comparison.append(np.nanmedian(vr)) \n",
    "\n",
    "plt.figure(figsize=(18,6))\n",
    "plt.subplot(121)\n",
    "plt.bar(np.arange(len(comparison)),comparison,width=0.5)\n",
    "plt.title('Median voxel split-half reliability of GLM models')\n",
    "plt.xticks(np.arange(4),np.array(['ASSUMEHRF','FITHRF', 'FITHRF\\nGLMDENOISE', 'FITHRF\\nGLMDENOISE\\nRR']))\n",
    "plt.show()"
   ]
  },
  {
   "cell_type": "code",
   "execution_count": 233,
   "id": "501c0391-8ea8-4746-ac3c-25b54d74c0d7",
   "metadata": {},
   "outputs": [
    {
     "ename": "IndexError",
     "evalue": "index 216 is out of bounds for axis 3 with size 1",
     "output_type": "error",
     "traceback": [
      "\u001b[0;31m---------------------------------------------------------------------------\u001b[0m",
      "\u001b[0;31mIndexError\u001b[0m                                Traceback (most recent call last)",
      "Cell \u001b[0;32mIn[233], line 1\u001b[0m\n\u001b[0;32m----> 1\u001b[0m featA \u001b[38;5;241m=\u001b[39m \u001b[43mmodels\u001b[49m\u001b[43m[\u001b[49m\u001b[38;5;124;43m'\u001b[39;49m\u001b[38;5;124;43massumehrf\u001b[39;49m\u001b[38;5;124;43m'\u001b[39;49m\u001b[43m]\u001b[49m\u001b[43m[\u001b[49m\u001b[43m:\u001b[49m\u001b[43m,\u001b[49m\u001b[43m:\u001b[49m\u001b[43m,\u001b[49m\u001b[43m:\u001b[49m\u001b[43m,\u001b[49m\u001b[43mrepindices\u001b[49m\u001b[43m]\u001b[49m[:,\u001b[38;5;241m0\u001b[39m,\u001b[38;5;241m0\u001b[39m,:,\u001b[38;5;241m0\u001b[39m]\u001b[38;5;241m.\u001b[39mT\n\u001b[1;32m      2\u001b[0m featB \u001b[38;5;241m=\u001b[39m models[\u001b[38;5;124m'\u001b[39m\u001b[38;5;124massumehrf\u001b[39m\u001b[38;5;124m'\u001b[39m][:,:,:,repindices][:,\u001b[38;5;241m0\u001b[39m,\u001b[38;5;241m0\u001b[39m,:,\u001b[38;5;241m1\u001b[39m]\u001b[38;5;241m.\u001b[39mT\n\u001b[1;32m      3\u001b[0m \u001b[38;5;28mprint\u001b[39m(featA\u001b[38;5;241m.\u001b[39mshape, featB\u001b[38;5;241m.\u001b[39mshape)\n",
      "\u001b[0;31mIndexError\u001b[0m: index 216 is out of bounds for axis 3 with size 1"
     ]
    }
   ],
   "source": [
    "featA = models['fithrf'][:,:,:,repindices][:,0,0,:,0].T\n",
    "featB = models['fithrf'][:,:,:,repindices][:,0,0,:,1].T\n",
    "print(featA.shape, featB.shape)\n",
    "\n",
    "# featA = models['fithrf_glmdenoise'][:,:,:,repindices][:,0,0,:,0]\n",
    "# featB = models['fithrf_glmdenoise'][:,:,:,repindices][:,0,0,:,1]\n",
    "# print(featA.shape, featB.shape)\n",
    "\n",
    "# featA = models['fithrf_glmdenoise_rr'][:,:,:,repindices][:,0,0,:,0]\n",
    "# featB = models['fithrf_glmdenoise_rr'][:,:,:,repindices][:,0,0,:,1]\n",
    "# print(featA.shape, featB.shape)"
   ]
  },
  {
   "cell_type": "code",
   "execution_count": 232,
   "id": "17c02836-7093-47d3-8d99-6efa12d99ddb",
   "metadata": {},
   "outputs": [
    {
     "name": "stdout",
     "output_type": "stream",
     "text": [
      "0.04544183752052509\n",
      "0.02759615004686638\n"
     ]
    }
   ],
   "source": [
    "corrs = []\n",
    "for i in range(len(featA)):\n",
    "    corrs = np.append(corrs, np.corrcoef(featA[i], featB[i])[0][1])\n",
    "print(np.mean(corrs))\n",
    "\n",
    "rand_corrs = []\n",
    "for rr in range(100):\n",
    "    for i in range(len(featA)):\n",
    "        j = np.random.randint(len(featA))\n",
    "        rand_corrs = np.append(rand_corrs, np.corrcoef(featA[i], featB[j])[0][1])\n",
    "print(np.mean(rand_corrs))"
   ]
  },
  {
   "cell_type": "code",
   "execution_count": null,
   "id": "e8d8d90e-8d09-4ce7-8fe6-e3ef838ac000",
   "metadata": {},
   "outputs": [],
   "source": []
  }
 ],
 "metadata": {
  "kernelspec": {
   "display_name": "found2",
   "language": "python",
   "name": "found2"
  },
  "language_info": {
   "codemirror_mode": {
    "name": "ipython",
    "version": 3
   },
   "file_extension": ".py",
   "mimetype": "text/x-python",
   "name": "python",
   "nbconvert_exporter": "python",
   "pygments_lexer": "ipython3",
   "version": "3.12.4"
  }
 },
 "nbformat": 4,
 "nbformat_minor": 5
}
