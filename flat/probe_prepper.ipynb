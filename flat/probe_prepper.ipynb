{
 "cells": [
  {
   "cell_type": "code",
   "execution_count": 2,
   "id": "b8e236f1-385a-4d93-bb39-bea3ee384d76",
   "metadata": {
    "tags": []
   },
   "outputs": [
    {
     "name": "stdout",
     "output_type": "stream",
     "text": [
      "outdir /weka/proj-fmri/paulscotti/fMRI-foundation-model/flat/checkpoints/nsdflat_large\n",
      "Loaded config.yaml from ckpt folder /weka/proj-fmri/paulscotti/fMRI-foundation-model/flat/checkpoints/nsdflat_large\n",
      "\n",
      "__CONFIG__\n",
      "base_lr = 0.001\n",
      "batch_size = 32\n",
      "ckpt_interval = 5\n",
      "ckpt_saving = True\n",
      "cls_embed = True\n",
      "decoder_embed_dim = 512\n",
      "grad_accumulation_steps = 1\n",
      "grad_clip = 1.0\n",
      "hcp_flat_path = /weka/proj-medarc/shared/NSD-Flat\n",
      "mask_ratio = 0.75\n",
      "model_name = nsdflat_large\n",
      "no_qkv_bias = False\n",
      "norm_pix_loss = False\n",
      "num_epochs = 100\n",
      "num_frames = 16\n",
      "num_samples_per_epoch = 200000\n",
      "num_workers = 10\n",
      "patch_size = 16\n",
      "pct_masks_to_decode = 1\n",
      "pred_t_dim = 8\n",
      "print_interval = 20\n",
      "probe_base_lr = 0.0003\n",
      "probe_batch_size = 8\n",
      "probe_num_epochs = 30\n",
      "probe_num_samples_per_epoch = 100000\n",
      "resume_from_ckpt = True\n",
      "seed = 42\n",
      "sep_pos_embed = True\n",
      "t_patch_size = 2\n",
      "test_num_samples_per_epoch = 50000\n",
      "test_set = False\n",
      "trunc_init = False\n",
      "use_contrastive_loss = False\n",
      "wandb_log = True\n",
      "\n",
      "\n",
      "Number of available CUDA devices: 1\n",
      "LOCAL RANK=0\n",
      "NUM GPUS=1\n",
      "NODE=0\n",
      "GLOBAL RANK=0\n",
      "WORLD_SIZE=1\n",
      "The autoreload extension is already loaded. To reload it, use:\n",
      "  %reload_ext autoreload\n",
      "PID of this process = 1193562\n",
      "device = cuda distributed = False num_devices = 1 local rank = 0 world size = 1 data_type = torch.float32\n"
     ]
    }
   ],
   "source": [
    "# Import packages and setup gpu configuration.\n",
    "# This code block shouldnt need to be adjusted!\n",
    "import os\n",
    "import sys\n",
    "import json\n",
    "import yaml\n",
    "import numpy as np\n",
    "import copy\n",
    "import math\n",
    "import time\n",
    "import datetime\n",
    "import random\n",
    "from tqdm import tqdm\n",
    "import webdataset as wds\n",
    "import matplotlib.pyplot as plt\n",
    "import pandas as pd\n",
    "\n",
    "import torch\n",
    "import torch.nn as nn\n",
    "from torchvision import transforms\n",
    "import utils\n",
    "from flat_models import *\n",
    "\n",
    "from elbow.sinks import BufferedParquetWriter\n",
    "\n",
    "# tf32 data type is faster than standard float32\n",
    "torch.backends.cuda.matmul.allow_tf32 = True\n",
    "# following fixes a Conv3D CUDNN_NOT_SUPPORTED error\n",
    "torch.backends.cudnn.benchmark = True\n",
    "\n",
    "## MODEL TO LOAD ##\n",
    "model_name = \"nsdflat_large\"\n",
    "outdir = os.path.abspath(f'checkpoints/{model_name}')\n",
    "print(\"outdir\", outdir)\n",
    "# Load previous config.yaml if available\n",
    "if os.path.exists(f\"{outdir}/config.yaml\"):\n",
    "    config = yaml.load(open(f\"{outdir}/config.yaml\", 'r'), Loader=yaml.FullLoader)\n",
    "    print(f\"Loaded config.yaml from ckpt folder {outdir}\")\n",
    "    # create global variables from the config\n",
    "    print(\"\\n__CONFIG__\")\n",
    "    for attribute_name in config.keys():\n",
    "        print(f\"{attribute_name} = {config[attribute_name]}\")\n",
    "        globals()[attribute_name] = config[f'{attribute_name}']\n",
    "    print(\"\\n\")\n",
    "\n",
    "### Multi-GPU config ###\n",
    "device_count = torch.cuda.device_count()\n",
    "print(f\"Number of available CUDA devices: {device_count}\")\n",
    "\n",
    "local_rank = os.getenv('LOCAL_RANK')\n",
    "if local_rank is None: \n",
    "    local_rank = 0\n",
    "else:\n",
    "    local_rank = int(local_rank)\n",
    "print(f\"LOCAL RANK={local_rank}\")\n",
    "\n",
    "num_devices = os.getenv('NUM_GPUS')\n",
    "if num_devices is None: \n",
    "    num_devices = 1\n",
    "else:\n",
    "    num_devices = int(num_devices)\n",
    "print(f\"NUM GPUS={num_devices}\")\n",
    "distributed = True if num_devices>1 else False\n",
    "if distributed: assert device_count==num_devices\n",
    "\n",
    "node = os.getenv('SLURM_NODEID')\n",
    "if node is None:\n",
    "    node = 0\n",
    "else:\n",
    "    node = int(node)\n",
    "print(f\"NODE={node}\")\n",
    "\n",
    "global_rank = os.getenv('RANK')\n",
    "if global_rank is None:\n",
    "    global_rank = 0\n",
    "else:\n",
    "    global_rank = int(global_rank)\n",
    "print(f\"GLOBAL RANK={global_rank}\")\n",
    "\n",
    "world_size = os.getenv('WORLD_SIZE')\n",
    "if world_size is None: \n",
    "    world_size = 1\n",
    "else:\n",
    "    world_size = int(world_size)\n",
    "print(f\"WORLD_SIZE={world_size}\")\n",
    "\n",
    "if utils.is_interactive():\n",
    "    # Following allows you to change functions in models.py or utils.py and \n",
    "    # have this notebook automatically update with your revisions\n",
    "    %load_ext autoreload\n",
    "    %autoreload 2\n",
    "\n",
    "batch_size = probe_batch_size\n",
    "num_epochs = probe_num_epochs\n",
    "\n",
    "data_type = torch.float32 # change depending on your mixed_precision\n",
    "global_batch_size = batch_size * world_size\n",
    "\n",
    "device = torch.device('cuda')\n",
    "\n",
    "print(\"PID of this process =\",os.getpid())\n",
    "print(\"device =\", device, \"distributed =\",distributed, \"num_devices =\", num_devices, \"local rank =\", local_rank, \"world size =\", world_size, \"data_type =\", data_type)\n",
    "\n",
    "# seed all random functions\n",
    "utils.seed_everything(seed + global_rank)"
   ]
  },
  {
   "cell_type": "markdown",
   "id": "ab15aca0-148e-435f-b8f2-7a708b61a6d9",
   "metadata": {},
   "source": [
    "# hcp_flat"
   ]
  },
  {
   "cell_type": "code",
   "execution_count": 24,
   "id": "de1a5b87-fa69-44e1-bdb9-bd9e257485c6",
   "metadata": {
    "tags": []
   },
   "outputs": [
    {
     "name": "stdout",
     "output_type": "stream",
     "text": [
      "img_size (144, 320) patch_size (16, 16) frames 16 t_patch_size 2\n",
      "model initialized\n"
     ]
    }
   ],
   "source": [
    "from util.hcp_flat import load_hcp_flat_mask, load_nsd_flat_mask\n",
    "from util.hcp_flat import create_hcp_flat, create_nsd_flat\n",
    "import util.visualize as vis\n",
    "\n",
    "#mae_vit_small_fmri(\n",
    "model = mae_vit_large_fmri(\n",
    "    patch_size=patch_size,\n",
    "    decoder_embed_dim=decoder_embed_dim,\n",
    "    t_patch_size=t_patch_size,\n",
    "    pred_t_dim=pred_t_dim,\n",
    "    decoder_depth=4,\n",
    "    cls_embed=cls_embed,\n",
    "    norm_pix_loss=norm_pix_loss,\n",
    "    no_qkv_bias=no_qkv_bias,\n",
    "    sep_pos_embed=sep_pos_embed,\n",
    "    trunc_init=trunc_init,\n",
    "    pct_masks_to_decode=pct_masks_to_decode,\n",
    ")"
   ]
  },
  {
   "cell_type": "markdown",
   "id": "2b8e6baa-4b1c-4f38-b078-70b2b092d14d",
   "metadata": {},
   "source": [
    "# Load checkpoint"
   ]
  },
  {
   "cell_type": "code",
   "execution_count": 26,
   "id": "4da73c08-ca61-48ef-9e63-b70db6f07a59",
   "metadata": {
    "tags": []
   },
   "outputs": [
    {
     "name": "stdout",
     "output_type": "stream",
     "text": [
      "\n",
      "Loaded checkpoint epoch99.pth from /weka/proj-fmri/paulscotti/fMRI-foundation-model/flat/checkpoints/nsdflat_large\n",
      "\n"
     ]
    }
   ],
   "source": [
    "checkpoint_files = [f for f in os.listdir(outdir) if f.endswith('.pth')]\n",
    "\n",
    "# Extract epoch numbers and find the largest\n",
    "epoch_numbers = []\n",
    "for file in checkpoint_files:\n",
    "    try:\n",
    "        epoch_number = int(file.split('epoch')[-1].split('.')[0])\n",
    "        epoch_numbers.append(epoch_number)\n",
    "    except ValueError:\n",
    "        continue\n",
    "latest_epoch = max(epoch_numbers)\n",
    "latest_checkpoint = f\"epoch{latest_epoch}.pth\"\n",
    "\n",
    "# # Or specify epoch number \n",
    "# latest_checkpoint = \"epoch15.pth\"\n",
    "\n",
    "# Load the checkpoint\n",
    "checkpoint_path = os.path.join(outdir, latest_checkpoint)\n",
    "\n",
    "state = torch.load(checkpoint_path)\n",
    "model.load_state_dict(state[\"model_state_dict\"], strict=True)\n",
    "model.to(device)\n",
    "\n",
    "print(f\"\\nLoaded checkpoint {latest_checkpoint} from {outdir}\\n\")"
   ]
  },
  {
   "cell_type": "markdown",
   "id": "3dd51ddf-fb71-48f4-bdbd-88753b44d2aa",
   "metadata": {},
   "source": [
    "## Create dataset and data loaders"
   ]
  },
  {
   "cell_type": "code",
   "execution_count": 129,
   "id": "3e330cd2-8f4f-4ca7-ae68-16698e90060f",
   "metadata": {
    "tags": []
   },
   "outputs": [
    {
     "name": "stdout",
     "output_type": "stream",
     "text": [
      "changed batch_size to 64\n"
     ]
    }
   ],
   "source": [
    "batch_size = 64 #12\n",
    "print(f\"changed batch_size to {batch_size}\")\n",
    "\n",
    "## Test ##\n",
    "if \"HCP\" in hcp_flat_path:\n",
    "    dataset = \"hcp\"\n",
    "    test_dataset = create_hcp_flat(root=hcp_flat_path, \n",
    "                    split=\"test\", frames=num_frames, shuffle=False)\n",
    "elif \"NSD\" in hcp_flat_path:\n",
    "    dataset = \"nsd\"\n",
    "    test_dataset = create_nsd_flat(root=hcp_flat_path, \n",
    "                    frames=num_frames, shuffle=False)\n",
    "test_dl = wds.WebLoader(\n",
    "    test_dataset.batched(batch_size, partial=False),\n",
    "    batch_size=None,\n",
    "    shuffle=False,\n",
    "    num_workers=num_workers,\n",
    "    pin_memory=True,\n",
    ")"
   ]
  },
  {
   "cell_type": "markdown",
   "id": "c43a5055-8afd-468a-93bf-32f94bd1d042",
   "metadata": {},
   "source": [
    "# Start extraction"
   ]
  },
  {
   "cell_type": "code",
   "execution_count": 130,
   "id": "19d5679c-282e-4c53-a67d-8e16200b1ba1",
   "metadata": {},
   "outputs": [
    {
     "name": "stdout",
     "output_type": "stream",
     "text": [
      "cnt 2292\n",
      "total 146688\n"
     ]
    }
   ],
   "source": [
    "cnt = 0\n",
    "total = 0\n",
    "if dataset == \"hcp\":\n",
    "    for sample, sample_meta in test_dl:\n",
    "        cnt += 1\n",
    "        total += len(sample)\n",
    "elif dataset == \"nsd\":\n",
    "    for sample, sample_meta, sample_events in test_dl:\n",
    "        cnt += 1\n",
    "        total += len(sample)\n",
    "print(\"cnt\", cnt)\n",
    "print(\"total\", total)"
   ]
  },
  {
   "cell_type": "code",
   "execution_count": 136,
   "id": "ade85ab2-316f-4a6f-b679-b93a150b84b2",
   "metadata": {
    "tags": []
   },
   "outputs": [
    {
     "name": "stdout",
     "output_type": "stream",
     "text": [
      "torch.Size([1, 8, 180, 1024])\n"
     ]
    }
   ],
   "source": [
    "model.to(device)\n",
    "x = sample[[0]].to(device)\n",
    "with torch.no_grad():\n",
    "    x = model.patch_embed(x)\n",
    "print(x.shape)"
   ]
  },
  {
   "cell_type": "code",
   "execution_count": 137,
   "id": "6507067f-1ece-46ac-ad8c-24ef7a9b3a58",
   "metadata": {
    "tags": []
   },
   "outputs": [],
   "source": [
    "@torch.no_grad()\n",
    "def extract_features(dl, dataset=\"nsd\"):\n",
    "    if dataset==\"hcp\":\n",
    "        for samples, samples_meta in tqdm(dl,total=cnt):\n",
    "    \n",
    "            samples = samples.to(device)\n",
    "            \n",
    "            features = model.forward_features(samples)\n",
    "    \n",
    "            features = features.cpu().numpy()\n",
    "    \n",
    "            for feat, meta in zip(features, samples_meta):\n",
    "                yield {\"feature\": feat, **meta}\n",
    "    elif dataset==\"nsd\": \n",
    "        for samples, samples_meta, samples_events in tqdm(dl,total=cnt):\n",
    "    \n",
    "            samples = samples.to(device)\n",
    "            \n",
    "            features = model.forward_features(samples)\n",
    "    \n",
    "            features = features.cpu().numpy()\n",
    "    \n",
    "            for feat, meta, events in zip(features, samples_meta, samples_events):\n",
    "                yield {\"feature\": feat, **meta,\n",
    "                       \"events\": events}"
   ]
  },
  {
   "cell_type": "code",
   "execution_count": 138,
   "id": "8b75050d-ea61-489c-a777-7725935a6a74",
   "metadata": {},
   "outputs": [
    {
     "name": "stdout",
     "output_type": "stream",
     "text": [
      "/weka/proj-fmri/paulscotti/fMRI-foundation-model/flat/checkpoints/nsdflat_large/epoch99\n"
     ]
    }
   ],
   "source": [
    "outdir_parquet = f'{outdir}/{latest_checkpoint[:-4]}'\n",
    "print(outdir_parquet)\n",
    "\n",
    "os.makedirs(outdir_parquet,exist_ok=True)"
   ]
  },
  {
   "cell_type": "code",
   "execution_count": 139,
   "id": "c3461199-e805-4e9c-8c91-894e83cf8bc3",
   "metadata": {
    "tags": []
   },
   "outputs": [
    {
     "name": "stdout",
     "output_type": "stream",
     "text": [
      "Start extract\n",
      "output location: /weka/proj-fmri/paulscotti/fMRI-foundation-model/flat/checkpoints/nsdflat_large/epoch99/test.parquet\n"
     ]
    },
    {
     "name": "stderr",
     "output_type": "stream",
     "text": [
      "100%|███████████████████████████████████████| 2292/2292 [25:57<00:00,  1.47it/s]"
     ]
    },
    {
     "name": "stdout",
     "output_type": "stream",
     "text": [
      "Extract time 0:25:57\n",
      "3403167232\n"
     ]
    },
    {
     "name": "stderr",
     "output_type": "stream",
     "text": [
      "\n"
     ]
    }
   ],
   "source": [
    "utils.seed_everything(seed)\n",
    "\n",
    "print(\"Start extract\")\n",
    "print(\"output location:\", f\"{outdir_parquet}/test.parquet\")\n",
    "start_time = time.time()\n",
    "\n",
    "with BufferedParquetWriter(f\"{outdir_parquet}/test.parquet\", blocking=True) as writer:\n",
    "    for sample in extract_features(test_dl, dataset=dataset):\n",
    "        writer.write(sample)\n",
    "\n",
    "total_time = time.time() - start_time\n",
    "total_time_str = str(datetime.timedelta(seconds=int(total_time)))\n",
    "print(\"Extract time {}\".format(total_time_str))\n",
    "print(torch.cuda.memory_allocated())"
   ]
  },
  {
   "cell_type": "code",
   "execution_count": null,
   "id": "d74b9e19-3098-441e-bca9-949e6da82af8",
   "metadata": {},
   "outputs": [],
   "source": [
    "print(\"output location:\", f\"{outdir_parquet}/test.parquet\")"
   ]
  },
  {
   "cell_type": "code",
   "execution_count": null,
   "id": "a898429c-b013-4989-86ef-fbf75ca15971",
   "metadata": {
    "tags": []
   },
   "outputs": [],
   "source": [
    "# utils.seed_everything(seed)\n",
    "\n",
    "# print(\"Start extract\")\n",
    "# start_time = time.time()\n",
    "\n",
    "# with BufferedParquetWriter(f\"{outdir_parquet}/train.parquet\", blocking=True) as writer:\n",
    "#     for sample in extract_features(train_dl):\n",
    "#         writer.write(sample)\n",
    "\n",
    "# total_time = time.time() - start_time\n",
    "# total_time_str = str(datetime.timedelta(seconds=int(total_time)))\n",
    "# print(\"Extract time {}\".format(total_time_str))\n",
    "# print(torch.cuda.memory_allocated())"
   ]
  },
  {
   "cell_type": "code",
   "execution_count": 140,
   "id": "1461acf6-8053-4fcc-80e3-9ff66e0f1dc4",
   "metadata": {},
   "outputs": [
    {
     "data": {
      "text/html": [
       "<div>\n",
       "<style scoped>\n",
       "    .dataframe tbody tr th:only-of-type {\n",
       "        vertical-align: middle;\n",
       "    }\n",
       "\n",
       "    .dataframe tbody tr th {\n",
       "        vertical-align: top;\n",
       "    }\n",
       "\n",
       "    .dataframe thead th {\n",
       "        text-align: right;\n",
       "    }\n",
       "</style>\n",
       "<table border=\"1\" class=\"dataframe\">\n",
       "  <thead>\n",
       "    <tr style=\"text-align: right;\">\n",
       "      <th></th>\n",
       "      <th>feature</th>\n",
       "      <th>key</th>\n",
       "      <th>sub</th>\n",
       "      <th>ses</th>\n",
       "      <th>run</th>\n",
       "      <th>start</th>\n",
       "      <th>events</th>\n",
       "    </tr>\n",
       "  </thead>\n",
       "  <tbody>\n",
       "    <tr>\n",
       "      <th>0</th>\n",
       "      <td>[1.2957616, 0.8341554, 0.977095, 0.7594984, 0....</td>\n",
       "      <td>sub-01_ses-25_run-09</td>\n",
       "      <td>1</td>\n",
       "      <td>25</td>\n",
       "      <td>9</td>\n",
       "      <td>0</td>\n",
       "      <td>[{'index': 12, 'nsd_id': 45455}, {'index': 16,...</td>\n",
       "    </tr>\n",
       "    <tr>\n",
       "      <th>1</th>\n",
       "      <td>[1.6828736, 0.76685095, 0.801588, 1.1775866, 0...</td>\n",
       "      <td>sub-01_ses-25_run-09</td>\n",
       "      <td>1</td>\n",
       "      <td>25</td>\n",
       "      <td>9</td>\n",
       "      <td>16</td>\n",
       "      <td>[{'index': 12, 'nsd_id': 45455}, {'index': 16,...</td>\n",
       "    </tr>\n",
       "    <tr>\n",
       "      <th>2</th>\n",
       "      <td>[1.3467954, 0.62295175, 0.53726166, 0.94804835...</td>\n",
       "      <td>sub-01_ses-25_run-09</td>\n",
       "      <td>1</td>\n",
       "      <td>25</td>\n",
       "      <td>9</td>\n",
       "      <td>32</td>\n",
       "      <td>[{'index': 12, 'nsd_id': 45455}, {'index': 16,...</td>\n",
       "    </tr>\n",
       "    <tr>\n",
       "      <th>3</th>\n",
       "      <td>[1.2597265, 0.56107175, 0.88799864, 1.0987167,...</td>\n",
       "      <td>sub-01_ses-25_run-09</td>\n",
       "      <td>1</td>\n",
       "      <td>25</td>\n",
       "      <td>9</td>\n",
       "      <td>48</td>\n",
       "      <td>[{'index': 12, 'nsd_id': 45455}, {'index': 16,...</td>\n",
       "    </tr>\n",
       "    <tr>\n",
       "      <th>4</th>\n",
       "      <td>[0.9291683, 0.7384197, 0.43327004, 0.96608216,...</td>\n",
       "      <td>sub-01_ses-25_run-09</td>\n",
       "      <td>1</td>\n",
       "      <td>25</td>\n",
       "      <td>9</td>\n",
       "      <td>64</td>\n",
       "      <td>[{'index': 12, 'nsd_id': 45455}, {'index': 16,...</td>\n",
       "    </tr>\n",
       "    <tr>\n",
       "      <th>...</th>\n",
       "      <td>...</td>\n",
       "      <td>...</td>\n",
       "      <td>...</td>\n",
       "      <td>...</td>\n",
       "      <td>...</td>\n",
       "      <td>...</td>\n",
       "      <td>...</td>\n",
       "    </tr>\n",
       "    <tr>\n",
       "      <th>146683</th>\n",
       "      <td>[0.39492762, 0.9567513, 1.9104024, 0.6862465, ...</td>\n",
       "      <td>sub-01_ses-09_run-07</td>\n",
       "      <td>1</td>\n",
       "      <td>9</td>\n",
       "      <td>7</td>\n",
       "      <td>15</td>\n",
       "      <td>[{'index': 12, 'nsd_id': 46391}, {'index': 16,...</td>\n",
       "    </tr>\n",
       "    <tr>\n",
       "      <th>146684</th>\n",
       "      <td>[0.6176336, 0.97453976, 1.6229396, 0.7125873, ...</td>\n",
       "      <td>sub-01_ses-09_run-07</td>\n",
       "      <td>1</td>\n",
       "      <td>9</td>\n",
       "      <td>7</td>\n",
       "      <td>31</td>\n",
       "      <td>[{'index': 12, 'nsd_id': 46391}, {'index': 16,...</td>\n",
       "    </tr>\n",
       "    <tr>\n",
       "      <th>146685</th>\n",
       "      <td>[0.36875397, 0.9014565, 2.026524, 0.7028155, 0...</td>\n",
       "      <td>sub-01_ses-09_run-07</td>\n",
       "      <td>1</td>\n",
       "      <td>9</td>\n",
       "      <td>7</td>\n",
       "      <td>47</td>\n",
       "      <td>[{'index': 12, 'nsd_id': 46391}, {'index': 16,...</td>\n",
       "    </tr>\n",
       "    <tr>\n",
       "      <th>146686</th>\n",
       "      <td>[0.11672564, 0.7731965, 2.1594627, 0.8890982, ...</td>\n",
       "      <td>sub-01_ses-09_run-07</td>\n",
       "      <td>1</td>\n",
       "      <td>9</td>\n",
       "      <td>7</td>\n",
       "      <td>63</td>\n",
       "      <td>[{'index': 12, 'nsd_id': 46391}, {'index': 16,...</td>\n",
       "    </tr>\n",
       "    <tr>\n",
       "      <th>146687</th>\n",
       "      <td>[-0.31813443, 0.6642333, 1.2111845, 0.8097815,...</td>\n",
       "      <td>sub-01_ses-09_run-07</td>\n",
       "      <td>1</td>\n",
       "      <td>9</td>\n",
       "      <td>7</td>\n",
       "      <td>79</td>\n",
       "      <td>[{'index': 12, 'nsd_id': 46391}, {'index': 16,...</td>\n",
       "    </tr>\n",
       "  </tbody>\n",
       "</table>\n",
       "<p>146688 rows × 7 columns</p>\n",
       "</div>"
      ],
      "text/plain": [
       "                                                  feature  \\\n",
       "0       [1.2957616, 0.8341554, 0.977095, 0.7594984, 0....   \n",
       "1       [1.6828736, 0.76685095, 0.801588, 1.1775866, 0...   \n",
       "2       [1.3467954, 0.62295175, 0.53726166, 0.94804835...   \n",
       "3       [1.2597265, 0.56107175, 0.88799864, 1.0987167,...   \n",
       "4       [0.9291683, 0.7384197, 0.43327004, 0.96608216,...   \n",
       "...                                                   ...   \n",
       "146683  [0.39492762, 0.9567513, 1.9104024, 0.6862465, ...   \n",
       "146684  [0.6176336, 0.97453976, 1.6229396, 0.7125873, ...   \n",
       "146685  [0.36875397, 0.9014565, 2.026524, 0.7028155, 0...   \n",
       "146686  [0.11672564, 0.7731965, 2.1594627, 0.8890982, ...   \n",
       "146687  [-0.31813443, 0.6642333, 1.2111845, 0.8097815,...   \n",
       "\n",
       "                         key  sub  ses  run  start  \\\n",
       "0       sub-01_ses-25_run-09    1   25    9      0   \n",
       "1       sub-01_ses-25_run-09    1   25    9     16   \n",
       "2       sub-01_ses-25_run-09    1   25    9     32   \n",
       "3       sub-01_ses-25_run-09    1   25    9     48   \n",
       "4       sub-01_ses-25_run-09    1   25    9     64   \n",
       "...                      ...  ...  ...  ...    ...   \n",
       "146683  sub-01_ses-09_run-07    1    9    7     15   \n",
       "146684  sub-01_ses-09_run-07    1    9    7     31   \n",
       "146685  sub-01_ses-09_run-07    1    9    7     47   \n",
       "146686  sub-01_ses-09_run-07    1    9    7     63   \n",
       "146687  sub-01_ses-09_run-07    1    9    7     79   \n",
       "\n",
       "                                                   events  \n",
       "0       [{'index': 12, 'nsd_id': 45455}, {'index': 16,...  \n",
       "1       [{'index': 12, 'nsd_id': 45455}, {'index': 16,...  \n",
       "2       [{'index': 12, 'nsd_id': 45455}, {'index': 16,...  \n",
       "3       [{'index': 12, 'nsd_id': 45455}, {'index': 16,...  \n",
       "4       [{'index': 12, 'nsd_id': 45455}, {'index': 16,...  \n",
       "...                                                   ...  \n",
       "146683  [{'index': 12, 'nsd_id': 46391}, {'index': 16,...  \n",
       "146684  [{'index': 12, 'nsd_id': 46391}, {'index': 16,...  \n",
       "146685  [{'index': 12, 'nsd_id': 46391}, {'index': 16,...  \n",
       "146686  [{'index': 12, 'nsd_id': 46391}, {'index': 16,...  \n",
       "146687  [{'index': 12, 'nsd_id': 46391}, {'index': 16,...  \n",
       "\n",
       "[146688 rows x 7 columns]"
      ]
     },
     "execution_count": 140,
     "metadata": {},
     "output_type": "execute_result"
    }
   ],
   "source": [
    "features = pd.read_parquet(f\"{outdir_parquet}/test.parquet\")\n",
    "features"
   ]
  },
  {
   "cell_type": "code",
   "execution_count": null,
   "id": "25cb78a5-0c56-4cae-bebd-978c09a16a79",
   "metadata": {},
   "outputs": [],
   "source": []
  }
 ],
 "metadata": {
  "kernelspec": {
   "display_name": "found2",
   "language": "python",
   "name": "found2"
  },
  "language_info": {
   "codemirror_mode": {
    "name": "ipython",
    "version": 3
   },
   "file_extension": ".py",
   "mimetype": "text/x-python",
   "name": "python",
   "nbconvert_exporter": "python",
   "pygments_lexer": "ipython3",
   "version": "3.12.4"
  }
 },
 "nbformat": 4,
 "nbformat_minor": 5
}
