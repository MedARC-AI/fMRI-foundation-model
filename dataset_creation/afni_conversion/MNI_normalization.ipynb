{
 "cells": [
  {
   "cell_type": "code",
   "execution_count": 1,
   "id": "d41070df-0572-4e70-9b9a-fba4e0c85022",
   "metadata": {
    "tags": []
   },
   "outputs": [],
   "source": [
    "# Standard Library Imports\n",
    "import os\n",
    "import sys\n",
    "from subprocess import call, check_output\n",
    "import json\n",
    "import time\n",
    "\n",
    "# Third-Party Library Imports\n",
    "import numpy as np\n",
    "import boto3\n",
    "from botocore import UNSIGNED\n",
    "from botocore.client import Config\n",
    "import webdataset as wds\n",
    "import nibabel as nib\n",
    "import pickle as pkl\n",
    "import h5py\n",
    "from PIL import Image\n",
    "import matplotlib.pyplot as plt"
   ]
  },
  {
   "cell_type": "code",
   "execution_count": 51,
   "id": "d33f9b6d-f595-48c2-b673-0c9b293d1d33",
   "metadata": {
    "tags": []
   },
   "outputs": [
    {
     "name": "stdout",
     "output_type": "stream",
     "text": [
      "WORKER_ID=9\n"
     ]
    }
   ],
   "source": [
    "worker_id = int(sys.argv[1])\n",
    "print(f\"WORKER_ID={worker_id}\")"
   ]
  },
  {
   "cell_type": "code",
   "execution_count": 52,
   "id": "9cd5c087-dbe8-4536-ad24-11de4c8e1901",
   "metadata": {
    "tags": []
   },
   "outputs": [
    {
     "name": "stdout",
     "output_type": "stream",
     "text": [
      "/weka/proj-fmri/paulscotti/fMRI-foundation-model/dataset_creation/afni_conversion/temp9\n",
      "/weka/proj-fmri/paulscotti/fMRI-foundation-model/dataset_creation/afni_conversion/MNIs9\n"
     ]
    }
   ],
   "source": [
    "temp_dir = os.getcwd() + f\"/temp{worker_id}\" # the folder where the AFNI container will do its work\n",
    "mni_dir = os.getcwd() + f\"/MNIs{worker_id}\" # the folder where MNI outputs will go\n",
    "\n",
    "command = f\"rm -r {temp_dir}\"\n",
    "call(command,shell=True)\n",
    "command = f\"rm -r {mni_dir}\"\n",
    "call(command,shell=True)\n",
    "\n",
    "os.makedirs(temp_dir, exist_ok=True)\n",
    "os.makedirs(mni_dir, exist_ok=True)\n",
    "print(temp_dir)\n",
    "print(mni_dir)"
   ]
  },
  {
   "cell_type": "code",
   "execution_count": 53,
   "id": "f15254df-2596-4e93-b0d3-4b5e05e92b42",
   "metadata": {
    "tags": []
   },
   "outputs": [
    {
     "name": "stdout",
     "output_type": "stream",
     "text": [
      "discarded_dataset_ids []\n",
      "len(file_name_list) = 167200\n",
      "len(file_name_list) = 5766\n"
     ]
    }
   ],
   "source": [
    "s3 = boto3.client('s3')\n",
    "bucket_name = 'proj-fmri'\n",
    "prefix = 'fmri_foundation_datasets/parallel_openneuro/'\n",
    "\n",
    "if os.path.exists(f\"discarded_dataset_ids_{worker_id}.npy\"):\n",
    "    discarded_dataset_ids = np.load(f\"discarded_dataset_ids_{worker_id}.npy\").tolist()\n",
    "else:\n",
    "    discarded_dataset_ids = []\n",
    "print(\"discarded_dataset_ids\",discarded_dataset_ids)\n",
    "\n",
    "paginator = s3.get_paginator('list_objects_v2')\n",
    "file_name_list = []\n",
    "for page in paginator.paginate(Bucket=bucket_name, Prefix=prefix):\n",
    "    for obj in page.get('Contents', []):\n",
    "        file_name = obj['Key']\n",
    "        file_name_list.append(file_name)\n",
    "print(\"len(file_name_list) =\", len(file_name_list))\n",
    "\n",
    "# subset to current worker\n",
    "worker_id_idx = np.linspace(0,len(file_name_list),30)[worker_id:worker_id+2].astype(np.int32).tolist()\n",
    "file_name_list = file_name_list[worker_id_idx[0]:worker_id_idx[1]]\n",
    "print(\"len(file_name_list) =\", len(file_name_list))"
   ]
  },
  {
   "cell_type": "code",
   "execution_count": 54,
   "id": "5d3ca1e5-f755-4b88-b624-8a39ef04f0b6",
   "metadata": {
    "tags": []
   },
   "outputs": [
    {
     "name": "stdout",
     "output_type": "stream",
     "text": [
      "starting...\n",
      "2024-03-11 17:10:50  511045617 sub-04_ses-09_task-ExpRing_dir-pa_bold_MNI.nii.gz\n",
      "      done: s3://proj-fmri/fmri_foundation_datasets/openneuro_MNI/ds002685/sub-04_ses-09_task-ExpRing_dir-pa_bold_MNI.nii.gz\n",
      "\n"
     ]
    },
    {
     "ename": "KeyboardInterrupt",
     "evalue": "",
     "output_type": "error",
     "traceback": [
      "\u001b[0;31m---------------------------------------------------------------------------\u001b[0m",
      "\u001b[0;31mKeyboardInterrupt\u001b[0m                         Traceback (most recent call last)",
      "Cell \u001b[0;32mIn[54], line 22\u001b[0m\n\u001b[1;32m     19\u001b[0m s3_afni_filename \u001b[38;5;241m=\u001b[39m \u001b[38;5;124mf\u001b[39m\u001b[38;5;124m\"\u001b[39m\u001b[38;5;124ms3://proj-fmri/fmri_foundation_datasets/openneuro_MNI/\u001b[39m\u001b[38;5;132;01m{\u001b[39;00mdataset_id\u001b[38;5;132;01m}\u001b[39;00m\u001b[38;5;124m/\u001b[39m\u001b[38;5;132;01m{\u001b[39;00mfunc_path\u001b[38;5;241m.\u001b[39msplit(\u001b[38;5;124m'\u001b[39m\u001b[38;5;124m.nii.gz\u001b[39m\u001b[38;5;124m'\u001b[39m)[\u001b[38;5;241m0\u001b[39m]\u001b[38;5;250m \u001b[39m\u001b[38;5;241m+\u001b[39m\u001b[38;5;250m \u001b[39m\u001b[38;5;124m'\u001b[39m\u001b[38;5;124m_MNI.nii.gz\u001b[39m\u001b[38;5;124m'\u001b[39m\u001b[38;5;132;01m}\u001b[39;00m\u001b[38;5;124m\"\u001b[39m\n\u001b[1;32m     21\u001b[0m \u001b[38;5;66;03m# check if MNI output already exists\u001b[39;00m\n\u001b[0;32m---> 22\u001b[0m MNI_done \u001b[38;5;241m=\u001b[39m \u001b[43mcall\u001b[49m\u001b[43m(\u001b[49m\u001b[38;5;124;43mf\u001b[39;49m\u001b[38;5;124;43m\"\u001b[39;49m\u001b[38;5;124;43maws s3 ls \u001b[39;49m\u001b[38;5;132;43;01m{\u001b[39;49;00m\u001b[43ms3_afni_filename\u001b[49m\u001b[38;5;132;43;01m}\u001b[39;49;00m\u001b[38;5;124;43m\"\u001b[39;49m\u001b[43m,\u001b[49m\u001b[43mshell\u001b[49m\u001b[38;5;241;43m=\u001b[39;49m\u001b[38;5;28;43;01mTrue\u001b[39;49;00m\u001b[43m)\u001b[49m\n\u001b[1;32m     23\u001b[0m \u001b[38;5;28;01mif\u001b[39;00m MNI_done\u001b[38;5;241m==\u001b[39m\u001b[38;5;241m0\u001b[39m:\n\u001b[1;32m     24\u001b[0m     \u001b[38;5;28mprint\u001b[39m(\u001b[38;5;124mf\u001b[39m\u001b[38;5;124m\"\u001b[39m\u001b[38;5;124m      done: \u001b[39m\u001b[38;5;132;01m{\u001b[39;00ms3_afni_filename\u001b[38;5;132;01m}\u001b[39;00m\u001b[38;5;124m\"\u001b[39m)\n",
      "File \u001b[0;32m/usr/lib/python3.10/subprocess.py:347\u001b[0m, in \u001b[0;36mcall\u001b[0;34m(timeout, *popenargs, **kwargs)\u001b[0m\n\u001b[1;32m    345\u001b[0m \u001b[38;5;28;01mwith\u001b[39;00m Popen(\u001b[38;5;241m*\u001b[39mpopenargs, \u001b[38;5;241m*\u001b[39m\u001b[38;5;241m*\u001b[39mkwargs) \u001b[38;5;28;01mas\u001b[39;00m p:\n\u001b[1;32m    346\u001b[0m     \u001b[38;5;28;01mtry\u001b[39;00m:\n\u001b[0;32m--> 347\u001b[0m         \u001b[38;5;28;01mreturn\u001b[39;00m \u001b[43mp\u001b[49m\u001b[38;5;241;43m.\u001b[39;49m\u001b[43mwait\u001b[49m\u001b[43m(\u001b[49m\u001b[43mtimeout\u001b[49m\u001b[38;5;241;43m=\u001b[39;49m\u001b[43mtimeout\u001b[49m\u001b[43m)\u001b[49m\n\u001b[1;32m    348\u001b[0m     \u001b[38;5;28;01mexcept\u001b[39;00m:  \u001b[38;5;66;03m# Including KeyboardInterrupt, wait handled that.\u001b[39;00m\n\u001b[1;32m    349\u001b[0m         p\u001b[38;5;241m.\u001b[39mkill()\n",
      "File \u001b[0;32m/usr/lib/python3.10/subprocess.py:1209\u001b[0m, in \u001b[0;36mPopen.wait\u001b[0;34m(self, timeout)\u001b[0m\n\u001b[1;32m   1207\u001b[0m     endtime \u001b[38;5;241m=\u001b[39m _time() \u001b[38;5;241m+\u001b[39m timeout\n\u001b[1;32m   1208\u001b[0m \u001b[38;5;28;01mtry\u001b[39;00m:\n\u001b[0;32m-> 1209\u001b[0m     \u001b[38;5;28;01mreturn\u001b[39;00m \u001b[38;5;28;43mself\u001b[39;49m\u001b[38;5;241;43m.\u001b[39;49m\u001b[43m_wait\u001b[49m\u001b[43m(\u001b[49m\u001b[43mtimeout\u001b[49m\u001b[38;5;241;43m=\u001b[39;49m\u001b[43mtimeout\u001b[49m\u001b[43m)\u001b[49m\n\u001b[1;32m   1210\u001b[0m \u001b[38;5;28;01mexcept\u001b[39;00m \u001b[38;5;167;01mKeyboardInterrupt\u001b[39;00m:\n\u001b[1;32m   1211\u001b[0m     \u001b[38;5;66;03m# https://bugs.python.org/issue25942\u001b[39;00m\n\u001b[1;32m   1212\u001b[0m     \u001b[38;5;66;03m# The first keyboard interrupt waits briefly for the child to\u001b[39;00m\n\u001b[1;32m   1213\u001b[0m     \u001b[38;5;66;03m# exit under the common assumption that it also received the ^C\u001b[39;00m\n\u001b[1;32m   1214\u001b[0m     \u001b[38;5;66;03m# generated SIGINT and will exit rapidly.\u001b[39;00m\n\u001b[1;32m   1215\u001b[0m     \u001b[38;5;28;01mif\u001b[39;00m timeout \u001b[38;5;129;01mis\u001b[39;00m \u001b[38;5;129;01mnot\u001b[39;00m \u001b[38;5;28;01mNone\u001b[39;00m:\n",
      "File \u001b[0;32m/usr/lib/python3.10/subprocess.py:1959\u001b[0m, in \u001b[0;36mPopen._wait\u001b[0;34m(self, timeout)\u001b[0m\n\u001b[1;32m   1957\u001b[0m \u001b[38;5;28;01mif\u001b[39;00m \u001b[38;5;28mself\u001b[39m\u001b[38;5;241m.\u001b[39mreturncode \u001b[38;5;129;01mis\u001b[39;00m \u001b[38;5;129;01mnot\u001b[39;00m \u001b[38;5;28;01mNone\u001b[39;00m:\n\u001b[1;32m   1958\u001b[0m     \u001b[38;5;28;01mbreak\u001b[39;00m  \u001b[38;5;66;03m# Another thread waited.\u001b[39;00m\n\u001b[0;32m-> 1959\u001b[0m (pid, sts) \u001b[38;5;241m=\u001b[39m \u001b[38;5;28;43mself\u001b[39;49m\u001b[38;5;241;43m.\u001b[39;49m\u001b[43m_try_wait\u001b[49m\u001b[43m(\u001b[49m\u001b[38;5;241;43m0\u001b[39;49m\u001b[43m)\u001b[49m\n\u001b[1;32m   1960\u001b[0m \u001b[38;5;66;03m# Check the pid and loop as waitpid has been known to\u001b[39;00m\n\u001b[1;32m   1961\u001b[0m \u001b[38;5;66;03m# return 0 even without WNOHANG in odd situations.\u001b[39;00m\n\u001b[1;32m   1962\u001b[0m \u001b[38;5;66;03m# http://bugs.python.org/issue14396.\u001b[39;00m\n\u001b[1;32m   1963\u001b[0m \u001b[38;5;28;01mif\u001b[39;00m pid \u001b[38;5;241m==\u001b[39m \u001b[38;5;28mself\u001b[39m\u001b[38;5;241m.\u001b[39mpid:\n",
      "File \u001b[0;32m/usr/lib/python3.10/subprocess.py:1917\u001b[0m, in \u001b[0;36mPopen._try_wait\u001b[0;34m(self, wait_flags)\u001b[0m\n\u001b[1;32m   1915\u001b[0m \u001b[38;5;250m\u001b[39m\u001b[38;5;124;03m\"\"\"All callers to this function MUST hold self._waitpid_lock.\"\"\"\u001b[39;00m\n\u001b[1;32m   1916\u001b[0m \u001b[38;5;28;01mtry\u001b[39;00m:\n\u001b[0;32m-> 1917\u001b[0m     (pid, sts) \u001b[38;5;241m=\u001b[39m \u001b[43mos\u001b[49m\u001b[38;5;241;43m.\u001b[39;49m\u001b[43mwaitpid\u001b[49m\u001b[43m(\u001b[49m\u001b[38;5;28;43mself\u001b[39;49m\u001b[38;5;241;43m.\u001b[39;49m\u001b[43mpid\u001b[49m\u001b[43m,\u001b[49m\u001b[43m \u001b[49m\u001b[43mwait_flags\u001b[49m\u001b[43m)\u001b[49m\n\u001b[1;32m   1918\u001b[0m \u001b[38;5;28;01mexcept\u001b[39;00m \u001b[38;5;167;01mChildProcessError\u001b[39;00m:\n\u001b[1;32m   1919\u001b[0m     \u001b[38;5;66;03m# This happens if SIGCLD is set to be ignored or waiting\u001b[39;00m\n\u001b[1;32m   1920\u001b[0m     \u001b[38;5;66;03m# for child processes has otherwise been disabled for our\u001b[39;00m\n\u001b[1;32m   1921\u001b[0m     \u001b[38;5;66;03m# process.  This child is dead, we can't get the status.\u001b[39;00m\n\u001b[1;32m   1922\u001b[0m     pid \u001b[38;5;241m=\u001b[39m \u001b[38;5;28mself\u001b[39m\u001b[38;5;241m.\u001b[39mpid\n",
      "\u001b[0;31mKeyboardInterrupt\u001b[0m: "
     ]
    }
   ],
   "source": [
    "max_wait = 500\n",
    "overlap_cnt = 0\n",
    "print(\"starting...\")\n",
    "for file_name in file_name_list:\n",
    "    if file_name.endswith('_bold.nii.gz'):\n",
    "        dataset_id = file_name.split('/')[2]\n",
    "        \n",
    "        if np.any(np.isin(dataset_id, discarded_dataset_ids)):\n",
    "            continue\n",
    "        \n",
    "        func_path = file_name.split('/')[-1]\n",
    "        temp_file_path = temp_dir + '/' + dataset_id + '/' + func_path\n",
    "        mni_file_path = mni_dir + '/' + dataset_id + '/' + func_path\n",
    "        \n",
    "        os.makedirs(temp_dir + '/' + dataset_id, exist_ok=True)\n",
    "        os.makedirs(mni_dir + '/' + dataset_id, exist_ok=True)\n",
    "        \n",
    "        afni_filename = mni_dir + '/' + dataset_id + '/' + func_path.split(\".nii.gz\")[0] + \"_MNI.nii.gz\"\n",
    "        s3_afni_filename = f\"s3://proj-fmri/fmri_foundation_datasets/openneuro_MNI/{dataset_id}/{func_path.split('.nii.gz')[0] + '_MNI.nii.gz'}\"\n",
    "        \n",
    "        # check if MNI output already exists\n",
    "        MNI_done = call(f\"aws s3 ls {s3_afni_filename}\",shell=True)\n",
    "        if MNI_done==0:\n",
    "            print(f\"      done: {s3_afni_filename}\")\n",
    "            continue\n",
    "            \n",
    "        # download from s3\n",
    "        print(f\"downloading {temp_file_path}\")\n",
    "        try:\n",
    "            #s3.download_file(bucket_name, file_name, temp_file_path)\n",
    "            command = f\"aws s3 cp s3://{bucket_name}/{file_name} {temp_file_path}\"\n",
    "            call(command,shell=True)\n",
    "        except:\n",
    "            print(\"failed to download? 1\")\n",
    "\n",
    "        while not os.path.exists(f\"{temp_file_path}\"):\n",
    "            print(f\"s3 download failed. trying again... {temp_file_path}\")\n",
    "            try:\n",
    "                # s3.download_file(bucket_name, file_name, temp_file_path)\n",
    "                command = f\"aws s3 cp s3://{bucket_name}/{file_name} {temp_file_path}\"\n",
    "                call(command,shell=True)\n",
    "            except:\n",
    "                print(\"failed to download? 2\")\n",
    "            time.sleep(5)\n",
    "\n",
    "        # Wait for AFNI to be complete\n",
    "        print(f'waiting for {afni_filename}')\n",
    "        waiting_time = 0\n",
    "        while not os.path.exists(afni_filename):\n",
    "            time.sleep(5)     \n",
    "            waiting_time += 5\n",
    "            if waiting_time > max_wait:\n",
    "                break\n",
    "\n",
    "        if waiting_time <= max_wait:\n",
    "            time.sleep(5) # wait to ensure file was fully created\n",
    "            with open(mni_file_path.split(\".nii.gz\")[0] + \"_overlap.txt\", 'r') as file:\n",
    "                try:\n",
    "                    overlap = file.readlines()\n",
    "                    overlap = np.array(overlap).astype(np.float32)[0]\n",
    "                except:\n",
    "                    print(\"overlap error!\")\n",
    "                    overlap = 0 # in case some weird error occurs where overlap txt is empty, assume its ok\n",
    "            \n",
    "            # if overlap >20%, discard outputs and skip this dataset\n",
    "            if overlap>20:\n",
    "                overlap_cnt += 1\n",
    "                if overlap_cnt>5:\n",
    "                    discarded_dataset_ids.append(dataset_id)\n",
    "                    print(\"discarded_dataset_ids\")\n",
    "                    print(discarded_dataset_ids)\n",
    "                    np.save(f\"discarded_dataset_ids_{worker_id}.npy\",discarded_dataset_ids)\n",
    "                    overlap_cnt = 0\n",
    "            else:   \n",
    "                overlap_cnt = 0\n",
    "                \n",
    "                command = f\"aws s3 cp {afni_filename} {s3_afni_filename}\"\n",
    "                call(command,shell=True)\n",
    "        else:\n",
    "            print(\"waiting time exceeded...\")\n",
    "            \n",
    "        # remove files\n",
    "        command = f\"rm {temp_file_path}\"\n",
    "        call(command,shell=True)\n",
    "        \n",
    "        command = f\"rm {afni_filename}\"\n",
    "        call(command,shell=True)"
   ]
  },
  {
   "cell_type": "code",
   "execution_count": 45,
   "id": "eb414e83-0fb8-47f4-ac5d-74b7c8286b13",
   "metadata": {
    "tags": []
   },
   "outputs": [],
   "source": [
    "end_dir = os.getcwd() + f\"/END_{worker_id}\"\n",
    "os.makedirs(end_dir, exist_ok=True)"
   ]
  }
 ],
 "metadata": {
  "kernelspec": {
   "display_name": "Python 3 (ipykernel)",
   "language": "python",
   "name": "python3"
  },
  "language_info": {
   "codemirror_mode": {
    "name": "ipython",
    "version": 3
   },
   "file_extension": ".py",
   "mimetype": "text/x-python",
   "name": "python",
   "nbconvert_exporter": "python",
   "pygments_lexer": "ipython3",
   "version": "3.11.6"
  }
 },
 "nbformat": 4,
 "nbformat_minor": 5
}
