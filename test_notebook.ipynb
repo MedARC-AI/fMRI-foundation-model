{
 "cells": [
  {
   "cell_type": "code",
   "execution_count": 37,
   "metadata": {},
   "outputs": [],
   "source": [
    "import os\n",
    "import sys\n",
    "import torch\n",
    "import tarfile\n",
    "import webdataset as wds\n",
    "from skimage import io\n",
    "import io as bio\n",
    "import fMRI_MAE.utils as utils \n",
    "from concurrent.futures import ThreadPoolExecutor, as_completed\n",
    "from PIL import Image\n",
    "\n",
    "sys.path.append('/mnt/c/Users/Moham/Desktop/fMRI-foundation-model/jepa')\n",
    "\n",
    "from jepa.src.models.vision_transformer import vit_tiny"
   ]
  },
  {
   "cell_type": "code",
   "execution_count": 48,
   "metadata": {},
   "outputs": [],
   "source": [
    "class FMRIDataset(torch.utils.data.Dataset):\n",
    "    def __init__(self, root, transform=None, are_tars=True):\n",
    "        self.root = root\n",
    "        self.transform = transform\n",
    "        self.folders = os.listdir(root)\n",
    "        self.are_tars = are_tars\n",
    "\n",
    "        self.files = []\n",
    "        if self.are_tars:\n",
    "            self.folders = [folder for folder in self.folders if folder[-4:] == \".tar\"]\n",
    "        \n",
    "        self._load_input_files()\n",
    "\n",
    "    def _load_from_tar(self, folder):\n",
    "            with tarfile.open(os.path.join(self.root, folder), 'r') as tar:\n",
    "                files = tar.getmembers()\n",
    "                return [(os.path.join(self.root, folder), file.name) for file in files if \"func\" in file.name]\n",
    "\n",
    "    def _load_from_directory(self, folder):\n",
    "        folder_path = os.path.join(self.root, folder)\n",
    "        return [(folder_path, f) for f in os.listdir(folder_path) if \"func\" in f and os.path.isfile(os.path.join(folder_path, f))]\n",
    "\n",
    "    def _load_input_files(self):\n",
    "        with ThreadPoolExecutor() as executor:\n",
    "            futures = []\n",
    "            for folder in self.folders:\n",
    "                if self.are_tars:\n",
    "                    futures.append(executor.submit(self._load_from_tar, folder))\n",
    "                else:\n",
    "                    futures.append(executor.submit(self._load_from_directory, folder))\n",
    "\n",
    "            for future in as_completed(futures):\n",
    "                self.files.extend(future.result())\n",
    "\n",
    "    def __len__(self):\n",
    "        return len(self.files)\n",
    "\n",
    "    def __getitem__(self, idx):\n",
    "        file_path_tuple = self.files[idx]\n",
    "        fmri = self.load_file(file_path_tuple)        \n",
    "        if self.transform:\n",
    "            fmri = self.transform(fmri)\n",
    "        \n",
    "        return fmri\n",
    "\n",
    "    def load_file(self, file_path_tuple):\n",
    "        if self.are_tars:\n",
    "            tar_path, member_name = file_path_tuple\n",
    "            with tarfile.open(tar_path, 'r') as tar:\n",
    "                member = tar.getmember(member_name)\n",
    "                f = tar.extractfile(member)\n",
    "                fmri = io.imread(f)\n",
    "        else:\n",
    "            file_path = os.path.join(*file_path_tuple)\n",
    "            fmri = io.imread(file_path)\n",
    "        \n",
    "        return fmri\n"
   ]
  },
  {
   "cell_type": "code",
   "execution_count": 49,
   "metadata": {},
   "outputs": [],
   "source": [
    "path = \"/mnt/c/Users/Moham/Desktop/fMRI-foundation-model/data/wds/\"\n",
    "data = FMRIDataset(path)"
   ]
  },
  {
   "cell_type": "code",
   "execution_count": 50,
   "metadata": {},
   "outputs": [
    {
     "ename": "OSError",
     "evalue": "Could not find a backend to open `<ExFileObject name='/mnt/c/Users/Moham/Desktop/fMRI-foundation-model/data/wds/000009.tar'>`` with iomode `r`.",
     "output_type": "error",
     "traceback": [
      "\u001b[0;31m---------------------------------------------------------------------------\u001b[0m",
      "\u001b[0;31mOSError\u001b[0m                                   Traceback (most recent call last)",
      "Cell \u001b[0;32mIn[50], line 1\u001b[0m\n\u001b[0;32m----> 1\u001b[0m \u001b[38;5;28;01mfor\u001b[39;00m i \u001b[38;5;129;01min\u001b[39;00m data:\n\u001b[1;32m      2\u001b[0m     \u001b[38;5;28mprint\u001b[39m(i\u001b[38;5;241m.\u001b[39mshape)\n\u001b[1;32m      4\u001b[0m     \u001b[38;5;28;01mbreak\u001b[39;00m\n",
      "Cell \u001b[0;32mIn[48], line 40\u001b[0m, in \u001b[0;36mFMRIDataset.__getitem__\u001b[0;34m(self, idx)\u001b[0m\n\u001b[1;32m     38\u001b[0m \u001b[38;5;28;01mdef\u001b[39;00m \u001b[38;5;21m__getitem__\u001b[39m(\u001b[38;5;28mself\u001b[39m, idx):\n\u001b[1;32m     39\u001b[0m     file_path_tuple \u001b[38;5;241m=\u001b[39m \u001b[38;5;28mself\u001b[39m\u001b[38;5;241m.\u001b[39mfiles[idx]\n\u001b[0;32m---> 40\u001b[0m     fmri \u001b[38;5;241m=\u001b[39m \u001b[38;5;28;43mself\u001b[39;49m\u001b[38;5;241;43m.\u001b[39;49m\u001b[43mload_file\u001b[49m\u001b[43m(\u001b[49m\u001b[43mfile_path_tuple\u001b[49m\u001b[43m)\u001b[49m        \n\u001b[1;32m     41\u001b[0m     \u001b[38;5;28;01mif\u001b[39;00m \u001b[38;5;28mself\u001b[39m\u001b[38;5;241m.\u001b[39mtransform:\n\u001b[1;32m     42\u001b[0m         fmri \u001b[38;5;241m=\u001b[39m \u001b[38;5;28mself\u001b[39m\u001b[38;5;241m.\u001b[39mtransform(fmri)\n",
      "Cell \u001b[0;32mIn[48], line 52\u001b[0m, in \u001b[0;36mFMRIDataset.load_file\u001b[0;34m(self, file_path_tuple)\u001b[0m\n\u001b[1;32m     50\u001b[0m         member \u001b[38;5;241m=\u001b[39m tar\u001b[38;5;241m.\u001b[39mgetmember(member_name)\n\u001b[1;32m     51\u001b[0m         f \u001b[38;5;241m=\u001b[39m tar\u001b[38;5;241m.\u001b[39mextractfile(member)\n\u001b[0;32m---> 52\u001b[0m         fmri \u001b[38;5;241m=\u001b[39m \u001b[43mio\u001b[49m\u001b[38;5;241;43m.\u001b[39;49m\u001b[43mimread\u001b[49m\u001b[43m(\u001b[49m\u001b[43mf\u001b[49m\u001b[43m)\u001b[49m\n\u001b[1;32m     53\u001b[0m \u001b[38;5;28;01melse\u001b[39;00m:\n\u001b[1;32m     54\u001b[0m     file_path \u001b[38;5;241m=\u001b[39m os\u001b[38;5;241m.\u001b[39mpath\u001b[38;5;241m.\u001b[39mjoin(\u001b[38;5;241m*\u001b[39mfile_path_tuple)\n",
      "File \u001b[0;32m~/.local/lib/python3.8/site-packages/skimage/io/_io.py:53\u001b[0m, in \u001b[0;36mimread\u001b[0;34m(fname, as_gray, plugin, **plugin_args)\u001b[0m\n\u001b[1;32m     50\u001b[0m         plugin \u001b[38;5;241m=\u001b[39m \u001b[38;5;124m'\u001b[39m\u001b[38;5;124mtifffile\u001b[39m\u001b[38;5;124m'\u001b[39m\n\u001b[1;32m     52\u001b[0m \u001b[38;5;28;01mwith\u001b[39;00m file_or_url_context(fname) \u001b[38;5;28;01mas\u001b[39;00m fname:\n\u001b[0;32m---> 53\u001b[0m     img \u001b[38;5;241m=\u001b[39m \u001b[43mcall_plugin\u001b[49m\u001b[43m(\u001b[49m\u001b[38;5;124;43m'\u001b[39;49m\u001b[38;5;124;43mimread\u001b[39;49m\u001b[38;5;124;43m'\u001b[39;49m\u001b[43m,\u001b[49m\u001b[43m \u001b[49m\u001b[43mfname\u001b[49m\u001b[43m,\u001b[49m\u001b[43m \u001b[49m\u001b[43mplugin\u001b[49m\u001b[38;5;241;43m=\u001b[39;49m\u001b[43mplugin\u001b[49m\u001b[43m,\u001b[49m\u001b[43m \u001b[49m\u001b[38;5;241;43m*\u001b[39;49m\u001b[38;5;241;43m*\u001b[39;49m\u001b[43mplugin_args\u001b[49m\u001b[43m)\u001b[49m\n\u001b[1;32m     55\u001b[0m \u001b[38;5;28;01mif\u001b[39;00m \u001b[38;5;129;01mnot\u001b[39;00m \u001b[38;5;28mhasattr\u001b[39m(img, \u001b[38;5;124m'\u001b[39m\u001b[38;5;124mndim\u001b[39m\u001b[38;5;124m'\u001b[39m):\n\u001b[1;32m     56\u001b[0m     \u001b[38;5;28;01mreturn\u001b[39;00m img\n",
      "File \u001b[0;32m~/.local/lib/python3.8/site-packages/skimage/io/manage_plugins.py:205\u001b[0m, in \u001b[0;36mcall_plugin\u001b[0;34m(kind, *args, **kwargs)\u001b[0m\n\u001b[1;32m    202\u001b[0m     \u001b[38;5;28;01mexcept\u001b[39;00m \u001b[38;5;167;01mIndexError\u001b[39;00m:\n\u001b[1;32m    203\u001b[0m         \u001b[38;5;28;01mraise\u001b[39;00m \u001b[38;5;167;01mRuntimeError\u001b[39;00m(\u001b[38;5;124mf\u001b[39m\u001b[38;5;124m'\u001b[39m\u001b[38;5;124mCould not find the plugin \u001b[39m\u001b[38;5;124m\"\u001b[39m\u001b[38;5;132;01m{\u001b[39;00mplugin\u001b[38;5;132;01m}\u001b[39;00m\u001b[38;5;124m\"\u001b[39m\u001b[38;5;124m for \u001b[39m\u001b[38;5;132;01m{\u001b[39;00mkind\u001b[38;5;132;01m}\u001b[39;00m\u001b[38;5;124m.\u001b[39m\u001b[38;5;124m'\u001b[39m)\n\u001b[0;32m--> 205\u001b[0m \u001b[38;5;28;01mreturn\u001b[39;00m \u001b[43mfunc\u001b[49m\u001b[43m(\u001b[49m\u001b[38;5;241;43m*\u001b[39;49m\u001b[43margs\u001b[49m\u001b[43m,\u001b[49m\u001b[43m \u001b[49m\u001b[38;5;241;43m*\u001b[39;49m\u001b[38;5;241;43m*\u001b[39;49m\u001b[43mkwargs\u001b[49m\u001b[43m)\u001b[49m\n",
      "File \u001b[0;32m~/.local/lib/python3.8/site-packages/skimage/io/_plugins/imageio_plugin.py:11\u001b[0m, in \u001b[0;36mimread\u001b[0;34m(*args, **kwargs)\u001b[0m\n\u001b[1;32m      9\u001b[0m \u001b[38;5;129m@wraps\u001b[39m(imageio_imread)\n\u001b[1;32m     10\u001b[0m \u001b[38;5;28;01mdef\u001b[39;00m \u001b[38;5;21mimread\u001b[39m(\u001b[38;5;241m*\u001b[39margs, \u001b[38;5;241m*\u001b[39m\u001b[38;5;241m*\u001b[39mkwargs):\n\u001b[0;32m---> 11\u001b[0m     out \u001b[38;5;241m=\u001b[39m np\u001b[38;5;241m.\u001b[39masarray(\u001b[43mimageio_imread\u001b[49m\u001b[43m(\u001b[49m\u001b[38;5;241;43m*\u001b[39;49m\u001b[43margs\u001b[49m\u001b[43m,\u001b[49m\u001b[43m \u001b[49m\u001b[38;5;241;43m*\u001b[39;49m\u001b[38;5;241;43m*\u001b[39;49m\u001b[43mkwargs\u001b[49m\u001b[43m)\u001b[49m)\n\u001b[1;32m     12\u001b[0m     \u001b[38;5;28;01mif\u001b[39;00m \u001b[38;5;129;01mnot\u001b[39;00m out\u001b[38;5;241m.\u001b[39mflags[\u001b[38;5;124m'\u001b[39m\u001b[38;5;124mWRITEABLE\u001b[39m\u001b[38;5;124m'\u001b[39m]:\n\u001b[1;32m     13\u001b[0m         out \u001b[38;5;241m=\u001b[39m out\u001b[38;5;241m.\u001b[39mcopy()\n",
      "File \u001b[0;32m~/.local/lib/python3.8/site-packages/imageio/v3.py:53\u001b[0m, in \u001b[0;36mimread\u001b[0;34m(uri, index, plugin, extension, format_hint, **kwargs)\u001b[0m\n\u001b[1;32m     50\u001b[0m \u001b[38;5;28;01mif\u001b[39;00m index \u001b[38;5;129;01mis\u001b[39;00m \u001b[38;5;129;01mnot\u001b[39;00m \u001b[38;5;28;01mNone\u001b[39;00m:\n\u001b[1;32m     51\u001b[0m     call_kwargs[\u001b[38;5;124m\"\u001b[39m\u001b[38;5;124mindex\u001b[39m\u001b[38;5;124m\"\u001b[39m] \u001b[38;5;241m=\u001b[39m index\n\u001b[0;32m---> 53\u001b[0m \u001b[38;5;28;01mwith\u001b[39;00m \u001b[43mimopen\u001b[49m\u001b[43m(\u001b[49m\u001b[43muri\u001b[49m\u001b[43m,\u001b[49m\u001b[43m \u001b[49m\u001b[38;5;124;43m\"\u001b[39;49m\u001b[38;5;124;43mr\u001b[39;49m\u001b[38;5;124;43m\"\u001b[39;49m\u001b[43m,\u001b[49m\u001b[43m \u001b[49m\u001b[38;5;241;43m*\u001b[39;49m\u001b[38;5;241;43m*\u001b[39;49m\u001b[43mplugin_kwargs\u001b[49m\u001b[43m)\u001b[49m \u001b[38;5;28;01mas\u001b[39;00m img_file:\n\u001b[1;32m     54\u001b[0m     \u001b[38;5;28;01mreturn\u001b[39;00m np\u001b[38;5;241m.\u001b[39masarray(img_file\u001b[38;5;241m.\u001b[39mread(\u001b[38;5;241m*\u001b[39m\u001b[38;5;241m*\u001b[39mcall_kwargs))\n",
      "File \u001b[0;32m~/.local/lib/python3.8/site-packages/imageio/core/imopen.py:281\u001b[0m, in \u001b[0;36mimopen\u001b[0;34m(uri, io_mode, plugin, extension, format_hint, legacy_mode, **kwargs)\u001b[0m\n\u001b[1;32m    275\u001b[0m         err_msg \u001b[38;5;241m+\u001b[39m\u001b[38;5;241m=\u001b[39m (\n\u001b[1;32m    276\u001b[0m             \u001b[38;5;124m\"\u001b[39m\u001b[38;5;130;01m\\n\u001b[39;00m\u001b[38;5;124mBased on the extension, the following plugins might add capable backends:\u001b[39m\u001b[38;5;130;01m\\n\u001b[39;00m\u001b[38;5;124m\"\u001b[39m\n\u001b[1;32m    277\u001b[0m             \u001b[38;5;124mf\u001b[39m\u001b[38;5;124m\"\u001b[39m\u001b[38;5;132;01m{\u001b[39;00minstall_candidates\u001b[38;5;132;01m}\u001b[39;00m\u001b[38;5;124m\"\u001b[39m\n\u001b[1;32m    278\u001b[0m         )\n\u001b[1;32m    280\u001b[0m request\u001b[38;5;241m.\u001b[39mfinish()\n\u001b[0;32m--> 281\u001b[0m \u001b[38;5;28;01mraise\u001b[39;00m err_type(err_msg)\n",
      "\u001b[0;31mOSError\u001b[0m: Could not find a backend to open `<ExFileObject name='/mnt/c/Users/Moham/Desktop/fMRI-foundation-model/data/wds/000009.tar'>`` with iomode `r`."
     ]
    }
   ],
   "source": [
    "for i in data:\n",
    "    print(i.shape)\n",
    "    \n",
    "    break"
   ]
  },
  {
   "cell_type": "code",
   "execution_count": 2,
   "metadata": {},
   "outputs": [],
   "source": [
    "path = \"/mnt/c/Users/Moham/Desktop/fMRI-foundation-model/data/wds/000000.tar\"\n",
    "cache_dir = \"./cache\"\n",
    "\n",
    "patch_size = 8\n",
    "frame_patch_size = 1\n",
    "num_samples_per_epoch = 1024\n",
    "batch_size = 1\n",
    "num_workers = 1"
   ]
  },
  {
   "cell_type": "code",
   "execution_count": 22,
   "metadata": {},
   "outputs": [
    {
     "name": "stdout",
     "output_type": "stream",
     "text": [
      "['000000.dataset.txt', '000000.func.png', '000000.header.npy', '000000.meansd.png', '000000.minmax.npy', '000001.dataset.txt', '000001.func.png', '000001.header.npy', '000001.meansd.png', '000001.minmax.npy', '000002.dataset.txt', '000002.func.png', '000002.header.npy', '000002.meansd.png', '000002.minmax.npy', '000003.dataset.txt', '000003.func.png', '000003.header.npy', '000003.meansd.png', '000003.minmax.npy', '000004.dataset.txt', '000004.func.png', '000004.header.npy', '000004.meansd.png', '000004.minmax.npy', '000005.dataset.txt', '000005.func.png', '000005.header.npy', '000005.meansd.png', '000005.minmax.npy', '000006.dataset.txt', '000006.func.png', '000006.header.npy', '000006.meansd.png', '000006.minmax.npy', '000007.dataset.txt', '000007.func.png', '000007.header.npy', '000007.meansd.png', '000007.minmax.npy', '000008.dataset.txt', '000008.func.png', '000008.header.npy', '000008.meansd.png', '000008.minmax.npy', '000009.dataset.txt', '000009.func.png', '000009.header.npy', '000009.meansd.png', '000009.minmax.npy', '000010.dataset.txt', '000010.func.png', '000010.header.npy', '000010.meansd.png', '000010.minmax.npy', '000011.dataset.txt', '000011.func.png', '000011.header.npy', '000011.meansd.png', '000011.minmax.npy', '000012.dataset.txt', '000012.func.png', '000012.header.npy', '000012.meansd.png', '000012.minmax.npy', '000013.dataset.txt', '000013.func.png', '000013.header.npy', '000013.meansd.png', '000013.minmax.npy', '000014.dataset.txt', '000014.func.png', '000014.header.npy', '000014.meansd.png', '000014.minmax.npy', '000015.dataset.txt', '000015.func.png', '000015.header.npy', '000015.meansd.png', '000015.minmax.npy', '000016.dataset.txt', '000016.func.png', '000016.header.npy', '000016.meansd.png', '000016.minmax.npy', '000017.dataset.txt', '000017.func.png', '000017.header.npy', '000017.meansd.png', '000017.minmax.npy', '000018.dataset.txt', '000018.func.png', '000018.header.npy', '000018.meansd.png', '000018.minmax.npy', '000019.dataset.txt', '000019.func.png', '000019.header.npy', '000019.meansd.png', '000019.minmax.npy', '000020.dataset.txt', '000020.func.png', '000020.header.npy', '000020.meansd.png', '000020.minmax.npy', '000021.dataset.txt', '000021.func.png', '000021.header.npy', '000021.meansd.png', '000021.minmax.npy', '000022.dataset.txt', '000022.func.png', '000022.header.npy', '000022.meansd.png', '000022.minmax.npy', '000023.dataset.txt', '000023.func.png', '000023.header.npy', '000023.meansd.png', '000023.minmax.npy', '000024.dataset.txt', '000024.func.png', '000024.header.npy', '000024.meansd.png', '000024.minmax.npy', '000025.dataset.txt', '000025.func.png', '000025.header.npy', '000025.meansd.png', '000025.minmax.npy', '000026.dataset.txt', '000026.func.png', '000026.header.npy', '000026.meansd.png', '000026.minmax.npy', '000027.dataset.txt', '000027.func.png', '000027.header.npy', '000027.meansd.png', '000027.minmax.npy', '000028.dataset.txt', '000028.func.png', '000028.header.npy', '000028.meansd.png', '000028.minmax.npy', '000029.dataset.txt', '000029.func.png', '000029.header.npy', '000029.meansd.png', '000029.minmax.npy', '000030.dataset.txt', '000030.func.png', '000030.header.npy', '000030.meansd.png', '000030.minmax.npy', '000031.dataset.txt', '000031.func.png', '000031.header.npy', '000031.meansd.png', '000031.minmax.npy', '000032.dataset.txt', '000032.func.png', '000032.header.npy', '000032.meansd.png', '000032.minmax.npy', '000033.dataset.txt', '000033.func.png', '000033.header.npy', '000033.meansd.png', '000033.minmax.npy', '000034.dataset.txt', '000034.func.png', '000034.header.npy', '000034.meansd.png', '000034.minmax.npy', '000035.dataset.txt', '000035.func.png', '000035.header.npy', '000035.meansd.png', '000035.minmax.npy', '000036.dataset.txt', '000036.func.png', '000036.header.npy', '000036.meansd.png', '000036.minmax.npy', '000037.dataset.txt', '000037.func.png', '000037.header.npy', '000037.meansd.png', '000037.minmax.npy', '000038.dataset.txt', '000038.func.png', '000038.header.npy', '000038.meansd.png', '000038.minmax.npy', '000039.dataset.txt', '000039.func.png', '000039.header.npy', '000039.meansd.png', '000039.minmax.npy', '000040.dataset.txt', '000040.func.png', '000040.header.npy', '000040.meansd.png', '000040.minmax.npy', '000041.dataset.txt', '000041.func.png', '000041.header.npy', '000041.meansd.png', '000041.minmax.npy', '000042.dataset.txt', '000042.func.png', '000042.header.npy', '000042.meansd.png', '000042.minmax.npy', '000043.dataset.txt', '000043.func.png', '000043.header.npy', '000043.meansd.png', '000043.minmax.npy', '000044.dataset.txt', '000044.func.png', '000044.header.npy', '000044.meansd.png', '000044.minmax.npy', '000045.dataset.txt', '000045.func.png', '000045.header.npy', '000045.meansd.png', '000045.minmax.npy', '000046.dataset.txt', '000046.func.png', '000046.header.npy', '000046.meansd.png', '000046.minmax.npy', '000047.dataset.txt', '000047.func.png', '000047.header.npy', '000047.meansd.png', '000047.minmax.npy', '000048.dataset.txt', '000048.func.png', '000048.header.npy', '000048.meansd.png', '000048.minmax.npy', '000049.dataset.txt', '000049.func.png', '000049.header.npy', '000049.meansd.png', '000049.minmax.npy', '000050.dataset.txt', '000050.func.png', '000050.header.npy', '000050.meansd.png', '000050.minmax.npy', '000051.dataset.txt', '000051.func.png', '000051.header.npy', '000051.meansd.png', '000051.minmax.npy', '000052.dataset.txt', '000052.func.png', '000052.header.npy', '000052.meansd.png', '000052.minmax.npy', '000053.dataset.txt', '000053.func.png', '000053.header.npy', '000053.meansd.png', '000053.minmax.npy', '000054.dataset.txt', '000054.func.png', '000054.header.npy', '000054.meansd.png', '000054.minmax.npy', '000055.dataset.txt', '000055.func.png', '000055.header.npy', '000055.meansd.png', '000055.minmax.npy', '000056.dataset.txt', '000056.func.png', '000056.header.npy', '000056.meansd.png', '000056.minmax.npy', '000057.dataset.txt', '000057.func.png', '000057.header.npy', '000057.meansd.png', '000057.minmax.npy', '000058.dataset.txt', '000058.func.png', '000058.header.npy', '000058.meansd.png', '000058.minmax.npy', '000059.dataset.txt', '000059.func.png', '000059.header.npy', '000059.meansd.png', '000059.minmax.npy', '000060.dataset.txt', '000060.func.png', '000060.header.npy', '000060.meansd.png', '000060.minmax.npy', '000061.dataset.txt', '000061.func.png', '000061.header.npy', '000061.meansd.png', '000061.minmax.npy', '000062.dataset.txt', '000062.func.png', '000062.header.npy', '000062.meansd.png', '000062.minmax.npy', '000063.dataset.txt', '000063.func.png', '000063.header.npy', '000063.meansd.png', '000063.minmax.npy', '000064.dataset.txt', '000064.func.png', '000064.header.npy', '000064.meansd.png', '000064.minmax.npy', '000065.dataset.txt', '000065.func.png', '000065.header.npy', '000065.meansd.png', '000065.minmax.npy', '000066.dataset.txt', '000066.func.png', '000066.header.npy', '000066.meansd.png', '000066.minmax.npy', '000067.dataset.txt', '000067.func.png', '000067.header.npy', '000067.meansd.png', '000067.minmax.npy', '000068.dataset.txt', '000068.func.png', '000068.header.npy', '000068.meansd.png', '000068.minmax.npy', '000069.dataset.txt', '000069.func.png', '000069.header.npy', '000069.meansd.png', '000069.minmax.npy', '000070.dataset.txt', '000070.func.png', '000070.header.npy', '000070.meansd.png', '000070.minmax.npy', '000071.dataset.txt', '000071.func.png', '000071.header.npy', '000071.meansd.png', '000071.minmax.npy', '000072.dataset.txt', '000072.func.png', '000072.header.npy', '000072.meansd.png', '000072.minmax.npy', '000073.dataset.txt', '000073.func.png', '000073.header.npy', '000073.meansd.png', '000073.minmax.npy', '000074.dataset.txt', '000074.func.png', '000074.header.npy', '000074.meansd.png', '000074.minmax.npy', '000075.dataset.txt', '000075.func.png', '000075.header.npy', '000075.meansd.png', '000075.minmax.npy', '000076.dataset.txt', '000076.func.png', '000076.header.npy', '000076.meansd.png', '000076.minmax.npy', '000077.dataset.txt', '000077.func.png', '000077.header.npy', '000077.meansd.png', '000077.minmax.npy', '000078.dataset.txt', '000078.func.png', '000078.header.npy', '000078.meansd.png', '000078.minmax.npy', '000079.dataset.txt', '000079.func.png', '000079.header.npy', '000079.meansd.png', '000079.minmax.npy', '000080.dataset.txt', '000080.func.png', '000080.header.npy', '000080.meansd.png', '000080.minmax.npy', '000081.dataset.txt', '000081.func.png', '000081.header.npy', '000081.meansd.png', '000081.minmax.npy', '000082.dataset.txt', '000082.func.png', '000082.header.npy', '000082.meansd.png', '000082.minmax.npy', '000083.dataset.txt', '000083.func.png', '000083.header.npy', '000083.meansd.png', '000083.minmax.npy', '000084.dataset.txt', '000084.func.png', '000084.header.npy', '000084.meansd.png', '000084.minmax.npy', '000085.dataset.txt', '000085.func.png', '000085.header.npy', '000085.meansd.png', '000085.minmax.npy', '000086.dataset.txt', '000086.func.png', '000086.header.npy', '000086.meansd.png', '000086.minmax.npy', '000087.dataset.txt', '000087.func.png', '000087.header.npy', '000087.meansd.png', '000087.minmax.npy', '000088.dataset.txt', '000088.func.png', '000088.header.npy', '000088.meansd.png', '000088.minmax.npy', '000089.dataset.txt', '000089.func.png', '000089.header.npy', '000089.meansd.png', '000089.minmax.npy', '000090.dataset.txt', '000090.func.png', '000090.header.npy', '000090.meansd.png', '000090.minmax.npy', '000091.dataset.txt', '000091.func.png', '000091.header.npy', '000091.meansd.png', '000091.minmax.npy', '000092.dataset.txt', '000092.func.png', '000092.header.npy', '000092.meansd.png', '000092.minmax.npy', '000093.dataset.txt', '000093.func.png', '000093.header.npy', '000093.meansd.png', '000093.minmax.npy', '000094.dataset.txt', '000094.func.png', '000094.header.npy', '000094.meansd.png', '000094.minmax.npy', '000095.dataset.txt', '000095.func.png', '000095.header.npy', '000095.meansd.png', '000095.minmax.npy', '000096.dataset.txt', '000096.func.png', '000096.header.npy', '000096.meansd.png', '000096.minmax.npy', '000097.dataset.txt', '000097.func.png', '000097.header.npy', '000097.meansd.png', '000097.minmax.npy', '000098.dataset.txt', '000098.func.png', '000098.header.npy', '000098.meansd.png', '000098.minmax.npy', '000099.dataset.txt', '000099.func.png', '000099.header.npy', '000099.meansd.png', '000099.minmax.npy', '000100.dataset.txt', '000100.func.png', '000100.header.npy', '000100.meansd.png', '000100.minmax.npy', '000101.dataset.txt', '000101.func.png', '000101.header.npy', '000101.meansd.png', '000101.minmax.npy', '000102.dataset.txt', '000102.func.png', '000102.header.npy', '000102.meansd.png', '000102.minmax.npy', '000103.dataset.txt', '000103.func.png', '000103.header.npy', '000103.meansd.png', '000103.minmax.npy', '000104.dataset.txt', '000104.func.png', '000104.header.npy', '000104.meansd.png', '000104.minmax.npy', '000105.dataset.txt', '000105.func.png', '000105.header.npy', '000105.meansd.png', '000105.minmax.npy', '000106.dataset.txt', '000106.func.png', '000106.header.npy', '000106.meansd.png', '000106.minmax.npy', '000107.dataset.txt', '000107.func.png', '000107.header.npy', '000107.meansd.png', '000107.minmax.npy', '000108.dataset.txt', '000108.func.png', '000108.header.npy', '000108.meansd.png', '000108.minmax.npy', '000109.dataset.txt', '000109.func.png', '000109.header.npy', '000109.meansd.png', '000109.minmax.npy', '000110.dataset.txt', '000110.func.png', '000110.header.npy', '000110.meansd.png', '000110.minmax.npy', '000111.dataset.txt', '000111.func.png', '000111.header.npy', '000111.meansd.png', '000111.minmax.npy', '000112.dataset.txt', '000112.func.png', '000112.header.npy', '000112.meansd.png', '000112.minmax.npy', '000113.dataset.txt', '000113.func.png', '000113.header.npy', '000113.meansd.png', '000113.minmax.npy', '000114.dataset.txt', '000114.func.png', '000114.header.npy', '000114.meansd.png', '000114.minmax.npy', '000115.dataset.txt', '000115.func.png', '000115.header.npy', '000115.meansd.png', '000115.minmax.npy', '000116.dataset.txt', '000116.func.png', '000116.header.npy', '000116.meansd.png', '000116.minmax.npy', '000117.dataset.txt', '000117.func.png', '000117.header.npy', '000117.meansd.png', '000117.minmax.npy', '000118.dataset.txt', '000118.func.png', '000118.header.npy', '000118.meansd.png', '000118.minmax.npy', '000119.dataset.txt', '000119.func.png', '000119.header.npy', '000119.meansd.png', '000119.minmax.npy', '000120.dataset.txt', '000120.func.png', '000120.header.npy', '000120.meansd.png', '000120.minmax.npy', '000121.dataset.txt', '000121.func.png', '000121.header.npy', '000121.meansd.png', '000121.minmax.npy', '000122.dataset.txt', '000122.func.png', '000122.header.npy', '000122.meansd.png', '000122.minmax.npy', '000123.dataset.txt', '000123.func.png', '000123.header.npy', '000123.meansd.png', '000123.minmax.npy', '000124.dataset.txt', '000124.func.png', '000124.header.npy', '000124.meansd.png', '000124.minmax.npy', '000125.dataset.txt', '000125.func.png', '000125.header.npy', '000125.meansd.png', '000125.minmax.npy', '000126.dataset.txt', '000126.func.png', '000126.header.npy', '000126.meansd.png', '000126.minmax.npy', '000127.dataset.txt', '000127.func.png', '000127.header.npy', '000127.meansd.png', '000127.minmax.npy', '000128.dataset.txt', '000128.func.png', '000128.header.npy', '000128.meansd.png', '000128.minmax.npy', '000129.dataset.txt', '000129.func.png', '000129.header.npy', '000129.meansd.png', '000129.minmax.npy', '000130.dataset.txt', '000130.func.png', '000130.header.npy', '000130.meansd.png', '000130.minmax.npy', '000131.dataset.txt', '000131.func.png', '000131.header.npy', '000131.meansd.png', '000131.minmax.npy', '000132.dataset.txt', '000132.func.png', '000132.header.npy', '000132.meansd.png', '000132.minmax.npy', '000133.dataset.txt', '000133.func.png', '000133.header.npy', '000133.meansd.png', '000133.minmax.npy', '000134.dataset.txt', '000134.func.png', '000134.header.npy', '000134.meansd.png', '000134.minmax.npy', '000135.dataset.txt', '000135.func.png', '000135.header.npy', '000135.meansd.png', '000135.minmax.npy', '000136.dataset.txt', '000136.func.png', '000136.header.npy', '000136.meansd.png', '000136.minmax.npy', '000137.dataset.txt', '000137.func.png', '000137.header.npy', '000137.meansd.png', '000137.minmax.npy', '000138.dataset.txt', '000138.func.png', '000138.header.npy', '000138.meansd.png', '000138.minmax.npy', '000139.dataset.txt', '000139.func.png', '000139.header.npy', '000139.meansd.png', '000139.minmax.npy', '000140.dataset.txt', '000140.func.png', '000140.header.npy', '000140.meansd.png', '000140.minmax.npy', '000141.dataset.txt', '000141.func.png', '000141.header.npy', '000141.meansd.png', '000141.minmax.npy', '000142.dataset.txt', '000142.func.png', '000142.header.npy', '000142.meansd.png', '000142.minmax.npy', '000143.dataset.txt', '000143.func.png', '000143.header.npy', '000143.meansd.png', '000143.minmax.npy', '000144.dataset.txt', '000144.func.png', '000144.header.npy', '000144.meansd.png', '000144.minmax.npy', '000145.dataset.txt', '000145.func.png', '000145.header.npy', '000145.meansd.png', '000145.minmax.npy', '000146.dataset.txt', '000146.func.png', '000146.header.npy', '000146.meansd.png', '000146.minmax.npy', '000147.dataset.txt', '000147.func.png', '000147.header.npy', '000147.meansd.png', '000147.minmax.npy', '000148.dataset.txt', '000148.func.png', '000148.header.npy', '000148.meansd.png', '000148.minmax.npy', '000149.dataset.txt', '000149.func.png', '000149.header.npy', '000149.meansd.png', '000149.minmax.npy', '000150.dataset.txt', '000150.func.png', '000150.header.npy', '000150.meansd.png', '000150.minmax.npy', '000151.dataset.txt', '000151.func.png', '000151.header.npy', '000151.meansd.png', '000151.minmax.npy', '000152.dataset.txt', '000152.func.png', '000152.header.npy', '000152.meansd.png', '000152.minmax.npy', '000153.dataset.txt', '000153.func.png', '000153.header.npy', '000153.meansd.png', '000153.minmax.npy', '000154.dataset.txt', '000154.func.png', '000154.header.npy', '000154.meansd.png', '000154.minmax.npy', '000155.dataset.txt', '000155.func.png', '000155.header.npy', '000155.meansd.png', '000155.minmax.npy', '000156.dataset.txt', '000156.func.png', '000156.header.npy', '000156.meansd.png', '000156.minmax.npy', '000157.dataset.txt', '000157.func.png', '000157.header.npy', '000157.meansd.png', '000157.minmax.npy', '000158.dataset.txt', '000158.func.png', '000158.header.npy', '000158.meansd.png', '000158.minmax.npy', '000159.dataset.txt', '000159.func.png', '000159.header.npy', '000159.meansd.png', '000159.minmax.npy', '000160.dataset.txt', '000160.func.png', '000160.header.npy', '000160.meansd.png', '000160.minmax.npy', '000161.dataset.txt', '000161.func.png', '000161.header.npy', '000161.meansd.png', '000161.minmax.npy', '000162.dataset.txt', '000162.func.png', '000162.header.npy', '000162.meansd.png', '000162.minmax.npy', '000163.dataset.txt', '000163.func.png', '000163.header.npy', '000163.meansd.png', '000163.minmax.npy', '000164.dataset.txt', '000164.func.png', '000164.header.npy', '000164.meansd.png', '000164.minmax.npy', '000165.dataset.txt', '000165.func.png', '000165.header.npy', '000165.meansd.png', '000165.minmax.npy', '000166.dataset.txt', '000166.func.png', '000166.header.npy', '000166.meansd.png', '000166.minmax.npy', '000167.dataset.txt', '000167.func.png', '000167.header.npy', '000167.meansd.png', '000167.minmax.npy', '000168.dataset.txt', '000168.func.png', '000168.header.npy', '000168.meansd.png', '000168.minmax.npy', '000169.dataset.txt', '000169.func.png', '000169.header.npy', '000169.meansd.png', '000169.minmax.npy', '000170.dataset.txt', '000170.func.png', '000170.header.npy', '000170.meansd.png', '000170.minmax.npy', '000171.dataset.txt', '000171.func.png', '000171.header.npy', '000171.meansd.png', '000171.minmax.npy', '000172.dataset.txt', '000172.func.png', '000172.header.npy', '000172.meansd.png', '000172.minmax.npy', '000173.dataset.txt', '000173.func.png', '000173.header.npy', '000173.meansd.png', '000173.minmax.npy', '000174.dataset.txt', '000174.func.png', '000174.header.npy', '000174.meansd.png', '000174.minmax.npy', '000175.dataset.txt', '000175.func.png', '000175.header.npy', '000175.meansd.png', '000175.minmax.npy', '000176.dataset.txt', '000176.func.png', '000176.header.npy', '000176.meansd.png', '000176.minmax.npy', '000177.dataset.txt', '000177.func.png', '000177.header.npy', '000177.meansd.png', '000177.minmax.npy', '000178.dataset.txt', '000178.func.png', '000178.header.npy', '000178.meansd.png', '000178.minmax.npy', '000179.dataset.txt', '000179.func.png', '000179.header.npy', '000179.meansd.png', '000179.minmax.npy', '000180.dataset.txt', '000180.func.png', '000180.header.npy', '000180.meansd.png', '000180.minmax.npy', '000181.dataset.txt', '000181.func.png', '000181.header.npy', '000181.meansd.png', '000181.minmax.npy', '000182.dataset.txt', '000182.func.png', '000182.header.npy', '000182.meansd.png', '000182.minmax.npy', '000183.dataset.txt', '000183.func.png', '000183.header.npy', '000183.meansd.png', '000183.minmax.npy', '000184.dataset.txt', '000184.func.png', '000184.header.npy', '000184.meansd.png', '000184.minmax.npy', '000185.dataset.txt', '000185.func.png', '000185.header.npy', '000185.meansd.png', '000185.minmax.npy', '000186.dataset.txt', '000186.func.png', '000186.header.npy', '000186.meansd.png', '000186.minmax.npy', '000187.dataset.txt', '000187.func.png', '000187.header.npy', '000187.meansd.png', '000187.minmax.npy', '000188.dataset.txt', '000188.func.png', '000188.header.npy', '000188.meansd.png', '000188.minmax.npy', '000189.dataset.txt', '000189.func.png', '000189.header.npy', '000189.meansd.png', '000189.minmax.npy', '000190.dataset.txt', '000190.func.png', '000190.header.npy', '000190.meansd.png', '000190.minmax.npy', '000191.dataset.txt', '000191.func.png', '000191.header.npy', '000191.meansd.png', '000191.minmax.npy', '000192.dataset.txt', '000192.func.png', '000192.header.npy', '000192.meansd.png', '000192.minmax.npy', '000193.dataset.txt', '000193.func.png', '000193.header.npy', '000193.meansd.png', '000193.minmax.npy', '000194.dataset.txt', '000194.func.png', '000194.header.npy', '000194.meansd.png', '000194.minmax.npy', '000195.dataset.txt', '000195.func.png', '000195.header.npy', '000195.meansd.png', '000195.minmax.npy', '000196.dataset.txt', '000196.func.png', '000196.header.npy', '000196.meansd.png', '000196.minmax.npy', '000197.dataset.txt', '000197.func.png', '000197.header.npy', '000197.meansd.png', '000197.minmax.npy', '000198.dataset.txt', '000198.func.png', '000198.header.npy', '000198.meansd.png', '000198.minmax.npy', '000199.dataset.txt', '000199.func.png', '000199.header.npy', '000199.meansd.png', '000199.minmax.npy', '000200.dataset.txt', '000200.func.png', '000200.header.npy', '000200.meansd.png', '000200.minmax.npy', '000201.dataset.txt', '000201.func.png', '000201.header.npy', '000201.meansd.png', '000201.minmax.npy', '000202.dataset.txt', '000202.func.png', '000202.header.npy', '000202.meansd.png', '000202.minmax.npy', '000203.dataset.txt', '000203.func.png', '000203.header.npy', '000203.meansd.png', '000203.minmax.npy', '000204.dataset.txt', '000204.func.png', '000204.header.npy', '000204.meansd.png', '000204.minmax.npy', '000205.dataset.txt', '000205.func.png', '000205.header.npy', '000205.meansd.png', '000205.minmax.npy', '000206.dataset.txt', '000206.func.png', '000206.header.npy', '000206.meansd.png', '000206.minmax.npy', '000207.dataset.txt', '000207.func.png', '000207.header.npy', '000207.meansd.png', '000207.minmax.npy', '000208.dataset.txt', '000208.func.png', '000208.header.npy', '000208.meansd.png', '000208.minmax.npy', '000209.dataset.txt', '000209.func.png', '000209.header.npy', '000209.meansd.png', '000209.minmax.npy', '000210.dataset.txt', '000210.func.png', '000210.header.npy', '000210.meansd.png', '000210.minmax.npy', '000211.dataset.txt', '000211.func.png', '000211.header.npy', '000211.meansd.png', '000211.minmax.npy', '000212.dataset.txt', '000212.func.png', '000212.header.npy', '000212.meansd.png', '000212.minmax.npy', '000213.dataset.txt', '000213.func.png', '000213.header.npy', '000213.meansd.png', '000213.minmax.npy', '000214.dataset.txt', '000214.func.png', '000214.header.npy', '000214.meansd.png', '000214.minmax.npy', '000215.dataset.txt', '000215.func.png', '000215.header.npy', '000215.meansd.png', '000215.minmax.npy', '000216.dataset.txt', '000216.func.png', '000216.header.npy', '000216.meansd.png', '000216.minmax.npy', '000217.dataset.txt', '000217.func.png', '000217.header.npy', '000217.meansd.png', '000217.minmax.npy', '000218.dataset.txt', '000218.func.png', '000218.header.npy', '000218.meansd.png', '000218.minmax.npy', '000219.dataset.txt', '000219.func.png', '000219.header.npy', '000219.meansd.png', '000219.minmax.npy', '000220.dataset.txt', '000220.func.png', '000220.header.npy', '000220.meansd.png', '000220.minmax.npy', '000221.dataset.txt', '000221.func.png', '000221.header.npy', '000221.meansd.png', '000221.minmax.npy', '000222.dataset.txt', '000222.func.png', '000222.header.npy', '000222.meansd.png', '000222.minmax.npy', '000223.dataset.txt', '000223.func.png', '000223.header.npy', '000223.meansd.png', '000223.minmax.npy', '000224.dataset.txt', '000224.func.png', '000224.header.npy', '000224.meansd.png', '000224.minmax.npy', '000225.dataset.txt', '000225.func.png', '000225.header.npy', '000225.meansd.png', '000225.minmax.npy', '000226.dataset.txt', '000226.func.png', '000226.header.npy', '000226.meansd.png', '000226.minmax.npy', '000227.dataset.txt', '000227.func.png', '000227.header.npy', '000227.meansd.png', '000227.minmax.npy', '000228.dataset.txt', '000228.func.png', '000228.header.npy', '000228.meansd.png', '000228.minmax.npy', '000229.dataset.txt', '000229.func.png', '000229.header.npy', '000229.meansd.png', '000229.minmax.npy', '000230.dataset.txt', '000230.func.png', '000230.header.npy', '000230.meansd.png', '000230.minmax.npy', '000231.dataset.txt', '000231.func.png', '000231.header.npy', '000231.meansd.png', '000231.minmax.npy', '000232.dataset.txt', '000232.func.png', '000232.header.npy', '000232.meansd.png', '000232.minmax.npy', '000233.dataset.txt', '000233.func.png', '000233.header.npy', '000233.meansd.png', '000233.minmax.npy', '000234.dataset.txt', '000234.func.png', '000234.header.npy', '000234.meansd.png', '000234.minmax.npy', '000235.dataset.txt', '000235.func.png', '000235.header.npy', '000235.meansd.png', '000235.minmax.npy', '000236.dataset.txt', '000236.func.png', '000236.header.npy', '000236.meansd.png', '000236.minmax.npy', '000237.dataset.txt', '000237.func.png', '000237.header.npy', '000237.meansd.png', '000237.minmax.npy', '000238.dataset.txt', '000238.func.png', '000238.header.npy', '000238.meansd.png', '000238.minmax.npy', '000239.dataset.txt', '000239.func.png', '000239.header.npy', '000239.meansd.png', '000239.minmax.npy', '000240.dataset.txt', '000240.func.png', '000240.header.npy', '000240.meansd.png', '000240.minmax.npy', '000241.dataset.txt', '000241.func.png', '000241.header.npy', '000241.meansd.png', '000241.minmax.npy', '000242.dataset.txt', '000242.func.png', '000242.header.npy', '000242.meansd.png', '000242.minmax.npy', '000243.dataset.txt', '000243.func.png', '000243.header.npy', '000243.meansd.png', '000243.minmax.npy', '000244.dataset.txt', '000244.func.png', '000244.header.npy', '000244.meansd.png', '000244.minmax.npy', '000245.dataset.txt', '000245.func.png', '000245.header.npy', '000245.meansd.png', '000245.minmax.npy', '000246.dataset.txt', '000246.func.png', '000246.header.npy', '000246.meansd.png', '000246.minmax.npy', '000247.dataset.txt', '000247.func.png', '000247.header.npy', '000247.meansd.png', '000247.minmax.npy', '000248.dataset.txt', '000248.func.png', '000248.header.npy', '000248.meansd.png', '000248.minmax.npy', '000249.dataset.txt', '000249.func.png', '000249.header.npy', '000249.meansd.png', '000249.minmax.npy', '000250.dataset.txt', '000250.func.png', '000250.header.npy', '000250.meansd.png', '000250.minmax.npy', '000251.dataset.txt', '000251.func.png', '000251.header.npy', '000251.meansd.png', '000251.minmax.npy', '000252.dataset.txt', '000252.func.png', '000252.header.npy', '000252.meansd.png', '000252.minmax.npy', '000253.dataset.txt', '000253.func.png', '000253.header.npy', '000253.meansd.png', '000253.minmax.npy', '000254.dataset.txt', '000254.func.png', '000254.header.npy', '000254.meansd.png', '000254.minmax.npy', '000255.dataset.txt', '000255.func.png', '000255.header.npy', '000255.meansd.png', '000255.minmax.npy', '000256.dataset.txt', '000256.func.png', '000256.header.npy', '000256.meansd.png', '000256.minmax.npy', '000257.dataset.txt', '000257.func.png', '000257.header.npy', '000257.meansd.png', '000257.minmax.npy', '000258.dataset.txt', '000258.func.png', '000258.header.npy', '000258.meansd.png', '000258.minmax.npy', '000259.dataset.txt', '000259.func.png', '000259.header.npy', '000259.meansd.png', '000259.minmax.npy', '000260.dataset.txt', '000260.func.png', '000260.header.npy', '000260.meansd.png', '000260.minmax.npy', '000261.dataset.txt', '000261.func.png', '000261.header.npy', '000261.meansd.png', '000261.minmax.npy', '000262.dataset.txt', '000262.func.png', '000262.header.npy', '000262.meansd.png', '000262.minmax.npy', '000263.dataset.txt', '000263.func.png', '000263.header.npy', '000263.meansd.png', '000263.minmax.npy', '000264.dataset.txt', '000264.func.png', '000264.header.npy', '000264.meansd.png', '000264.minmax.npy', '000265.dataset.txt', '000265.func.png', '000265.header.npy', '000265.meansd.png', '000265.minmax.npy', '000266.dataset.txt', '000266.func.png', '000266.header.npy', '000266.meansd.png', '000266.minmax.npy', '000267.dataset.txt', '000267.func.png', '000267.header.npy', '000267.meansd.png', '000267.minmax.npy', '000268.dataset.txt', '000268.func.png', '000268.header.npy', '000268.meansd.png', '000268.minmax.npy', '000269.dataset.txt', '000269.func.png', '000269.header.npy', '000269.meansd.png', '000269.minmax.npy', '000270.dataset.txt', '000270.func.png', '000270.header.npy', '000270.meansd.png', '000270.minmax.npy', '000271.dataset.txt', '000271.func.png', '000271.header.npy', '000271.meansd.png', '000271.minmax.npy', '000272.dataset.txt', '000272.func.png', '000272.header.npy', '000272.meansd.png', '000272.minmax.npy', '000273.dataset.txt', '000273.func.png', '000273.header.npy', '000273.meansd.png', '000273.minmax.npy', '000274.dataset.txt', '000274.func.png', '000274.header.npy', '000274.meansd.png', '000274.minmax.npy', '000275.dataset.txt', '000275.func.png', '000275.header.npy', '000275.meansd.png', '000275.minmax.npy', '000276.dataset.txt', '000276.func.png', '000276.header.npy', '000276.meansd.png', '000276.minmax.npy', '000277.dataset.txt', '000277.func.png', '000277.header.npy', '000277.meansd.png', '000277.minmax.npy', '000278.dataset.txt', '000278.func.png', '000278.header.npy', '000278.meansd.png', '000278.minmax.npy', '000279.dataset.txt', '000279.func.png', '000279.header.npy', '000279.meansd.png', '000279.minmax.npy', '000280.dataset.txt', '000280.func.png', '000280.header.npy', '000280.meansd.png', '000280.minmax.npy', '000281.dataset.txt', '000281.func.png', '000281.header.npy', '000281.meansd.png', '000281.minmax.npy', '000282.dataset.txt', '000282.func.png', '000282.header.npy', '000282.meansd.png', '000282.minmax.npy', '000283.dataset.txt', '000283.func.png', '000283.header.npy', '000283.meansd.png', '000283.minmax.npy', '000284.dataset.txt', '000284.func.png', '000284.header.npy', '000284.meansd.png', '000284.minmax.npy', '000285.dataset.txt', '000285.func.png', '000285.header.npy', '000285.meansd.png', '000285.minmax.npy', '000286.dataset.txt', '000286.func.png', '000286.header.npy', '000286.meansd.png', '000286.minmax.npy', '000287.dataset.txt', '000287.func.png', '000287.header.npy', '000287.meansd.png', '000287.minmax.npy', '000288.dataset.txt', '000288.func.png', '000288.header.npy', '000288.meansd.png', '000288.minmax.npy', '000289.dataset.txt', '000289.func.png', '000289.header.npy', '000289.meansd.png', '000289.minmax.npy', '000290.dataset.txt', '000290.func.png', '000290.header.npy', '000290.meansd.png', '000290.minmax.npy', '000291.dataset.txt', '000291.func.png', '000291.header.npy', '000291.meansd.png', '000291.minmax.npy', '000292.dataset.txt', '000292.func.png', '000292.header.npy', '000292.meansd.png', '000292.minmax.npy', '000293.dataset.txt', '000293.func.png', '000293.header.npy', '000293.meansd.png', '000293.minmax.npy', '000294.dataset.txt', '000294.func.png', '000294.header.npy', '000294.meansd.png', '000294.minmax.npy', '000295.dataset.txt', '000295.func.png', '000295.header.npy', '000295.meansd.png', '000295.minmax.npy', '000296.dataset.txt', '000296.func.png', '000296.header.npy', '000296.meansd.png', '000296.minmax.npy', '000297.dataset.txt', '000297.func.png', '000297.header.npy', '000297.meansd.png', '000297.minmax.npy', '000298.dataset.txt', '000298.func.png', '000298.header.npy', '000298.meansd.png', '000298.minmax.npy', '000299.dataset.txt', '000299.func.png', '000299.header.npy', '000299.meansd.png', '000299.minmax.npy', '000300.dataset.txt', '000300.func.png', '000300.header.npy', '000300.meansd.png', '000300.minmax.npy', '000301.dataset.txt', '000301.func.png', '000301.header.npy', '000301.meansd.png', '000301.minmax.npy', '000302.dataset.txt', '000302.func.png', '000302.header.npy', '000302.meansd.png', '000302.minmax.npy', '000303.dataset.txt', '000303.func.png', '000303.header.npy', '000303.meansd.png', '000303.minmax.npy', '000304.dataset.txt', '000304.func.png', '000304.header.npy', '000304.meansd.png', '000304.minmax.npy', '000305.dataset.txt', '000305.func.png', '000305.header.npy', '000305.meansd.png', '000305.minmax.npy', '000306.dataset.txt', '000306.func.png', '000306.header.npy', '000306.meansd.png', '000306.minmax.npy', '000307.dataset.txt', '000307.func.png', '000307.header.npy', '000307.meansd.png', '000307.minmax.npy', '000308.dataset.txt', '000308.func.png', '000308.header.npy', '000308.meansd.png', '000308.minmax.npy', '000309.dataset.txt', '000309.func.png', '000309.header.npy', '000309.meansd.png', '000309.minmax.npy', '000310.dataset.txt', '000310.func.png', '000310.header.npy', '000310.meansd.png', '000310.minmax.npy', '000311.dataset.txt', '000311.func.png', '000311.header.npy', '000311.meansd.png', '000311.minmax.npy', '000312.dataset.txt', '000312.func.png', '000312.header.npy', '000312.meansd.png', '000312.minmax.npy', '000313.dataset.txt', '000313.func.png', '000313.header.npy', '000313.meansd.png', '000313.minmax.npy', '000314.dataset.txt', '000314.func.png', '000314.header.npy', '000314.meansd.png', '000314.minmax.npy', '000315.dataset.txt', '000315.func.png', '000315.header.npy', '000315.meansd.png', '000315.minmax.npy', '000316.dataset.txt', '000316.func.png', '000316.header.npy', '000316.meansd.png', '000316.minmax.npy', '000317.dataset.txt', '000317.func.png', '000317.header.npy', '000317.meansd.png', '000317.minmax.npy', '000318.dataset.txt', '000318.func.png', '000318.header.npy', '000318.meansd.png', '000318.minmax.npy', '000319.dataset.txt', '000319.func.png', '000319.header.npy', '000319.meansd.png', '000319.minmax.npy']\n"
     ]
    }
   ],
   "source": [
    "with tarfile.open(path, 'r') as tar:\n",
    "    print(tar.getnames())"
   ]
  },
  {
   "cell_type": "code",
   "execution_count": 12,
   "metadata": {},
   "outputs": [],
   "source": [
    "def log_and_continue(exn):\n",
    "    \"\"\"Call in an exception handler to ignore any exception, issue a warning, and continue.\"\"\"\n",
    "    print(f'Handling webdataset error ({repr(exn)}). Ignoring.')\n",
    "    return True\n",
    "\n",
    "def filter_corrupted_images(sample):\n",
    "    \"\"\"If all the required files are not present don't use them.\"\"\"\n",
    "    correct_data = (\"func.png\" in sample and \"dataset.txt\" in sample and \"header.npy\" in sample and \"meansd.png\" in sample and \"minmax.npy\" in sample)\n",
    "    return correct_data\n",
    "\n",
    "aug_transform = utils.DataPrepper(\n",
    "    masking_strategy=\"conservative\",\n",
    "    patch_depth=patch_size,\n",
    "    patch_height=patch_size,\n",
    "    patch_width=patch_size,\n",
    "    frame_patch_size=frame_patch_size,\n",
    "    num_timepoints=12\n",
    ")"
   ]
  },
  {
   "cell_type": "code",
   "execution_count": 13,
   "metadata": {},
   "outputs": [],
   "source": []
  },
  {
   "cell_type": "code",
   "execution_count": 17,
   "metadata": {},
   "outputs": [],
   "source": [
    "model = vit_tiny(in_chans=12, num_frames=48, img_size=64, patch_size=patch_size).cuda()"
   ]
  },
  {
   "cell_type": "code",
   "execution_count": 19,
   "metadata": {},
   "outputs": [
    {
     "name": "stdout",
     "output_type": "stream",
     "text": [
      "torch.Size([1, 1536, 192])\n"
     ]
    }
   ],
   "source": [
    "for i in train_dl:\n",
    "    i = i[0].cuda()\n",
    "    # print(i[0].shape)\n",
    "    # print(i[1].shape)\n",
    "    # print(i[2].shape)\n",
    "    i = i.permute(0, 1, -1, 2, 3)\n",
    "    o = model(i)\n",
    "    print(o.shape)\n",
    "    break"
   ]
  },
  {
   "cell_type": "code",
   "execution_count": null,
   "metadata": {},
   "outputs": [],
   "source": []
  }
 ],
 "metadata": {
  "kernelspec": {
   "display_name": "Python 3",
   "language": "python",
   "name": "python3"
  },
  "language_info": {
   "codemirror_mode": {
    "name": "ipython",
    "version": 3
   },
   "file_extension": ".py",
   "mimetype": "text/x-python",
   "name": "python",
   "nbconvert_exporter": "python",
   "pygments_lexer": "ipython3",
   "version": "3.8.10"
  }
 },
 "nbformat": 4,
 "nbformat_minor": 2
}
