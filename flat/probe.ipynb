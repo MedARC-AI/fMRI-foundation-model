{
 "cells": [
  {
   "cell_type": "code",
   "execution_count": 1,
   "id": "b8e236f1-385a-4d93-bb39-bea3ee384d76",
   "metadata": {
    "tags": []
   },
   "outputs": [
    {
     "name": "stdout",
     "output_type": "stream",
     "text": [
      "Number of available CUDA devices: 1\n",
      "LOCAL RANK=0\n",
      "NUM GPUS=1\n",
      "NODE=0\n",
      "GLOBAL RANK=0\n",
      "WORLD_SIZE=1\n",
      "\n",
      "__CONFIG__\n",
      "model_name = flat_flattenedprobe_MLP_nomaskeval\n",
      "hcp_flat_path = /weka/proj-fmri/shared/hcp_flat\n",
      "decoder_embed_dim = 512\n",
      "num_frames = 16\n",
      "mask_ratio = 0.75\n",
      "pred_t_dim = 8\n",
      "t_patch_size = 2\n",
      "cls_embed = True\n",
      "no_qkv_bias = False\n",
      "sep_pos_embed = True\n",
      "trunc_init = False\n",
      "norm_pix_loss = False\n",
      "batch_size = 32\n",
      "probe_batch_size = 256\n",
      "num_workers = 10\n",
      "num_epochs = 100\n",
      "probe_num_epochs = 10\n",
      "seed = 42\n",
      "base_lr = 0.001\n",
      "num_samples_per_epoch = 200000\n",
      "probe_num_samples_per_epoch = 50000\n",
      "test_num_samples_per_epoch = 50000\n",
      "grad_clip = 1.0\n",
      "ckpt_saving = False\n",
      "ckpt_interval = 20\n",
      "print_interval = 20\n",
      "resume_from_ckpt = True\n",
      "wandb_log = True\n",
      "\n",
      "\n",
      "PID of this process = 628362\n",
      "device = cuda distributed = False num_devices = 1 local rank = 0 world size = 1 data_type = torch.float32\n"
     ]
    }
   ],
   "source": [
    "# Import packages and setup gpu configuration.\n",
    "# This code block shouldnt need to be adjusted!\n",
    "import os\n",
    "import sys\n",
    "import json\n",
    "import yaml\n",
    "import numpy as np\n",
    "import copy\n",
    "import math\n",
    "import time\n",
    "import random\n",
    "from tqdm import tqdm\n",
    "import webdataset as wds\n",
    "import matplotlib.pyplot as plt\n",
    "\n",
    "import torch\n",
    "import torch.nn as nn\n",
    "from torchvision import transforms\n",
    "import utils\n",
    "from flat_models import *\n",
    "\n",
    "# tf32 data type is faster than standard float32\n",
    "torch.backends.cuda.matmul.allow_tf32 = True\n",
    "# following fixes a Conv3D CUDNN_NOT_SUPPORTED error\n",
    "torch.backends.cudnn.benchmark = True\n",
    "\n",
    "### Multi-GPU config ###\n",
    "device_count = torch.cuda.device_count()\n",
    "print(f\"Number of available CUDA devices: {device_count}\")\n",
    "\n",
    "local_rank = os.getenv('LOCAL_RANK')\n",
    "if local_rank is None: \n",
    "    local_rank = 0\n",
    "else:\n",
    "    local_rank = int(local_rank)\n",
    "print(f\"LOCAL RANK={local_rank}\")\n",
    "\n",
    "num_devices = os.getenv('NUM_GPUS')\n",
    "if num_devices is None: \n",
    "    num_devices = 1\n",
    "else:\n",
    "    num_devices = int(num_devices)\n",
    "print(f\"NUM GPUS={num_devices}\")\n",
    "distributed = True if num_devices>1 else False\n",
    "if distributed: assert device_count==num_devices\n",
    "\n",
    "node = os.getenv('SLURM_NODEID')\n",
    "if node is None:\n",
    "    node = 0\n",
    "else:\n",
    "    node = int(node)\n",
    "print(f\"NODE={node}\")\n",
    "\n",
    "global_rank = os.getenv('RANK')\n",
    "if global_rank is None:\n",
    "    global_rank = 0\n",
    "else:\n",
    "    global_rank = int(global_rank)\n",
    "print(f\"GLOBAL RANK={global_rank}\")\n",
    "\n",
    "world_size = os.getenv('WORLD_SIZE')\n",
    "if world_size is None: \n",
    "    world_size = 1\n",
    "else:\n",
    "    world_size = int(world_size)\n",
    "print(f\"WORLD_SIZE={world_size}\")\n",
    "\n",
    "if utils.is_interactive():\n",
    "    # Following allows you to change functions in models.py or utils.py and \n",
    "    # have this notebook automatically update with your revisions\n",
    "    %load_ext autoreload\n",
    "    %autoreload 2\n",
    "\n",
    "# Load parameters from yaml config\n",
    "config = yaml.load(open('config.yaml', 'r'), Loader=yaml.FullLoader)\n",
    "\n",
    "# create global variables from the config\n",
    "print(\"\\n__CONFIG__\")\n",
    "for attribute_name in config.keys():\n",
    "    print(f\"{attribute_name} = {config[attribute_name]}\")\n",
    "    globals()[attribute_name] = config[f'{attribute_name}']\n",
    "print(\"\\n\")\n",
    "\n",
    "batch_size = probe_batch_size\n",
    "num_epochs = probe_num_epochs\n",
    "\n",
    "data_type = torch.float32 # change depending on your mixed_precision\n",
    "global_batch_size = batch_size * world_size\n",
    "\n",
    "# FSDP Setup\n",
    "if distributed:\n",
    "    import torch.distributed as dist\n",
    "    import torch.multiprocessing as mp\n",
    "    from torch.distributed.fsdp import FullyShardedDataParallel as FSDP\n",
    "    from torch.distributed.fsdp.api import BackwardPrefetch, CPUOffload, ShardingStrategy\n",
    "    import functools\n",
    "    from torch.distributed.fsdp.wrap import size_based_auto_wrap_policy, transformer_auto_wrap_policy\n",
    "    print(f\"setting device to cuda:{local_rank}\")\n",
    "    torch.cuda.set_device(local_rank)\n",
    "    device = torch.device('cuda',local_rank)\n",
    "    dist.init_process_group(\"nccl\", rank=global_rank, world_size=world_size)\n",
    "    print(f\"\\nSuccessfully set cuda:{local_rank} | global_rank{global_rank} | node{node}\")\n",
    "    dist.barrier()\n",
    "    print(f\"global_rank{global_rank} passed barrier\")\n",
    "else:\n",
    "    device = torch.device('cuda')\n",
    "\n",
    "print(\"PID of this process =\",os.getpid())\n",
    "print(\"device =\", device, \"distributed =\",distributed, \"num_devices =\", num_devices, \"local rank =\", local_rank, \"world size =\", world_size, \"data_type =\", data_type)\n",
    "\n",
    "# seed all random functions\n",
    "utils.seed_everything(seed + global_rank)"
   ]
  },
  {
   "cell_type": "markdown",
   "id": "ab15aca0-148e-435f-b8f2-7a708b61a6d9",
   "metadata": {},
   "source": [
    "# hcp_flat"
   ]
  },
  {
   "cell_type": "code",
   "execution_count": 2,
   "id": "de1a5b87-fa69-44e1-bdb9-bd9e257485c6",
   "metadata": {
    "tags": []
   },
   "outputs": [
    {
     "name": "stdout",
     "output_type": "stream",
     "text": [
      "img_size (144, 320) patch_size (16, 16) frames 16 t_patch_size 2\n",
      "model initialized\n",
      "model loaded\n"
     ]
    }
   ],
   "source": [
    "from util.hcp_flat import load_hcp_flat_mask\n",
    "from util.hcp_flat import create_hcp_flat\n",
    "import util.visualize as vis\n",
    "\n",
    "if utils.is_interactive(): # Use less samples per epoch for debugging\n",
    "    probe_num_samples_per_epoch = 100000\n",
    "    test_num_samples_per_epoch = 100000\n",
    "    num_epochs = 10\n",
    "\n",
    "model = mae_vit_small_patch16_fmri(\n",
    "    decoder_embed_dim=decoder_embed_dim,\n",
    "    t_patch_size=t_patch_size,\n",
    "    pred_t_dim=pred_t_dim,\n",
    "    decoder_depth=4,\n",
    "    cls_embed=cls_embed,\n",
    "    norm_pix_loss=norm_pix_loss,\n",
    "    no_qkv_bias=no_qkv_bias,\n",
    "    sep_pos_embed=sep_pos_embed,\n",
    "    trunc_init=trunc_init,\n",
    ")\n",
    "state = torch.load(\"checkpoints/checkpoint-00099.pth\", map_location=\"cpu\")\n",
    "model.load_state_dict(state[\"model\"], strict=True)\n",
    "print(\"model loaded\")\n",
    "\n",
    "model.eval()\n",
    "model.requires_grad_(False)\n",
    "model.to(device)\n",
    "pass"
   ]
  },
  {
   "cell_type": "markdown",
   "id": "414cb007-5552-4c5a-8fbd-9b158565770c",
   "metadata": {
    "tags": []
   },
   "source": [
    "### Add downstream probe"
   ]
  },
  {
   "cell_type": "code",
   "execution_count": 3,
   "id": "bb3df855-81c4-4d2c-aff2-42a19dd0e67e",
   "metadata": {
    "tags": []
   },
   "outputs": [],
   "source": [
    "class LinearProbe(nn.Module):\n",
    "    def __init__(self, input_dim, h=256, num_classes=8):\n",
    "        super(LinearProbe, self).__init__()\n",
    "        # self.classifier = nn.Linear(input_dim, num_classes)\n",
    "        \n",
    "        # self.classifier = nn.Sequential(\n",
    "        #     nn.LayerNorm(input_dim),\n",
    "        #     nn.Linear(input_dim, num_classes)\n",
    "        # )\n",
    "        \n",
    "        self.classifier = nn.Sequential(\n",
    "            nn.LayerNorm(input_dim),\n",
    "            nn.GELU(),\n",
    "            nn.Dropout(p=0.15),\n",
    "            nn.Linear(input_dim, h),\n",
    "            nn.LayerNorm(h),\n",
    "            nn.GELU(),\n",
    "            nn.Dropout(p=0.15),\n",
    "            nn.Linear(input_dim, h),\n",
    "            nn.LayerNorm(h),\n",
    "            nn.GELU(),\n",
    "            nn.Dropout(p=0.15),\n",
    "            nn.Linear(h, num_classes)\n",
    "        )\n",
    "    def forward(self, x):\n",
    "        # x = nn.functional.normalize(x, dim=-1)\n",
    "        x = self.classifier(x)\n",
    "        return x"
   ]
  },
  {
   "cell_type": "code",
   "execution_count": 4,
   "id": "2e6a865b-8348-486e-ab88-040a87fa2ee5",
   "metadata": {},
   "outputs": [
    {
     "name": "stdout",
     "output_type": "stream",
     "text": [
      "len(unique_subjects) 979\n",
      "len(unique_tasks) 14\n"
     ]
    }
   ],
   "source": [
    "unique_subjects = torch.load(\"unique_subjects.pt\")\n",
    "print(\"len(unique_subjects)\", len(unique_subjects))\n",
    "\n",
    "unique_tasks = np.load(\"unique_tasks.npy\")\n",
    "print(\"len(unique_tasks)\", len(unique_tasks))"
   ]
  },
  {
   "cell_type": "code",
   "execution_count": 5,
   "id": "ff4a0be4-26f3-4c6f-906d-8dec6a2e6984",
   "metadata": {
    "tags": []
   },
   "outputs": [],
   "source": [
    "linear_probe = LinearProbe(model.embed_dim,\n",
    "                 h=model.embed_dim,\n",
    "                 num_classes=len(unique_tasks)).to(device)"
   ]
  },
  {
   "cell_type": "markdown",
   "id": "3dd51ddf-fb71-48f4-bdbd-88753b44d2aa",
   "metadata": {},
   "source": [
    "## Create dataset and data loaders"
   ]
  },
  {
   "cell_type": "code",
   "execution_count": 6,
   "id": "3e330cd2-8f4f-4ca7-ae68-16698e90060f",
   "metadata": {
    "tags": []
   },
   "outputs": [
    {
     "name": "stdout",
     "output_type": "stream",
     "text": [
      "probe_num_batches 195\n",
      "test_num_batches 195\n"
     ]
    }
   ],
   "source": [
    "probe_num_batches = probe_num_samples_per_epoch // (num_devices * batch_size)\n",
    "test_num_batches = test_num_samples_per_epoch // (num_devices * batch_size)\n",
    "print(\"probe_num_batches\", probe_num_batches)\n",
    "print(\"test_num_batches\", test_num_batches)\n",
    "\n",
    "## Probe ##\n",
    "probe_dataset = create_hcp_flat(root=hcp_flat_path, \n",
    "                    training=True, frames=num_frames)\n",
    "probe_dl = wds.WebLoader(\n",
    "    probe_dataset.batched(batch_size, partial=False),\n",
    "    batch_size=None,\n",
    "    shuffle=False,\n",
    "    num_workers=num_workers,\n",
    "    pin_memory=True,\n",
    ")\n",
    "probe_dl = probe_dl.with_epoch(probe_num_batches)\n",
    "\n",
    "## Test ##\n",
    "test_dataset = create_hcp_flat(root=hcp_flat_path, \n",
    "                    training=False, frames=num_frames)\n",
    "test_dl = wds.WebLoader(\n",
    "    test_dataset.batched(batch_size, partial=False),\n",
    "    batch_size=None,\n",
    "    shuffle=False,\n",
    "    num_workers=num_workers,\n",
    "    pin_memory=True,\n",
    ")\n",
    "test_dl = test_dl.with_epoch(test_num_batches)"
   ]
  },
  {
   "cell_type": "code",
   "execution_count": 7,
   "id": "ac6bc9bb-ca5e-4407-be06-56a670e4eed8",
   "metadata": {
    "tags": []
   },
   "outputs": [],
   "source": [
    "# if utils.is_interactive():\n",
    "#     num_it = 2\n",
    "#     print(f\"Yielding {num_it} batches\")\n",
    "    \n",
    "#     for i, batch in enumerate(tqdm(probe_dl, total=probe_num_batches)):\n",
    "#         input_func = batch[1]\n",
    "        \n",
    "#         subject_id = batch[0]\n",
    "#         subject_id = [int(subject[4:].split(\"_\")[0]) for subject in subject_id]\n",
    "#         task_id = batch[2]\n",
    "        \n",
    "#         print(\"iter\",i)\n",
    "#         print(\"subject_id\", subject_id)\n",
    "#         print(\"task_id\", task_id)\n",
    "        \n",
    "#         if i >= (num_it-1):\n",
    "#             break"
   ]
  },
  {
   "cell_type": "markdown",
   "id": "2b8e6baa-4b1c-4f38-b078-70b2b092d14d",
   "metadata": {},
   "source": [
    "# Set up optimizer and saving functions"
   ]
  },
  {
   "cell_type": "code",
   "execution_count": 8,
   "id": "4da73c08-ca61-48ef-9e63-b70db6f07a59",
   "metadata": {
    "tags": []
   },
   "outputs": [
    {
     "name": "stdout",
     "output_type": "stream",
     "text": [
      "multiply base lr 0.001 by effective batch size 256\n",
      "lr = 0.001\n",
      "\n",
      "Done with model preparations!\n",
      "param counts:\n",
      "154,766 total\n",
      "154,766 trainable\n"
     ]
    }
   ],
   "source": [
    "no_decay = [\"bias\", \"LayerNorm.bias\", \"LayerNorm.weight\"]\n",
    "probe_opt_grouped_parameters = [\n",
    "    {'params': [p for n, p in linear_probe.named_parameters() if not any(nd in n for nd in no_decay)], 'weight_decay': 0.01},\n",
    "    {'params': [p for n, p in linear_probe.named_parameters() if any(nd in n for nd in no_decay)], 'weight_decay': 0.0},\n",
    "]\n",
    "\n",
    "lr = base_lr * global_batch_size / 256\n",
    "print(f\"multiply base lr {base_lr} by effective batch size {global_batch_size}\")\n",
    "print(f\"lr = {lr}\")\n",
    "\n",
    "probe_optimizer = torch.optim.AdamW(probe_opt_grouped_parameters, lr=3e-4, betas=(0.9, 0.95))\n",
    "\n",
    "def adjust_learning_rate(optimizer, epoch, warmup_epochs=1, min_lr=0.0):\n",
    "    \"\"\"Decay the learning rate with half-cycle cosine after warmup\"\"\"\n",
    "    if epoch < warmup_epochs:\n",
    "        lr_ = lr * epoch / warmup_epochs\n",
    "    else:\n",
    "        lr_ = min_lr + (lr - min_lr) * 0.5 * (\n",
    "            1.0\n",
    "            + math.cos(\n",
    "                math.pi\n",
    "                * (epoch - warmup_epochs)\n",
    "                / (num_epochs - warmup_epochs)\n",
    "            )\n",
    "        )\n",
    "    for param_group in optimizer.param_groups:\n",
    "        param_group[\"lr\"] = lr_\n",
    "    return lr_\n",
    "\n",
    "print(\"\\nDone with model preparations!\")\n",
    "num_params = utils.count_params(linear_probe)"
   ]
  },
  {
   "cell_type": "markdown",
   "id": "c43a5055-8afd-468a-93bf-32f94bd1d042",
   "metadata": {},
   "source": [
    "# Start training"
   ]
  },
  {
   "cell_type": "code",
   "execution_count": 12,
   "id": "f5e394dd-2745-41fa-a5aa-54b7b1373a8f",
   "metadata": {
    "tags": []
   },
   "outputs": [],
   "source": [
    "epoch = 0\n",
    "lrs, probe_losses, probe_accs, test_probe_losses, test_probe_accs = [], [], [], [], []"
   ]
  },
  {
   "cell_type": "code",
   "execution_count": 10,
   "id": "c3461199-e805-4e9c-8c91-894e83cf8bc3",
   "metadata": {
    "tags": []
   },
   "outputs": [
    {
     "name": "stderr",
     "output_type": "stream",
     "text": [
      "Overall:   0%|                                           | 0/10 [00:00<?, ?it/s]"
     ]
    },
    {
     "name": "stdout",
     "output_type": "stream",
     "text": [
      "Ep. 0 | probe_loss 2.637 | probe_acc 0.092 | lr 0.00010256410256410256 | 20/195\n",
      "Ep. 0 | probe_loss 2.088 | probe_acc 0.486 | lr 0.00020512820512820512 | 40/195\n",
      "Ep. 0 | probe_loss 1.807 | probe_acc 0.508 | lr 0.0003076923076923077 | 60/195\n",
      "Ep. 0 | probe_loss 1.563 | probe_acc 0.564 | lr 0.00041025641025641023 | 80/195\n",
      "Ep. 0 | probe_loss 1.697 | probe_acc 0.471 | lr 0.0005128205128205128 | 100/195\n",
      "Ep. 0 | probe_loss 1.458 | probe_acc 0.531 | lr 0.0006153846153846154 | 120/195\n",
      "Ep. 0 | probe_loss 1.300 | probe_acc 0.598 | lr 0.000717948717948718 | 140/195\n",
      "Ep. 0 | probe_loss 1.315 | probe_acc 0.581 | lr 0.0008205128205128205 | 160/195\n",
      "Ep. 0 | probe_loss 1.286 | probe_acc 0.581 | lr 0.0009230769230769232 | 180/195\n"
     ]
    },
    {
     "name": "stderr",
     "output_type": "stream",
     "text": [
      "Overall:  10%|███▍                              | 1/10 [03:45<33:49, 225.50s/it]"
     ]
    },
    {
     "name": "stdout",
     "output_type": "stream",
     "text": [
      "Ep. 0 | iter 194 | probe_loss 1.640 | probe_acc 0.499 | lr 0.000994871794871795\n",
      "Ep. 1 | probe_loss 1.231 | probe_acc 0.584 | lr 0.0009996795951252426 | 20/195\n",
      "Ep. 1 | probe_loss 1.037 | probe_acc 0.639 | lr 0.0009987187911381058 | 40/195\n",
      "Ep. 1 | probe_loss 0.936 | probe_acc 0.677 | lr 0.000997118819423714 | 60/195\n",
      "Ep. 1 | probe_loss 0.902 | probe_acc 0.679 | lr 0.0009948817305370143 | 80/195\n",
      "Ep. 1 | probe_loss 0.894 | probe_acc 0.672 | lr 0.000992010391574745 | 100/195\n",
      "Ep. 1 | probe_loss 0.715 | probe_acc 0.753 | lr 0.0009885084825009085 | 120/195\n",
      "Ep. 1 | probe_loss 0.866 | probe_acc 0.712 | lr 0.0009843804914304577 | 140/195\n",
      "Ep. 1 | probe_loss 0.703 | probe_acc 0.746 | lr 0.0009796317088772402 | 160/195\n",
      "Ep. 1 | probe_loss 0.653 | probe_acc 0.773 | lr 0.0009742682209735727 | 180/195\n"
     ]
    },
    {
     "name": "stderr",
     "output_type": "stream",
     "text": [
      "Overall:  20%|██████▊                           | 2/10 [07:49<31:28, 236.11s/it]"
     ]
    },
    {
     "name": "stdout",
     "output_type": "stream",
     "text": [
      "Ep. 1 | iter 194 | probe_loss 0.870 | probe_acc 0.697 | lr 0.0009701516793726968\n",
      "Ep. 2 | probe_loss 0.735 | probe_acc 0.748 | lr 0.0009634240975516209 | 20/195\n",
      "Ep. 2 | probe_loss 0.709 | probe_acc 0.755 | lr 0.0009564079513505455 | 40/195\n",
      "Ep. 2 | probe_loss 0.654 | probe_acc 0.777 | lr 0.0009488068638195071 | 60/195\n",
      "Ep. 2 | probe_loss 0.675 | probe_acc 0.767 | lr 0.0009406305766604994 | 80/195\n",
      "Ep. 2 | probe_loss 0.630 | probe_acc 0.774 | lr 0.0009318895687625751 | 100/195\n",
      "Ep. 2 | probe_loss 0.575 | probe_acc 0.809 | lr 0.0009225950427718975 | 120/195\n",
      "Ep. 2 | probe_loss 0.638 | probe_acc 0.788 | lr 0.00091275891073421 | 140/195\n",
      "Ep. 2 | probe_loss 0.490 | probe_acc 0.843 | lr 0.0009023937788281278 | 160/195\n",
      "Ep. 2 | probe_loss 0.710 | probe_acc 0.754 | lr 0.000891512931208811 | 180/195\n"
     ]
    },
    {
     "name": "stderr",
     "output_type": "stream",
     "text": [
      "Overall:  30%|██████████▏                       | 3/10 [11:52<27:57, 239.60s/it]"
     ]
    },
    {
     "name": "stdout",
     "output_type": "stream",
     "text": [
      "Ep. 2 | iter 194 | probe_loss 0.649 | probe_acc 0.779 | lr 0.0008835969286107881\n",
      "Ep. 3 | probe_loss 0.604 | probe_acc 0.797 | lr 0.0008712728144020115 | 20/195\n",
      "Ep. 3 | probe_loss 0.570 | probe_acc 0.796 | lr 0.000859047576766137 | 40/195\n",
      "Ep. 3 | probe_loss 0.618 | probe_acc 0.773 | lr 0.0008463621767547997 | 60/195\n",
      "Ep. 3 | probe_loss 0.495 | probe_acc 0.829 | lr 0.0008332328722240073 | 80/195\n",
      "Ep. 3 | probe_loss 0.637 | probe_acc 0.773 | lr 0.000819676489946455 | 100/195\n",
      "Ep. 3 | probe_loss 0.644 | probe_acc 0.762 | lr 0.0008057104040460061 | 120/195\n",
      "Ep. 3 | probe_loss 0.721 | probe_acc 0.747 | lr 0.0007913525137306757 | 140/195\n",
      "Ep. 3 | probe_loss 0.478 | probe_acc 0.836 | lr 0.0007766212203526569 | 160/195\n",
      "Ep. 3 | probe_loss 0.615 | probe_acc 0.784 | lr 0.0007615354038247889 | 180/195\n"
     ]
    },
    {
     "name": "stderr",
     "output_type": "stream",
     "text": [
      "Overall:  40%|█████████████▌                    | 4/10 [15:59<24:13, 242.30s/it]"
     ]
    },
    {
     "name": "stdout",
     "output_type": "stream",
     "text": [
      "Ep. 3 | iter 194 | probe_loss 0.587 | probe_acc 0.792 | lr 0.0007507747269706962\n",
      "Ep. 4 | probe_loss 0.526 | probe_acc 0.806 | lr 0.0007343405504323519 | 20/195\n",
      "Ep. 4 | probe_loss 0.654 | probe_acc 0.767 | lr 0.0007183807654458563 | 40/195\n",
      "Ep. 4 | probe_loss 0.533 | probe_acc 0.807 | lr 0.0007021410994121525 | 60/195\n",
      "Ep. 4 | probe_loss 0.602 | probe_acc 0.788 | lr 0.0006856423654038868 | 80/195\n",
      "Ep. 4 | probe_loss 0.541 | probe_acc 0.813 | lr 0.0006689057085202736 | 100/195\n",
      "Ep. 4 | probe_loss 0.524 | probe_acc 0.811 | lr 0.0006519525787871235 | 120/195\n",
      "Ep. 4 | probe_loss 0.549 | probe_acc 0.802 | lr 0.0006348047036660719 | 140/195\n",
      "Ep. 4 | probe_loss 0.549 | probe_acc 0.802 | lr 0.0006174840602082412 | 160/195\n",
      "Ep. 4 | probe_loss 0.589 | probe_acc 0.792 | lr 0.0006000128468880223 | 180/195\n"
     ]
    },
    {
     "name": "stderr",
     "output_type": "stream",
     "text": [
      "Overall:  50%|█████████████████                 | 5/10 [20:08<20:23, 244.76s/it]"
     ]
    },
    {
     "name": "stdout",
     "output_type": "stream",
     "text": [
      "Ep. 4 | iter 194 | probe_loss 0.560 | probe_acc 0.800 | lr 0.0005877053922171402\n",
      "Ep. 5 | probe_loss 0.517 | probe_acc 0.827 | lr 0.0005691433575823666 | 20/195\n",
      "Ep. 5 | probe_loss 0.527 | probe_acc 0.820 | lr 0.000551374010855962 | 40/195\n",
      "Ep. 5 | probe_loss 0.521 | probe_acc 0.827 | lr 0.0005335388221955012 | 60/195\n",
      "Ep. 5 | probe_loss 0.440 | probe_acc 0.844 | lr 0.00051566064952654 | 80/195\n",
      "Ep. 5 | probe_loss 0.531 | probe_acc 0.808 | lr 0.0004977624058637784 | 100/195\n",
      "Ep. 5 | probe_loss 0.573 | probe_acc 0.791 | lr 0.0004798670299452926 | 120/195\n",
      "Ep. 5 | probe_loss 0.483 | probe_acc 0.838 | lr 0.0004619974568338021 | 140/195\n",
      "Ep. 5 | probe_loss 0.396 | probe_acc 0.864 | lr 0.00044417658852264626 | 160/195\n",
      "Ep. 5 | probe_loss 0.574 | probe_acc 0.801 | lr 0.0004264272645841419 | 180/195\n"
     ]
    },
    {
     "name": "stderr",
     "output_type": "stream",
     "text": [
      "Overall:  60%|████████████████████▍             | 6/10 [24:01<16:03, 240.82s/it]"
     ]
    },
    {
     "name": "stdout",
     "output_type": "stream",
     "text": [
      "Ep. 5 | iter 194 | probe_loss 0.504 | probe_acc 0.825 | lr 0.00041405749276846466\n",
      "Ep. 6 | probe_loss 0.542 | probe_acc 0.803 | lr 0.0003956064553606708 | 20/195\n",
      "Ep. 6 | probe_loss 0.505 | probe_acc 0.811 | lr 0.00037817079235718897 | 40/195\n",
      "Ep. 6 | probe_loss 0.499 | probe_acc 0.816 | lr 0.0003608912680417738 | 60/195\n",
      "Ep. 6 | probe_loss 0.458 | probe_acc 0.834 | lr 0.00034379002818972124 | 80/195\n",
      "Ep. 6 | probe_loss 0.465 | probe_acc 0.827 | lr 0.00032688899008348384 | 100/195\n",
      "Ep. 6 | probe_loss 0.436 | probe_acc 0.840 | lr 0.000310209814423052 | 120/195\n",
      "Ep. 6 | probe_loss 0.550 | probe_acc 0.809 | lr 0.0002937738775651798 | 140/195\n",
      "Ep. 6 | probe_loss 0.500 | probe_acc 0.821 | lr 0.0002776022441270295 | 160/195\n",
      "Ep. 6 | probe_loss 0.545 | probe_acc 0.804 | lr 0.00026171563998934606 | 180/195\n"
     ]
    },
    {
     "name": "stderr",
     "output_type": "stream",
     "text": [
      "Overall:  70%|███████████████████████▊          | 7/10 [27:47<11:47, 235.94s/it]"
     ]
    },
    {
     "name": "stdout",
     "output_type": "stream",
     "text": [
      "Ep. 6 | iter 194 | probe_loss 0.497 | probe_acc 0.820 | lr 0.0002507755280682332\n",
      "Ep. 7 | probe_loss 0.511 | probe_acc 0.816 | lr 0.0002346609553071093 | 20/195\n",
      "Ep. 7 | probe_loss 0.518 | probe_acc 0.818 | lr 0.00021966197430775054 | 40/195\n",
      "Ep. 7 | probe_loss 0.464 | probe_acc 0.842 | lr 0.00020502227998843854 | 60/195\n",
      "Ep. 7 | probe_loss 0.487 | probe_acc 0.830 | lr 0.00019076063486687256 | 80/195\n",
      "Ep. 7 | probe_loss 0.509 | probe_acc 0.825 | lr 0.00017689531694552863 | 100/195\n",
      "Ep. 7 | probe_loss 0.477 | probe_acc 0.838 | lr 0.00016344409628621498 | 120/195\n",
      "Ep. 7 | probe_loss 0.520 | probe_acc 0.818 | lr 0.0001504242122356143 | 140/195\n",
      "Ep. 7 | probe_loss 0.468 | probe_acc 0.832 | lr 0.00013785235133100104 | 160/195\n",
      "Ep. 7 | probe_loss 0.402 | probe_acc 0.856 | lr 0.0001257446259144494 | 180/195\n"
     ]
    },
    {
     "name": "stderr",
     "output_type": "stream",
     "text": [
      "Overall:  80%|███████████████████████████▏      | 8/10 [31:22<07:38, 229.23s/it]"
     ]
    },
    {
     "name": "stdout",
     "output_type": "stream",
     "text": [
      "Ep. 7 | iter 194 | probe_loss 0.485 | probe_acc 0.830 | lr 0.00011755371284444327\n",
      "Ep. 8 | probe_loss 0.587 | probe_acc 0.795 | lr 0.00010571926003074578 | 20/195\n",
      "Ep. 8 | probe_loss 0.563 | probe_acc 0.800 | lr 9.496605950541676e-05 | 40/195\n",
      "Ep. 8 | probe_loss 0.463 | probe_acc 0.843 | lr 8.473195837599418e-05 | 60/195\n",
      "Ep. 8 | probe_loss 0.484 | probe_acc 0.830 | lr 7.50300728660407e-05 | 80/195\n",
      "Ep. 8 | probe_loss 0.471 | probe_acc 0.829 | lr 6.587283710120324e-05 | 100/195\n",
      "Ep. 8 | probe_loss 0.418 | probe_acc 0.850 | lr 5.72719871733951e-05 | 120/195\n",
      "Ep. 8 | probe_loss 0.429 | probe_acc 0.842 | lr 4.9238546099592107e-05 | 140/195\n",
      "Ep. 8 | probe_loss 0.450 | probe_acc 0.848 | lr 4.178280969451842e-05 | 160/195\n",
      "Ep. 8 | probe_loss 0.434 | probe_acc 0.845 | lr 3.4914333375330845e-05 | 180/195\n"
     ]
    },
    {
     "name": "stderr",
     "output_type": "stream",
     "text": [
      "Overall:  90%|██████████████████████████████▌   | 9/10 [35:23<03:52, 232.96s/it]"
     ]
    },
    {
     "name": "stdout",
     "output_type": "stream",
     "text": [
      "Ep. 8 | iter 194 | probe_loss 0.474 | probe_acc 0.833 | lr 3.046056415767656e-05\n",
      "Ep. 9 | probe_loss 0.487 | probe_acc 0.832 | lr 2.4333640958659143e-05 | 20/195\n",
      "Ep. 9 | probe_loss 0.503 | probe_acc 0.818 | lr 1.9123215591052067e-05 | 40/195\n",
      "Ep. 9 | probe_loss 0.470 | probe_acc 0.837 | lr 1.4529091286973995e-05 | 60/195\n",
      "Ep. 9 | probe_loss 0.402 | probe_acc 0.862 | lr 1.0557155965714049e-05 | 80/195\n",
      "Ep. 9 | probe_loss 0.431 | probe_acc 0.860 | lr 7.212500137028788e-06 | 100/195\n",
      "Ep. 9 | probe_loss 0.398 | probe_acc 0.862 | lr 4.499410377045765e-06 | 120/195\n",
      "Ep. 9 | probe_loss 0.489 | probe_acc 0.826 | lr 2.4213638345040868e-06 | 140/195\n",
      "Ep. 9 | probe_loss 0.436 | probe_acc 0.846 | lr 9.810237743724803e-07 | 160/195\n",
      "Ep. 9 | probe_loss 0.428 | probe_acc 0.850 | lr 1.8023616455731251e-07 | 180/195\n"
     ]
    },
    {
     "name": "stderr",
     "output_type": "stream",
     "text": [
      "Overall: 100%|█████████████████████████████████| 10/10 [39:14<00:00, 235.49s/it]"
     ]
    },
    {
     "name": "stdout",
     "output_type": "stream",
     "text": [
      "Ep. 9 | iter 194 | probe_loss 0.447 | probe_acc 0.844 | lr 8.010975369732165e-10\n"
     ]
    },
    {
     "name": "stderr",
     "output_type": "stream",
     "text": [
      "\n"
     ]
    },
    {
     "name": "stdout",
     "output_type": "stream",
     "text": [
      "Test | loss nan | probe_loss 0.367 | probe_acc 0.871 | 20/195\n",
      "Test | loss nan | probe_loss 0.362 | probe_acc 0.881 | 40/195\n",
      "Test | loss nan | probe_loss 0.420 | probe_acc 0.845 | 60/195\n",
      "Test | loss nan | probe_loss 0.363 | probe_acc 0.876 | 80/195\n",
      "Test | loss nan | probe_loss 0.414 | probe_acc 0.850 | 100/195\n",
      "Test | loss nan | probe_loss 0.356 | probe_acc 0.878 | 120/195\n",
      "Test | loss nan | probe_loss 0.298 | probe_acc 0.897 | 140/195\n",
      "Test | loss nan | probe_loss 0.343 | probe_acc 0.878 | 160/195\n",
      "Test | loss nan | probe_loss 0.412 | probe_acc 0.863 | 180/195\n",
      "Test | iter 194 | loss nan | probe_loss 0.365 | probe_acc 0.873\n"
     ]
    }
   ],
   "source": [
    "mse = nn.MSELoss()\n",
    "l1 = nn.L1Loss()\n",
    "crossentropy = nn.CrossEntropyLoss()\n",
    "# if use_contrastive_loss:\n",
    "#     contrastive_temps = utils.cosine_anneal(0.004, 0.0075, num_epochs)\n",
    "progress_bar = tqdm(range(epoch, num_epochs), disable=local_rank!=0, desc=\"Overall\")\n",
    "linear_probe.train()\n",
    "for epoch in progress_bar:\n",
    "    with torch.cuda.amp.autocast(dtype=data_type):  \n",
    "        for probe_i, batch in enumerate(probe_dl):\n",
    "            probe_optimizer.zero_grad()\n",
    "            adjust_learning_rate(probe_optimizer, probe_i / probe_num_batches + epoch)\n",
    "\n",
    "            input_func = batch[1]\n",
    "            task_id = batch[2]\n",
    "            task_id = np.array([''.join([char for char in s if not char.isdigit()]) for s in task_id])\n",
    "            task_indices = torch.tensor([np.where(unique_tasks == i)[0].item() for i in task_id]).to(device)\n",
    "\n",
    "            input_func = input_func.to(device, non_blocking=True)\n",
    "            if len(input_func.shape) == 6:\n",
    "                b, r, c, t, h, w = input_func.shape\n",
    "                input_func = input_func.reshape(b * r, c, t, h, w)\n",
    "\n",
    "            with torch.no_grad():\n",
    "                loss, pred, mask, latent = model(input_func, mask_ratio=0.0)\n",
    "                cls_latent = latent[:,0]\n",
    "                global_avg_pooling = latent[:,1:].mean(1)\n",
    "            \n",
    "            task_pred = linear_probe(global_avg_pooling)\n",
    "            probe_loss = crossentropy(task_pred, task_indices)\n",
    "            probe_acc = (torch.max(task_pred,1).indices == task_indices).sum() / len(task_indices)\n",
    "            \n",
    "            probe_loss.backward()\n",
    "            probe_optimizer.step()\n",
    "\n",
    "            probe_losses.append(probe_loss.item())\n",
    "            probe_accs.append(probe_acc.item())\n",
    "            \n",
    "            if probe_i%print_interval==0 and probe_i>0:\n",
    "                print(f\"Ep. {epoch} | probe_loss {np.mean(probe_losses[-print_interval:]):.3f} | probe_acc {np.mean(probe_accs[-print_interval:]):.3f} | lr {probe_optimizer.param_groups[0]['lr']} | {probe_i}/{probe_num_batches}\")\n",
    "\n",
    "        print(f\"Ep. {epoch} | iter {probe_i} | probe_loss {np.mean(probe_losses[-probe_i:]):.3f} | probe_acc {np.mean(probe_accs[-probe_i:]):.3f} | lr {probe_optimizer.param_groups[0]['lr']}\")\n",
    "\n",
    "        logs = {\"train/probe_loss\": np.mean(probe_losses[-probe_i:]),\n",
    "                \"train/probe_acc\": np.mean(probe_accs[-probe_i:])}\n",
    "    \n",
    "# Evaluate performance on held-out test dataset\n",
    "linear_probe.eval()\n",
    "with torch.no_grad():\n",
    "    for test_i, batch in enumerate(test_dl):\n",
    "        input_func = batch[1]\n",
    "        task_id = batch[2]\n",
    "        task_id = np.array([''.join([char for char in s if not char.isdigit()]) for s in task_id])\n",
    "        task_indices = torch.tensor([np.where(unique_tasks == i)[0].item() for i in task_id]).to(device)\n",
    "\n",
    "        input_func = input_func.to(device, non_blocking=True)\n",
    "        if len(input_func.shape) == 6:\n",
    "            b, r, c, t, h, w = input_func.shape\n",
    "            input_func = input_func.reshape(b * r, c, t, h, w)\n",
    "\n",
    "        _, pred, mask, latent = model(input_func, mask_ratio=0.0)\n",
    "        cls_latent = latent[:,0]\n",
    "        global_avg_pooling = latent[:,1:].mean(1)\n",
    "\n",
    "        task_pred = linear_probe(global_avg_pooling)\n",
    "        probe_loss = crossentropy(task_pred, task_indices)\n",
    "        probe_acc = (torch.max(task_pred,1).indices == task_indices).sum() / len(task_indices)\n",
    "\n",
    "        # test_losses.append(loss.item())\n",
    "        test_probe_losses.append(probe_loss.item())\n",
    "        test_probe_accs.append(probe_acc.item())\n",
    "\n",
    "        if test_i%print_interval==0 and test_i>0:\n",
    "            print(f\"Test | probe_loss {np.mean(test_probe_losses[-print_interval:]):.3f} | probe_acc {np.mean(test_probe_accs[-print_interval:]):.3f} | {test_i}/{test_num_batches}\")\n",
    "\n",
    "print(f\"Test | iter {test_i} | probe_loss {np.mean(test_probe_losses[-test_i:]):.3f} | probe_acc {np.mean(test_probe_accs[-test_i:]):.3f}\")\n",
    "logs = {\"test/probe_loss\": np.mean(test_probe_losses[-test_i:]),\n",
    "        \"test/probe_acc\": np.mean(test_probe_accs[-test_i:])}"
   ]
  },
  {
   "cell_type": "code",
   "execution_count": 13,
   "id": "fff6e847-2511-4f69-aa70-f1471a5b7d07",
   "metadata": {
    "tags": []
   },
   "outputs": [
    {
     "data": {
      "image/png": "[encoded data removed]",
      "text/plain": [
       "<Figure size 1200x450 with 1 Axes>"
      ]
     },
     "metadata": {},
     "output_type": "display_data"
    },
    {
     "data": {
      "image/png": "[encoded data removed]",
      "text/plain": [
       "<Figure size 1200x450 with 1 Axes>"
      ]
     },
     "metadata": {},
     "output_type": "display_data"
    }
   ],
   "source": [
    "plt.figure(figsize=(8, 3))\n",
    "plt.plot(probe_losses)\n",
    "plt.show()\n",
    "plt.figure(figsize=(8, 3))\n",
    "plt.plot(test_probe_losses)\n",
    "plt.show()"
   ]
  }
 ],
 "metadata": {
  "kernelspec": {
   "display_name": "found",
   "language": "python",
   "name": "found"
  },
  "language_info": {
   "codemirror_mode": {
    "name": "ipython",
    "version": 3
   },
   "file_extension": ".py",
   "mimetype": "text/x-python",
   "name": "python",
   "nbconvert_exporter": "python",
   "pygments_lexer": "ipython3",
   "version": "3.10.14"
  }
 },
 "nbformat": 4,
 "nbformat_minor": 5
}
