{
 "cells": [
  {
   "cell_type": "code",
   "execution_count": 1,
   "id": "b8e236f1-385a-4d93-bb39-bea3ee384d76",
   "metadata": {
    "tags": []
   },
   "outputs": [
    {
     "name": "stdout",
     "output_type": "stream",
     "text": [
      "PID of this process = 1392922\n"
     ]
    }
   ],
   "source": [
    "# Import packages and setup gpu configuration.\n",
    "# This code block shouldnt need to be adjusted!\n",
    "import os\n",
    "import sys\n",
    "import json\n",
    "import yaml\n",
    "import numpy as np\n",
    "import copy\n",
    "import math\n",
    "import time\n",
    "import random\n",
    "from tqdm.auto import tqdm\n",
    "import webdataset as wds\n",
    "import matplotlib.pyplot as plt\n",
    "import pandas as pd\n",
    "\n",
    "import torch\n",
    "import torch.nn as nn\n",
    "from torchvision import transforms\n",
    "import utils\n",
    "from mae_utils.flat_models import *\n",
    "import h5py\n",
    "from typing import List, Dict, Any, Tuple\n",
    "from sklearn.preprocessing import StandardScaler\n",
    "import argparse\n",
    "\n",
    "# tf32 data type is faster than standard float32\n",
    "torch.backends.cuda.matmul.allow_tf32 = True\n",
    "# following fixes a Conv3D CUDNN_NOT_SUPPORTED error\n",
    "torch.backends.cudnn.benchmark = True\n",
    "\n",
    "# ## MODEL TO LOAD ##\n",
    "# model_name = \"HCPflat_large_gsrFalse_\"\n",
    "# parquet_folder = \"epoch99\"\n",
    "\n",
    "# # outdir = os.path.abspath(f'checkpoints/{model_name}')\n",
    "# outdir = os.path.abspath(f'checkpoints/{model_name}')\n",
    "\n",
    "# print(\"outdir\", outdir)\n",
    "# # Load previous config.yaml if available\n",
    "# if os.path.exists(f\"{outdir}/config.yaml\"):\n",
    "#     config = yaml.load(open(f\"{outdir}/config.yaml\", 'r'), Loader=yaml.FullLoader)\n",
    "#     print(f\"Loaded config.yaml from ckpt folder {outdir}\")\n",
    "#     # create global variables from the config\n",
    "#     print(\"\\n__CONFIG__\")\n",
    "#     for attribute_name in config.keys():\n",
    "#         print(f\"{attribute_name} = {config[attribute_name]}\")\n",
    "#         globals()[attribute_name] = config[f'{attribute_name}']\n",
    "#     print(\"\\n\")\n",
    "\n",
    "# world_size = os.getenv('WORLD_SIZE')\n",
    "# if world_size is None: \n",
    "#     world_size = 1\n",
    "# else:\n",
    "#     world_size = int(world_size)\n",
    "# print(f\"WORLD_SIZE={world_size}\")\n",
    "\n",
    "# if utils.is_interactive():\n",
    "#     # Following allows you to change functions in models.py or utils.py and \n",
    "#     # have this notebook automatically update with your revisions\n",
    "#     %load_ext autoreload\n",
    "#     %autoreload 2\n",
    "\n",
    "# batch_size = probe_batch_size\n",
    "# num_epochs = probe_num_epochs\n",
    "\n",
    "# data_type = torch.float32 # change depending on your mixed_precision\n",
    "# global_batch_size = batch_size * world_size\n",
    "\n",
    "device = torch.device('cuda')\n",
    "\n",
    "# hcp_flat_path = \"/weka/proj-medarc/shared/HCP-Flat\"\n",
    "# seed = 42\n",
    "num_frames = 16\n",
    "gsr = False\n",
    "# num_workers = 5\n",
    "batch_size = 128\n",
    "# target = 'sex' # This can be 'trial_type' 'age' 'sex'\n",
    "\n",
    "print(\"PID of this process =\",os.getpid())"
   ]
  },
  {
   "cell_type": "code",
   "execution_count": 2,
   "id": "c2539698-5566-48cf-8022-90cb70d94f9f",
   "metadata": {},
   "outputs": [
    {
     "name": "stdout",
     "output_type": "stream",
     "text": [
      "model_name: NSDflat_large_gsrFalse_5sess_57734\n",
      "--hcp_flat_path=/weka/proj-medarc/shared/HCP-Flat                     --target=subject_id                     --model_name=NSDflat_large_gsrFalse_5sess_57734                     --batch_size=128                     --max_lr=3e-3 --num_epochs=40 --no-save_ckpt --no-wandb_log --num_workers=10                     --weight_decay=1e-5                     --parquet_folder=epoch99                     --outdir=/weka/proj-fmri/ckadirt/fMRI-foundation-model/src/checkpoints/NSDflat_large_gsrFalse_5sess_57734                     --global_pooling\n"
     ]
    }
   ],
   "source": [
    "# if running this interactively, can specify jupyter_args here for argparser to use\n",
    "if utils.is_interactive():\n",
    "    model_name = \"NSDflat_large_gsrFalse_5sess_57734\"\n",
    "    print(\"model_name:\", model_name)\n",
    "    outdir = os.path.abspath(f'checkpoints/{model_name}')\n",
    "    # global_batch_size and batch_size should already be defined in the 2nd cell block\n",
    "    jupyter_args = f\"--hcp_flat_path=/weka/proj-medarc/shared/HCP-Flat \\\n",
    "                    --target=subject_id \\\n",
    "                    --model_name={model_name} \\\n",
    "                    --batch_size={batch_size} \\\n",
    "                    --max_lr=3e-3 --num_epochs=40 --no-save_ckpt --no-wandb_log --num_workers=10 \\\n",
    "                    --weight_decay=1e-5 \\\n",
    "                    --parquet_folder=epoch99 \\\n",
    "                    --outdir={outdir} \\\n",
    "                    --global_pooling\"\n",
    "    # --multisubject_ckpt=../train_logs/multisubject_subj01_1024_24bs_nolow\n",
    "    # recommended max_lr on trial_type 9e-3, on age 1e-3, on sex 1e-3\n",
    "    print(jupyter_args)\n",
    "    jupyter_args = jupyter_args.split()\n",
    "    \n",
    "    from IPython.display import clear_output # function to clear print outputs in cell\n",
    "    %load_ext autoreload \n",
    "    # this allows you to change functions in models.py or utils.py and have this notebook automatically update with your revisions\n",
    "    %autoreload 2 "
   ]
  },
  {
   "cell_type": "code",
   "execution_count": 3,
   "id": "e3b9ee45-5409-4a03-b1a1-f59af40ccc79",
   "metadata": {},
   "outputs": [
    {
     "name": "stdout",
     "output_type": "stream",
     "text": [
      "------ ARGS ------- \n",
      " Namespace(model_name='NSDflat_large_gsrFalse_5sess_57734', hcp_flat_path='/weka/proj-medarc/shared/HCP-Flat', batch_size=128, wandb_log=False, num_epochs=40, lr_scheduler_type='cycle', save_ckpt=False, seed=42, max_lr=0.003, target='subject_id', num_workers=10, weight_decay=1e-05, parquet_folder='epoch99', outdir='/weka/proj-fmri/ckadirt/fMRI-foundation-model/src/checkpoints/NSDflat_large_gsrFalse_5sess_57734', global_pooling=True)\n"
     ]
    }
   ],
   "source": [
    "parser = argparse.ArgumentParser(description=\"Model Training Configuration\")\n",
    "parser.add_argument(\n",
    "    \"--model_name\", type=str, default=\"HCPflat_large_gsrFalse_\",\n",
    "    help=\"name of model, used for ckpt saving and wandb logging (if enabled)\",\n",
    ")\n",
    "parser.add_argument(\n",
    "    \"--hcp_flat_path\", type=str, default=os.getcwd(),\n",
    "    help=\"Path to where NSD data is stored / where to download it to\",\n",
    ")\n",
    "parser.add_argument(\n",
    "    \"--batch_size\", type=int, default=128,\n",
    "    help=\"Batch size can be increased by 10x if only training retreival submodule and not diffusion prior\",\n",
    ")\n",
    "parser.add_argument(\n",
    "    \"--wandb_log\",action=argparse.BooleanOptionalAction,default=False,\n",
    "    help=\"whether to log to wandb\",\n",
    ")\n",
    "parser.add_argument(\n",
    "    \"--num_epochs\",type=int,default=150,\n",
    "    help=\"number of epochs of training\",\n",
    ")\n",
    "parser.add_argument(\n",
    "    \"--lr_scheduler_type\",type=str,default='cycle',choices=['cycle','linear'],\n",
    ")\n",
    "parser.add_argument(\n",
    "    \"--save_ckpt\",action=argparse.BooleanOptionalAction,default=True,\n",
    ")\n",
    "parser.add_argument(\n",
    "    \"--seed\",type=int,default=42,\n",
    ")\n",
    "parser.add_argument(\n",
    "    \"--max_lr\",type=float,default=3e-4,\n",
    ")\n",
    "parser.add_argument(\n",
    "    \"--target\",type=str,default='trial_type',  # \"trial_type\" or \"subject_id\" or see table on HCP_downstream.ipynb\n",
    ")\n",
    "parser.add_argument(\n",
    "    \"--num_workers\",type=int,default=10,\n",
    ")\n",
    "parser.add_argument(\n",
    "    \"--weight_decay\",type=float,default=1e-5,\n",
    ")\n",
    "parser.add_argument(\n",
    "    \"--parquet_folder\",type=str,default='epoch99',\n",
    ")\n",
    "parser.add_argument(\n",
    "    \"--outdir\",type=str,default='./checkpoints/HCPflat_large_gsrFalse_/',\n",
    "    help=\"Path where the precomputed features are located\"\n",
    ")\n",
    "parser.add_argument(\n",
    "    \"--global_pooling\",action=argparse.BooleanOptionalAction,default=True,\n",
    ")\n",
    "\n",
    "if utils.is_interactive():\n",
    "    args = parser.parse_args(jupyter_args)\n",
    "else:\n",
    "    args = parser.parse_args()\n",
    "\n",
    "print(f\"------ ARGS ------- \\n {args}\")\n",
    "\n",
    "# create global variables without the args prefix\n",
    "for attribute_name in vars(args).keys():\n",
    "    globals()[attribute_name] = getattr(args, attribute_name)\n",
    "    \n",
    "# seed all random functions\n",
    "utils.seed_everything(seed)\n"
   ]
  },
  {
   "cell_type": "code",
   "execution_count": 4,
   "id": "fc00235a-a9e1-4dc4-8fd3-359c1d91bfc7",
   "metadata": {},
   "outputs": [],
   "source": [
    "# #### UNCOMMENT THIS TO SAVE THE HCP-FLAT IN HDF5 FORMAT\n",
    "\n",
    "\n",
    "# from torch.utils.data import default_collate\n",
    "# from mae_utils.flat import load_hcp_flat_mask\n",
    "# from mae_utils.flat import create_hcp_flat\n",
    "# from mae_utils.flat import batch_unmask\n",
    "# import mae_utils.visualize as vis\n",
    "\n",
    "\n",
    "# batch_size = 1\n",
    "# print(f\"changed batch_size to {batch_size}\")\n",
    "# load_file_frames = num_frames * 2\n",
    "# print(f\"Calculating with {load_file_frames} frames, doubling to approximate TR\")\n",
    "\n",
    "# ## Test ##\n",
    "# datasets_to_include = \"HCP\"\n",
    "# assert \"HCP\" in datasets_to_include\n",
    "# test_dataset = create_hcp_flat(root=hcp_flat_path, \n",
    "#                 clip_mode=\"event\", frames=load_file_frames, shuffle=False, gsr=gsr, sub_list = 'test')\n",
    "# test_dl = wds.WebLoader(\n",
    "#     test_dataset.batched(batch_size, partial=False, collation_fn=default_collate),\n",
    "#     batch_size=None,\n",
    "#     shuffle=False,\n",
    "#     num_workers=num_workers,\n",
    "#     pin_memory=True,\n",
    "# )\n",
    "\n",
    "# ## Train ##\n",
    "# assert \"HCP\" in datasets_to_include\n",
    "# train_dataset = create_hcp_flat(root=hcp_flat_path, \n",
    "#                 clip_mode=\"event\", frames=load_file_frames, shuffle=False, gsr=gsr, sub_list = 'train')\n",
    "# train_dl = wds.WebLoader(\n",
    "#     train_dataset.batched(batch_size, partial=True, collation_fn=default_collate),\n",
    "#     batch_size=None,\n",
    "#     shuffle=False,\n",
    "#     num_workers=num_workers,\n",
    "#     pin_memory=True,\n",
    "# )\n",
    "\n",
    "# def flatten_meta(meta_dict):\n",
    "#     \"\"\"\n",
    "#     Flatten the meta dictionary by:\n",
    "#     - Replacing single-item lists with the item itself.\n",
    "#     - Converting tensors to scalar numbers.\n",
    "#     \"\"\"\n",
    "#     flattened = {}\n",
    "#     for key, value in meta_dict.items():\n",
    "#         if isinstance(value, list):\n",
    "#             if len(value) == 1:\n",
    "#                 flattened[key] = value[0]  # Replace list with its single item\n",
    "#             else:\n",
    "#                 flattened[key] = value  # Keep as is if multiple items\n",
    "#         elif isinstance(value, torch.Tensor):\n",
    "#             # Convert tensor to scalar\n",
    "#             if value.numel() == 1:\n",
    "#                 flattened[key] = value.item()\n",
    "#             else:\n",
    "#                 flattened[key] = value.tolist()  # Convert multi-element tensor to list\n",
    "#         else:\n",
    "#             flattened[key] = value  # Keep the value as is\n",
    "#     return flattened\n",
    "\n",
    "\n",
    "# import h5py\n",
    "# meta_array = np.array([], dtype=object)\n",
    "# # Open an HDF5 file in write mode\n",
    "# with h5py.File(f'test_HCP_raw_flatmaps_{load_file_frames}f.hdf5', 'w') as h5f:\n",
    "#     flatmaps_dset = None\n",
    "    \n",
    "#     total_samples = 0\n",
    "\n",
    "#     for i, batch in tqdm(enumerate(test_dl), total = 12000):\n",
    "#         images = batch[0]\n",
    "#         meta = batch[1]\n",
    "#         batch_size = images.shape[0]\n",
    "#         meta_serializable = meta.copy()\n",
    "        \n",
    "        \n",
    "#         # Step 2: Serialize the dictionary to a JSON string\n",
    "#         meta_str = json.dumps(flatten_meta(meta_serializable), indent=4)\n",
    "#         meta_array = np.append(meta_array, meta_str)\n",
    "#         if flatmaps_dset is None:\n",
    "#             # Initialize datasets with unlimited (None) maxshape along the first axis\n",
    "#             flatmaps_shape = (0,) + images.shape[1:]\n",
    "#             flatmaps_maxshape = (None,) + images.shape[1:]\n",
    "\n",
    "#             flatmaps_dset = h5f.create_dataset(\n",
    "#                 'flatmaps',\n",
    "#                 shape=flatmaps_shape,\n",
    "#                 maxshape=flatmaps_maxshape,\n",
    "#                 dtype=np.float16,\n",
    "#                 chunks=True  # Enable chunking for efficient resizing\n",
    "#             )\n",
    "\n",
    "#         # Resize datasets to accommodate new data\n",
    "#         flatmaps_dset.resize(total_samples + batch_size, axis=0)\n",
    "\n",
    "#         # Write data to the datasets\n",
    "#         flatmaps_dset[total_samples:total_samples + batch_size] = images.numpy().astype(np.float16)\n",
    "\n",
    "#         total_samples += batch_size\n",
    "        \n",
    "#     print(f\"Processed {total_samples} samples\")\n",
    "# np.save(f'metadata_test_HCP_raw_flatmaps_{load_file_frames}f.npy', meta_array)\n",
    "\n",
    "\n",
    "# import h5py\n",
    "# meta_array = np.array([], dtype=object)\n",
    "# # Open an HDF5 file in write mode\n",
    "# with h5py.File(f'train_HCP_raw_flatmaps_{load_file_frames}f.hdf5', 'w') as h5f:\n",
    "#     flatmaps_dset = None\n",
    "    \n",
    "#     total_samples = 0\n",
    "\n",
    "#     for i, batch in tqdm(enumerate(train_dl), total = 120000):\n",
    "#         images = batch[0]\n",
    "#         meta = batch[1]\n",
    "#         batch_size = images.shape[0]\n",
    "#         meta_serializable = meta.copy()\n",
    "        \n",
    "        \n",
    "#         # Step 2: Serialize the dictionary to a JSON string\n",
    "#         meta_str = json.dumps(flatten_meta(meta_serializable), indent=4)\n",
    "#         meta_array = np.append(meta_array, meta_str)\n",
    "#         if flatmaps_dset is None:\n",
    "#             # Initialize datasets with unlimited (None) maxshape along the first axis\n",
    "#             flatmaps_shape = (0,) + images.shape[1:]\n",
    "#             flatmaps_maxshape = (None,) + images.shape[1:]\n",
    "\n",
    "#             flatmaps_dset = h5f.create_dataset(\n",
    "#                 'flatmaps',\n",
    "#                 shape=flatmaps_shape,\n",
    "#                 maxshape=flatmaps_maxshape,\n",
    "#                 dtype=np.float16,\n",
    "#                 chunks=True  # Enable chunking for efficient resizing\n",
    "#             )\n",
    "\n",
    "#         # Resize datasets to accommodate new data\n",
    "#         flatmaps_dset.resize(total_samples + batch_size, axis=0)\n",
    "\n",
    "#         # Write data to the datasets\n",
    "#         flatmaps_dset[total_samples:total_samples + batch_size] = images.numpy().astype(np.float16)\n",
    "\n",
    "#         total_samples += batch_size\n",
    "        \n",
    "#     print(f\"Processed {total_samples} samples\")\n",
    "# np.save(f'metadata_train_HCP_raw_flatmaps_{load_file_frames}f.npy', meta_array)"
   ]
  },
  {
   "cell_type": "markdown",
   "id": "98629867-6d64-45ef-823d-5f4fdb279ec7",
   "metadata": {},
   "source": [
    "### Data"
   ]
  },
  {
   "cell_type": "code",
   "execution_count": 5,
   "id": "c1b9ec8b-0f74-4573-af56-f43d61e8ea3f",
   "metadata": {},
   "outputs": [],
   "source": [
    "from sklearn.preprocessing import LabelEncoder\n",
    "\n",
    "###### This is for restricted\n",
    "# Categorical columns (e.g., demographic categories, binary diagnoses)\n",
    "categorical_columns = [\n",
    "    \"Gender\",\n",
    "    \"Race\",\n",
    "    \"Ethnicity\",\n",
    "    \"SSAGA_PanicDisorder\",  # Panic disorder diagnosis (yes/no)\n",
    "    \"SSAGA_Depressive_Ep\"   # Depressive episode diagnosis (yes/no)\n",
    "]\n",
    "\n",
    "# Numerical columns (continuous, counts, raw scores, standardized scores, etc.)\n",
    "numerical_columns = [\n",
    "    # Basic demographics\n",
    "    \"Age_in_Yrs\",\n",
    "    \n",
    "    # Cognitive / \"IQ-like\" Measures\n",
    "    \"PMAT24_A_CR\",\n",
    "    \"CardSort_Unadj\",\n",
    "    \"CardSort_AgeAdj\",\n",
    "    \"ListSort_Unadj\",\n",
    "    \"ListSort_AgeAdj\",\n",
    "    \"PicSeq_Unadj\",\n",
    "    \"PicSeq_AgeAdj\",\n",
    "    \n",
    "    # Personality Traits (Big Five)\n",
    "    \"NEOFAC_A\",\n",
    "    \"NEOFAC_O\",\n",
    "    \"NEOFAC_C\",\n",
    "    \"NEOFAC_N\",\n",
    "    \"NEOFAC_E\",\n",
    "    # If you have all 60 NEO item-level responses:\n",
    "    # \"NEORAW_01\", \"NEORAW_02\", ..., \"NEORAW_60\",\n",
    "    \n",
    "    # Psychopathology / Mental Health\n",
    "    \"ASR_Anxd_Raw\",\n",
    "    \"ASR_Attn_Raw\",\n",
    "    \"ASR_Aggr_Raw\",\n",
    "    \"DSM_Depr_Raw\",\n",
    "    \"DSM_Anxi_Raw\",\n",
    "    \"SSAGA_Depressive_Sx\",  # Symptom count or severity\n",
    "    \n",
    "    # Substance Use Phenotypes\n",
    "    \"SSAGA_Alc_12_Frq\",\n",
    "    \"SSAGA_Alc_12_Max_Drinks\",\n",
    "    \"SSAGA_Times_Used_Illicits\",\n",
    "    \"SSAGA_Times_Used_Cocaine\",\n",
    "    \"Total_Drinks_7days\",\n",
    "    \"Total_Any_Tobacco_7days\",\n",
    "    \n",
    "    # Anthropometric / Basic Health\n",
    "    \"BMI\",\n",
    "    \"Height\",\n",
    "    \"Weight\",\n",
    "    \"BPSystolic\",\n",
    "    \"BPDiastolic\",\n",
    "    \"HbA1C\",\n",
    "    \"ThyroidHormone\",\n",
    "    \n",
    "    # Sleep / Quality of Life\n",
    "    \"PSQI_Score\",\n",
    "    # If you have separate PSQI component scores, list them here too, e.g.:\n",
    "    # \"PSQI_Component1\", \"PSQI_Component2\", ...\n",
    "    \"PainInterf_Tscore\",\n",
    "    \"LifeSatisf_Unadj\",\n",
    "    \"MeanPurp_Unadj\"\n",
    "]\n",
    "\n",
    "\n",
    "if target in ['subject_id', 'trial_type']:\n",
    "    target_type = 'special'\n",
    "elif target in categorical_columns:\n",
    "    target_type = 'categorical'\n",
    "elif target in numerical_columns:\n",
    "    target_type = 'numerical'\n",
    "\n",
    "\n",
    "# open the file containing subject information\n",
    "if not (target in ['subject_id', 'trial_type']):\n",
    "    subject_information_HCP_path = os.path.join(hcp_flat_path, \"subjects_data_restricted.csv\")\n",
    "    try:\n",
    "        subject_information_HCP = pd.read_csv(subject_information_HCP_path)\n",
    "    except:\n",
    "        try:\n",
    "            subject_information_HCP = pd.read_csv('./unrestricted_clane9_4_23_2024_13_28_14.csv')   \n",
    "        except:\n",
    "            assert False, \"Subject information file not found\"\n",
    "\n",
    "    # # show the first few rows of the subject information\n",
    "    # subject_information_HCP[age_related_columns + sex_related_columns].head()    \n",
    "\n",
    "    if target in numerical_columns:\n",
    "        # Count NaNs or missing values\n",
    "        n_missing = subject_information_HCP[target].isnull().sum()\n",
    "        print(f\"Number of missing values in {target}: {n_missing}. Replacing with mean.\")\n",
    "        mean_ = subject_information_HCP[target].mean()\n",
    "        # Replace missing values or NaNs with the mean\n",
    "        subject_information_HCP[target].fillna(mean_, inplace=True)\n",
    "        # Initialize the scaler\n",
    "        scaler = StandardScaler()    \n",
    "        # Perform z-score normalization\n",
    "        subject_information_HCP[f'{target}_z'] = scaler.fit_transform(subject_information_HCP[[target]])\n",
    "\n",
    "    if target in categorical_columns:\n",
    "        # Perform label encoding\n",
    "        label_enc = LabelEncoder()\n",
    "        subject_information_HCP[f'{target}_encoded'] = label_enc.fit_transform(subject_information_HCP[target])\n",
    "\n",
    "def train_test_split_by_subject(df, test_ratio=0.1, random_state=42):\n",
    "    \"\"\"\n",
    "    Split a dataframe into train and test so that\n",
    "    every subject in test also appears in train at least once.\n",
    "\n",
    "    Parameters\n",
    "    ----------\n",
    "    df : pd.DataFrame\n",
    "        Your dataset, containing at least the columns:\n",
    "        ['sub', ...]\n",
    "    test_ratio : float\n",
    "        Percentage of each subject's rows to allocate to test.\n",
    "    random_state : int\n",
    "        Random seed for reproducibility.\n",
    "\n",
    "    Returns\n",
    "    -------\n",
    "    train_df : pd.DataFrame\n",
    "    test_df : pd.DataFrame\n",
    "    \"\"\"\n",
    "    np.random.seed(random_state)\n",
    "    \n",
    "    train_dfs = []\n",
    "    test_dfs = []\n",
    "    \n",
    "    # Group by subject\n",
    "    for subject, df_sub in df.groupby('sub'):\n",
    "        n = len(df_sub)\n",
    "        \n",
    "        # If the subject only has 1 row, put it all in train\n",
    "        if n == 1:\n",
    "            train_dfs.append(df_sub)\n",
    "        else:\n",
    "            # Decide how many rows go to test\n",
    "            n_test = int(round(test_ratio * n))\n",
    "            # Ensure at least 1 row ends up in train\n",
    "            # (i.e. if rounding leads to n_test == n, reduce n_test by 1)\n",
    "            if n_test >= n:\n",
    "                n_test = n - 1\n",
    "            \n",
    "            # Randomly sample n_test rows for test\n",
    "            test_rows = df_sub.sample(n_test, random_state=random_state)\n",
    "            # The remaining go to train\n",
    "            train_rows = df_sub.drop(test_rows.index)\n",
    "            \n",
    "            test_dfs.append(test_rows)\n",
    "            train_dfs.append(train_rows)\n",
    "    \n",
    "    # Combine all splits\n",
    "    train_df = pd.concat(train_dfs).sample(frac=1, random_state=random_state).reset_index(drop=True)\n",
    "    test_df = pd.concat(test_dfs).sample(frac=1, random_state=random_state).reset_index(drop=True)\n",
    "    \n",
    "    return train_df, test_df\n",
    "\n",
    "    \n",
    "def get_label_restricted(subject_id: List[str], target: str, normalized: bool = True) -> List:\n",
    "    \"\"\"\n",
    "    Get the label for the given subject id and target\n",
    "    \"\"\"\n",
    "    subject_id = [int(x) for x in subject_id]\n",
    "\n",
    "    if target in numerical_columns:\n",
    "        target_array = []\n",
    "        for subject in subject_id:\n",
    "            c_target = subject_information_HCP[subject_information_HCP['Subject'] == subject][f'{target}' if not normalized else f'{target}_z'].values\n",
    "            # if the subject is not in the subject information file trigger an error\n",
    "            if len(c_target) == 0:\n",
    "                assert False, f\"Subject {subject} not found in subject information file\"\n",
    "            if len(c_target) > 1:\n",
    "                print(f\"Warning: Multiple entries for subject {subject}\")\n",
    "\n",
    "            target_array.append(np.float32(c_target[0]))\n",
    "\n",
    "        return np.array(target_array)\n",
    "    \n",
    "    elif target in categorical_columns:\n",
    "        target_array = []\n",
    "        for subject in subject_id:\n",
    "            c_target = subject_information_HCP[subject_information_HCP['Subject'] == subject][f'{target}_encoded'].values\n",
    "            # if the subject is not in the subject information file trigger an error\n",
    "            if len(c_target) == 0:\n",
    "                assert False, f\"Subject {subject} not found in subject information file\"\n",
    "            if len(c_target) > 1:\n",
    "                print(f\"Warning: Multiple entries for subject {subject}\")\n",
    "\n",
    "            target_array.append(np.int8(c_target[0]))\n",
    "\n",
    "        return np.array(target_array)\n",
    "    "
   ]
  },
  {
   "cell_type": "code",
   "execution_count": 6,
   "id": "6e66e2c0-6a73-42d7-8414-3b8acafdb0f4",
   "metadata": {},
   "outputs": [],
   "source": [
    "# f_train = h5py.File('/weka/proj-fmri/ckadirt/fMRI-foundation-model/src/train_hcp_raw_flatmaps.hdf5', 'r')\n",
    "# flatmaps_train = f_train['flatmaps']\n",
    "\n",
    "# f_test = h5py.File('/weka/proj-fmri/ckadirt/fMRI-foundation-model/src/test_hcp_raw_flatmaps.hdf5', 'r')\n",
    "# flatmaps_test = f_test['flatmaps']\n",
    "\n",
    "# metadata_train = np.load('/weka/proj-fmri/ckadirt/fMRI-foundation-model/src/metadata_train_HCP_raw_flatmaps.npy', allow_pickle=True)\n",
    "# metadata_test = np.load('/weka/proj-fmri/ckadirt/fMRI-foundation-model/src/metadata_test_HCP_raw_flatmaps.npy', allow_pickle=True)\n",
    "\n",
    "train_features = pd.read_parquet(f\"{outdir}_gp{str(global_pooling)}/{parquet_folder}/HCP/train.parquet\")\n",
    "test_features = pd.read_parquet(f\"{outdir}_gp{str(global_pooling)}/{parquet_folder}/HCP/test.parquet\")\n",
    "\n",
    "if target == \"subject_id\":\n",
    "    # We have to redo the train test split including every possible subject from test on train.\n",
    "    all_features = pd.concat([train_features, test_features])\n",
    "    all_features[\"sub\"] = all_features[\"sub\"].apply(lambda x: x[0])\n",
    "    train_features, test_features = train_test_split_by_subject(all_features)"
   ]
  },
  {
   "cell_type": "markdown",
   "id": "a368c4fa-f2f3-4997-8ea4-ae6542efc32c",
   "metadata": {},
   "source": [
    "### Create the dataloader"
   ]
  },
  {
   "cell_type": "code",
   "execution_count": 7,
   "id": "b52b668f-c143-40fe-b3d4-c21c7a406d0d",
   "metadata": {},
   "outputs": [],
   "source": [
    "from torch.utils.data import Dataset, DataLoader\n",
    "\n",
    "class HCPFlatDataset(Dataset):\n",
    "    def __init__(self, parquet_data):\n",
    "        self.parquet_data = parquet_data\n",
    "\n",
    "    def __len__(self):\n",
    "        return len(self.parquet_data)\n",
    "\n",
    "    def __getitem__(self, idx):\n",
    "        c_feature = torch.Tensor(self.parquet_data.iloc[idx]['feature'])\n",
    "        c_sub = self.parquet_data.iloc[idx]['sub']\n",
    "        c_trial_type = self.parquet_data.iloc[idx]['trial_type'][0]\n",
    "        if isinstance(c_sub, List):\n",
    "            c_sub = c_sub[0]\n",
    "        return c_feature, c_trial_type, c_sub\n",
    "\n",
    "# Loading to cpu for faster training, this can take several minutes.  Remove this [:] if you want to move one at the time.\n",
    "train_dataset = HCPFlatDataset(train_features)\n",
    "train_dl = DataLoader(train_dataset, batch_size=batch_size, shuffle=True, num_workers=0)\n",
    "\n",
    "test_dataset = HCPFlatDataset(test_features)\n",
    "test_dl = DataLoader(test_dataset, batch_size=batch_size, shuffle=False, num_workers=0)\n"
   ]
  },
  {
   "cell_type": "code",
   "execution_count": 8,
   "id": "397b02db-4007-4119-b3e5-93c657a27953",
   "metadata": {},
   "outputs": [
    {
     "name": "stdout",
     "output_type": "stream",
     "text": [
      "Number of classes: 1093\n"
     ]
    }
   ],
   "source": [
    "from sklearn.preprocessing import LabelEncoder\n",
    "\n",
    "if target == \"trial_type\":\n",
    "    INCLUDE_CONDS = {\n",
    "        \"fear\",\n",
    "        \"neut\",\n",
    "        \"math\",\n",
    "        \"story\",\n",
    "        \"lf\",\n",
    "        \"lh\",\n",
    "        \"rf\",\n",
    "        \"rh\",\n",
    "        \"t\",\n",
    "        \"match\",\n",
    "        \"relation\",\n",
    "        \"mental\",\n",
    "        \"rnd\",\n",
    "        \"0bk_body\",\n",
    "        \"2bk_body\",\n",
    "        \"0bk_faces\",\n",
    "        \"2bk_faces\",\n",
    "        \"0bk_places\",\n",
    "        \"2bk_places\",\n",
    "        \"0bk_tools\",\n",
    "        \"2bk_tools\",\n",
    "    }\n",
    "    # Initialize the label encoder\n",
    "    label_enc = LabelEncoder()\n",
    "    label_enc.fit(sorted(INCLUDE_CONDS))  # Ensure consistent ordering\n",
    "elif target == 'subject_id':\n",
    "    all_subs = train_features['sub'].values\n",
    "    label_enc = LabelEncoder()\n",
    "    label_enc.fit(all_subs)\n",
    "    \n",
    "if target_type in ['categorical', 'special']:\n",
    "    num_classes = len(label_enc.classes_)\n",
    "    print(f\"Number of classes: {num_classes}\")"
   ]
  },
  {
   "cell_type": "markdown",
   "id": "bb2d7e4f-eb34-498b-bbc6-127eb4a7bdc8",
   "metadata": {},
   "source": [
    "### Create pytorch model"
   ]
  },
  {
   "cell_type": "code",
   "execution_count": 12,
   "id": "1a2c6527-fa75-42ba-be43-3d753ed8100c",
   "metadata": {},
   "outputs": [
    {
     "name": "stdout",
     "output_type": "stream",
     "text": [
      "Input dimension: 1024\n"
     ]
    },
    {
     "name": "stderr",
     "output_type": "stream",
     "text": [
      "/tmp/ipykernel_1392922/1890642612.py:11: UserWarning: The given NumPy array is not writable, and PyTorch does not support non-writable tensors. This means writing to this tensor will result in undefined behavior. You may want to copy the array to protect its data or make it writable before converting it to a tensor. This type of warning will be suppressed for the rest of this program. (Triggered internally at ../torch/csrc/utils/tensor_numpy.cpp:206.)\n",
      "  c_feature = torch.Tensor(self.parquet_data.iloc[idx]['feature'])\n"
     ]
    }
   ],
   "source": [
    "class LinearClassifier(nn.Module):\n",
    "    def __init__(self, input_dim, num_classes):\n",
    "        super(LinearClassifier, self).__init__()\n",
    "        self.linear = nn.Linear(input_dim, num_classes)\n",
    "        \n",
    "    def forward(self, x):\n",
    "        # Flatten the input except for the batch dimension\n",
    "        x = x.view(x.size(0), -1)\n",
    "        out = self.linear(x)\n",
    "        return out  # Raw logits\n",
    "\n",
    "# Determine the input dimension from a single sample\n",
    "# Assuming images are of shape [1, 16, 144, 320]\n",
    "sample_batch = next(iter(train_dl))\n",
    "sample_image = sample_batch[0][0]  # Shape: [1, 16, 144, 320]\n",
    "input_dim = sample_image.view(-1).size(0)\n",
    "print(f\"Input dimension: {input_dim}\")\n"
   ]
  },
  {
   "cell_type": "code",
   "execution_count": 13,
   "id": "b8983a0b-c810-4424-8c31-32b9921ebd9c",
   "metadata": {},
   "outputs": [
    {
     "name": "stdout",
     "output_type": "stream",
     "text": [
      "total_steps 27400\n"
     ]
    }
   ],
   "source": [
    "# Initialize the model\n",
    "if (target in [\"trial_type\", \"subject_id\"]) or (target in categorical_columns):\n",
    "    model = LinearClassifier(input_dim=input_dim, num_classes=num_classes)\n",
    "    criterion = nn.CrossEntropyLoss()\n",
    "\n",
    "elif target in numerical_columns:\n",
    "    model = LinearClassifier(input_dim=input_dim, num_classes=1)\n",
    "    criterion = nn.MSELoss()\n",
    "\n",
    "\n",
    "# Move the model to GPU if available\n",
    "device = torch.device('cuda' if torch.cuda.is_available() else 'cpu')\n",
    "model.to(device)\n",
    "\n",
    "# import schedulefree\n",
    "# optimizer = schedulefree.AdamWScheduleFree(model.parameters(), lr=learning_rate, weight_decay=weight_decay)\n",
    "optimizer = torch.optim.AdamW(model.parameters(), lr=max_lr, weight_decay=weight_decay)\n",
    "\n",
    "num_iterations_per_epoch = math.ceil(train_features.shape[0]/batch_size)\n",
    "\n",
    "if lr_scheduler_type == 'linear':\n",
    "    lr_scheduler = torch.optim.lr_scheduler.LinearLR(\n",
    "        optimizer,\n",
    "        total_iters=int(np.ceil(num_epochs*num_iterations_per_epoch)),\n",
    "        last_epoch=-1\n",
    "    )\n",
    "elif lr_scheduler_type == 'cycle':\n",
    "    total_steps=int(np.ceil(num_epochs*num_iterations_per_epoch))\n",
    "    print(\"total_steps\", total_steps)\n",
    "    lr_scheduler = torch.optim.lr_scheduler.OneCycleLR(\n",
    "        optimizer, \n",
    "        max_lr=max_lr,\n",
    "        total_steps=total_steps,\n",
    "        final_div_factor=1000,\n",
    "        last_epoch=-1, pct_start=2/num_epochs\n",
    "    )\n"
   ]
  },
  {
   "cell_type": "markdown",
   "id": "6b205b2c-730c-4d9e-89b7-c28031de78a7",
   "metadata": {},
   "source": [
    "### Wandb logging"
   ]
  },
  {
   "cell_type": "code",
   "execution_count": 14,
   "id": "63ce8f26-a1b9-4e29-badc-7b9b30d0d3b3",
   "metadata": {},
   "outputs": [
    {
     "name": "stdout",
     "output_type": "stream",
     "text": [
      "Running in interactive notebook. Disabling W&B and ckpt saving.\n"
     ]
    }
   ],
   "source": [
    "import wandb\n",
    "import uuid\n",
    "\n",
    "myuuid = uuid.uuid4()\n",
    "str(myuuid)\n",
    "if utils.is_interactive():\n",
    "    print(\"Running in interactive notebook. Disabling W&B and ckpt saving.\")\n",
    "    wandb_log = False\n",
    "    save_ckpt = False\n",
    "\n",
    "if wandb_log:\n",
    "    wandb_project = 'fMRI-foundation-model'\n",
    "    wandb_config = {\n",
    "        \"model_name\": f\"HCPflat_raw_{target}\",\n",
    "        \"batch_size\": batch_size,\n",
    "        \"weight_decay\": weight_decay,\n",
    "        \"num_epochs\": num_epochs,\n",
    "        \"seed\": seed,\n",
    "        \"lr_scheduler_type\": lr_scheduler_type,\n",
    "        \"save_ckpt\": save_ckpt,\n",
    "        \"seed\": seed,\n",
    "        \"max_lr\": max_lr,\n",
    "        \"target\": target,\n",
    "        \"num_workers\": num_workers,\n",
    "        \"weight_decay\": weight_decay\n",
    "    }\n",
    "    print(\"wandb_config:\\n\", wandb_config)\n",
    "    random_id = random.randint(0, 100000)\n",
    "    wandb_id = \"HCPflat_raw\" + f\"_{model_suffix}_{target}_{myuuid}\"\n",
    "    print(\"wandb_id:\", wandb_id)\n",
    "    wandb.init(\n",
    "        id=wandb_id,\n",
    "        project=wandb_project,\n",
    "        name=\"HCPflat_raw\"+ f\"_{model_suffix}_{target}\",\n",
    "        config=wandb_config,\n",
    "        resume=\"allow\",\n",
    "    )"
   ]
  },
  {
   "cell_type": "markdown",
   "id": "b7d87e5c-94fc-4528-b2eb-65ef59c79634",
   "metadata": {},
   "source": [
    "### Training loop"
   ]
  },
  {
   "cell_type": "code",
   "execution_count": 15,
   "id": "f43535f4-0f6e-4655-b4f0-926416685358",
   "metadata": {},
   "outputs": [
    {
     "data": {
      "application/vnd.jupyter.widget-view+json": {
       "model_id": "71862f9f0c6b4956bb78b224386deb28",
       "version_major": 2,
       "version_minor": 0
      },
      "text/plain": [
       "Epoch 1/40 - Training:   0%|          | 0/685 [00:00<?, ?it/s]"
      ]
     },
     "metadata": {},
     "output_type": "display_data"
    },
    {
     "name": "stdout",
     "output_type": "stream",
     "text": [
      "Step [100/685] - Training Loss: 7.0651 - Training Accuracy: 0.09%\n",
      "Step [200/685] - Training Loss: 7.0668 - Training Accuracy: 0.15%\n",
      "Step [300/685] - Training Loss: 7.0299 - Training Accuracy: 0.16%\n",
      "Step [400/685] - Training Loss: 7.1200 - Training Accuracy: 0.22%\n",
      "Step [500/685] - Training Loss: 7.1347 - Training Accuracy: 0.26%\n",
      "Step [600/685] - Training Loss: 7.1563 - Training Accuracy: 0.30%\n"
     ]
    },
    {
     "data": {
      "application/vnd.jupyter.widget-view+json": {
       "model_id": "aabfa0307add4eac9feabbe9c52916e2",
       "version_major": 2,
       "version_minor": 0
      },
      "text/plain": [
       "Epoch 1/40 - Validation:   0%|          | 0/75 [00:00<?, ?it/s]"
      ]
     },
     "metadata": {},
     "output_type": "display_data"
    },
    {
     "name": "stdout",
     "output_type": "stream",
     "text": [
      "Epoch [1/40] - Training Loss: 7.0663, Training Accuracy: 0.35% - Validation Loss: 7.2991, Validation Accuracy: 0.69%\n"
     ]
    },
    {
     "data": {
      "application/vnd.jupyter.widget-view+json": {
       "model_id": "adb128c01b864880a896d18b4e196b53",
       "version_major": 2,
       "version_minor": 0
      },
      "text/plain": [
       "Epoch 2/40 - Training:   0%|          | 0/685 [00:00<?, ?it/s]"
      ]
     },
     "metadata": {},
     "output_type": "display_data"
    },
    {
     "name": "stdout",
     "output_type": "stream",
     "text": [
      "Step [100/685] - Training Loss: 7.1502 - Training Accuracy: 0.90%\n",
      "Step [200/685] - Training Loss: 7.5711 - Training Accuracy: 0.83%\n",
      "Step [300/685] - Training Loss: 7.4754 - Training Accuracy: 0.86%\n",
      "Step [400/685] - Training Loss: 7.4018 - Training Accuracy: 0.86%\n",
      "Step [500/685] - Training Loss: 7.9718 - Training Accuracy: 0.94%\n",
      "Step [600/685] - Training Loss: 7.6814 - Training Accuracy: 0.99%\n"
     ]
    },
    {
     "data": {
      "application/vnd.jupyter.widget-view+json": {
       "model_id": "f08d6e0298c449b6aa8fe96e4ade9960",
       "version_major": 2,
       "version_minor": 0
      },
      "text/plain": [
       "Epoch 2/40 - Validation:   0%|          | 0/75 [00:00<?, ?it/s]"
      ]
     },
     "metadata": {},
     "output_type": "display_data"
    },
    {
     "name": "stdout",
     "output_type": "stream",
     "text": [
      "Epoch [2/40] - Training Loss: 7.3618, Training Accuracy: 1.03% - Validation Loss: 6.9951, Validation Accuracy: 1.19%\n"
     ]
    },
    {
     "data": {
      "application/vnd.jupyter.widget-view+json": {
       "model_id": "30bd474898244d83bf79c3804d8b2af1",
       "version_major": 2,
       "version_minor": 0
      },
      "text/plain": [
       "Epoch 3/40 - Training:   0%|          | 0/685 [00:00<?, ?it/s]"
      ]
     },
     "metadata": {},
     "output_type": "display_data"
    },
    {
     "name": "stdout",
     "output_type": "stream",
     "text": [
      "Step [100/685] - Training Loss: 7.0974 - Training Accuracy: 2.18%\n",
      "Step [200/685] - Training Loss: 6.7064 - Training Accuracy: 2.02%\n",
      "Step [300/685] - Training Loss: 7.1806 - Training Accuracy: 1.96%\n",
      "Step [400/685] - Training Loss: 7.1565 - Training Accuracy: 2.04%\n",
      "Step [500/685] - Training Loss: 6.7765 - Training Accuracy: 2.10%\n",
      "Step [600/685] - Training Loss: 7.4101 - Training Accuracy: 2.11%\n"
     ]
    },
    {
     "data": {
      "application/vnd.jupyter.widget-view+json": {
       "model_id": "e4a46fd5402e4da1a2a7c8e844fb8489",
       "version_major": 2,
       "version_minor": 0
      },
      "text/plain": [
       "Epoch 3/40 - Validation:   0%|          | 0/75 [00:00<?, ?it/s]"
      ]
     },
     "metadata": {},
     "output_type": "display_data"
    },
    {
     "name": "stdout",
     "output_type": "stream",
     "text": [
      "Epoch [3/40] - Training Loss: 7.0958, Training Accuracy: 2.11% - Validation Loss: 7.4936, Validation Accuracy: 1.68%\n"
     ]
    },
    {
     "data": {
      "application/vnd.jupyter.widget-view+json": {
       "model_id": "32e7d315fe9c45cea6d20dc2c6709060",
       "version_major": 2,
       "version_minor": 0
      },
      "text/plain": [
       "Epoch 4/40 - Training:   0%|          | 0/685 [00:00<?, ?it/s]"
      ]
     },
     "metadata": {},
     "output_type": "display_data"
    },
    {
     "name": "stdout",
     "output_type": "stream",
     "text": [
      "Step [100/685] - Training Loss: 6.7011 - Training Accuracy: 3.45%\n",
      "Step [200/685] - Training Loss: 6.8007 - Training Accuracy: 3.29%\n",
      "Step [300/685] - Training Loss: 6.7754 - Training Accuracy: 3.22%\n",
      "Step [400/685] - Training Loss: 6.8147 - Training Accuracy: 3.20%\n",
      "Step [500/685] - Training Loss: 6.9430 - Training Accuracy: 3.19%\n",
      "Step [600/685] - Training Loss: 6.5853 - Training Accuracy: 3.21%\n"
     ]
    },
    {
     "data": {
      "application/vnd.jupyter.widget-view+json": {
       "model_id": "b794fc9c16c64b59b6784995c7033664",
       "version_major": 2,
       "version_minor": 0
      },
      "text/plain": [
       "Epoch 4/40 - Validation:   0%|          | 0/75 [00:00<?, ?it/s]"
      ]
     },
     "metadata": {},
     "output_type": "display_data"
    },
    {
     "name": "stdout",
     "output_type": "stream",
     "text": [
      "Epoch [4/40] - Training Loss: 6.7169, Training Accuracy: 3.23% - Validation Loss: 6.5050, Validation Accuracy: 2.40%\n"
     ]
    },
    {
     "data": {
      "application/vnd.jupyter.widget-view+json": {
       "model_id": "d4f92b9940ef4d4ab255e776853f3b89",
       "version_major": 2,
       "version_minor": 0
      },
      "text/plain": [
       "Epoch 5/40 - Training:   0%|          | 0/685 [00:00<?, ?it/s]"
      ]
     },
     "metadata": {},
     "output_type": "display_data"
    },
    {
     "name": "stdout",
     "output_type": "stream",
     "text": [
      "Step [100/685] - Training Loss: 6.7308 - Training Accuracy: 4.62%\n",
      "Step [200/685] - Training Loss: 6.3986 - Training Accuracy: 4.39%\n",
      "Step [300/685] - Training Loss: 6.2805 - Training Accuracy: 4.42%\n",
      "Step [400/685] - Training Loss: 6.4492 - Training Accuracy: 4.42%\n",
      "Step [500/685] - Training Loss: 6.3174 - Training Accuracy: 4.43%\n",
      "Step [600/685] - Training Loss: 6.5973 - Training Accuracy: 4.47%\n"
     ]
    },
    {
     "data": {
      "application/vnd.jupyter.widget-view+json": {
       "model_id": "618fbcbb5b304f67a7cb7c9e10391e08",
       "version_major": 2,
       "version_minor": 0
      },
      "text/plain": [
       "Epoch 5/40 - Validation:   0%|          | 0/75 [00:00<?, ?it/s]"
      ]
     },
     "metadata": {},
     "output_type": "display_data"
    },
    {
     "name": "stdout",
     "output_type": "stream",
     "text": [
      "Epoch [5/40] - Training Loss: 6.4212, Training Accuracy: 4.44% - Validation Loss: 6.2611, Validation Accuracy: 2.47%\n"
     ]
    },
    {
     "data": {
      "application/vnd.jupyter.widget-view+json": {
       "model_id": "a2d89f8b39e64c0487c75b8aa4b82448",
       "version_major": 2,
       "version_minor": 0
      },
      "text/plain": [
       "Epoch 6/40 - Training:   0%|          | 0/685 [00:00<?, ?it/s]"
      ]
     },
     "metadata": {},
     "output_type": "display_data"
    },
    {
     "name": "stdout",
     "output_type": "stream",
     "text": [
      "Step [100/685] - Training Loss: 6.3730 - Training Accuracy: 6.18%\n",
      "Step [200/685] - Training Loss: 5.8078 - Training Accuracy: 5.95%\n",
      "Step [300/685] - Training Loss: 6.3007 - Training Accuracy: 5.94%\n",
      "Step [400/685] - Training Loss: 6.1255 - Training Accuracy: 5.88%\n",
      "Step [500/685] - Training Loss: 6.4644 - Training Accuracy: 5.78%\n",
      "Step [600/685] - Training Loss: 6.0168 - Training Accuracy: 5.71%\n"
     ]
    },
    {
     "data": {
      "application/vnd.jupyter.widget-view+json": {
       "model_id": "15d4de91a3a14811a5f8994eec77a65b",
       "version_major": 2,
       "version_minor": 0
      },
      "text/plain": [
       "Epoch 6/40 - Validation:   0%|          | 0/75 [00:00<?, ?it/s]"
      ]
     },
     "metadata": {},
     "output_type": "display_data"
    },
    {
     "name": "stdout",
     "output_type": "stream",
     "text": [
      "Epoch [6/40] - Training Loss: 6.1870, Training Accuracy: 5.75% - Validation Loss: 6.5903, Validation Accuracy: 2.98%\n"
     ]
    },
    {
     "data": {
      "application/vnd.jupyter.widget-view+json": {
       "model_id": "38c4d97c95d3420ab5fc6a62c890d2b7",
       "version_major": 2,
       "version_minor": 0
      },
      "text/plain": [
       "Epoch 7/40 - Training:   0%|          | 0/685 [00:00<?, ?it/s]"
      ]
     },
     "metadata": {},
     "output_type": "display_data"
    },
    {
     "name": "stdout",
     "output_type": "stream",
     "text": [
      "Step [100/685] - Training Loss: 5.9370 - Training Accuracy: 7.31%\n",
      "Step [200/685] - Training Loss: 6.3515 - Training Accuracy: 6.99%\n",
      "Step [300/685] - Training Loss: 5.6957 - Training Accuracy: 6.94%\n",
      "Step [400/685] - Training Loss: 6.0466 - Training Accuracy: 6.94%\n",
      "Step [500/685] - Training Loss: 5.5124 - Training Accuracy: 6.98%\n",
      "Step [600/685] - Training Loss: 6.1644 - Training Accuracy: 6.89%\n"
     ]
    },
    {
     "data": {
      "application/vnd.jupyter.widget-view+json": {
       "model_id": "c1423c95321f4d429634558ddf643abe",
       "version_major": 2,
       "version_minor": 0
      },
      "text/plain": [
       "Epoch 7/40 - Validation:   0%|          | 0/75 [00:00<?, ?it/s]"
      ]
     },
     "metadata": {},
     "output_type": "display_data"
    },
    {
     "name": "stdout",
     "output_type": "stream",
     "text": [
      "Epoch [7/40] - Training Loss: 5.9845, Training Accuracy: 6.85% - Validation Loss: 5.8626, Validation Accuracy: 3.45%\n"
     ]
    },
    {
     "data": {
      "application/vnd.jupyter.widget-view+json": {
       "model_id": "e045f60535334f3b8b0edd060134a866",
       "version_major": 2,
       "version_minor": 0
      },
      "text/plain": [
       "Epoch 8/40 - Training:   0%|          | 0/685 [00:00<?, ?it/s]"
      ]
     },
     "metadata": {},
     "output_type": "display_data"
    },
    {
     "name": "stdout",
     "output_type": "stream",
     "text": [
      "Step [100/685] - Training Loss: 5.6255 - Training Accuracy: 8.65%\n",
      "Step [200/685] - Training Loss: 5.4993 - Training Accuracy: 8.56%\n",
      "Step [300/685] - Training Loss: 5.5303 - Training Accuracy: 8.47%\n",
      "Step [400/685] - Training Loss: 5.6364 - Training Accuracy: 8.33%\n",
      "Step [500/685] - Training Loss: 5.6967 - Training Accuracy: 8.18%\n",
      "Step [600/685] - Training Loss: 6.0530 - Training Accuracy: 8.07%\n"
     ]
    },
    {
     "data": {
      "application/vnd.jupyter.widget-view+json": {
       "model_id": "456569102fcf4036905db860f8bd8633",
       "version_major": 2,
       "version_minor": 0
      },
      "text/plain": [
       "Epoch 8/40 - Validation:   0%|          | 0/75 [00:00<?, ?it/s]"
      ]
     },
     "metadata": {},
     "output_type": "display_data"
    },
    {
     "name": "stdout",
     "output_type": "stream",
     "text": [
      "Epoch [8/40] - Training Loss: 5.7896, Training Accuracy: 8.01% - Validation Loss: 5.9707, Validation Accuracy: 3.09%\n"
     ]
    },
    {
     "data": {
      "application/vnd.jupyter.widget-view+json": {
       "model_id": "90dd4412d6fb4d04a6c93090a1ecdef9",
       "version_major": 2,
       "version_minor": 0
      },
      "text/plain": [
       "Epoch 9/40 - Training:   0%|          | 0/685 [00:00<?, ?it/s]"
      ]
     },
     "metadata": {},
     "output_type": "display_data"
    },
    {
     "name": "stdout",
     "output_type": "stream",
     "text": [
      "Step [100/685] - Training Loss: 5.3207 - Training Accuracy: 9.27%\n",
      "Step [200/685] - Training Loss: 5.5739 - Training Accuracy: 9.32%\n",
      "Step [300/685] - Training Loss: 5.5583 - Training Accuracy: 9.17%\n",
      "Step [400/685] - Training Loss: 5.7431 - Training Accuracy: 9.08%\n",
      "Step [500/685] - Training Loss: 5.5405 - Training Accuracy: 9.08%\n",
      "Step [600/685] - Training Loss: 5.7401 - Training Accuracy: 9.10%\n"
     ]
    },
    {
     "data": {
      "application/vnd.jupyter.widget-view+json": {
       "model_id": "506b11075472401c885c2b88c8471d17",
       "version_major": 2,
       "version_minor": 0
      },
      "text/plain": [
       "Epoch 9/40 - Validation:   0%|          | 0/75 [00:00<?, ?it/s]"
      ]
     },
     "metadata": {},
     "output_type": "display_data"
    },
    {
     "name": "stdout",
     "output_type": "stream",
     "text": [
      "Epoch [9/40] - Training Loss: 5.6153, Training Accuracy: 9.10% - Validation Loss: 5.5362, Validation Accuracy: 4.06%\n"
     ]
    },
    {
     "data": {
      "application/vnd.jupyter.widget-view+json": {
       "model_id": "778c7953a3184dcea92554c3e7dbf857",
       "version_major": 2,
       "version_minor": 0
      },
      "text/plain": [
       "Epoch 10/40 - Training:   0%|          | 0/685 [00:00<?, ?it/s]"
      ]
     },
     "metadata": {},
     "output_type": "display_data"
    },
    {
     "name": "stdout",
     "output_type": "stream",
     "text": [
      "Step [100/685] - Training Loss: 5.7526 - Training Accuracy: 11.02%\n",
      "Step [200/685] - Training Loss: 5.5888 - Training Accuracy: 10.58%\n",
      "Step [300/685] - Training Loss: 5.5501 - Training Accuracy: 10.53%\n",
      "Step [400/685] - Training Loss: 5.4063 - Training Accuracy: 10.62%\n",
      "Step [500/685] - Training Loss: 5.7607 - Training Accuracy: 10.59%\n",
      "Step [600/685] - Training Loss: 5.0256 - Training Accuracy: 10.55%\n"
     ]
    },
    {
     "data": {
      "application/vnd.jupyter.widget-view+json": {
       "model_id": "26602b9d035f4e438fb8f66a9c6c0c18",
       "version_major": 2,
       "version_minor": 0
      },
      "text/plain": [
       "Epoch 10/40 - Validation:   0%|          | 0/75 [00:00<?, ?it/s]"
      ]
     },
     "metadata": {},
     "output_type": "display_data"
    },
    {
     "name": "stdout",
     "output_type": "stream",
     "text": [
      "Epoch [10/40] - Training Loss: 5.4421, Training Accuracy: 10.48% - Validation Loss: 5.7312, Validation Accuracy: 4.01%\n"
     ]
    },
    {
     "data": {
      "application/vnd.jupyter.widget-view+json": {
       "model_id": "0be367eb411a40a89279cf3baba8b057",
       "version_major": 2,
       "version_minor": 0
      },
      "text/plain": [
       "Epoch 11/40 - Training:   0%|          | 0/685 [00:00<?, ?it/s]"
      ]
     },
     "metadata": {},
     "output_type": "display_data"
    },
    {
     "name": "stdout",
     "output_type": "stream",
     "text": [
      "Step [100/685] - Training Loss: 5.5524 - Training Accuracy: 11.71%\n",
      "Step [200/685] - Training Loss: 4.8207 - Training Accuracy: 11.50%\n",
      "Step [300/685] - Training Loss: 4.7786 - Training Accuracy: 11.49%\n",
      "Step [400/685] - Training Loss: 5.4091 - Training Accuracy: 11.48%\n",
      "Step [500/685] - Training Loss: 4.5513 - Training Accuracy: 11.39%\n",
      "Step [600/685] - Training Loss: 5.4039 - Training Accuracy: 11.39%\n"
     ]
    },
    {
     "data": {
      "application/vnd.jupyter.widget-view+json": {
       "model_id": "19bdd7fa7c094918b4d20057e93df10d",
       "version_major": 2,
       "version_minor": 0
      },
      "text/plain": [
       "Epoch 11/40 - Validation:   0%|          | 0/75 [00:00<?, ?it/s]"
      ]
     },
     "metadata": {},
     "output_type": "display_data"
    },
    {
     "name": "stdout",
     "output_type": "stream",
     "text": [
      "Epoch [11/40] - Training Loss: 5.2891, Training Accuracy: 11.39% - Validation Loss: 5.2787, Validation Accuracy: 4.66%\n"
     ]
    },
    {
     "data": {
      "application/vnd.jupyter.widget-view+json": {
       "model_id": "d696ab9954a64dfb96a8556cc20f792d",
       "version_major": 2,
       "version_minor": 0
      },
      "text/plain": [
       "Epoch 12/40 - Training:   0%|          | 0/685 [00:00<?, ?it/s]"
      ]
     },
     "metadata": {},
     "output_type": "display_data"
    },
    {
     "name": "stdout",
     "output_type": "stream",
     "text": [
      "Step [100/685] - Training Loss: 5.3529 - Training Accuracy: 13.20%\n",
      "Step [200/685] - Training Loss: 5.3526 - Training Accuracy: 12.95%\n",
      "Step [300/685] - Training Loss: 5.1360 - Training Accuracy: 12.99%\n",
      "Step [400/685] - Training Loss: 4.8241 - Training Accuracy: 13.00%\n",
      "Step [500/685] - Training Loss: 4.8139 - Training Accuracy: 12.94%\n",
      "Step [600/685] - Training Loss: 5.6051 - Training Accuracy: 12.88%\n"
     ]
    },
    {
     "data": {
      "application/vnd.jupyter.widget-view+json": {
       "model_id": "dc9dc993181443fcb0ecd67846d798ca",
       "version_major": 2,
       "version_minor": 0
      },
      "text/plain": [
       "Epoch 12/40 - Validation:   0%|          | 0/75 [00:00<?, ?it/s]"
      ]
     },
     "metadata": {},
     "output_type": "display_data"
    },
    {
     "name": "stdout",
     "output_type": "stream",
     "text": [
      "Epoch [12/40] - Training Loss: 5.1394, Training Accuracy: 12.79% - Validation Loss: 4.9638, Validation Accuracy: 4.72%\n"
     ]
    },
    {
     "data": {
      "application/vnd.jupyter.widget-view+json": {
       "model_id": "05d66572177644e497b1f921d15b9034",
       "version_major": 2,
       "version_minor": 0
      },
      "text/plain": [
       "Epoch 13/40 - Training:   0%|          | 0/685 [00:00<?, ?it/s]"
      ]
     },
     "metadata": {},
     "output_type": "display_data"
    },
    {
     "name": "stdout",
     "output_type": "stream",
     "text": [
      "Step [100/685] - Training Loss: 4.6580 - Training Accuracy: 14.29%\n",
      "Step [200/685] - Training Loss: 4.9083 - Training Accuracy: 14.35%\n",
      "Step [300/685] - Training Loss: 4.9828 - Training Accuracy: 14.17%\n",
      "Step [400/685] - Training Loss: 4.9253 - Training Accuracy: 14.01%\n",
      "Step [500/685] - Training Loss: 4.9516 - Training Accuracy: 13.94%\n",
      "Step [600/685] - Training Loss: 5.2470 - Training Accuracy: 13.90%\n"
     ]
    },
    {
     "data": {
      "application/vnd.jupyter.widget-view+json": {
       "model_id": "a89984ae971f45cc85583501c6ee072f",
       "version_major": 2,
       "version_minor": 0
      },
      "text/plain": [
       "Epoch 13/40 - Validation:   0%|          | 0/75 [00:00<?, ?it/s]"
      ]
     },
     "metadata": {},
     "output_type": "display_data"
    },
    {
     "name": "stdout",
     "output_type": "stream",
     "text": [
      "Epoch [13/40] - Training Loss: 5.0040, Training Accuracy: 13.86% - Validation Loss: 5.1335, Validation Accuracy: 5.76%\n"
     ]
    },
    {
     "data": {
      "application/vnd.jupyter.widget-view+json": {
       "model_id": "b7ef9a1926b749bf8364b76aa91a9d66",
       "version_major": 2,
       "version_minor": 0
      },
      "text/plain": [
       "Epoch 14/40 - Training:   0%|          | 0/685 [00:00<?, ?it/s]"
      ]
     },
     "metadata": {},
     "output_type": "display_data"
    },
    {
     "name": "stdout",
     "output_type": "stream",
     "text": [
      "Step [100/685] - Training Loss: 4.9697 - Training Accuracy: 15.98%\n",
      "Step [200/685] - Training Loss: 4.8468 - Training Accuracy: 15.44%\n",
      "Step [300/685] - Training Loss: 5.0241 - Training Accuracy: 15.31%\n",
      "Step [400/685] - Training Loss: 4.8068 - Training Accuracy: 15.22%\n",
      "Step [500/685] - Training Loss: 4.7189 - Training Accuracy: 15.22%\n",
      "Step [600/685] - Training Loss: 4.8032 - Training Accuracy: 15.19%\n"
     ]
    },
    {
     "data": {
      "application/vnd.jupyter.widget-view+json": {
       "model_id": "59e32f00d07d425c9547f02eabf1a1b0",
       "version_major": 2,
       "version_minor": 0
      },
      "text/plain": [
       "Epoch 14/40 - Validation:   0%|          | 0/75 [00:00<?, ?it/s]"
      ]
     },
     "metadata": {},
     "output_type": "display_data"
    },
    {
     "name": "stdout",
     "output_type": "stream",
     "text": [
      "Epoch [14/40] - Training Loss: 4.8605, Training Accuracy: 15.23% - Validation Loss: 5.0107, Validation Accuracy: 5.50%\n"
     ]
    },
    {
     "data": {
      "application/vnd.jupyter.widget-view+json": {
       "model_id": "bbd23195edf548458c95f93fec9cca02",
       "version_major": 2,
       "version_minor": 0
      },
      "text/plain": [
       "Epoch 15/40 - Training:   0%|          | 0/685 [00:00<?, ?it/s]"
      ]
     },
     "metadata": {},
     "output_type": "display_data"
    },
    {
     "name": "stdout",
     "output_type": "stream",
     "text": [
      "Step [100/685] - Training Loss: 4.4213 - Training Accuracy: 17.16%\n",
      "Step [200/685] - Training Loss: 4.4352 - Training Accuracy: 17.10%\n",
      "Step [300/685] - Training Loss: 4.7139 - Training Accuracy: 16.91%\n",
      "Step [400/685] - Training Loss: 4.9286 - Training Accuracy: 16.69%\n",
      "Step [500/685] - Training Loss: 5.0116 - Training Accuracy: 16.71%\n",
      "Step [600/685] - Training Loss: 4.8148 - Training Accuracy: 16.54%\n"
     ]
    },
    {
     "data": {
      "application/vnd.jupyter.widget-view+json": {
       "model_id": "087b089f3bdf41af95ccf43b17451392",
       "version_major": 2,
       "version_minor": 0
      },
      "text/plain": [
       "Epoch 15/40 - Validation:   0%|          | 0/75 [00:00<?, ?it/s]"
      ]
     },
     "metadata": {},
     "output_type": "display_data"
    },
    {
     "name": "stdout",
     "output_type": "stream",
     "text": [
      "Epoch [15/40] - Training Loss: 4.7200, Training Accuracy: 16.47% - Validation Loss: 4.8986, Validation Accuracy: 5.56%\n"
     ]
    },
    {
     "data": {
      "application/vnd.jupyter.widget-view+json": {
       "model_id": "4bc97ebf12724a24bfd9a8d9e3b60209",
       "version_major": 2,
       "version_minor": 0
      },
      "text/plain": [
       "Epoch 16/40 - Training:   0%|          | 0/685 [00:00<?, ?it/s]"
      ]
     },
     "metadata": {},
     "output_type": "display_data"
    },
    {
     "name": "stdout",
     "output_type": "stream",
     "text": [
      "Step [100/685] - Training Loss: 4.3435 - Training Accuracy: 18.16%\n",
      "Step [200/685] - Training Loss: 4.3457 - Training Accuracy: 17.95%\n",
      "Step [300/685] - Training Loss: 4.8304 - Training Accuracy: 17.81%\n",
      "Step [400/685] - Training Loss: 4.3093 - Training Accuracy: 17.71%\n",
      "Step [500/685] - Training Loss: 4.9439 - Training Accuracy: 17.56%\n",
      "Step [600/685] - Training Loss: 4.7677 - Training Accuracy: 17.47%\n"
     ]
    },
    {
     "data": {
      "application/vnd.jupyter.widget-view+json": {
       "model_id": "e0c6118b7e0d4801827d2b6d97ba7ab9",
       "version_major": 2,
       "version_minor": 0
      },
      "text/plain": [
       "Epoch 16/40 - Validation:   0%|          | 0/75 [00:00<?, ?it/s]"
      ]
     },
     "metadata": {},
     "output_type": "display_data"
    },
    {
     "name": "stdout",
     "output_type": "stream",
     "text": [
      "Epoch [16/40] - Training Loss: 4.5944, Training Accuracy: 17.50% - Validation Loss: 4.5564, Validation Accuracy: 6.11%\n"
     ]
    },
    {
     "data": {
      "application/vnd.jupyter.widget-view+json": {
       "model_id": "02afb4174d264e51966a5869c39e84ed",
       "version_major": 2,
       "version_minor": 0
      },
      "text/plain": [
       "Epoch 17/40 - Training:   0%|          | 0/685 [00:00<?, ?it/s]"
      ]
     },
     "metadata": {},
     "output_type": "display_data"
    },
    {
     "name": "stdout",
     "output_type": "stream",
     "text": [
      "Step [100/685] - Training Loss: 4.6131 - Training Accuracy: 19.31%\n",
      "Step [200/685] - Training Loss: 4.2037 - Training Accuracy: 19.21%\n",
      "Step [300/685] - Training Loss: 4.3686 - Training Accuracy: 19.09%\n",
      "Step [400/685] - Training Loss: 4.1070 - Training Accuracy: 18.94%\n",
      "Step [500/685] - Training Loss: 4.4315 - Training Accuracy: 18.89%\n",
      "Step [600/685] - Training Loss: 4.5392 - Training Accuracy: 18.80%\n"
     ]
    },
    {
     "data": {
      "application/vnd.jupyter.widget-view+json": {
       "model_id": "34b92a8f51af482c89f5c2be45abc3e5",
       "version_major": 2,
       "version_minor": 0
      },
      "text/plain": [
       "Epoch 17/40 - Validation:   0%|          | 0/75 [00:00<?, ?it/s]"
      ]
     },
     "metadata": {},
     "output_type": "display_data"
    },
    {
     "name": "stdout",
     "output_type": "stream",
     "text": [
      "Epoch [17/40] - Training Loss: 4.4756, Training Accuracy: 18.75% - Validation Loss: 4.1061, Validation Accuracy: 6.56%\n"
     ]
    },
    {
     "data": {
      "application/vnd.jupyter.widget-view+json": {
       "model_id": "4f526f12b4ee44dbaeb5513c60da226d",
       "version_major": 2,
       "version_minor": 0
      },
      "text/plain": [
       "Epoch 18/40 - Training:   0%|          | 0/685 [00:00<?, ?it/s]"
      ]
     },
     "metadata": {},
     "output_type": "display_data"
    },
    {
     "name": "stdout",
     "output_type": "stream",
     "text": [
      "Step [100/685] - Training Loss: 4.5647 - Training Accuracy: 20.76%\n",
      "Step [200/685] - Training Loss: 4.4254 - Training Accuracy: 20.95%\n",
      "Step [300/685] - Training Loss: 4.4038 - Training Accuracy: 20.77%\n",
      "Step [400/685] - Training Loss: 4.0970 - Training Accuracy: 20.57%\n",
      "Step [500/685] - Training Loss: 4.2747 - Training Accuracy: 20.53%\n",
      "Step [600/685] - Training Loss: 4.3488 - Training Accuracy: 20.42%\n"
     ]
    },
    {
     "data": {
      "application/vnd.jupyter.widget-view+json": {
       "model_id": "3b9267bfe531479692f33eeeebcb975d",
       "version_major": 2,
       "version_minor": 0
      },
      "text/plain": [
       "Epoch 18/40 - Validation:   0%|          | 0/75 [00:00<?, ?it/s]"
      ]
     },
     "metadata": {},
     "output_type": "display_data"
    },
    {
     "name": "stdout",
     "output_type": "stream",
     "text": [
      "Epoch [18/40] - Training Loss: 4.3524, Training Accuracy: 20.32% - Validation Loss: 4.1377, Validation Accuracy: 7.08%\n"
     ]
    },
    {
     "data": {
      "application/vnd.jupyter.widget-view+json": {
       "model_id": "ca879a99ac4b490db4539b0831a0fe0e",
       "version_major": 2,
       "version_minor": 0
      },
      "text/plain": [
       "Epoch 19/40 - Training:   0%|          | 0/685 [00:00<?, ?it/s]"
      ]
     },
     "metadata": {},
     "output_type": "display_data"
    },
    {
     "name": "stdout",
     "output_type": "stream",
     "text": [
      "Step [100/685] - Training Loss: 3.9783 - Training Accuracy: 22.03%\n",
      "Step [200/685] - Training Loss: 4.3368 - Training Accuracy: 22.04%\n",
      "Step [300/685] - Training Loss: 4.4020 - Training Accuracy: 21.98%\n",
      "Step [400/685] - Training Loss: 4.3665 - Training Accuracy: 21.80%\n",
      "Step [500/685] - Training Loss: 4.2211 - Training Accuracy: 21.78%\n",
      "Step [600/685] - Training Loss: 3.7774 - Training Accuracy: 21.76%\n"
     ]
    },
    {
     "data": {
      "application/vnd.jupyter.widget-view+json": {
       "model_id": "b202da91f08841229a6adec59a906390",
       "version_major": 2,
       "version_minor": 0
      },
      "text/plain": [
       "Epoch 19/40 - Validation:   0%|          | 0/75 [00:00<?, ?it/s]"
      ]
     },
     "metadata": {},
     "output_type": "display_data"
    },
    {
     "name": "stdout",
     "output_type": "stream",
     "text": [
      "Epoch [19/40] - Training Loss: 4.2354, Training Accuracy: 21.74% - Validation Loss: 4.4352, Validation Accuracy: 6.84%\n"
     ]
    },
    {
     "data": {
      "application/vnd.jupyter.widget-view+json": {
       "model_id": "c650d3bb0cd94565a96bd37887aeb27d",
       "version_major": 2,
       "version_minor": 0
      },
      "text/plain": [
       "Epoch 20/40 - Training:   0%|          | 0/685 [00:00<?, ?it/s]"
      ]
     },
     "metadata": {},
     "output_type": "display_data"
    },
    {
     "name": "stdout",
     "output_type": "stream",
     "text": [
      "Step [100/685] - Training Loss: 4.2901 - Training Accuracy: 23.79%\n",
      "Step [200/685] - Training Loss: 3.5569 - Training Accuracy: 23.37%\n",
      "Step [300/685] - Training Loss: 4.4184 - Training Accuracy: 23.15%\n",
      "Step [400/685] - Training Loss: 4.0333 - Training Accuracy: 23.13%\n",
      "Step [500/685] - Training Loss: 4.0910 - Training Accuracy: 23.16%\n",
      "Step [600/685] - Training Loss: 3.9474 - Training Accuracy: 23.07%\n"
     ]
    },
    {
     "data": {
      "application/vnd.jupyter.widget-view+json": {
       "model_id": "0020929cc8664e1496ddcf88528860ad",
       "version_major": 2,
       "version_minor": 0
      },
      "text/plain": [
       "Epoch 20/40 - Validation:   0%|          | 0/75 [00:00<?, ?it/s]"
      ]
     },
     "metadata": {},
     "output_type": "display_data"
    },
    {
     "name": "stdout",
     "output_type": "stream",
     "text": [
      "Epoch [20/40] - Training Loss: 4.1185, Training Accuracy: 23.02% - Validation Loss: 4.1839, Validation Accuracy: 7.66%\n"
     ]
    },
    {
     "data": {
      "application/vnd.jupyter.widget-view+json": {
       "model_id": "07f39479813140788fcb6b6f115cb271",
       "version_major": 2,
       "version_minor": 0
      },
      "text/plain": [
       "Epoch 21/40 - Training:   0%|          | 0/685 [00:00<?, ?it/s]"
      ]
     },
     "metadata": {},
     "output_type": "display_data"
    },
    {
     "name": "stdout",
     "output_type": "stream",
     "text": [
      "Step [100/685] - Training Loss: 3.8594 - Training Accuracy: 25.06%\n",
      "Step [200/685] - Training Loss: 3.6599 - Training Accuracy: 24.71%\n",
      "Step [300/685] - Training Loss: 4.0577 - Training Accuracy: 24.42%\n",
      "Step [400/685] - Training Loss: 3.7699 - Training Accuracy: 24.46%\n",
      "Step [500/685] - Training Loss: 4.0354 - Training Accuracy: 24.44%\n",
      "Step [600/685] - Training Loss: 4.1638 - Training Accuracy: 24.33%\n"
     ]
    },
    {
     "data": {
      "application/vnd.jupyter.widget-view+json": {
       "model_id": "e7ecd8011e9447308a24bdf7d9be83de",
       "version_major": 2,
       "version_minor": 0
      },
      "text/plain": [
       "Epoch 21/40 - Validation:   0%|          | 0/75 [00:00<?, ?it/s]"
      ]
     },
     "metadata": {},
     "output_type": "display_data"
    },
    {
     "name": "stdout",
     "output_type": "stream",
     "text": [
      "Epoch [21/40] - Training Loss: 4.0242, Training Accuracy: 24.27% - Validation Loss: 4.0819, Validation Accuracy: 8.09%\n"
     ]
    },
    {
     "data": {
      "application/vnd.jupyter.widget-view+json": {
       "model_id": "3e54a04132434d1483d105a859e1c422",
       "version_major": 2,
       "version_minor": 0
      },
      "text/plain": [
       "Epoch 22/40 - Training:   0%|          | 0/685 [00:00<?, ?it/s]"
      ]
     },
     "metadata": {},
     "output_type": "display_data"
    },
    {
     "name": "stdout",
     "output_type": "stream",
     "text": [
      "Step [100/685] - Training Loss: 3.4234 - Training Accuracy: 27.23%\n",
      "Step [200/685] - Training Loss: 3.7431 - Training Accuracy: 26.72%\n",
      "Step [300/685] - Training Loss: 4.0295 - Training Accuracy: 26.53%\n",
      "Step [400/685] - Training Loss: 3.8466 - Training Accuracy: 26.32%\n",
      "Step [500/685] - Training Loss: 3.8771 - Training Accuracy: 26.27%\n",
      "Step [600/685] - Training Loss: 3.6276 - Training Accuracy: 26.16%\n"
     ]
    },
    {
     "data": {
      "application/vnd.jupyter.widget-view+json": {
       "model_id": "8046cfd1ae6e44b1af1e10b26282d195",
       "version_major": 2,
       "version_minor": 0
      },
      "text/plain": [
       "Epoch 22/40 - Validation:   0%|          | 0/75 [00:00<?, ?it/s]"
      ]
     },
     "metadata": {},
     "output_type": "display_data"
    },
    {
     "name": "stdout",
     "output_type": "stream",
     "text": [
      "Epoch [22/40] - Training Loss: 3.9147, Training Accuracy: 26.13% - Validation Loss: 4.2804, Validation Accuracy: 7.67%\n"
     ]
    },
    {
     "data": {
      "application/vnd.jupyter.widget-view+json": {
       "model_id": "068b41806f34467c8f0fe73d610c3e25",
       "version_major": 2,
       "version_minor": 0
      },
      "text/plain": [
       "Epoch 23/40 - Training:   0%|          | 0/685 [00:00<?, ?it/s]"
      ]
     },
     "metadata": {},
     "output_type": "display_data"
    },
    {
     "name": "stdout",
     "output_type": "stream",
     "text": [
      "Step [100/685] - Training Loss: 3.6838 - Training Accuracy: 27.67%\n",
      "Step [200/685] - Training Loss: 3.5610 - Training Accuracy: 28.11%\n",
      "Step [300/685] - Training Loss: 3.6085 - Training Accuracy: 28.19%\n",
      "Step [400/685] - Training Loss: 4.1397 - Training Accuracy: 27.99%\n",
      "Step [500/685] - Training Loss: 4.0125 - Training Accuracy: 27.87%\n",
      "Step [600/685] - Training Loss: 3.9097 - Training Accuracy: 27.81%\n"
     ]
    },
    {
     "data": {
      "application/vnd.jupyter.widget-view+json": {
       "model_id": "81b75ba1e46340a0a2dbe156564344f7",
       "version_major": 2,
       "version_minor": 0
      },
      "text/plain": [
       "Epoch 23/40 - Validation:   0%|          | 0/75 [00:00<?, ?it/s]"
      ]
     },
     "metadata": {},
     "output_type": "display_data"
    },
    {
     "name": "stdout",
     "output_type": "stream",
     "text": [
      "Epoch [23/40] - Training Loss: 3.8110, Training Accuracy: 27.71% - Validation Loss: 3.8287, Validation Accuracy: 8.51%\n"
     ]
    },
    {
     "data": {
      "application/vnd.jupyter.widget-view+json": {
       "model_id": "db92976d540f426a9eb1508140425ebe",
       "version_major": 2,
       "version_minor": 0
      },
      "text/plain": [
       "Epoch 24/40 - Training:   0%|          | 0/685 [00:00<?, ?it/s]"
      ]
     },
     "metadata": {},
     "output_type": "display_data"
    },
    {
     "name": "stdout",
     "output_type": "stream",
     "text": [
      "Step [100/685] - Training Loss: 3.7549 - Training Accuracy: 30.31%\n",
      "Step [200/685] - Training Loss: 3.5923 - Training Accuracy: 29.82%\n",
      "Step [300/685] - Training Loss: 3.9532 - Training Accuracy: 29.60%\n",
      "Step [400/685] - Training Loss: 3.5826 - Training Accuracy: 29.44%\n",
      "Step [500/685] - Training Loss: 3.5785 - Training Accuracy: 29.39%\n",
      "Step [600/685] - Training Loss: 3.6985 - Training Accuracy: 29.25%\n"
     ]
    },
    {
     "data": {
      "application/vnd.jupyter.widget-view+json": {
       "model_id": "0d9059065d2549cbac11d2767ff580a7",
       "version_major": 2,
       "version_minor": 0
      },
      "text/plain": [
       "Epoch 24/40 - Validation:   0%|          | 0/75 [00:00<?, ?it/s]"
      ]
     },
     "metadata": {},
     "output_type": "display_data"
    },
    {
     "name": "stdout",
     "output_type": "stream",
     "text": [
      "Epoch [24/40] - Training Loss: 3.7190, Training Accuracy: 29.24% - Validation Loss: 3.7695, Validation Accuracy: 8.46%\n"
     ]
    },
    {
     "data": {
      "application/vnd.jupyter.widget-view+json": {
       "model_id": "3637d2a371234a8d86c5069ce262be0c",
       "version_major": 2,
       "version_minor": 0
      },
      "text/plain": [
       "Epoch 25/40 - Training:   0%|          | 0/685 [00:00<?, ?it/s]"
      ]
     },
     "metadata": {},
     "output_type": "display_data"
    },
    {
     "name": "stdout",
     "output_type": "stream",
     "text": [
      "Step [100/685] - Training Loss: 3.4141 - Training Accuracy: 31.50%\n",
      "Step [200/685] - Training Loss: 3.9823 - Training Accuracy: 30.86%\n",
      "Step [300/685] - Training Loss: 3.4738 - Training Accuracy: 30.69%\n",
      "Step [400/685] - Training Loss: 3.5371 - Training Accuracy: 30.63%\n",
      "Step [500/685] - Training Loss: 3.6114 - Training Accuracy: 30.49%\n",
      "Step [600/685] - Training Loss: 3.6810 - Training Accuracy: 30.54%\n"
     ]
    },
    {
     "data": {
      "application/vnd.jupyter.widget-view+json": {
       "model_id": "2ad845baba6a4c269cf66d0a76594720",
       "version_major": 2,
       "version_minor": 0
      },
      "text/plain": [
       "Epoch 25/40 - Validation:   0%|          | 0/75 [00:00<?, ?it/s]"
      ]
     },
     "metadata": {},
     "output_type": "display_data"
    },
    {
     "name": "stdout",
     "output_type": "stream",
     "text": [
      "Epoch [25/40] - Training Loss: 3.6443, Training Accuracy: 30.49% - Validation Loss: 3.7543, Validation Accuracy: 9.07%\n"
     ]
    },
    {
     "data": {
      "application/vnd.jupyter.widget-view+json": {
       "model_id": "28fc153e79d549939b76daa3e6ddc558",
       "version_major": 2,
       "version_minor": 0
      },
      "text/plain": [
       "Epoch 26/40 - Training:   0%|          | 0/685 [00:00<?, ?it/s]"
      ]
     },
     "metadata": {},
     "output_type": "display_data"
    },
    {
     "name": "stdout",
     "output_type": "stream",
     "text": [
      "Step [100/685] - Training Loss: 3.3438 - Training Accuracy: 33.20%\n",
      "Step [200/685] - Training Loss: 3.3975 - Training Accuracy: 32.71%\n",
      "Step [300/685] - Training Loss: 3.8462 - Training Accuracy: 32.61%\n",
      "Step [400/685] - Training Loss: 3.6358 - Training Accuracy: 32.55%\n",
      "Step [500/685] - Training Loss: 3.6687 - Training Accuracy: 32.44%\n",
      "Step [600/685] - Training Loss: 3.6830 - Training Accuracy: 32.42%\n"
     ]
    },
    {
     "data": {
      "application/vnd.jupyter.widget-view+json": {
       "model_id": "9bc3482c2c4b437c8e9353ae151a146f",
       "version_major": 2,
       "version_minor": 0
      },
      "text/plain": [
       "Epoch 26/40 - Validation:   0%|          | 0/75 [00:00<?, ?it/s]"
      ]
     },
     "metadata": {},
     "output_type": "display_data"
    },
    {
     "name": "stdout",
     "output_type": "stream",
     "text": [
      "Epoch [26/40] - Training Loss: 3.5499, Training Accuracy: 32.30% - Validation Loss: 3.6901, Validation Accuracy: 9.48%\n"
     ]
    },
    {
     "data": {
      "application/vnd.jupyter.widget-view+json": {
       "model_id": "673f3e4c403643039f2b053e808b824a",
       "version_major": 2,
       "version_minor": 0
      },
      "text/plain": [
       "Epoch 27/40 - Training:   0%|          | 0/685 [00:00<?, ?it/s]"
      ]
     },
     "metadata": {},
     "output_type": "display_data"
    },
    {
     "name": "stdout",
     "output_type": "stream",
     "text": [
      "Step [100/685] - Training Loss: 3.6678 - Training Accuracy: 33.99%\n",
      "Step [200/685] - Training Loss: 3.6192 - Training Accuracy: 34.11%\n",
      "Step [300/685] - Training Loss: 3.0815 - Training Accuracy: 34.02%\n",
      "Step [400/685] - Training Loss: 3.2146 - Training Accuracy: 34.06%\n",
      "Step [500/685] - Training Loss: 3.4251 - Training Accuracy: 33.94%\n",
      "Step [600/685] - Training Loss: 3.6897 - Training Accuracy: 33.95%\n"
     ]
    },
    {
     "data": {
      "application/vnd.jupyter.widget-view+json": {
       "model_id": "e0d3931d5f7d408386bb2105aba5becb",
       "version_major": 2,
       "version_minor": 0
      },
      "text/plain": [
       "Epoch 27/40 - Validation:   0%|          | 0/75 [00:00<?, ?it/s]"
      ]
     },
     "metadata": {},
     "output_type": "display_data"
    },
    {
     "name": "stdout",
     "output_type": "stream",
     "text": [
      "Epoch [27/40] - Training Loss: 3.4767, Training Accuracy: 34.01% - Validation Loss: 3.2724, Validation Accuracy: 10.23%\n"
     ]
    },
    {
     "data": {
      "application/vnd.jupyter.widget-view+json": {
       "model_id": "a4f0755b2a8741f3a0f1662f50680087",
       "version_major": 2,
       "version_minor": 0
      },
      "text/plain": [
       "Epoch 28/40 - Training:   0%|          | 0/685 [00:00<?, ?it/s]"
      ]
     },
     "metadata": {},
     "output_type": "display_data"
    },
    {
     "name": "stdout",
     "output_type": "stream",
     "text": [
      "Step [100/685] - Training Loss: 3.5306 - Training Accuracy: 35.29%\n",
      "Step [200/685] - Training Loss: 3.4618 - Training Accuracy: 35.80%\n",
      "Step [300/685] - Training Loss: 3.5080 - Training Accuracy: 35.87%\n",
      "Step [400/685] - Training Loss: 3.6245 - Training Accuracy: 35.92%\n",
      "Step [500/685] - Training Loss: 3.2744 - Training Accuracy: 35.86%\n",
      "Step [600/685] - Training Loss: 3.4511 - Training Accuracy: 36.00%\n"
     ]
    },
    {
     "data": {
      "application/vnd.jupyter.widget-view+json": {
       "model_id": "976cb7eec16d416183216d13cb4737dd",
       "version_major": 2,
       "version_minor": 0
      },
      "text/plain": [
       "Epoch 28/40 - Validation:   0%|          | 0/75 [00:00<?, ?it/s]"
      ]
     },
     "metadata": {},
     "output_type": "display_data"
    },
    {
     "name": "stdout",
     "output_type": "stream",
     "text": [
      "Epoch [28/40] - Training Loss: 3.3977, Training Accuracy: 35.82% - Validation Loss: 3.2292, Validation Accuracy: 10.35%\n"
     ]
    },
    {
     "data": {
      "application/vnd.jupyter.widget-view+json": {
       "model_id": "f1f1da26210e40adb7d3cbbb2c270c9a",
       "version_major": 2,
       "version_minor": 0
      },
      "text/plain": [
       "Epoch 29/40 - Training:   0%|          | 0/685 [00:00<?, ?it/s]"
      ]
     },
     "metadata": {},
     "output_type": "display_data"
    },
    {
     "name": "stdout",
     "output_type": "stream",
     "text": [
      "Step [100/685] - Training Loss: 3.2246 - Training Accuracy: 37.83%\n",
      "Step [200/685] - Training Loss: 3.3784 - Training Accuracy: 37.42%\n",
      "Step [300/685] - Training Loss: 3.5478 - Training Accuracy: 37.47%\n",
      "Step [400/685] - Training Loss: 3.4478 - Training Accuracy: 37.44%\n",
      "Step [500/685] - Training Loss: 3.2604 - Training Accuracy: 37.38%\n",
      "Step [600/685] - Training Loss: 3.4485 - Training Accuracy: 37.29%\n"
     ]
    },
    {
     "data": {
      "application/vnd.jupyter.widget-view+json": {
       "model_id": "2a7beaf143674eb587446ac0636c34f9",
       "version_major": 2,
       "version_minor": 0
      },
      "text/plain": [
       "Epoch 29/40 - Validation:   0%|          | 0/75 [00:00<?, ?it/s]"
      ]
     },
     "metadata": {},
     "output_type": "display_data"
    },
    {
     "name": "stdout",
     "output_type": "stream",
     "text": [
      "Epoch [29/40] - Training Loss: 3.3349, Training Accuracy: 37.34% - Validation Loss: 3.4021, Validation Accuracy: 10.81%\n"
     ]
    },
    {
     "data": {
      "application/vnd.jupyter.widget-view+json": {
       "model_id": "2bea5ed968ea4ce8acc6fbb20c7e99d5",
       "version_major": 2,
       "version_minor": 0
      },
      "text/plain": [
       "Epoch 30/40 - Training:   0%|          | 0/685 [00:00<?, ?it/s]"
      ]
     },
     "metadata": {},
     "output_type": "display_data"
    },
    {
     "name": "stdout",
     "output_type": "stream",
     "text": [
      "Step [100/685] - Training Loss: 3.0977 - Training Accuracy: 39.56%\n",
      "Step [200/685] - Training Loss: 3.5580 - Training Accuracy: 39.09%\n",
      "Step [300/685] - Training Loss: 3.4419 - Training Accuracy: 38.96%\n",
      "Step [400/685] - Training Loss: 3.2744 - Training Accuracy: 39.04%\n",
      "Step [500/685] - Training Loss: 3.2537 - Training Accuracy: 39.00%\n",
      "Step [600/685] - Training Loss: 3.5476 - Training Accuracy: 38.94%\n"
     ]
    },
    {
     "data": {
      "application/vnd.jupyter.widget-view+json": {
       "model_id": "c1a31ee2523d451b8b162452b138fe43",
       "version_major": 2,
       "version_minor": 0
      },
      "text/plain": [
       "Epoch 30/40 - Validation:   0%|          | 0/75 [00:00<?, ?it/s]"
      ]
     },
     "metadata": {},
     "output_type": "display_data"
    },
    {
     "name": "stdout",
     "output_type": "stream",
     "text": [
      "Epoch [30/40] - Training Loss: 3.2759, Training Accuracy: 38.93% - Validation Loss: 3.3148, Validation Accuracy: 11.33%\n"
     ]
    },
    {
     "data": {
      "application/vnd.jupyter.widget-view+json": {
       "model_id": "b842e88caff049be900adaf950581ed6",
       "version_major": 2,
       "version_minor": 0
      },
      "text/plain": [
       "Epoch 31/40 - Training:   0%|          | 0/685 [00:00<?, ?it/s]"
      ]
     },
     "metadata": {},
     "output_type": "display_data"
    },
    {
     "name": "stdout",
     "output_type": "stream",
     "text": [
      "Step [100/685] - Training Loss: 3.4107 - Training Accuracy: 39.80%\n",
      "Step [200/685] - Training Loss: 3.2864 - Training Accuracy: 40.46%\n",
      "Step [300/685] - Training Loss: 3.3182 - Training Accuracy: 40.15%\n",
      "Step [400/685] - Training Loss: 3.0827 - Training Accuracy: 40.22%\n",
      "Step [500/685] - Training Loss: 3.2745 - Training Accuracy: 40.34%\n",
      "Step [600/685] - Training Loss: 3.3113 - Training Accuracy: 40.28%\n"
     ]
    },
    {
     "data": {
      "application/vnd.jupyter.widget-view+json": {
       "model_id": "3db6202e1edc4047b099324df2274fd0",
       "version_major": 2,
       "version_minor": 0
      },
      "text/plain": [
       "Epoch 31/40 - Validation:   0%|          | 0/75 [00:00<?, ?it/s]"
      ]
     },
     "metadata": {},
     "output_type": "display_data"
    },
    {
     "name": "stdout",
     "output_type": "stream",
     "text": [
      "Epoch [31/40] - Training Loss: 3.2210, Training Accuracy: 40.35% - Validation Loss: 3.2296, Validation Accuracy: 11.46%\n"
     ]
    },
    {
     "data": {
      "application/vnd.jupyter.widget-view+json": {
       "model_id": "e866f97fbc384cc593415b49c8d18410",
       "version_major": 2,
       "version_minor": 0
      },
      "text/plain": [
       "Epoch 32/40 - Training:   0%|          | 0/685 [00:00<?, ?it/s]"
      ]
     },
     "metadata": {},
     "output_type": "display_data"
    },
    {
     "name": "stdout",
     "output_type": "stream",
     "text": [
      "Step [100/685] - Training Loss: 3.1993 - Training Accuracy: 41.96%\n",
      "Step [200/685] - Training Loss: 3.3173 - Training Accuracy: 41.58%\n",
      "Step [300/685] - Training Loss: 3.2147 - Training Accuracy: 41.85%\n",
      "Step [400/685] - Training Loss: 3.6356 - Training Accuracy: 41.97%\n",
      "Step [500/685] - Training Loss: 3.1079 - Training Accuracy: 42.00%\n",
      "Step [600/685] - Training Loss: 3.3706 - Training Accuracy: 42.10%\n"
     ]
    },
    {
     "data": {
      "application/vnd.jupyter.widget-view+json": {
       "model_id": "2f96ef08f84d4f5ca8e98b0e3ef00a14",
       "version_major": 2,
       "version_minor": 0
      },
      "text/plain": [
       "Epoch 32/40 - Validation:   0%|          | 0/75 [00:00<?, ?it/s]"
      ]
     },
     "metadata": {},
     "output_type": "display_data"
    },
    {
     "name": "stdout",
     "output_type": "stream",
     "text": [
      "Epoch [32/40] - Training Loss: 3.1701, Training Accuracy: 42.11% - Validation Loss: 3.3302, Validation Accuracy: 12.02%\n"
     ]
    },
    {
     "data": {
      "application/vnd.jupyter.widget-view+json": {
       "model_id": "9a224792cfd342f1bec7ce7b15e4ee08",
       "version_major": 2,
       "version_minor": 0
      },
      "text/plain": [
       "Epoch 33/40 - Training:   0%|          | 0/685 [00:00<?, ?it/s]"
      ]
     },
     "metadata": {},
     "output_type": "display_data"
    },
    {
     "name": "stdout",
     "output_type": "stream",
     "text": [
      "Step [100/685] - Training Loss: 3.1944 - Training Accuracy: 43.69%\n",
      "Step [200/685] - Training Loss: 3.1110 - Training Accuracy: 43.65%\n",
      "Step [300/685] - Training Loss: 3.0720 - Training Accuracy: 43.49%\n",
      "Step [400/685] - Training Loss: 3.0428 - Training Accuracy: 43.36%\n",
      "Step [500/685] - Training Loss: 3.5982 - Training Accuracy: 43.38%\n",
      "Step [600/685] - Training Loss: 3.1281 - Training Accuracy: 43.54%\n"
     ]
    },
    {
     "data": {
      "application/vnd.jupyter.widget-view+json": {
       "model_id": "6d18dd16852f4761a8f30f7657c899b2",
       "version_major": 2,
       "version_minor": 0
      },
      "text/plain": [
       "Epoch 33/40 - Validation:   0%|          | 0/75 [00:00<?, ?it/s]"
      ]
     },
     "metadata": {},
     "output_type": "display_data"
    },
    {
     "name": "stdout",
     "output_type": "stream",
     "text": [
      "Epoch [33/40] - Training Loss: 3.1261, Training Accuracy: 43.58% - Validation Loss: 3.2640, Validation Accuracy: 12.06%\n"
     ]
    },
    {
     "data": {
      "application/vnd.jupyter.widget-view+json": {
       "model_id": "8d4256a417164525a5b4535aaa911ef9",
       "version_major": 2,
       "version_minor": 0
      },
      "text/plain": [
       "Epoch 34/40 - Training:   0%|          | 0/685 [00:00<?, ?it/s]"
      ]
     },
     "metadata": {},
     "output_type": "display_data"
    },
    {
     "name": "stdout",
     "output_type": "stream",
     "text": [
      "Step [100/685] - Training Loss: 3.0170 - Training Accuracy: 44.86%\n",
      "Step [200/685] - Training Loss: 3.2428 - Training Accuracy: 45.38%\n",
      "Step [300/685] - Training Loss: 3.0078 - Training Accuracy: 45.15%\n",
      "Step [400/685] - Training Loss: 3.1076 - Training Accuracy: 45.08%\n",
      "Step [500/685] - Training Loss: 3.0418 - Training Accuracy: 45.18%\n",
      "Step [600/685] - Training Loss: 3.0315 - Training Accuracy: 45.16%\n"
     ]
    },
    {
     "data": {
      "application/vnd.jupyter.widget-view+json": {
       "model_id": "a1dae3dd637448b39a8b70b0cdedc15f",
       "version_major": 2,
       "version_minor": 0
      },
      "text/plain": [
       "Epoch 34/40 - Validation:   0%|          | 0/75 [00:00<?, ?it/s]"
      ]
     },
     "metadata": {},
     "output_type": "display_data"
    },
    {
     "name": "stdout",
     "output_type": "stream",
     "text": [
      "Epoch [34/40] - Training Loss: 3.0894, Training Accuracy: 45.09% - Validation Loss: 3.2809, Validation Accuracy: 12.41%\n"
     ]
    },
    {
     "data": {
      "application/vnd.jupyter.widget-view+json": {
       "model_id": "a6fe007b0fd242f5a528786f33686508",
       "version_major": 2,
       "version_minor": 0
      },
      "text/plain": [
       "Epoch 35/40 - Training:   0%|          | 0/685 [00:00<?, ?it/s]"
      ]
     },
     "metadata": {},
     "output_type": "display_data"
    },
    {
     "name": "stdout",
     "output_type": "stream",
     "text": [
      "Step [100/685] - Training Loss: 3.0126 - Training Accuracy: 46.49%\n",
      "Step [200/685] - Training Loss: 3.1835 - Training Accuracy: 46.23%\n",
      "Step [300/685] - Training Loss: 2.8957 - Training Accuracy: 46.17%\n",
      "Step [400/685] - Training Loss: 2.8843 - Training Accuracy: 46.05%\n",
      "Step [500/685] - Training Loss: 2.9924 - Training Accuracy: 46.16%\n",
      "Step [600/685] - Training Loss: 3.0543 - Training Accuracy: 46.19%\n"
     ]
    },
    {
     "data": {
      "application/vnd.jupyter.widget-view+json": {
       "model_id": "7e9860d48f4f4e769d8fade06b1cce73",
       "version_major": 2,
       "version_minor": 0
      },
      "text/plain": [
       "Epoch 35/40 - Validation:   0%|          | 0/75 [00:00<?, ?it/s]"
      ]
     },
     "metadata": {},
     "output_type": "display_data"
    },
    {
     "name": "stdout",
     "output_type": "stream",
     "text": [
      "Epoch [35/40] - Training Loss: 3.0572, Training Accuracy: 46.27% - Validation Loss: 3.0989, Validation Accuracy: 12.82%\n"
     ]
    },
    {
     "data": {
      "application/vnd.jupyter.widget-view+json": {
       "model_id": "c5648c60fbf04be0834dcf485e7ca716",
       "version_major": 2,
       "version_minor": 0
      },
      "text/plain": [
       "Epoch 36/40 - Training:   0%|          | 0/685 [00:00<?, ?it/s]"
      ]
     },
     "metadata": {},
     "output_type": "display_data"
    },
    {
     "name": "stdout",
     "output_type": "stream",
     "text": [
      "Step [100/685] - Training Loss: 3.2225 - Training Accuracy: 46.96%\n",
      "Step [200/685] - Training Loss: 2.9372 - Training Accuracy: 46.83%\n",
      "Step [300/685] - Training Loss: 2.9709 - Training Accuracy: 46.93%\n",
      "Step [400/685] - Training Loss: 3.0636 - Training Accuracy: 47.07%\n",
      "Step [500/685] - Training Loss: 2.9470 - Training Accuracy: 47.13%\n",
      "Step [600/685] - Training Loss: 3.1220 - Training Accuracy: 47.27%\n"
     ]
    },
    {
     "data": {
      "application/vnd.jupyter.widget-view+json": {
       "model_id": "d207f36b8fd746508c4948e2737746ba",
       "version_major": 2,
       "version_minor": 0
      },
      "text/plain": [
       "Epoch 36/40 - Validation:   0%|          | 0/75 [00:00<?, ?it/s]"
      ]
     },
     "metadata": {},
     "output_type": "display_data"
    },
    {
     "name": "stdout",
     "output_type": "stream",
     "text": [
      "Epoch [36/40] - Training Loss: 3.0306, Training Accuracy: 47.28% - Validation Loss: 2.9946, Validation Accuracy: 13.12%\n"
     ]
    },
    {
     "data": {
      "application/vnd.jupyter.widget-view+json": {
       "model_id": "70a3fc71b4ad4e9195bc8f19625d321d",
       "version_major": 2,
       "version_minor": 0
      },
      "text/plain": [
       "Epoch 37/40 - Training:   0%|          | 0/685 [00:00<?, ?it/s]"
      ]
     },
     "metadata": {},
     "output_type": "display_data"
    },
    {
     "name": "stdout",
     "output_type": "stream",
     "text": [
      "Step [100/685] - Training Loss: 2.8070 - Training Accuracy: 48.45%\n",
      "Step [200/685] - Training Loss: 2.9360 - Training Accuracy: 48.04%\n",
      "Step [300/685] - Training Loss: 2.9115 - Training Accuracy: 48.23%\n",
      "Step [400/685] - Training Loss: 2.9374 - Training Accuracy: 48.19%\n",
      "Step [500/685] - Training Loss: 2.9929 - Training Accuracy: 48.43%\n",
      "Step [600/685] - Training Loss: 2.8517 - Training Accuracy: 48.39%\n"
     ]
    },
    {
     "data": {
      "application/vnd.jupyter.widget-view+json": {
       "model_id": "bb34dbdfc0764cc5808711c3cb62fe59",
       "version_major": 2,
       "version_minor": 0
      },
      "text/plain": [
       "Epoch 37/40 - Validation:   0%|          | 0/75 [00:00<?, ?it/s]"
      ]
     },
     "metadata": {},
     "output_type": "display_data"
    },
    {
     "name": "stdout",
     "output_type": "stream",
     "text": [
      "Epoch [37/40] - Training Loss: 3.0079, Training Accuracy: 48.34% - Validation Loss: 2.7943, Validation Accuracy: 13.20%\n"
     ]
    },
    {
     "data": {
      "application/vnd.jupyter.widget-view+json": {
       "model_id": "0a50d5cecc8f43c5ace899b7d871246f",
       "version_major": 2,
       "version_minor": 0
      },
      "text/plain": [
       "Epoch 38/40 - Training:   0%|          | 0/685 [00:00<?, ?it/s]"
      ]
     },
     "metadata": {},
     "output_type": "display_data"
    },
    {
     "name": "stdout",
     "output_type": "stream",
     "text": [
      "Step [100/685] - Training Loss: 3.0811 - Training Accuracy: 49.27%\n",
      "Step [200/685] - Training Loss: 3.1923 - Training Accuracy: 48.98%\n",
      "Step [300/685] - Training Loss: 3.0337 - Training Accuracy: 48.72%\n",
      "Step [400/685] - Training Loss: 3.1966 - Training Accuracy: 48.68%\n",
      "Step [500/685] - Training Loss: 2.8511 - Training Accuracy: 48.89%\n",
      "Step [600/685] - Training Loss: 2.6366 - Training Accuracy: 48.91%\n"
     ]
    },
    {
     "data": {
      "application/vnd.jupyter.widget-view+json": {
       "model_id": "b0202657ada8421da9d3f84d5f3948e9",
       "version_major": 2,
       "version_minor": 0
      },
      "text/plain": [
       "Epoch 38/40 - Validation:   0%|          | 0/75 [00:00<?, ?it/s]"
      ]
     },
     "metadata": {},
     "output_type": "display_data"
    },
    {
     "name": "stdout",
     "output_type": "stream",
     "text": [
      "Epoch [38/40] - Training Loss: 2.9918, Training Accuracy: 48.91% - Validation Loss: 2.9813, Validation Accuracy: 13.37%\n"
     ]
    },
    {
     "data": {
      "application/vnd.jupyter.widget-view+json": {
       "model_id": "856c7043a9b245f6a6ae8c7a8d8e98a8",
       "version_major": 2,
       "version_minor": 0
      },
      "text/plain": [
       "Epoch 39/40 - Training:   0%|          | 0/685 [00:00<?, ?it/s]"
      ]
     },
     "metadata": {},
     "output_type": "display_data"
    },
    {
     "name": "stdout",
     "output_type": "stream",
     "text": [
      "Step [100/685] - Training Loss: 2.8320 - Training Accuracy: 49.54%\n",
      "Step [200/685] - Training Loss: 3.4554 - Training Accuracy: 48.98%\n",
      "Step [300/685] - Training Loss: 2.9493 - Training Accuracy: 48.85%\n",
      "Step [400/685] - Training Loss: 3.3073 - Training Accuracy: 49.24%\n",
      "Step [500/685] - Training Loss: 3.2653 - Training Accuracy: 49.37%\n",
      "Step [600/685] - Training Loss: 2.9312 - Training Accuracy: 49.40%\n"
     ]
    },
    {
     "data": {
      "application/vnd.jupyter.widget-view+json": {
       "model_id": "dbc3fe6cce124db3a9e1d2c24039782e",
       "version_major": 2,
       "version_minor": 0
      },
      "text/plain": [
       "Epoch 39/40 - Validation:   0%|          | 0/75 [00:00<?, ?it/s]"
      ]
     },
     "metadata": {},
     "output_type": "display_data"
    },
    {
     "name": "stdout",
     "output_type": "stream",
     "text": [
      "Epoch [39/40] - Training Loss: 2.9799, Training Accuracy: 49.49% - Validation Loss: 2.7177, Validation Accuracy: 13.49%\n"
     ]
    },
    {
     "data": {
      "application/vnd.jupyter.widget-view+json": {
       "model_id": "e33cdfeba8664e63b05a2159f1cb2168",
       "version_major": 2,
       "version_minor": 0
      },
      "text/plain": [
       "Epoch 40/40 - Training:   0%|          | 0/685 [00:00<?, ?it/s]"
      ]
     },
     "metadata": {},
     "output_type": "display_data"
    },
    {
     "name": "stdout",
     "output_type": "stream",
     "text": [
      "Step [100/685] - Training Loss: 2.8940 - Training Accuracy: 49.49%\n",
      "Step [200/685] - Training Loss: 3.2272 - Training Accuracy: 49.66%\n",
      "Step [300/685] - Training Loss: 3.0455 - Training Accuracy: 49.49%\n",
      "Step [400/685] - Training Loss: 2.7973 - Training Accuracy: 49.52%\n",
      "Step [500/685] - Training Loss: 3.0205 - Training Accuracy: 49.63%\n",
      "Step [600/685] - Training Loss: 2.9294 - Training Accuracy: 49.72%\n"
     ]
    },
    {
     "data": {
      "application/vnd.jupyter.widget-view+json": {
       "model_id": "558a015d2548417b92a574f8d024459d",
       "version_major": 2,
       "version_minor": 0
      },
      "text/plain": [
       "Epoch 40/40 - Validation:   0%|          | 0/75 [00:00<?, ?it/s]"
      ]
     },
     "metadata": {},
     "output_type": "display_data"
    },
    {
     "name": "stdout",
     "output_type": "stream",
     "text": [
      "Epoch [40/40] - Training Loss: 2.9714, Training Accuracy: 49.70% - Validation Loss: 3.1319, Validation Accuracy: 13.59%\n"
     ]
    }
   ],
   "source": [
    "for epoch in range(num_epochs):\n",
    "    running_train_loss = 0.0\n",
    "    correct_train = 0\n",
    "    mse_age_train = 0.0\n",
    "    total_train = 0\n",
    "    step = 0\n",
    "\n",
    "    # Training Phase\n",
    "    model.train()\n",
    "    optimizer.zero_grad()  # Reset gradients before starting training\n",
    "\n",
    "    for batch in tqdm(train_dl, desc=f\"Epoch {epoch+1}/{num_epochs} - Training\"):\n",
    "        optimizer.zero_grad()\n",
    "        images = batch[0].to(device).float()  # Shape: [batch_size, 1, 16, 144, 320]\n",
    "\n",
    "        # Prepare labels based on target type\n",
    "        if target == \"trial_type\":\n",
    "            labels = batch[1]  # List of labels\n",
    "            labels = label_enc.transform(labels)\n",
    "            labels = torch.tensor(labels, dtype=torch.long).to(device)  # Shape: [batch_size]\n",
    "        if target == 'subject_id':\n",
    "            labels = label_enc.transform(batch[2])\n",
    "            labels = torch.tensor(labels, dtype=torch.long).to(device)  # Shape: [batch_size]\n",
    "        elif target in numerical_columns:\n",
    "            labels = get_label_restricted(batch[2], target)\n",
    "            labels = torch.tensor(labels, dtype=torch.float).to(device)  # Shape: [batch_size]\n",
    "        elif target in categorical_columns:\n",
    "            labels = get_label_restricted(batch[2], target)\n",
    "            labels = torch.tensor(labels, dtype=torch.long).to(device)  # Shape: [batch_size]\n",
    "            \n",
    "        # Forward pass\n",
    "        outputs = model(images)  # Output shape depends on the target\n",
    "\n",
    "        # Compute loss\n",
    "        loss = criterion(outputs.squeeze(), labels.squeeze())\n",
    "\n",
    "        # Backward pass and optimization\n",
    "        loss.backward()\n",
    "        optimizer.step()\n",
    "\n",
    "        # Accumulate loss\n",
    "        running_train_loss += loss.item()\n",
    "\n",
    "        # Calculate and accumulate metrics\n",
    "        if target_type in [\"categorical\", \"special\"]:\n",
    "            _, predicted = torch.max(outputs, 1)\n",
    "            correct_train += (predicted == labels).sum().item()\n",
    "        elif target_type == \"numerical\":\n",
    "            mse_age_train += (torch.sum((outputs.squeeze() - labels) ** 2).item())\n",
    "\n",
    "        total_train += labels.size(0)\n",
    "        step += 1\n",
    "\n",
    "        # Print intermediate metrics every 100 steps\n",
    "        if step % 100 == 0:\n",
    "            if target_type in ['categorical', 'special']:\n",
    "                current_accuracy = 100 * correct_train / total_train if total_train > 0 else 0.0\n",
    "                print(f\"Step [{step}/{len(train_dl)}] - Training Loss: {loss.item():.4f} - Training Accuracy: {current_accuracy:.2f}%\")\n",
    "            elif target_type == 'numerical':\n",
    "                current_mse = mse_age_train / total_train if total_train > 0 else 0.0\n",
    "                print(f\"Step [{step}/{len(train_dl)}] - Training Loss: {loss.item():.4f} - Training MSE: {current_mse:.4f}\")\n",
    "\n",
    "        if lr_scheduler_type is not None:\n",
    "                lr_scheduler.step()\n",
    "\n",
    "    # Calculate epoch-level metrics\n",
    "    epoch_train_loss = running_train_loss / step if step > 0 else 0.0\n",
    "\n",
    "    if target_type in ['categorical', 'special']:\n",
    "        train_accuracy = 100 * correct_train / total_train if total_train > 0 else 0.0\n",
    "    elif target_type == 'numerical':\n",
    "        train_mse = mse_age_train / total_train if total_train > 0 else 0.0\n",
    "\n",
    "    # Validation Phase\n",
    "    model.eval()\n",
    "    running_val_loss = 0.0\n",
    "    correct_val = 0\n",
    "    mse_age_val = 0.0\n",
    "    total_val = 0\n",
    "    step_val = 0\n",
    "    with torch.no_grad():\n",
    "        for batch in tqdm(test_dl, desc=f\"Epoch {epoch+1}/{num_epochs} - Validation\"):\n",
    "            images = batch[0].to(device).float()  # Removed unsqueeze(1) unless specifically needed\n",
    "\n",
    "            # Prepare labels based on target type\n",
    "            if target == \"trial_type\":\n",
    "                labels = batch[1]  # List of labels\n",
    "                labels = label_enc.transform(labels)\n",
    "                labels = torch.tensor(labels, dtype=torch.long).to(device)  # Shape: [batch_size]\n",
    "            if target == 'subject_id':\n",
    "                labels = label_enc.transform(batch[2])\n",
    "                labels = torch.tensor(labels, dtype=torch.long).to(device)  # Shape: [batch_size]\n",
    "            elif target in numerical_columns:\n",
    "                labels = get_label_restricted(batch[2], target)\n",
    "                labels = torch.tensor(labels, dtype=torch.float).to(device)  # Shape: [batch_size]\n",
    "            elif target in categorical_columns:\n",
    "                labels = get_label_restricted(batch[2], target)\n",
    "                labels = torch.tensor(labels, dtype=torch.long).to(device)  # Shape: [batch_size]\n",
    "\n",
    "            \n",
    "            # Forward pass\n",
    "            outputs = model(images)\n",
    "\n",
    "            \n",
    "            loss = criterion(outputs.squeeze(), labels.squeeze())\n",
    "\n",
    "            # Accumulate loss\n",
    "            running_val_loss += loss.item() \n",
    "\n",
    "            # Calculate and accumulate metrics\n",
    "            if target_type in [\"categorical\", \"special\"]:\n",
    "                _, predicted = torch.max(outputs, 1)\n",
    "                correct_val += (predicted == labels).sum().item()\n",
    "            elif target_type == \"numerical\":\n",
    "                mse_age_val += (torch.sum((outputs.squeeze() - labels) ** 2).item())\n",
    "\n",
    "            total_val += labels.size(0)\n",
    "            step_val += 1\n",
    "\n",
    "    # Calculate epoch-level validation metrics\n",
    "    epoch_val_loss = running_val_loss / step_val if step_val > 0 else 0.0\n",
    "\n",
    "    if target_type in ['categorical', 'special']:\n",
    "        val_accuracy = 100 * correct_val / total_val if total_val > 0 else 0.0\n",
    "    elif target_type == 'numerical':\n",
    "        val_mse = mse_age_val / total_val if total_val > 0 else 0.0\n",
    "\n",
    "\n",
    "    # Print epoch-level metrics\n",
    "    if target_type in ['categorical', 'special']:\n",
    "        print(f\"Epoch [{epoch+1}/{num_epochs}] \"\n",
    "              f\"- Training Loss: {epoch_train_loss:.4f}, Training Accuracy: {train_accuracy:.2f}% \"\n",
    "              f\"- Validation Loss: {epoch_val_loss:.4f}, Validation Accuracy: {val_accuracy:.2f}%\")\n",
    "    elif target_type == 'numerical':\n",
    "        print(f\"Epoch [{epoch+1}/{num_epochs}] \"\n",
    "              f\"- Training Loss: {epoch_train_loss:.4f}, Training MSE: {train_mse:.4f} \"\n",
    "              f\"- Validation Loss: {epoch_val_loss:.4f}, Validation MSE: {val_mse:.4f}\")\n",
    "\n",
    "    # Log metrics with wandb\n",
    "    if wandb_log:\n",
    "        log_dict = {\n",
    "            \"epoch_train_loss\": epoch_train_loss,\n",
    "            \"epoch_val_loss\": epoch_val_loss,\n",
    "        }\n",
    "        if target_type in ['categorical', 'special']:\n",
    "            log_dict.update({\n",
    "                f\"train_accuracy_{target}\": train_accuracy,\n",
    "                f\"val_accuracy_{target}\": val_accuracy,\n",
    "            })\n",
    "        elif target_type == 'numerical':\n",
    "            log_dict.update({\n",
    "                f\"train_mse_{target}\": train_mse,\n",
    "                f\"val_mse_{target}\": val_mse,\n",
    "            })\n",
    "        wandb.log(log_dict)\n",
    "\n",
    "# Save checkpoint if required\n",
    "if save_ckpt:\n",
    "    outdir = os.path.abspath(f'checkpoints/{\"HCPflat_raw\"+ f\"_{model_suffix}_{target}\"}_{random_id}')\n",
    "    os.makedirs(outdir, exist_ok=True)\n",
    "    print(\"Saving checkpoint to:\", outdir)\n",
    "    # Save model state\n",
    "    torch.save(model.state_dict(), os.path.join(outdir, \"model.pth\"))\n",
    "    # Save configuration\n",
    "    with open(os.path.join(outdir, \"config.yaml\"), 'w') as f:\n",
    "        yaml.dump(wandb_config, f)\n",
    "    print(f\"Model and config saved to {outdir}\")\n"
   ]
  }
 ],
 "metadata": {
  "kernelspec": {
   "display_name": "foundation_env",
   "language": "python",
   "name": "foundation_env"
  },
  "language_info": {
   "codemirror_mode": {
    "name": "ipython",
    "version": 3
   },
   "file_extension": ".py",
   "mimetype": "text/x-python",
   "name": "python",
   "nbconvert_exporter": "python",
   "pygments_lexer": "ipython3",
   "version": "3.11.11"
  }
 },
 "nbformat": 4,
 "nbformat_minor": 5
}
