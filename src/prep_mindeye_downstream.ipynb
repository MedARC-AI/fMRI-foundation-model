{
 "cells": [
  {
   "cell_type": "code",
   "execution_count": 1,
   "id": "b8e236f1-385a-4d93-bb39-bea3ee384d76",
   "metadata": {
    "scrolled": true,
    "tags": []
   },
   "outputs": [
    {
     "name": "stdout",
     "output_type": "stream",
     "text": [
      "outdir /weka/proj-fmri/paulscotti/fMRI-foundation-model/src/checkpoints/NSDflat_large_gsrFalse_\n",
      "Loaded config.yaml from ckpt folder /weka/proj-fmri/paulscotti/fMRI-foundation-model/src/checkpoints/NSDflat_large_gsrFalse_\n",
      "\n",
      "__CONFIG__\n",
      "base_lr = 0.001\n",
      "batch_size = 32\n",
      "ckpt_interval = 5\n",
      "ckpt_saving = True\n",
      "cls_embed = True\n",
      "contrastive_loss_weight = 1.0\n",
      "datasets_to_include = NSD\n",
      "decoder_embed_dim = 512\n",
      "grad_accumulation_steps = 1\n",
      "grad_clip = 1.0\n",
      "gsr = False\n",
      "hcp_flat_path = /weka/proj-medarc/shared/HCP-Flat\n",
      "mask_ratio = 0.75\n",
      "model_name = NSDflat_large_gsrFalse_\n",
      "no_qkv_bias = False\n",
      "norm_pix_loss = False\n",
      "nsd_flat_path = /weka/proj-medarc/shared/NSD-Flat\n",
      "num_epochs = 100\n",
      "num_frames = 16\n",
      "num_samples_per_epoch = 200000\n",
      "num_workers = 10\n",
      "patch_size = 16\n",
      "pct_masks_to_decode = 1\n",
      "plotting = True\n",
      "pred_t_dim = 8\n",
      "print_interval = 20\n",
      "probe_base_lr = 0.0003\n",
      "probe_batch_size = 8\n",
      "probe_num_epochs = 30\n",
      "probe_num_samples_per_epoch = 100000\n",
      "resume_from_ckpt = True\n",
      "seed = 42\n",
      "sep_pos_embed = True\n",
      "t_patch_size = 2\n",
      "test_num_samples_per_epoch = 50000\n",
      "test_set = False\n",
      "trunc_init = False\n",
      "use_contrastive_loss = False\n",
      "wandb_log = True\n",
      "\n",
      "\n",
      "PID of this process = 1486178\n"
     ]
    }
   ],
   "source": [
    "# Import packages and setup gpu configuration.\n",
    "# This code block shouldnt need to be adjusted other than the model_name (if interactive)!\n",
    "import os\n",
    "import sys\n",
    "import json\n",
    "import yaml\n",
    "import numpy as np\n",
    "import math\n",
    "import time\n",
    "import datetime\n",
    "import random\n",
    "from tqdm import tqdm\n",
    "import webdataset as wds\n",
    "import matplotlib.pyplot as plt\n",
    "import pandas as pd\n",
    "import torch\n",
    "import torch.nn as nn\n",
    "from torchvision import transforms\n",
    "import utils\n",
    "from mae_utils import flat_models\n",
    "\n",
    "## MODEL TO LOAD ##\n",
    "if utils.is_interactive():\n",
    "    model_name = \"NSDflat_large_gsrFalse_\"\n",
    "else:\n",
    "    model_name = sys.argv[1]\n",
    "outdir = os.path.abspath(f'checkpoints/{model_name}')\n",
    "print(\"outdir\", outdir)\n",
    "\n",
    "# Load previously saved config.yaml made during main training script\n",
    "assert os.path.exists(f\"{outdir}/config.yaml\")\n",
    "config = yaml.load(open(f\"{outdir}/config.yaml\", 'r'), Loader=yaml.FullLoader)\n",
    "print(f\"Loaded config.yaml from ckpt folder {outdir}\")\n",
    "# create global variables from the config\n",
    "print(\"\\n__CONFIG__\")\n",
    "for attribute_name in config.keys():\n",
    "    print(f\"{attribute_name} = {config[attribute_name]}\")\n",
    "    globals()[attribute_name] = config[f'{attribute_name}']\n",
    "print(\"\\n\")\n",
    "\n",
    "if utils.is_interactive():\n",
    "    # Following allows you to change functions in other files and \n",
    "    # have this notebook automatically update with your revisions\n",
    "    %load_ext autoreload\n",
    "    %autoreload 2\n",
    "\n",
    "device = torch.device('cuda')\n",
    "\n",
    "print(\"PID of this process =\",os.getpid())\n",
    "\n",
    "# seed all random functions\n",
    "utils.seed_everything(seed)"
   ]
  },
  {
   "cell_type": "markdown",
   "id": "ab15aca0-148e-435f-b8f2-7a708b61a6d9",
   "metadata": {},
   "source": [
    "# nsd_flat"
   ]
  },
  {
   "cell_type": "markdown",
   "id": "ba9732a8-1e04-4ebd-b62b-1fd2591a6033",
   "metadata": {},
   "source": [
    "## Set nsd_flat downstream config"
   ]
  },
  {
   "cell_type": "code",
   "execution_count": 2,
   "id": "fb0a4f06-c75b-4255-ab94-ea6206330778",
   "metadata": {},
   "outputs": [
    {
     "name": "stdout",
     "output_type": "stream",
     "text": [
      "global_pool = True\n",
      "use_visual_roi = True\n",
      "gsr = False\n"
     ]
    }
   ],
   "source": [
    "if os.getenv('global_pool') == \"False\":\n",
    "    global_pool = False\n",
    "else:\n",
    "    global_pool = True\n",
    "print(f\"global_pool = {global_pool}\")\n",
    "\n",
    "if os.getenv('use_visual_roi') == \"False\":\n",
    "    use_visual_roi = False\n",
    "else:\n",
    "    use_visual_roi = True\n",
    "print(f\"use_visual_roi = {use_visual_roi}\")\n",
    "\n",
    "try:\n",
    "    gsr\n",
    "except:\n",
    "    gsr = True\n",
    "    print(\"set gsr to True\")\n",
    "print(f\"gsr = {gsr}\")"
   ]
  },
  {
   "cell_type": "markdown",
   "id": "1c7ea4fc-ce95-42b4-b660-b112edab2216",
   "metadata": {},
   "source": [
    "## Load model"
   ]
  },
  {
   "cell_type": "code",
   "execution_count": 3,
   "id": "de1a5b87-fa69-44e1-bdb9-bd9e257485c6",
   "metadata": {
    "tags": []
   },
   "outputs": [
    {
     "name": "stdout",
     "output_type": "stream",
     "text": [
      "img_size (144, 320) patch_size (16, 16) frames 16 t_patch_size 2\n",
      "model initialized\n"
     ]
    }
   ],
   "source": [
    "from mae_utils.flat import load_nsd_flat_mask, load_nsd_flat_mask_visual\n",
    "from mae_utils.flat import create_nsd_flat\n",
    "from mae_utils.flat import batch_unmask\n",
    "import mae_utils.visualize as vis\n",
    "\n",
    "flat_mask = load_nsd_flat_mask()\n",
    "flat_mask_visual = load_nsd_flat_mask_visual()\n",
    "\n",
    "model = flat_models.mae_vit_large_fmri(\n",
    "    patch_size=patch_size,\n",
    "    decoder_embed_dim=decoder_embed_dim,\n",
    "    t_patch_size=t_patch_size,\n",
    "    pred_t_dim=pred_t_dim,\n",
    "    decoder_depth=4,\n",
    "    cls_embed=cls_embed,\n",
    "    norm_pix_loss=norm_pix_loss,\n",
    "    no_qkv_bias=no_qkv_bias,\n",
    "    sep_pos_embed=sep_pos_embed,\n",
    "    trunc_init=trunc_init,\n",
    "    pct_masks_to_decode=pct_masks_to_decode,\n",
    "    img_mask=flat_mask,\n",
    ")"
   ]
  },
  {
   "cell_type": "markdown",
   "id": "2b8e6baa-4b1c-4f38-b078-70b2b092d14d",
   "metadata": {},
   "source": [
    "## Load checkpoint"
   ]
  },
  {
   "cell_type": "code",
   "execution_count": 4,
   "id": "4da73c08-ca61-48ef-9e63-b70db6f07a59",
   "metadata": {
    "tags": []
   },
   "outputs": [
    {
     "name": "stdout",
     "output_type": "stream",
     "text": [
      "latest_checkpoint: epoch99.pth\n"
     ]
    },
    {
     "name": "stderr",
     "output_type": "stream",
     "text": [
      "/tmp/ipykernel_1486178/3570296744.py:12: FutureWarning: You are using `torch.load` with `weights_only=False` (the current default value), which uses the default pickle module implicitly. It is possible to construct malicious pickle data which will execute arbitrary code during unpickling (See https://github.com/pytorch/pytorch/blob/main/SECURITY.md#untrusted-models for more details). In a future release, the default value for `weights_only` will be flipped to `True`. This limits the functions that could be executed during unpickling. Arbitrary objects will no longer be allowed to be loaded via this mode unless they are explicitly allowlisted by the user via `torch.serialization.add_safe_globals`. We recommend you start setting `weights_only=True` for any use case where you don't have full control of the loaded file. Please open an issue on GitHub for any issues related to this experimental feature.\n",
      "  state = torch.load(checkpoint_path)\n"
     ]
    },
    {
     "name": "stdout",
     "output_type": "stream",
     "text": [
      "\n",
      "Loaded checkpoint epoch99.pth from /weka/proj-fmri/paulscotti/fMRI-foundation-model/src/checkpoints/NSDflat_large_gsrFalse_\n",
      "\n"
     ]
    }
   ],
   "source": [
    "checkpoint_files = [f for f in os.listdir(outdir) if f.endswith('.pth')]\n",
    "\n",
    "if utils.is_interactive():\n",
    "    latest_checkpoint = \"epoch99.pth\"\n",
    "else:\n",
    "    latest_checkpoint = sys.argv[2] \n",
    "print(f\"latest_checkpoint: {latest_checkpoint}\")\n",
    "\n",
    "# Load the checkpoint\n",
    "checkpoint_path = os.path.join(outdir, latest_checkpoint)\n",
    "\n",
    "state = torch.load(checkpoint_path)\n",
    "model.load_state_dict(state[\"model_state_dict\"], strict=False)\n",
    "model.to(device)\n",
    "\n",
    "print(f\"\\nLoaded checkpoint {latest_checkpoint} from {outdir}\\n\")"
   ]
  },
  {
   "cell_type": "code",
   "execution_count": 5,
   "id": "0185f81b-b4ec-4cdb-9367-7c8c0f241f75",
   "metadata": {},
   "outputs": [
    {
     "name": "stdout",
     "output_type": "stream",
     "text": [
      "change mask to visual cortex only\n"
     ]
    }
   ],
   "source": [
    "if use_visual_roi:\n",
    "    print(\"change mask to visual cortex only\")\n",
    "    model.initialize_mask(flat_mask_visual)"
   ]
  },
  {
   "cell_type": "markdown",
   "id": "3dd51ddf-fb71-48f4-bdbd-88753b44d2aa",
   "metadata": {},
   "source": [
    "## Create dataset and data loaders"
   ]
  },
  {
   "cell_type": "code",
   "execution_count": 6,
   "id": "3e330cd2-8f4f-4ca7-ae68-16698e90060f",
   "metadata": {
    "tags": []
   },
   "outputs": [
    {
     "name": "stdout",
     "output_type": "stream",
     "text": [
      "changed batch_size to 1\n"
     ]
    }
   ],
   "source": [
    "batch_size = 1\n",
    "print(f\"changed batch_size to {batch_size}\")\n",
    "\n",
    "## Test ##\n",
    "datasets_to_include = \"NSD\"\n",
    "assert \"NSD\" in datasets_to_include\n",
    "test_dataset = create_nsd_flat(root=nsd_flat_path, \n",
    "                frames=num_frames, shuffle=False, \n",
    "                gsr=gsr, sub=\"sub-01\", run=\"task-only\")\n",
    "test_dl = wds.WebLoader(\n",
    "    test_dataset.batched(batch_size, partial=False),\n",
    "    batch_size=None,\n",
    "    shuffle=False,\n",
    "    num_workers=num_workers,\n",
    "    pin_memory=True,\n",
    ")"
   ]
  },
  {
   "cell_type": "markdown",
   "id": "c43a5055-8afd-468a-93bf-32f94bd1d042",
   "metadata": {},
   "source": [
    "# Start extraction"
   ]
  },
  {
   "cell_type": "code",
   "execution_count": 7,
   "id": "d8e725d3-161e-4e1d-ad8a-5c4a8bc082c1",
   "metadata": {},
   "outputs": [],
   "source": [
    "cnt = 141930 # 2213 if bs=64, 5909 if bs=24, 141930 if bs=1"
   ]
  },
  {
   "cell_type": "code",
   "execution_count": 8,
   "id": "6507067f-1ece-46ac-ad8c-24ef7a9b3a58",
   "metadata": {
    "tags": []
   },
   "outputs": [],
   "source": [
    "# random_subselection = np.random.choice(np.arange(294912), 10240)\n",
    "@torch.no_grad()\n",
    "def extract_features(dl, global_pool=True):\n",
    "    for samples, samples_meta, samples_events, sample_means, sample_sds in tqdm(dl,total=cnt):     \n",
    "        #### sanity testing by using just the raw flat maps ####\n",
    "        # x = samples.to(device)\n",
    "        # x = model.patch_embed(x)\n",
    "        # N, T, L, C = x.shape\n",
    "        # x = x[:, :, model.patch_mask_indices]\n",
    "        # x = x.flatten(1)\n",
    "        # features = x[:,random_subselection]\n",
    "        ########\n",
    "        \n",
    "        features = model.forward_features(samples.to(device),global_pool=global_pool)\n",
    "        features = features.flatten(1)\n",
    "        features = features.cpu().numpy()\n",
    "\n",
    "        for feat, meta, events in zip(features, samples_meta, samples_events):\n",
    "            if meta['start']==0:\n",
    "                meta[\"events\"] = events\n",
    "            else:\n",
    "                meta[\"events\"] = None\n",
    "            yield feat, meta"
   ]
  },
  {
   "cell_type": "code",
   "execution_count": 9,
   "id": "8b75050d-ea61-489c-a777-7725935a6a74",
   "metadata": {},
   "outputs": [
    {
     "name": "stdout",
     "output_type": "stream",
     "text": [
      "/weka/proj-fmri/paulscotti/fMRI-foundation-model/src/checkpoints/NSDflat_large_gsrFalse__gpFalse_visualTrue/epoch99\n"
     ]
    }
   ],
   "source": [
    "out_folder = f'{outdir}_gp{global_pool}_visual{use_visual_roi}/{latest_checkpoint[:-4]}'\n",
    "print(out_folder)\n",
    "os.makedirs(out_folder,exist_ok=True)"
   ]
  },
  {
   "cell_type": "code",
   "execution_count": null,
   "id": "03905231-1e22-4aca-865f-322be2bf426f",
   "metadata": {},
   "outputs": [
    {
     "name": "stdout",
     "output_type": "stream",
     "text": [
      "Output location: /weka/proj-fmri/paulscotti/fMRI-foundation-model/src/checkpoints/NSDflat_large_gsrFalse__gpFalse_visualTrue/epoch99/test.h5\n"
     ]
    },
    {
     "name": "stderr",
     "output_type": "stream",
     "text": [
      "  0%|                                                   | 0/141930 [00:03<?, ?it/s]\n",
      " 28%|██████████▉                            | 39997/141930 [30:36<28:44, 59.10it/s]"
     ]
    }
   ],
   "source": [
    "import h5py\n",
    "utils.seed_everything(seed)\n",
    "output_path = f\"{out_folder}/test.h5\"\n",
    "print(\"Output location:\", output_path)\n",
    "start_time = time.time()\n",
    "chunk_size = 10000\n",
    "\n",
    "# Open the HDF5 file in write mode\n",
    "with h5py.File(output_path, \"w\") as h5file:\n",
    "    # Initialize variables to determine feature shape and dtype\n",
    "    first_sample = next(extract_features(test_dl, global_pool=global_pool), None)\n",
    "    if first_sample is None:\n",
    "        raise ValueError(\"No samples found in the dataset.\")\n",
    "    \n",
    "    first_feature, first_metadata = first_sample\n",
    "    feature_shape = first_feature.shape  # e.g., (feature_length,)\n",
    "    feature_dtype = first_feature.dtype  # e.g., float32\n",
    "    \n",
    "    # Create the extendable features dataset\n",
    "    features_ds = h5file.create_dataset(\n",
    "        \"features\",\n",
    "        shape=(0,) + feature_shape,\n",
    "        maxshape=(None,) + feature_shape,\n",
    "        dtype=feature_dtype,\n",
    "        compression=\"gzip\",\n",
    "        chunks=True\n",
    "    )\n",
    "    \n",
    "    # Create separate datasets for each metadata field\n",
    "    string_dt = h5py.string_dtype(encoding='utf-8')\n",
    "    key_ds = h5file.create_dataset(\n",
    "        \"key\",\n",
    "        shape=(0,),\n",
    "        maxshape=(None,),\n",
    "        dtype=string_dt,\n",
    "        compression=\"gzip\",\n",
    "        chunks=True\n",
    "    )\n",
    "    sub_ds = h5file.create_dataset(\n",
    "        \"sub\",\n",
    "        shape=(0,),\n",
    "        maxshape=(None,),\n",
    "        dtype='i8',\n",
    "        compression=\"gzip\",\n",
    "        chunks=True\n",
    "    )\n",
    "    ses_ds = h5file.create_dataset(\n",
    "        \"ses\",\n",
    "        shape=(0,),\n",
    "        maxshape=(None,),\n",
    "        dtype='i8',\n",
    "        compression=\"gzip\",\n",
    "        chunks=True\n",
    "    )\n",
    "    run_ds = h5file.create_dataset(\n",
    "        \"run\",\n",
    "        shape=(0,),\n",
    "        maxshape=(None,),\n",
    "        dtype='i8',\n",
    "        compression=\"gzip\",\n",
    "        chunks=True\n",
    "    )\n",
    "    start_ds = h5file.create_dataset(\n",
    "        \"start\",\n",
    "        shape=(0,),\n",
    "        maxshape=(None,),\n",
    "        dtype='i8',\n",
    "        compression=\"gzip\",\n",
    "        chunks=True\n",
    "    )\n",
    "    events_ds = h5file.create_dataset(\n",
    "        \"events\",\n",
    "        shape=(0,),\n",
    "        maxshape=(None,),\n",
    "        dtype=string_dt,\n",
    "        compression=\"gzip\",\n",
    "        chunks=True\n",
    "    )\n",
    "    \n",
    "    # Initialize buffers with the first sample\n",
    "    buffer_features = [first_feature]\n",
    "    buffer_keys = [first_metadata.get('key', '')]\n",
    "    buffer_subs = [first_metadata.get('sub', 0)]\n",
    "    buffer_sess = [first_metadata.get('ses', 0)]\n",
    "    buffer_runs = [first_metadata.get('run', 0)]\n",
    "    buffer_starts = [first_metadata.get('start', 0)]\n",
    "    buffer_events = [json.dumps(first_metadata.get('events', []))]\n",
    "    \n",
    "    samples_processed = 1\n",
    "    \n",
    "    # Iterate over the remaining samples\n",
    "    for feature, metadata in extract_features(test_dl, global_pool=global_pool):\n",
    "        buffer_features.append(feature)\n",
    "        buffer_keys.append(metadata.get('key', ''))\n",
    "        buffer_subs.append(metadata.get('sub', 0))\n",
    "        buffer_sess.append(metadata.get('ses', 0))\n",
    "        buffer_runs.append(metadata.get('run', 0))\n",
    "        buffer_starts.append(metadata.get('start', 0))\n",
    "        buffer_events.append(json.dumps(metadata.get('events', [])))\n",
    "        \n",
    "        samples_processed += 1\n",
    "        \n",
    "        # When buffer is full, write to HDF5\n",
    "        if samples_processed % chunk_size == 0:\n",
    "            # Append features\n",
    "            features_array = np.stack(buffer_features)  # Shape: (chunk_size, ...)\n",
    "            current_size = features_ds.shape[0]\n",
    "            new_size = current_size + features_array.shape[0]\n",
    "            features_ds.resize((new_size,) + feature_shape)\n",
    "            features_ds[current_size:new_size, ...] = features_array\n",
    "            buffer_features = []\n",
    "            \n",
    "            # Append 'key'\n",
    "            keys_encoded = np.array(buffer_keys, dtype=string_dt)\n",
    "            key_ds.resize((new_size,))\n",
    "            key_ds[current_size:new_size] = keys_encoded\n",
    "            buffer_keys = []\n",
    "            \n",
    "            # Append 'sub'\n",
    "            subs_array = np.array(buffer_subs, dtype='i8')\n",
    "            sub_ds.resize((new_size,))\n",
    "            sub_ds[current_size:new_size] = subs_array\n",
    "            buffer_subs = []\n",
    "            \n",
    "            # Append 'ses'\n",
    "            sess_array = np.array(buffer_sess, dtype='i8')\n",
    "            ses_ds.resize((new_size,))\n",
    "            ses_ds[current_size:new_size] = sess_array\n",
    "            buffer_sess = []\n",
    "            \n",
    "            # Append 'run'\n",
    "            runs_array = np.array(buffer_runs, dtype='i8')\n",
    "            run_ds.resize((new_size,))\n",
    "            run_ds[current_size:new_size] = runs_array\n",
    "            buffer_runs = []\n",
    "            \n",
    "            # Append 'start'\n",
    "            starts_array = np.array(buffer_starts, dtype='i8')\n",
    "            start_ds.resize((new_size,))\n",
    "            start_ds[current_size:new_size] = starts_array\n",
    "            buffer_starts = []\n",
    "            \n",
    "            # Append 'events'\n",
    "            events_encoded = np.array(buffer_events, dtype=string_dt)\n",
    "            events_ds.resize((new_size,))\n",
    "            events_ds[current_size:new_size] = events_encoded\n",
    "            buffer_events = []\n",
    "    \n",
    "    # After loop, write any remaining data in buffers\n",
    "    if buffer_features:\n",
    "        features_array = np.stack(buffer_features)\n",
    "        current_size = features_ds.shape[0]\n",
    "        new_size = current_size + features_array.shape[0]\n",
    "        features_ds.resize((new_size,) + feature_shape)\n",
    "        features_ds[current_size:new_size, ...] = features_array\n",
    "        \n",
    "        # Append 'key'\n",
    "        keys_encoded = np.array(buffer_keys, dtype=string_dt)\n",
    "        key_ds.resize((new_size,))\n",
    "        key_ds[current_size:new_size] = keys_encoded\n",
    "        \n",
    "        # Append 'sub'\n",
    "        subs_array = np.array(buffer_subs, dtype='i8')\n",
    "        sub_ds.resize((new_size,))\n",
    "        sub_ds[current_size:new_size] = subs_array\n",
    "        \n",
    "        # Append 'ses'\n",
    "        sess_array = np.array(buffer_sess, dtype='i8')\n",
    "        ses_ds.resize((new_size,))\n",
    "        ses_ds[current_size:new_size] = sess_array\n",
    "        \n",
    "        # Append 'run'\n",
    "        runs_array = np.array(buffer_runs, dtype='i8')\n",
    "        run_ds.resize((new_size,))\n",
    "        run_ds[current_size:new_size] = runs_array\n",
    "        \n",
    "        # Append 'start'\n",
    "        starts_array = np.array(buffer_starts, dtype='i8')\n",
    "        start_ds.resize((new_size,))\n",
    "        start_ds[current_size:new_size] = starts_array\n",
    "        \n",
    "        # Append 'events'\n",
    "        events_encoded = np.array(buffer_events, dtype=string_dt)\n",
    "        events_ds.resize((new_size,))\n",
    "        events_ds[current_size:new_size] = events_encoded\n",
    "\n",
    "# Calculate total time\n",
    "total_time = time.time() - start_time\n",
    "total_time_str = str(datetime.timedelta(seconds=int(total_time)))\n",
    "print(\"Extraction time:\", total_time_str)\n",
    "print(f\"Processed {samples_processed} samples in total.\")\n",
    "h5file.close()"
   ]
  },
  {
   "cell_type": "code",
   "execution_count": null,
   "id": "f40d3cf7-6299-4369-a6ff-461a1831643f",
   "metadata": {},
   "outputs": [],
   "source": [
    "f = h5py.File(f'{output_path}', 'r')\n",
    "print(f.keys())"
   ]
  }
 ],
 "metadata": {
  "kernelspec": {
   "display_name": "foundation_env",
   "language": "python",
   "name": "foundation_env"
  },
  "language_info": {
   "codemirror_mode": {
    "name": "ipython",
    "version": 3
   },
   "file_extension": ".py",
   "mimetype": "text/x-python",
   "name": "python",
   "nbconvert_exporter": "python",
   "pygments_lexer": "ipython3",
   "version": "3.11.9"
  }
 },
 "nbformat": 4,
 "nbformat_minor": 5
}
