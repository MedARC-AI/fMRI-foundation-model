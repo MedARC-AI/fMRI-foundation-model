{
 "cells": [
  {
   "cell_type": "code",
   "execution_count": 1,
   "id": "b8e236f1-385a-4d93-bb39-bea3ee384d76",
   "metadata": {
    "tags": []
   },
   "outputs": [
    {
     "name": "stdout",
     "output_type": "stream",
     "text": [
      "PID of this process = 502574\n"
     ]
    }
   ],
   "source": [
    "# Import packages and setup gpu configuration.\n",
    "# This code block shouldnt need to be adjusted!\n",
    "import os\n",
    "import sys\n",
    "import json\n",
    "import yaml\n",
    "import numpy as np\n",
    "import copy\n",
    "import math\n",
    "import time\n",
    "import random\n",
    "from tqdm.auto import tqdm\n",
    "import webdataset as wds\n",
    "import matplotlib.pyplot as plt\n",
    "import pandas as pd\n",
    "\n",
    "import torch\n",
    "import torch.nn as nn\n",
    "from torchvision import transforms\n",
    "import utils\n",
    "from mae_utils.flat_models import *\n",
    "import h5py\n",
    "from typing import List, Dict, Any, Tuple\n",
    "from sklearn.preprocessing import StandardScaler\n",
    "import argparse\n",
    "\n",
    "# tf32 data type is faster than standard float32\n",
    "torch.backends.cuda.matmul.allow_tf32 = True\n",
    "# following fixes a Conv3D CUDNN_NOT_SUPPORTED error\n",
    "torch.backends.cudnn.benchmark = True\n",
    "\n",
    "# ## MODEL TO LOAD ##\n",
    "# model_name = \"HCPflat_large_gsrFalse_\"\n",
    "# parquet_folder = \"epoch99\"\n",
    "\n",
    "# # outdir = os.path.abspath(f'checkpoints/{model_name}')\n",
    "# outdir = os.path.abspath(f'checkpoints/{model_name}')\n",
    "\n",
    "# print(\"outdir\", outdir)\n",
    "# # Load previous config.yaml if available\n",
    "# if os.path.exists(f\"{outdir}/config.yaml\"):\n",
    "#     config = yaml.load(open(f\"{outdir}/config.yaml\", 'r'), Loader=yaml.FullLoader)\n",
    "#     print(f\"Loaded config.yaml from ckpt folder {outdir}\")\n",
    "#     # create global variables from the config\n",
    "#     print(\"\\n__CONFIG__\")\n",
    "#     for attribute_name in config.keys():\n",
    "#         print(f\"{attribute_name} = {config[attribute_name]}\")\n",
    "#         globals()[attribute_name] = config[f'{attribute_name}']\n",
    "#     print(\"\\n\")\n",
    "\n",
    "# world_size = os.getenv('WORLD_SIZE')\n",
    "# if world_size is None: \n",
    "#     world_size = 1\n",
    "# else:\n",
    "#     world_size = int(world_size)\n",
    "# print(f\"WORLD_SIZE={world_size}\")\n",
    "\n",
    "# if utils.is_interactive():\n",
    "#     # Following allows you to change functions in models.py or utils.py and \n",
    "#     # have this notebook automatically update with your revisions\n",
    "#     %load_ext autoreload\n",
    "#     %autoreload 2\n",
    "\n",
    "# batch_size = probe_batch_size\n",
    "# num_epochs = probe_num_epochs\n",
    "\n",
    "# data_type = torch.float32 # change depending on your mixed_precision\n",
    "# global_batch_size = batch_size * world_size\n",
    "\n",
    "device = torch.device('cuda')\n",
    "\n",
    "# hcp_flat_path = \"/weka/proj-medarc/shared/HCP-Flat\"\n",
    "# seed = 42\n",
    "num_frames = 16\n",
    "gsr = False\n",
    "# num_workers = 5\n",
    "batch_size = 128\n",
    "# target = 'sex' # This can be 'trial_type' 'age' 'sex'\n",
    "\n",
    "print(\"PID of this process =\",os.getpid())"
   ]
  },
  {
   "cell_type": "code",
   "execution_count": 2,
   "id": "c2539698-5566-48cf-8022-90cb70d94f9f",
   "metadata": {},
   "outputs": [
    {
     "name": "stdout",
     "output_type": "stream",
     "text": [
      "model_name: HCPflat_large_gsrFalse_\n",
      "--hcp_flat_path=/weka/proj-medarc/shared/HCP-Flat                     --target=sex                     --model_name=HCPflat_large_gsrFalse_                     --batch_size=128                     --max_lr=1e-3 --num_epochs=40 --no-save_ckpt --no-wandb_log --num_workers=10                     --weight_decay=1e-5                     --parquet_folder=epoch99                     --outdir=/weka/proj-fmri/ckadirt/fMRI-foundation-model/src/checkpoints/HCPflat_large_gsrFalse_                     --global_pooling\n"
     ]
    }
   ],
   "source": [
    "# if running this interactively, can specify jupyter_args here for argparser to use\n",
    "if utils.is_interactive():\n",
    "    model_name = \"HCPflat_large_gsrFalse_\"\n",
    "    print(\"model_name:\", model_name)\n",
    "    outdir = os.path.abspath(f'checkpoints/{model_name}')\n",
    "    # global_batch_size and batch_size should already be defined in the 2nd cell block\n",
    "    jupyter_args = f\"--hcp_flat_path=/weka/proj-medarc/shared/HCP-Flat \\\n",
    "                    --target=sex \\\n",
    "                    --model_name={model_name} \\\n",
    "                    --batch_size={batch_size} \\\n",
    "                    --max_lr=1e-3 --num_epochs=40 --no-save_ckpt --no-wandb_log --num_workers=10 \\\n",
    "                    --weight_decay=1e-5 \\\n",
    "                    --parquet_folder=epoch99 \\\n",
    "                    --outdir={outdir} \\\n",
    "                    --global_pooling\"\n",
    "    # --multisubject_ckpt=../train_logs/multisubject_subj01_1024_24bs_nolow\n",
    "    # recommended max_lr on trial_type 9e-3, on age 1e-3, on sex 1e-3\n",
    "    print(jupyter_args)\n",
    "    jupyter_args = jupyter_args.split()\n",
    "    \n",
    "    from IPython.display import clear_output # function to clear print outputs in cell\n",
    "    %load_ext autoreload \n",
    "    # this allows you to change functions in models.py or utils.py and have this notebook automatically update with your revisions\n",
    "    %autoreload 2 "
   ]
  },
  {
   "cell_type": "code",
   "execution_count": 3,
   "id": "e3b9ee45-5409-4a03-b1a1-f59af40ccc79",
   "metadata": {},
   "outputs": [
    {
     "name": "stdout",
     "output_type": "stream",
     "text": [
      "------ ARGS ------- \n",
      " Namespace(model_name='HCPflat_large_gsrFalse_', hcp_flat_path='/weka/proj-medarc/shared/HCP-Flat', batch_size=128, wandb_log=False, num_epochs=40, lr_scheduler_type='cycle', save_ckpt=False, seed=42, max_lr=0.001, target='sex', num_workers=10, weight_decay=1e-05, parquet_folder='epoch99', outdir='/weka/proj-fmri/ckadirt/fMRI-foundation-model/src/checkpoints/HCPflat_large_gsrFalse_', global_pooling=True)\n"
     ]
    }
   ],
   "source": [
    "parser = argparse.ArgumentParser(description=\"Model Training Configuration\")\n",
    "parser.add_argument(\n",
    "    \"--model_name\", type=str, default=\"HCPflat_large_gsrFalse_\",\n",
    "    help=\"name of model, used for ckpt saving and wandb logging (if enabled)\",\n",
    ")\n",
    "parser.add_argument(\n",
    "    \"--hcp_flat_path\", type=str, default=os.getcwd(),\n",
    "    help=\"Path to where NSD data is stored / where to download it to\",\n",
    ")\n",
    "parser.add_argument(\n",
    "    \"--batch_size\", type=int, default=128,\n",
    "    help=\"Batch size can be increased by 10x if only training retreival submodule and not diffusion prior\",\n",
    ")\n",
    "parser.add_argument(\n",
    "    \"--wandb_log\",action=argparse.BooleanOptionalAction,default=False,\n",
    "    help=\"whether to log to wandb\",\n",
    ")\n",
    "parser.add_argument(\n",
    "    \"--num_epochs\",type=int,default=150,\n",
    "    help=\"number of epochs of training\",\n",
    ")\n",
    "parser.add_argument(\n",
    "    \"--lr_scheduler_type\",type=str,default='cycle',choices=['cycle','linear'],\n",
    ")\n",
    "parser.add_argument(\n",
    "    \"--save_ckpt\",action=argparse.BooleanOptionalAction,default=True,\n",
    ")\n",
    "parser.add_argument(\n",
    "    \"--seed\",type=int,default=42,\n",
    ")\n",
    "parser.add_argument(\n",
    "    \"--max_lr\",type=float,default=3e-4,\n",
    ")\n",
    "parser.add_argument(\n",
    "    \"--target\",type=str,default='trial_type',choices=['trial_type','sex','age'],\n",
    ")\n",
    "parser.add_argument(\n",
    "    \"--num_workers\",type=int,default=10,\n",
    ")\n",
    "parser.add_argument(\n",
    "    \"--weight_decay\",type=float,default=1e-5,\n",
    ")\n",
    "parser.add_argument(\n",
    "    \"--parquet_folder\",type=str,default='epoch99',\n",
    ")\n",
    "parser.add_argument(\n",
    "    \"--outdir\",type=str,default='./checkpoints/HCPflat_large_gsrFalse_/',\n",
    "    help=\"Path where the precomputed features are located\"\n",
    ")\n",
    "parser.add_argument(\n",
    "    \"--global_pooling\",action=argparse.BooleanOptionalAction,default=True,\n",
    ")\n",
    "\n",
    "if utils.is_interactive():\n",
    "    args = parser.parse_args(jupyter_args)\n",
    "else:\n",
    "    args = parser.parse_args()\n",
    "\n",
    "print(f\"------ ARGS ------- \\n {args}\")\n",
    "\n",
    "# create global variables without the args prefix\n",
    "for attribute_name in vars(args).keys():\n",
    "    globals()[attribute_name] = getattr(args, attribute_name)\n",
    "    \n",
    "# seed all random functions\n",
    "utils.seed_everything(seed)\n"
   ]
  },
  {
   "cell_type": "code",
   "execution_count": 4,
   "id": "fc00235a-a9e1-4dc4-8fd3-359c1d91bfc7",
   "metadata": {},
   "outputs": [],
   "source": [
    "#### UNCOMMENT THIS TO SAVE THE HCP-FLAT IN HDF5 FORMAT\n",
    "\n",
    "\n",
    "# from torch.utils.data import default_collate\n",
    "# from mae_utils.flat import load_hcp_flat_mask\n",
    "# from mae_utils.flat import create_hcp_flat\n",
    "# from mae_utils.flat import batch_unmask\n",
    "# import mae_utils.visualize as vis\n",
    "\n",
    "\n",
    "# batch_size = 26\n",
    "# print(f\"changed batch_size to {batch_size}\")\n",
    "\n",
    "# ## Test ##\n",
    "# datasets_to_include = \"HCP\"\n",
    "# assert \"HCP\" in datasets_to_include\n",
    "# test_dataset = create_hcp_flat(root=hcp_flat_path, \n",
    "#                 clip_mode=\"event\", frames=num_frames, shuffle=False, gsr=gsr, sub_list = 'test')\n",
    "# test_dl = wds.WebLoader(\n",
    "#     test_dataset.batched(batch_size, partial=False, collation_fn=default_collate),\n",
    "#     batch_size=None,\n",
    "#     shuffle=False,\n",
    "#     num_workers=num_workers,\n",
    "#     pin_memory=True,\n",
    "# )\n",
    "\n",
    "# ## Train ##\n",
    "# assert \"HCP\" in datasets_to_include\n",
    "# train_dataset = create_hcp_flat(root=hcp_flat_path, \n",
    "#                 clip_mode=\"event\", frames=num_frames, shuffle=False, gsr=gsr, sub_list = 'train')\n",
    "# train_dl = wds.WebLoader(\n",
    "#     train_dataset.batched(batch_size, partial=False, collation_fn=default_collate),\n",
    "#     batch_size=None,\n",
    "#     shuffle=False,\n",
    "#     num_workers=num_workers,\n",
    "#     pin_memory=True,\n",
    "# )\n",
    "\n",
    "# def flatten_meta(meta_dict):\n",
    "#     \"\"\"\n",
    "#     Flatten the meta dictionary by:\n",
    "#     - Replacing single-item lists with the item itself.\n",
    "#     - Converting tensors to scalar numbers.\n",
    "#     \"\"\"\n",
    "#     flattened = {}\n",
    "#     for key, value in meta_dict.items():\n",
    "#         if isinstance(value, list):\n",
    "#             if len(value) == 1:\n",
    "#                 flattened[key] = value[0]  # Replace list with its single item\n",
    "#             else:\n",
    "#                 flattened[key] = value  # Keep as is if multiple items\n",
    "#         elif isinstance(value, torch.Tensor):\n",
    "#             # Convert tensor to scalar\n",
    "#             if value.numel() == 1:\n",
    "#                 flattened[key] = value.item()\n",
    "#             else:\n",
    "#                 flattened[key] = value.tolist()  # Convert multi-element tensor to list\n",
    "#         else:\n",
    "#             flattened[key] = value  # Keep the value as is\n",
    "#     return flattened\n",
    "\n",
    "# import h5py\n",
    "# meta_array = np.array([], dtype=object)\n",
    "# # Open an HDF5 file in write mode\n",
    "# with h5py.File('train_hcp_raw_flatmaps.hdf5', 'w') as h5f:\n",
    "#     flatmaps_dset = None\n",
    "    \n",
    "#     total_samples = 0\n",
    "\n",
    "#     for i, batch in tqdm(enumerate(train_dl), total = 120000):\n",
    "#         images = batch['image'][0]\n",
    "#         meta = batch['meta']\n",
    "#         batch_size = images.shape[0]\n",
    "#         meta_serializable = meta.copy()\n",
    "        \n",
    "        \n",
    "#         # Step 2: Serialize the dictionary to a JSON string\n",
    "#         meta_str = json.dumps(flatten_meta(meta_serializable), indent=4)\n",
    "#         meta_array = np.append(meta_array, meta_str)\n",
    "#         if flatmaps_dset is None:\n",
    "#             # Initialize datasets with unlimited (None) maxshape along the first axis\n",
    "#             flatmaps_shape = (0,) + images.shape[1:]\n",
    "#             flatmaps_maxshape = (None,) + images.shape[1:]\n",
    "\n",
    "#             flatmaps_dset = h5f.create_dataset(\n",
    "#                 'flatmaps',\n",
    "#                 shape=flatmaps_shape,\n",
    "#                 maxshape=flatmaps_maxshape,\n",
    "#                 dtype=np.float16,\n",
    "#                 chunks=True  # Enable chunking for efficient resizing\n",
    "#             )\n",
    "\n",
    "#         # Resize datasets to accommodate new data\n",
    "#         flatmaps_dset.resize(total_samples + batch_size, axis=0)\n",
    "\n",
    "#         # Write data to the datasets\n",
    "#         flatmaps_dset[total_samples:total_samples + batch_size] = images.numpy().astype(np.float16)\n",
    "\n",
    "#         total_samples += batch_size\n",
    "        \n",
    "#     print(f\"Processed {total_samples} samples\")\n",
    "# np.save('metadata_test_HCP_raw_flatmaps.npy', meta_array)\n",
    "\n",
    "\n",
    "# import h5py\n",
    "# meta_array = np.array([], dtype=object)\n",
    "# # Open an HDF5 file in write mode\n",
    "# with h5py.File('test_hcp_raw_flatmaps.hdf5', 'w') as h5f:\n",
    "#     flatmaps_dset = None\n",
    "    \n",
    "#     total_samples = 0\n",
    "\n",
    "#     for i, batch in tqdm(enumerate(test_dl), total = 12000):\n",
    "#         images = batch['image'][0]\n",
    "#         meta = batch['meta']\n",
    "#         batch_size = images.shape[0]\n",
    "#         meta_serializable = meta.copy()\n",
    "        \n",
    "        \n",
    "#         # Step 2: Serialize the dictionary to a JSON string\n",
    "#         meta_str = json.dumps(flatten_meta(meta_serializable), indent=4)\n",
    "#         meta_array = np.append(meta_array, meta_str)\n",
    "#         if flatmaps_dset is None:\n",
    "#             # Initialize datasets with unlimited (None) maxshape along the first axis\n",
    "#             flatmaps_shape = (0,) + images.shape[1:]\n",
    "#             flatmaps_maxshape = (None,) + images.shape[1:]\n",
    "\n",
    "#             flatmaps_dset = h5f.create_dataset(\n",
    "#                 'flatmaps',\n",
    "#                 shape=flatmaps_shape,\n",
    "#                 maxshape=flatmaps_maxshape,\n",
    "#                 dtype=np.float16,\n",
    "#                 chunks=True  # Enable chunking for efficient resizing\n",
    "#             )\n",
    "\n",
    "#         # Resize datasets to accommodate new data\n",
    "#         flatmaps_dset.resize(total_samples + batch_size, axis=0)\n",
    "\n",
    "#         # Write data to the datasets\n",
    "#         flatmaps_dset[total_samples:total_samples + batch_size] = images.numpy().astype(np.float16)\n",
    "\n",
    "#         total_samples += batch_size\n",
    "        \n",
    "#     print(f\"Processed {total_samples} samples\")\n",
    "# np.save('metadata_train_HCP_raw_flatmaps.npy', meta_array)"
   ]
  },
  {
   "cell_type": "markdown",
   "id": "98629867-6d64-45ef-823d-5f4fdb279ec7",
   "metadata": {},
   "source": [
    "### Data"
   ]
  },
  {
   "cell_type": "code",
   "execution_count": 5,
   "id": "6e66e2c0-6a73-42d7-8414-3b8acafdb0f4",
   "metadata": {},
   "outputs": [],
   "source": [
    "# f_train = h5py.File('/weka/proj-fmri/ckadirt/fMRI-foundation-model/src/train_hcp_raw_flatmaps.hdf5', 'r')\n",
    "# flatmaps_train = f_train['flatmaps']\n",
    "\n",
    "# f_test = h5py.File('/weka/proj-fmri/ckadirt/fMRI-foundation-model/src/test_hcp_raw_flatmaps.hdf5', 'r')\n",
    "# flatmaps_test = f_test['flatmaps']\n",
    "\n",
    "# metadata_train = np.load('/weka/proj-fmri/ckadirt/fMRI-foundation-model/src/metadata_train_HCP_raw_flatmaps.npy', allow_pickle=True)\n",
    "# metadata_test = np.load('/weka/proj-fmri/ckadirt/fMRI-foundation-model/src/metadata_test_HCP_raw_flatmaps.npy', allow_pickle=True)\n",
    "\n",
    "train_features = pd.read_parquet(f\"{outdir}_gp{str(global_pooling)}/{parquet_folder}/HCP/train.parquet\")\n",
    "test_features = pd.read_parquet(f\"{outdir}_gp{str(global_pooling)}/{parquet_folder}/HCP/test.parquet\")"
   ]
  },
  {
   "cell_type": "markdown",
   "id": "a368c4fa-f2f3-4997-8ea4-ae6542efc32c",
   "metadata": {},
   "source": [
    "### Create the dataloader"
   ]
  },
  {
   "cell_type": "code",
   "execution_count": 7,
   "id": "b52b668f-c143-40fe-b3d4-c21c7a406d0d",
   "metadata": {},
   "outputs": [],
   "source": [
    "from torch.utils.data import Dataset, DataLoader\n",
    "\n",
    "class HCPFlatDataset(Dataset):\n",
    "    def __init__(self, parquet_data):\n",
    "        self.parquet_data = parquet_data\n",
    "\n",
    "    def __len__(self):\n",
    "        return len(self.parquet_data)\n",
    "\n",
    "    def __getitem__(self, idx):\n",
    "        c_feature = torch.Tensor(self.parquet_data.iloc[idx]['feature'])\n",
    "        c_sub = self.parquet_data.iloc[idx]['sub'][0]\n",
    "        c_trial_type = self.parquet_data.iloc[idx]['trial_type'][0]\n",
    "        return c_feature, c_trial_type, c_sub\n",
    "\n",
    "# Loading to cpu for faster training, this can take several minutes.  Remove this [:] if you want to move one at the time.\n",
    "train_dataset = HCPFlatDataset(train_features)\n",
    "train_dl = DataLoader(train_dataset, batch_size=batch_size, shuffle=True, num_workers=0)\n",
    "\n",
    "test_dataset = HCPFlatDataset(test_features)\n",
    "test_dl = DataLoader(test_dataset, batch_size=batch_size, shuffle=False, num_workers=0)\n"
   ]
  },
  {
   "cell_type": "code",
   "execution_count": 8,
   "id": "397b02db-4007-4119-b3e5-93c657a27953",
   "metadata": {},
   "outputs": [],
   "source": [
    "# for a in test_dl:\n",
    "#     print(a[0], a[1], a[2])\n",
    "#     break"
   ]
  },
  {
   "cell_type": "markdown",
   "id": "247a9b16-3c06-4c40-8c81-5b6169ef166e",
   "metadata": {},
   "source": [
    "### Load subject information"
   ]
  },
  {
   "cell_type": "code",
   "execution_count": 9,
   "id": "a7d8760b-2e62-4ba5-ae34-b42376ad0eaf",
   "metadata": {},
   "outputs": [],
   "source": [
    "# open the file containing subject information\n",
    "if target == \"age\" or target == \"sex\":\n",
    "    subject_information_HCP_path = os.path.join(hcp_flat_path, \"subjects_data_restricted.csv\")\n",
    "    try:\n",
    "        subject_information_HCP = pd.read_csv(subject_information_HCP_path)\n",
    "    except:\n",
    "        try:\n",
    "            subject_information_HCP = pd.read_csv('./unrestricted_clane9_4_23_2024_13_28_14.csv')   \n",
    "        except:\n",
    "            assert False, \"Subject information file not found\"\n",
    "\n",
    "    ###### This is for unrestricted\n",
    "    # age_related_columns = [\n",
    "    #     'Age', 'PicSeq_AgeAdj', 'CardSort_AgeAdj', 'Flanker_AgeAdj',\n",
    "    #     'ReadEng_AgeAdj', 'PicVocab_AgeAdj', 'ProcSpeed_AgeAdj',\n",
    "    #     'CogFluidComp_AgeAdj', 'CogEarlyComp_AgeAdj', 'CogTotalComp_AgeAdj',\n",
    "    #     'CogCrystalComp_AgeAdj', 'Endurance_AgeAdj', 'Dexterity_AgeAdj',\n",
    "    #     'Strength_AgeAdj', 'Odor_AgeAdj', 'Taste_AgeAdj'\n",
    "    # ]\n",
    "    \n",
    "    # sex_related_columns = [\n",
    "    #     'Gender'\n",
    "    # ]\n",
    "\n",
    "    ###### This is for restricted\n",
    "    gender_related_columns = [\n",
    "        'Gender'\n",
    "    ]\n",
    "\n",
    "    age_related_columns = [\n",
    "        'Age_in_Yrs',\n",
    "        'Menstrual_AgeBegan',\n",
    "        'Menstrual_AgeIrreg',\n",
    "        'Menstrual_AgeStop',\n",
    "        'SSAGA_Alc_Age_1st_Use',\n",
    "        'SSAGA_TB_Age_1st_Cig',\n",
    "        'SSAGA_Mj_Age_1st_Use',\n",
    "        'Endurance_AgeAdj',\n",
    "        'Dexterity_AgeAdj',\n",
    "        'Strength_AgeAdj',\n",
    "        'PicSeq_AgeAdj',\n",
    "        'CardSort_AgeAdj',\n",
    "        'Flanker_AgeAdj',\n",
    "        'ReadEng_AgeAdj',\n",
    "        'PicVocab_AgeAdj',\n",
    "        'ProcSpeed_AgeAdj',\n",
    "        'Odor_AgeAdj',\n",
    "        'Taste_AgeAdj'\n",
    "    ]\n",
    "\n",
    "    # # show the first few rows of the subject information\n",
    "    # subject_information_HCP[age_related_columns + sex_related_columns].head()\n",
    "\n",
    "    # Handle missing values (e.g., impute with mean)\n",
    "    mean_age = subject_information_HCP['Age_in_Yrs'].mean()\n",
    "    \n",
    "    # Initialize the scaler\n",
    "    scaler = StandardScaler()\n",
    "    \n",
    "    # Perform z-score normalization\n",
    "    subject_information_HCP['Age_in_Yrs_z'] = scaler.fit_transform(subject_information_HCP[['Age_in_Yrs']])\n",
    "\n",
    "\n",
    "    \n",
    "def get_label_unrestricted(subject_id: List[str], target: str, method_for_age: str = 'mean') -> List:\n",
    "    \"\"\"\n",
    "    Get the label for the given subject id and target.\n",
    "\n",
    "    For sex 0 is F and 1 is M\n",
    "    \"\"\"\n",
    "\n",
    "    # convert to list of ints\n",
    "    subject_id = [int(x) for x in subject_id]\n",
    "\n",
    "    if target == \"age\":\n",
    "        age_array = []\n",
    "        for subject in subject_id:\n",
    "            c_age = subject_information_HCP[subject_information_HCP['Subject'] == subject]['Age'].values\n",
    "            # if the subject is not in the subject information file trigger an error\n",
    "            if len(c_age) == 0:\n",
    "                assert False, f\"Subject {subject} not found in subject information file\"\n",
    "            if len(c_age) > 1:\n",
    "                print(f\"Warning: Multiple entries for subject {subject}\")\n",
    "\n",
    "            c_age = c_age[0].split('-')\n",
    "            if len(c_age) < 2:\n",
    "                c_age = c_age[0].split('+')\n",
    "                age_array.append(int(c_age[0]))\n",
    "            else:\n",
    "                if method_for_age == 'mean':\n",
    "                    age_array.append(np.mean([int(x) for x in c_age]))\n",
    "                elif method_for_age == 'min':\n",
    "                    age_array.append(np.min([int(x) for x in c_age]))\n",
    "                elif method_for_age == 'max':\n",
    "                    age_array.append(np.max([int(x) for x in c_age]))\n",
    "                else:\n",
    "                    assert False, f\"Method {method_for_age} not recognized\"\n",
    "\n",
    "        return np.array(age_array)  \n",
    "    \n",
    "    elif target == 'sex':\n",
    "        sex_array = []\n",
    "        for subject in subject_id:\n",
    "            c_sex = subject_information_HCP[subject_information_HCP['Subject'] == subject]['Gender'].values\n",
    "            # if the subject is not in the subject information file trigger an error\n",
    "            if len(c_sex) == 0:\n",
    "                assert False, f\"Subject {subject} not found in subject information file\"\n",
    "            if len(c_sex) > 1:\n",
    "                print(f\"Warning: Multiple entries for subject {subject}\")\n",
    "            sex_array.append(int(c_sex[0] == 'M'))\n",
    "        return sex_array\n",
    "\n",
    "def get_label_restricted(subject_id: List[str], target: str, normalized: bool = True) -> List:\n",
    "    \"\"\"\n",
    "    Get the label for the given subject id and target.\n",
    "\n",
    "    For sex 0 is F and 1 is M\n",
    "    \"\"\"\n",
    "\n",
    "    # convert to list of ints\n",
    "    subject_id = [int(x) for x in subject_id]\n",
    "\n",
    "    if target == \"age\":\n",
    "        age_array = []\n",
    "        for subject in subject_id:\n",
    "            c_age = subject_information_HCP[subject_information_HCP['Subject'] == subject]['Age_in_Yrs' if not normalized else 'Age_in_Yrs_z'].values\n",
    "            # if the subject is not in the subject information file trigger an error\n",
    "            if len(c_age) == 0:\n",
    "                assert False, f\"Subject {subject} not found in subject information file\"\n",
    "            if len(c_age) > 1:\n",
    "                print(f\"Warning: Multiple entries for subject {subject}\")\n",
    "\n",
    "            age_array.append(np.int8(c_age[0]))\n",
    "\n",
    "        return np.array(age_array)  \n",
    "    \n",
    "    elif target == 'sex':\n",
    "        sex_array = []\n",
    "        for subject in subject_id:\n",
    "            c_sex = subject_information_HCP[subject_information_HCP['Subject'] == subject]['Gender'].values\n",
    "            # if the subject is not in the subject information file trigger an error\n",
    "            if len(c_sex) == 0:\n",
    "                assert False, f\"Subject {subject} not found in subject information file\"\n",
    "            if len(c_sex) > 1:\n",
    "                print(f\"Warning: Multiple entries for subject {subject}\")\n",
    "            sex_array.append(int(c_sex[0] == 'M'))\n",
    "        return sex_array"
   ]
  },
  {
   "cell_type": "code",
   "execution_count": 10,
   "id": "40f04009-13f1-473d-9808-181a46d3e97e",
   "metadata": {},
   "outputs": [],
   "source": [
    "from sklearn.preprocessing import LabelEncoder\n",
    "\n",
    "if target == \"trial_type\":\n",
    "    \n",
    "    INCLUDE_CONDS = {\n",
    "        \"fear\",\n",
    "        \"neut\",\n",
    "        \"math\",\n",
    "        \"story\",\n",
    "        \"lf\",\n",
    "        \"lh\",\n",
    "        \"rf\",\n",
    "        \"rh\",\n",
    "        \"t\",\n",
    "        \"match\",\n",
    "        \"relation\",\n",
    "        \"mental\",\n",
    "        \"rnd\",\n",
    "        \"0bk_body\",\n",
    "        \"2bk_body\",\n",
    "        \"0bk_faces\",\n",
    "        \"2bk_faces\",\n",
    "        \"0bk_places\",\n",
    "        \"2bk_places\",\n",
    "        \"0bk_tools\",\n",
    "        \"2bk_tools\",\n",
    "    }\n",
    "\n",
    "    # test_data = []\n",
    "\n",
    "    # # Iterate over the DataLoader with a progress bar\n",
    "    # for sample in tqdm(train_dl, desc=\"Processing samples\"):\n",
    "    #     x = sample['image']\n",
    "    #     y = sample['meta']['trial_type']\n",
    "    #     key = sample['meta']['key']\n",
    "    #     print(x.shape, y, key)\n",
    "    #     break\n",
    "    # Initialize the label encoder\n",
    "    label_encoder = LabelEncoder()\n",
    "    label_encoder.fit(sorted(INCLUDE_CONDS))  # Ensure consistent ordering\n",
    "\n",
    "    num_classes = len(label_encoder.classes_)\n",
    "    print(f\"Number of classes: {num_classes}\")"
   ]
  },
  {
   "cell_type": "code",
   "execution_count": 11,
   "id": "592b3cd3-6232-4cff-8d90-9034067b3ab9",
   "metadata": {},
   "outputs": [],
   "source": [
    "# for sample in tqdm(train_dl):\n",
    "#     x = sample[0]\n",
    "#     subject_id = sample[1]['sub']\n",
    "\n",
    "#     # benchmark time\n",
    "#     start = time.time()\n",
    "#     y = get_label(subject_id, 'age')\n",
    "#     end = time.time()\n",
    "#     print(f\"Time taken: {end - start}\")\n",
    "#     print(x.shape, y, subject_id, torch.Tensor(y).shape)\n",
    "#     break"
   ]
  },
  {
   "cell_type": "markdown",
   "id": "bb2d7e4f-eb34-498b-bbc6-127eb4a7bdc8",
   "metadata": {},
   "source": [
    "### Create pytorch model"
   ]
  },
  {
   "cell_type": "code",
   "execution_count": 12,
   "id": "1a2c6527-fa75-42ba-be43-3d753ed8100c",
   "metadata": {},
   "outputs": [
    {
     "name": "stdout",
     "output_type": "stream",
     "text": [
      "Input dimension: 1024\n"
     ]
    }
   ],
   "source": [
    "class LinearClassifier(nn.Module):\n",
    "    def __init__(self, input_dim, num_classes):\n",
    "        super(LinearClassifier, self).__init__()\n",
    "        self.linear = nn.Linear(input_dim, num_classes)\n",
    "        \n",
    "    def forward(self, x):\n",
    "        # Flatten the input except for the batch dimension\n",
    "        x = x.view(x.size(0), -1)\n",
    "        out = self.linear(x)\n",
    "        return out  # Raw logits\n",
    "\n",
    "# Determine the input dimension from a single sample\n",
    "# Assuming images are of shape [1, 16, 144, 320]\n",
    "sample_batch = next(iter(train_dl))\n",
    "sample_image = sample_batch[0][0]  # Shape: [1, 16, 144, 320]\n",
    "input_dim = sample_image.view(-1).size(0)\n",
    "print(f\"Input dimension: {input_dim}\")\n"
   ]
  },
  {
   "cell_type": "code",
   "execution_count": 13,
   "id": "b8983a0b-c810-4424-8c31-32b9921ebd9c",
   "metadata": {},
   "outputs": [
    {
     "name": "stdout",
     "output_type": "stream",
     "text": [
      "total_steps 34800\n"
     ]
    }
   ],
   "source": [
    "# Initialize the model\n",
    "\n",
    "if target == \"trial_type\":\n",
    "    model = LinearClassifier(input_dim=input_dim, num_classes=num_classes)\n",
    "    criterion = nn.CrossEntropyLoss()\n",
    "\n",
    "elif target == \"age\":\n",
    "    model = LinearClassifier(input_dim=input_dim, num_classes=1)\n",
    "    criterion = nn.MSELoss()\n",
    "\n",
    "elif target == \"sex\":\n",
    "    model = LinearClassifier(input_dim=input_dim, num_classes=1)\n",
    "    criterion = nn.BCEWithLogitsLoss()\n",
    "\n",
    "# Move the model to GPU if available\n",
    "device = torch.device('cuda' if torch.cuda.is_available() else 'cpu')\n",
    "model.to(device)\n",
    "\n",
    "# import schedulefree\n",
    "# optimizer = schedulefree.AdamWScheduleFree(model.parameters(), lr=learning_rate, weight_decay=weight_decay)\n",
    "optimizer = torch.optim.AdamW(model.parameters(), lr=max_lr, weight_decay=weight_decay)\n",
    "\n",
    "num_iterations_per_epoch = math.ceil(train_features.shape[0]/batch_size)\n",
    "\n",
    "if lr_scheduler_type == 'linear':\n",
    "    lr_scheduler = torch.optim.lr_scheduler.LinearLR(\n",
    "        optimizer,\n",
    "        total_iters=int(np.floor(num_epochs*num_iterations_per_epoch)),\n",
    "        last_epoch=-1\n",
    "    )\n",
    "elif lr_scheduler_type == 'cycle':\n",
    "    total_steps=int(np.floor(num_epochs*num_iterations_per_epoch))\n",
    "    print(\"total_steps\", total_steps)\n",
    "    lr_scheduler = torch.optim.lr_scheduler.OneCycleLR(\n",
    "        optimizer, \n",
    "        max_lr=max_lr,\n",
    "        total_steps=total_steps,\n",
    "        final_div_factor=1000,\n",
    "        last_epoch=-1, pct_start=2/num_epochs\n",
    "    )\n"
   ]
  },
  {
   "cell_type": "markdown",
   "id": "6b205b2c-730c-4d9e-89b7-c28031de78a7",
   "metadata": {},
   "source": [
    "### Wandb logging"
   ]
  },
  {
   "cell_type": "code",
   "execution_count": 14,
   "id": "63ce8f26-a1b9-4e29-badc-7b9b30d0d3b3",
   "metadata": {},
   "outputs": [
    {
     "name": "stdout",
     "output_type": "stream",
     "text": [
      "Running in interactive notebook. Disabling W&B and ckpt saving.\n"
     ]
    }
   ],
   "source": [
    "import wandb\n",
    "import uuid\n",
    "\n",
    "myuuid = uuid.uuid4()\n",
    "str(myuuid)\n",
    "if utils.is_interactive():\n",
    "    print(\"Running in interactive notebook. Disabling W&B and ckpt saving.\")\n",
    "    wandb_log = False\n",
    "    save_ckpt = False\n",
    "\n",
    "if wandb_log:\n",
    "    wandb_project = 'fMRI-foundation-model'\n",
    "    wandb_config = {\n",
    "        \"model_name\": f\"HCPflat_raw_{target}\",\n",
    "        \"batch_size\": batch_size,\n",
    "        \"weight_decay\": weight_decay,\n",
    "        \"num_epochs\": num_epochs,\n",
    "        \"seed\": seed,\n",
    "        \"lr_scheduler_type\": lr_scheduler_type,\n",
    "        \"save_ckpt\": save_ckpt,\n",
    "        \"seed\": seed,\n",
    "        \"max_lr\": max_lr,\n",
    "        \"target\": target,\n",
    "        \"num_workers\": num_workers,\n",
    "        \"weight_decay\": weight_decay\n",
    "    }\n",
    "    print(\"wandb_config:\\n\", wandb_config)\n",
    "    random_id = random.randint(0, 100000)\n",
    "    wandb_id = \"HCPflat_raw\" + f\"_{model_suffix}_{target}_{myuuid}\"\n",
    "    print(\"wandb_id:\", wandb_id)\n",
    "    wandb.init(\n",
    "        id=wandb_id,\n",
    "        project=wandb_project,\n",
    "        name=\"HCPflat_raw\"+ f\"_{model_suffix}_{target}\",\n",
    "        config=wandb_config,\n",
    "        resume=\"allow\",\n",
    "    )"
   ]
  },
  {
   "cell_type": "markdown",
   "id": "b7d87e5c-94fc-4528-b2eb-65ef59c79634",
   "metadata": {},
   "source": [
    "### Training loop"
   ]
  },
  {
   "cell_type": "code",
   "execution_count": 15,
   "id": "f43535f4-0f6e-4655-b4f0-926416685358",
   "metadata": {},
   "outputs": [
    {
     "data": {
      "application/vnd.jupyter.widget-view+json": {
       "model_id": "ceafa68d446c4a55a1d0c46d0a06733b",
       "version_major": 2,
       "version_minor": 0
      },
      "text/plain": [
       "Epoch 1/40 - Training:   0%|          | 0/870 [00:00<?, ?it/s]"
      ]
     },
     "metadata": {},
     "output_type": "display_data"
    },
    {
     "name": "stdout",
     "output_type": "stream",
     "text": [
      "Step [100/870] - Training Loss: 0.6415 - Training Accuracy: 58.36%\n",
      "Step [200/870] - Training Loss: 0.6210 - Training Accuracy: 64.36%\n",
      "Step [300/870] - Training Loss: 0.5219 - Training Accuracy: 69.53%\n",
      "Step [400/870] - Training Loss: 0.4441 - Training Accuracy: 73.06%\n",
      "Step [500/870] - Training Loss: 0.4192 - Training Accuracy: 75.42%\n",
      "Step [600/870] - Training Loss: 0.4268 - Training Accuracy: 77.22%\n",
      "Step [700/870] - Training Loss: 0.3428 - Training Accuracy: 78.51%\n",
      "Step [800/870] - Training Loss: 0.4011 - Training Accuracy: 79.49%\n"
     ]
    },
    {
     "data": {
      "application/vnd.jupyter.widget-view+json": {
       "model_id": "9e5a15e418ce4cdb8dc394dc092fa44a",
       "version_major": 2,
       "version_minor": 0
      },
      "text/plain": [
       "Epoch 1/40 - Validation:   0%|          | 0/95 [00:00<?, ?it/s]"
      ]
     },
     "metadata": {},
     "output_type": "display_data"
    },
    {
     "name": "stderr",
     "output_type": "stream",
     "text": [
      "/tmp/ipykernel_502574/2834989338.py:11: UserWarning: The given NumPy array is not writable, and PyTorch does not support non-writable tensors. This means writing to this tensor will result in undefined behavior. You may want to copy the array to protect its data or make it writable before converting it to a tensor. This type of warning will be suppressed for the rest of this program. (Triggered internally at ../torch/csrc/utils/tensor_numpy.cpp:206.)\n",
      "  c_feature = torch.Tensor(self.parquet_data.iloc[idx]['feature'])\n"
     ]
    },
    {
     "name": "stdout",
     "output_type": "stream",
     "text": [
      "Epoch [1/40] - Training Loss: 0.4790, Training Accuracy: 80.04% - Validation Loss: 0.3822, Validation Accuracy: 82.91%\n"
     ]
    },
    {
     "data": {
      "application/vnd.jupyter.widget-view+json": {
       "model_id": "90fbbdc1aa5243b9a00cac741f3ab110",
       "version_major": 2,
       "version_minor": 0
      },
      "text/plain": [
       "Epoch 2/40 - Training:   0%|          | 0/870 [00:00<?, ?it/s]"
      ]
     },
     "metadata": {},
     "output_type": "display_data"
    },
    {
     "name": "stdout",
     "output_type": "stream",
     "text": [
      "Step [100/870] - Training Loss: 0.3535 - Training Accuracy: 86.66%\n",
      "Step [200/870] - Training Loss: 0.2562 - Training Accuracy: 86.59%\n",
      "Step [300/870] - Training Loss: 0.3247 - Training Accuracy: 86.82%\n",
      "Step [400/870] - Training Loss: 0.2158 - Training Accuracy: 87.11%\n",
      "Step [500/870] - Training Loss: 0.3321 - Training Accuracy: 87.26%\n",
      "Step [600/870] - Training Loss: 0.3279 - Training Accuracy: 87.47%\n",
      "Step [700/870] - Training Loss: 0.2726 - Training Accuracy: 87.51%\n",
      "Step [800/870] - Training Loss: 0.2795 - Training Accuracy: 87.54%\n"
     ]
    },
    {
     "data": {
      "application/vnd.jupyter.widget-view+json": {
       "model_id": "0c8c4396aa864ed5a7cc470db9b2b636",
       "version_major": 2,
       "version_minor": 0
      },
      "text/plain": [
       "Epoch 2/40 - Validation:   0%|          | 0/95 [00:00<?, ?it/s]"
      ]
     },
     "metadata": {},
     "output_type": "display_data"
    },
    {
     "name": "stdout",
     "output_type": "stream",
     "text": [
      "Epoch [2/40] - Training Loss: 0.2960, Training Accuracy: 87.58% - Validation Loss: 0.3657, Validation Accuracy: 83.86%\n"
     ]
    },
    {
     "data": {
      "application/vnd.jupyter.widget-view+json": {
       "model_id": "7b85aa2ce4c849eb9dccb2ca0039ac3b",
       "version_major": 2,
       "version_minor": 0
      },
      "text/plain": [
       "Epoch 3/40 - Training:   0%|          | 0/870 [00:00<?, ?it/s]"
      ]
     },
     "metadata": {},
     "output_type": "display_data"
    },
    {
     "name": "stdout",
     "output_type": "stream",
     "text": [
      "Step [100/870] - Training Loss: 0.3745 - Training Accuracy: 88.53%\n",
      "Step [200/870] - Training Loss: 0.2819 - Training Accuracy: 88.42%\n",
      "Step [300/870] - Training Loss: 0.2079 - Training Accuracy: 88.27%\n",
      "Step [400/870] - Training Loss: 0.3103 - Training Accuracy: 88.25%\n",
      "Step [500/870] - Training Loss: 0.2557 - Training Accuracy: 88.39%\n",
      "Step [600/870] - Training Loss: 0.3672 - Training Accuracy: 88.33%\n",
      "Step [700/870] - Training Loss: 0.3294 - Training Accuracy: 88.32%\n",
      "Step [800/870] - Training Loss: 0.2537 - Training Accuracy: 88.36%\n"
     ]
    },
    {
     "data": {
      "application/vnd.jupyter.widget-view+json": {
       "model_id": "8fdc47627f1040a3915ceb70d08c468b",
       "version_major": 2,
       "version_minor": 0
      },
      "text/plain": [
       "Epoch 3/40 - Validation:   0%|          | 0/95 [00:00<?, ?it/s]"
      ]
     },
     "metadata": {},
     "output_type": "display_data"
    },
    {
     "name": "stdout",
     "output_type": "stream",
     "text": [
      "Epoch [3/40] - Training Loss: 0.2777, Training Accuracy: 88.34% - Validation Loss: 0.3577, Validation Accuracy: 84.62%\n"
     ]
    },
    {
     "data": {
      "application/vnd.jupyter.widget-view+json": {
       "model_id": "30c10ff6587043e6bd05718ad14e3c32",
       "version_major": 2,
       "version_minor": 0
      },
      "text/plain": [
       "Epoch 4/40 - Training:   0%|          | 0/870 [00:00<?, ?it/s]"
      ]
     },
     "metadata": {},
     "output_type": "display_data"
    },
    {
     "name": "stdout",
     "output_type": "stream",
     "text": [
      "Step [100/870] - Training Loss: 0.2606 - Training Accuracy: 88.38%\n",
      "Step [200/870] - Training Loss: 0.2331 - Training Accuracy: 88.33%\n",
      "Step [300/870] - Training Loss: 0.3483 - Training Accuracy: 88.52%\n",
      "Step [400/870] - Training Loss: 0.3034 - Training Accuracy: 88.48%\n",
      "Step [500/870] - Training Loss: 0.2563 - Training Accuracy: 88.48%\n",
      "Step [600/870] - Training Loss: 0.2617 - Training Accuracy: 88.51%\n",
      "Step [700/870] - Training Loss: 0.1840 - Training Accuracy: 88.48%\n",
      "Step [800/870] - Training Loss: 0.3122 - Training Accuracy: 88.51%\n"
     ]
    },
    {
     "data": {
      "application/vnd.jupyter.widget-view+json": {
       "model_id": "6f3a3d6f7b534168a9ee8921ea384648",
       "version_major": 2,
       "version_minor": 0
      },
      "text/plain": [
       "Epoch 4/40 - Validation:   0%|          | 0/95 [00:00<?, ?it/s]"
      ]
     },
     "metadata": {},
     "output_type": "display_data"
    },
    {
     "name": "stdout",
     "output_type": "stream",
     "text": [
      "Epoch [4/40] - Training Loss: 0.2718, Training Accuracy: 88.52% - Validation Loss: 0.3575, Validation Accuracy: 84.49%\n"
     ]
    },
    {
     "data": {
      "application/vnd.jupyter.widget-view+json": {
       "model_id": "7a850fa7faa7440d944a0fa8a78b672d",
       "version_major": 2,
       "version_minor": 0
      },
      "text/plain": [
       "Epoch 5/40 - Training:   0%|          | 0/870 [00:00<?, ?it/s]"
      ]
     },
     "metadata": {},
     "output_type": "display_data"
    },
    {
     "name": "stdout",
     "output_type": "stream",
     "text": [
      "Step [100/870] - Training Loss: 0.2604 - Training Accuracy: 88.16%\n",
      "Step [200/870] - Training Loss: 0.2991 - Training Accuracy: 88.25%\n",
      "Step [300/870] - Training Loss: 0.2978 - Training Accuracy: 88.40%\n",
      "Step [400/870] - Training Loss: 0.2350 - Training Accuracy: 88.49%\n",
      "Step [500/870] - Training Loss: 0.2776 - Training Accuracy: 88.48%\n",
      "Step [600/870] - Training Loss: 0.1749 - Training Accuracy: 88.62%\n",
      "Step [700/870] - Training Loss: 0.2756 - Training Accuracy: 88.72%\n",
      "Step [800/870] - Training Loss: 0.2740 - Training Accuracy: 88.79%\n"
     ]
    },
    {
     "data": {
      "application/vnd.jupyter.widget-view+json": {
       "model_id": "170ba6065d804a11beb23eae30e82920",
       "version_major": 2,
       "version_minor": 0
      },
      "text/plain": [
       "Epoch 5/40 - Validation:   0%|          | 0/95 [00:00<?, ?it/s]"
      ]
     },
     "metadata": {},
     "output_type": "display_data"
    },
    {
     "name": "stdout",
     "output_type": "stream",
     "text": [
      "Epoch [5/40] - Training Loss: 0.2678, Training Accuracy: 88.77% - Validation Loss: 0.3552, Validation Accuracy: 84.50%\n"
     ]
    },
    {
     "data": {
      "application/vnd.jupyter.widget-view+json": {
       "model_id": "c8650f6b4ec44a6f8a66362acec328bb",
       "version_major": 2,
       "version_minor": 0
      },
      "text/plain": [
       "Epoch 6/40 - Training:   0%|          | 0/870 [00:00<?, ?it/s]"
      ]
     },
     "metadata": {},
     "output_type": "display_data"
    },
    {
     "name": "stdout",
     "output_type": "stream",
     "text": [
      "Step [100/870] - Training Loss: 0.3825 - Training Accuracy: 88.21%\n",
      "Step [200/870] - Training Loss: 0.2240 - Training Accuracy: 88.52%\n",
      "Step [300/870] - Training Loss: 0.2702 - Training Accuracy: 88.59%\n",
      "Step [400/870] - Training Loss: 0.1598 - Training Accuracy: 88.69%\n",
      "Step [500/870] - Training Loss: 0.2580 - Training Accuracy: 88.68%\n",
      "Step [600/870] - Training Loss: 0.2901 - Training Accuracy: 88.86%\n",
      "Step [700/870] - Training Loss: 0.2212 - Training Accuracy: 88.87%\n",
      "Step [800/870] - Training Loss: 0.2653 - Training Accuracy: 88.86%\n"
     ]
    },
    {
     "data": {
      "application/vnd.jupyter.widget-view+json": {
       "model_id": "3687ea52a108406191e0f35da993c0c9",
       "version_major": 2,
       "version_minor": 0
      },
      "text/plain": [
       "Epoch 6/40 - Validation:   0%|          | 0/95 [00:00<?, ?it/s]"
      ]
     },
     "metadata": {},
     "output_type": "display_data"
    },
    {
     "name": "stdout",
     "output_type": "stream",
     "text": [
      "Epoch [6/40] - Training Loss: 0.2656, Training Accuracy: 88.85% - Validation Loss: 0.3563, Validation Accuracy: 84.66%\n"
     ]
    },
    {
     "data": {
      "application/vnd.jupyter.widget-view+json": {
       "model_id": "e6e43bff562b4a68bc042114df6a3fc1",
       "version_major": 2,
       "version_minor": 0
      },
      "text/plain": [
       "Epoch 7/40 - Training:   0%|          | 0/870 [00:00<?, ?it/s]"
      ]
     },
     "metadata": {},
     "output_type": "display_data"
    },
    {
     "name": "stdout",
     "output_type": "stream",
     "text": [
      "Step [100/870] - Training Loss: 0.3620 - Training Accuracy: 88.77%\n",
      "Step [200/870] - Training Loss: 0.3050 - Training Accuracy: 88.86%\n",
      "Step [300/870] - Training Loss: 0.2098 - Training Accuracy: 88.96%\n",
      "Step [400/870] - Training Loss: 0.2813 - Training Accuracy: 88.90%\n",
      "Step [500/870] - Training Loss: 0.2650 - Training Accuracy: 88.90%\n",
      "Step [600/870] - Training Loss: 0.2733 - Training Accuracy: 88.92%\n",
      "Step [700/870] - Training Loss: 0.2481 - Training Accuracy: 88.88%\n",
      "Step [800/870] - Training Loss: 0.2111 - Training Accuracy: 88.87%\n"
     ]
    },
    {
     "data": {
      "application/vnd.jupyter.widget-view+json": {
       "model_id": "8c6d0ee50e8540e6ae124602d52c776d",
       "version_major": 2,
       "version_minor": 0
      },
      "text/plain": [
       "Epoch 7/40 - Validation:   0%|          | 0/95 [00:00<?, ?it/s]"
      ]
     },
     "metadata": {},
     "output_type": "display_data"
    },
    {
     "name": "stdout",
     "output_type": "stream",
     "text": [
      "Epoch [7/40] - Training Loss: 0.2638, Training Accuracy: 88.89% - Validation Loss: 0.3536, Validation Accuracy: 84.89%\n"
     ]
    },
    {
     "data": {
      "application/vnd.jupyter.widget-view+json": {
       "model_id": "1f36f4f470374c9583e0c6faa1f9c94f",
       "version_major": 2,
       "version_minor": 0
      },
      "text/plain": [
       "Epoch 8/40 - Training:   0%|          | 0/870 [00:00<?, ?it/s]"
      ]
     },
     "metadata": {},
     "output_type": "display_data"
    },
    {
     "name": "stdout",
     "output_type": "stream",
     "text": [
      "Step [100/870] - Training Loss: 0.3048 - Training Accuracy: 88.70%\n",
      "Step [200/870] - Training Loss: 0.2804 - Training Accuracy: 88.76%\n",
      "Step [300/870] - Training Loss: 0.2652 - Training Accuracy: 88.78%\n",
      "Step [400/870] - Training Loss: 0.1705 - Training Accuracy: 88.80%\n",
      "Step [500/870] - Training Loss: 0.2534 - Training Accuracy: 88.88%\n",
      "Step [600/870] - Training Loss: 0.2580 - Training Accuracy: 88.87%\n",
      "Step [700/870] - Training Loss: 0.2868 - Training Accuracy: 88.88%\n",
      "Step [800/870] - Training Loss: 0.2574 - Training Accuracy: 88.92%\n"
     ]
    },
    {
     "data": {
      "application/vnd.jupyter.widget-view+json": {
       "model_id": "27e0149d0fef4153a684b948119ee0ff",
       "version_major": 2,
       "version_minor": 0
      },
      "text/plain": [
       "Epoch 8/40 - Validation:   0%|          | 0/95 [00:00<?, ?it/s]"
      ]
     },
     "metadata": {},
     "output_type": "display_data"
    },
    {
     "name": "stdout",
     "output_type": "stream",
     "text": [
      "Epoch [8/40] - Training Loss: 0.2623, Training Accuracy: 88.92% - Validation Loss: 0.3591, Validation Accuracy: 84.32%\n"
     ]
    },
    {
     "data": {
      "application/vnd.jupyter.widget-view+json": {
       "model_id": "c870f38044f64a18b556931374fedfb3",
       "version_major": 2,
       "version_minor": 0
      },
      "text/plain": [
       "Epoch 9/40 - Training:   0%|          | 0/870 [00:00<?, ?it/s]"
      ]
     },
     "metadata": {},
     "output_type": "display_data"
    },
    {
     "name": "stdout",
     "output_type": "stream",
     "text": [
      "Step [100/870] - Training Loss: 0.2316 - Training Accuracy: 89.24%\n",
      "Step [200/870] - Training Loss: 0.1661 - Training Accuracy: 89.19%\n",
      "Step [300/870] - Training Loss: 0.3534 - Training Accuracy: 89.19%\n",
      "Step [400/870] - Training Loss: 0.2333 - Training Accuracy: 89.08%\n",
      "Step [500/870] - Training Loss: 0.2240 - Training Accuracy: 89.08%\n",
      "Step [600/870] - Training Loss: 0.2304 - Training Accuracy: 89.09%\n",
      "Step [700/870] - Training Loss: 0.2972 - Training Accuracy: 89.05%\n",
      "Step [800/870] - Training Loss: 0.2120 - Training Accuracy: 89.05%\n"
     ]
    },
    {
     "data": {
      "application/vnd.jupyter.widget-view+json": {
       "model_id": "071e7116fabc415fb5e90c25b78ae7eb",
       "version_major": 2,
       "version_minor": 0
      },
      "text/plain": [
       "Epoch 9/40 - Validation:   0%|          | 0/95 [00:00<?, ?it/s]"
      ]
     },
     "metadata": {},
     "output_type": "display_data"
    },
    {
     "name": "stdout",
     "output_type": "stream",
     "text": [
      "Epoch [9/40] - Training Loss: 0.2612, Training Accuracy: 89.06% - Validation Loss: 0.3579, Validation Accuracy: 84.53%\n"
     ]
    },
    {
     "data": {
      "application/vnd.jupyter.widget-view+json": {
       "model_id": "e923d10a45f84567b9b14bf7797fd3c1",
       "version_major": 2,
       "version_minor": 0
      },
      "text/plain": [
       "Epoch 10/40 - Training:   0%|          | 0/870 [00:00<?, ?it/s]"
      ]
     },
     "metadata": {},
     "output_type": "display_data"
    },
    {
     "name": "stdout",
     "output_type": "stream",
     "text": [
      "Step [100/870] - Training Loss: 0.2834 - Training Accuracy: 89.11%\n",
      "Step [200/870] - Training Loss: 0.2386 - Training Accuracy: 88.94%\n",
      "Step [300/870] - Training Loss: 0.2149 - Training Accuracy: 88.91%\n",
      "Step [400/870] - Training Loss: 0.2993 - Training Accuracy: 89.01%\n",
      "Step [500/870] - Training Loss: 0.2148 - Training Accuracy: 89.08%\n",
      "Step [600/870] - Training Loss: 0.3640 - Training Accuracy: 89.04%\n",
      "Step [700/870] - Training Loss: 0.2907 - Training Accuracy: 88.99%\n",
      "Step [800/870] - Training Loss: 0.2183 - Training Accuracy: 89.04%\n"
     ]
    },
    {
     "data": {
      "application/vnd.jupyter.widget-view+json": {
       "model_id": "d4611f9f439e4e3d9ab1386dee0b9ca3",
       "version_major": 2,
       "version_minor": 0
      },
      "text/plain": [
       "Epoch 10/40 - Validation:   0%|          | 0/95 [00:00<?, ?it/s]"
      ]
     },
     "metadata": {},
     "output_type": "display_data"
    },
    {
     "name": "stdout",
     "output_type": "stream",
     "text": [
      "Epoch [10/40] - Training Loss: 0.2597, Training Accuracy: 89.09% - Validation Loss: 0.3606, Validation Accuracy: 84.40%\n"
     ]
    },
    {
     "data": {
      "application/vnd.jupyter.widget-view+json": {
       "model_id": "842d743decdd437581f5f5f6d08648d2",
       "version_major": 2,
       "version_minor": 0
      },
      "text/plain": [
       "Epoch 11/40 - Training:   0%|          | 0/870 [00:00<?, ?it/s]"
      ]
     },
     "metadata": {},
     "output_type": "display_data"
    },
    {
     "name": "stdout",
     "output_type": "stream",
     "text": [
      "Step [100/870] - Training Loss: 0.2255 - Training Accuracy: 89.35%\n",
      "Step [200/870] - Training Loss: 0.2876 - Training Accuracy: 89.49%\n",
      "Step [300/870] - Training Loss: 0.2145 - Training Accuracy: 89.27%\n",
      "Step [400/870] - Training Loss: 0.3012 - Training Accuracy: 89.18%\n",
      "Step [500/870] - Training Loss: 0.2871 - Training Accuracy: 89.08%\n",
      "Step [600/870] - Training Loss: 0.3310 - Training Accuracy: 89.08%\n",
      "Step [700/870] - Training Loss: 0.3019 - Training Accuracy: 89.08%\n",
      "Step [800/870] - Training Loss: 0.2710 - Training Accuracy: 89.12%\n"
     ]
    },
    {
     "data": {
      "application/vnd.jupyter.widget-view+json": {
       "model_id": "cdbbeb2819af41ad9ad6d9f8bef187fb",
       "version_major": 2,
       "version_minor": 0
      },
      "text/plain": [
       "Epoch 11/40 - Validation:   0%|          | 0/95 [00:00<?, ?it/s]"
      ]
     },
     "metadata": {},
     "output_type": "display_data"
    },
    {
     "name": "stdout",
     "output_type": "stream",
     "text": [
      "Epoch [11/40] - Training Loss: 0.2589, Training Accuracy: 89.11% - Validation Loss: 0.3552, Validation Accuracy: 84.99%\n"
     ]
    },
    {
     "data": {
      "application/vnd.jupyter.widget-view+json": {
       "model_id": "2cd3d6c4afc2434a8593b8b048a4b02a",
       "version_major": 2,
       "version_minor": 0
      },
      "text/plain": [
       "Epoch 12/40 - Training:   0%|          | 0/870 [00:00<?, ?it/s]"
      ]
     },
     "metadata": {},
     "output_type": "display_data"
    },
    {
     "name": "stdout",
     "output_type": "stream",
     "text": [
      "Step [100/870] - Training Loss: 0.2265 - Training Accuracy: 89.41%\n",
      "Step [200/870] - Training Loss: 0.2402 - Training Accuracy: 89.35%\n",
      "Step [300/870] - Training Loss: 0.3017 - Training Accuracy: 89.22%\n",
      "Step [400/870] - Training Loss: 0.2139 - Training Accuracy: 89.18%\n",
      "Step [500/870] - Training Loss: 0.1920 - Training Accuracy: 89.10%\n",
      "Step [600/870] - Training Loss: 0.2696 - Training Accuracy: 89.17%\n",
      "Step [700/870] - Training Loss: 0.3290 - Training Accuracy: 89.16%\n",
      "Step [800/870] - Training Loss: 0.3251 - Training Accuracy: 89.13%\n"
     ]
    },
    {
     "data": {
      "application/vnd.jupyter.widget-view+json": {
       "model_id": "cfed631bbb86479c9372d0f6ac1f09ea",
       "version_major": 2,
       "version_minor": 0
      },
      "text/plain": [
       "Epoch 12/40 - Validation:   0%|          | 0/95 [00:00<?, ?it/s]"
      ]
     },
     "metadata": {},
     "output_type": "display_data"
    },
    {
     "name": "stdout",
     "output_type": "stream",
     "text": [
      "Epoch [12/40] - Training Loss: 0.2579, Training Accuracy: 89.17% - Validation Loss: 0.3552, Validation Accuracy: 84.68%\n"
     ]
    },
    {
     "data": {
      "application/vnd.jupyter.widget-view+json": {
       "model_id": "00d3d51f8a7440dfa194f2058537ba18",
       "version_major": 2,
       "version_minor": 0
      },
      "text/plain": [
       "Epoch 13/40 - Training:   0%|          | 0/870 [00:00<?, ?it/s]"
      ]
     },
     "metadata": {},
     "output_type": "display_data"
    },
    {
     "name": "stdout",
     "output_type": "stream",
     "text": [
      "Step [100/870] - Training Loss: 0.2522 - Training Accuracy: 89.23%\n",
      "Step [200/870] - Training Loss: 0.2105 - Training Accuracy: 89.21%\n",
      "Step [300/870] - Training Loss: 0.1728 - Training Accuracy: 89.24%\n",
      "Step [400/870] - Training Loss: 0.2380 - Training Accuracy: 89.26%\n",
      "Step [500/870] - Training Loss: 0.2225 - Training Accuracy: 89.28%\n",
      "Step [600/870] - Training Loss: 0.3091 - Training Accuracy: 89.24%\n",
      "Step [700/870] - Training Loss: 0.1627 - Training Accuracy: 89.21%\n",
      "Step [800/870] - Training Loss: 0.1989 - Training Accuracy: 89.19%\n"
     ]
    },
    {
     "data": {
      "application/vnd.jupyter.widget-view+json": {
       "model_id": "dbe0f1aae4c94316951f44ea96e28daa",
       "version_major": 2,
       "version_minor": 0
      },
      "text/plain": [
       "Epoch 13/40 - Validation:   0%|          | 0/95 [00:00<?, ?it/s]"
      ]
     },
     "metadata": {},
     "output_type": "display_data"
    },
    {
     "name": "stdout",
     "output_type": "stream",
     "text": [
      "Epoch [13/40] - Training Loss: 0.2574, Training Accuracy: 89.21% - Validation Loss: 0.3519, Validation Accuracy: 85.04%\n"
     ]
    },
    {
     "data": {
      "application/vnd.jupyter.widget-view+json": {
       "model_id": "8455d1baed1c4818a7b02cd533b2f843",
       "version_major": 2,
       "version_minor": 0
      },
      "text/plain": [
       "Epoch 14/40 - Training:   0%|          | 0/870 [00:00<?, ?it/s]"
      ]
     },
     "metadata": {},
     "output_type": "display_data"
    },
    {
     "name": "stdout",
     "output_type": "stream",
     "text": [
      "Step [100/870] - Training Loss: 0.3299 - Training Accuracy: 89.21%\n",
      "Step [200/870] - Training Loss: 0.1922 - Training Accuracy: 89.27%\n",
      "Step [300/870] - Training Loss: 0.3108 - Training Accuracy: 89.29%\n",
      "Step [400/870] - Training Loss: 0.2451 - Training Accuracy: 89.27%\n",
      "Step [500/870] - Training Loss: 0.3729 - Training Accuracy: 89.28%\n",
      "Step [600/870] - Training Loss: 0.2076 - Training Accuracy: 89.27%\n",
      "Step [700/870] - Training Loss: 0.2210 - Training Accuracy: 89.24%\n",
      "Step [800/870] - Training Loss: 0.2808 - Training Accuracy: 89.25%\n"
     ]
    },
    {
     "data": {
      "application/vnd.jupyter.widget-view+json": {
       "model_id": "e6794d91fdf54f8593fbdd835004aede",
       "version_major": 2,
       "version_minor": 0
      },
      "text/plain": [
       "Epoch 14/40 - Validation:   0%|          | 0/95 [00:00<?, ?it/s]"
      ]
     },
     "metadata": {},
     "output_type": "display_data"
    },
    {
     "name": "stdout",
     "output_type": "stream",
     "text": [
      "Epoch [14/40] - Training Loss: 0.2564, Training Accuracy: 89.21% - Validation Loss: 0.3668, Validation Accuracy: 84.93%\n"
     ]
    },
    {
     "data": {
      "application/vnd.jupyter.widget-view+json": {
       "model_id": "7db832df9240421188812a137c3c6bf8",
       "version_major": 2,
       "version_minor": 0
      },
      "text/plain": [
       "Epoch 15/40 - Training:   0%|          | 0/870 [00:00<?, ?it/s]"
      ]
     },
     "metadata": {},
     "output_type": "display_data"
    },
    {
     "name": "stdout",
     "output_type": "stream",
     "text": [
      "Step [100/870] - Training Loss: 0.2485 - Training Accuracy: 89.12%\n",
      "Step [200/870] - Training Loss: 0.2556 - Training Accuracy: 89.33%\n",
      "Step [300/870] - Training Loss: 0.2820 - Training Accuracy: 89.36%\n",
      "Step [400/870] - Training Loss: 0.2813 - Training Accuracy: 89.28%\n",
      "Step [500/870] - Training Loss: 0.2353 - Training Accuracy: 89.26%\n",
      "Step [600/870] - Training Loss: 0.2444 - Training Accuracy: 89.22%\n",
      "Step [700/870] - Training Loss: 0.3084 - Training Accuracy: 89.29%\n",
      "Step [800/870] - Training Loss: 0.2246 - Training Accuracy: 89.30%\n"
     ]
    },
    {
     "data": {
      "application/vnd.jupyter.widget-view+json": {
       "model_id": "dbf32526ce5d4992b745423623b8ea38",
       "version_major": 2,
       "version_minor": 0
      },
      "text/plain": [
       "Epoch 15/40 - Validation:   0%|          | 0/95 [00:00<?, ?it/s]"
      ]
     },
     "metadata": {},
     "output_type": "display_data"
    },
    {
     "name": "stdout",
     "output_type": "stream",
     "text": [
      "Epoch [15/40] - Training Loss: 0.2557, Training Accuracy: 89.30% - Validation Loss: 0.3574, Validation Accuracy: 84.91%\n"
     ]
    },
    {
     "data": {
      "application/vnd.jupyter.widget-view+json": {
       "model_id": "28608c4f49f84538a3192fd94f16ad48",
       "version_major": 2,
       "version_minor": 0
      },
      "text/plain": [
       "Epoch 16/40 - Training:   0%|          | 0/870 [00:00<?, ?it/s]"
      ]
     },
     "metadata": {},
     "output_type": "display_data"
    },
    {
     "name": "stdout",
     "output_type": "stream",
     "text": [
      "Step [100/870] - Training Loss: 0.2892 - Training Accuracy: 89.39%\n",
      "Step [200/870] - Training Loss: 0.2039 - Training Accuracy: 89.29%\n",
      "Step [300/870] - Training Loss: 0.2716 - Training Accuracy: 89.14%\n",
      "Step [400/870] - Training Loss: 0.2741 - Training Accuracy: 89.12%\n",
      "Step [500/870] - Training Loss: 0.2889 - Training Accuracy: 89.27%\n",
      "Step [600/870] - Training Loss: 0.2469 - Training Accuracy: 89.20%\n",
      "Step [700/870] - Training Loss: 0.1238 - Training Accuracy: 89.25%\n",
      "Step [800/870] - Training Loss: 0.3016 - Training Accuracy: 89.28%\n"
     ]
    },
    {
     "data": {
      "application/vnd.jupyter.widget-view+json": {
       "model_id": "24caf1a807aa4656801e02fb157fbb98",
       "version_major": 2,
       "version_minor": 0
      },
      "text/plain": [
       "Epoch 16/40 - Validation:   0%|          | 0/95 [00:00<?, ?it/s]"
      ]
     },
     "metadata": {},
     "output_type": "display_data"
    },
    {
     "name": "stdout",
     "output_type": "stream",
     "text": [
      "Epoch [16/40] - Training Loss: 0.2549, Training Accuracy: 89.29% - Validation Loss: 0.3528, Validation Accuracy: 85.00%\n"
     ]
    },
    {
     "data": {
      "application/vnd.jupyter.widget-view+json": {
       "model_id": "268d6c15a0ba4c69b589d2d0e2cd4880",
       "version_major": 2,
       "version_minor": 0
      },
      "text/plain": [
       "Epoch 17/40 - Training:   0%|          | 0/870 [00:00<?, ?it/s]"
      ]
     },
     "metadata": {},
     "output_type": "display_data"
    },
    {
     "name": "stdout",
     "output_type": "stream",
     "text": [
      "Step [100/870] - Training Loss: 0.2631 - Training Accuracy: 89.00%\n",
      "Step [200/870] - Training Loss: 0.2335 - Training Accuracy: 89.01%\n",
      "Step [300/870] - Training Loss: 0.3367 - Training Accuracy: 89.14%\n",
      "Step [400/870] - Training Loss: 0.3175 - Training Accuracy: 89.14%\n",
      "Step [500/870] - Training Loss: 0.3039 - Training Accuracy: 89.28%\n",
      "Step [600/870] - Training Loss: 0.2610 - Training Accuracy: 89.26%\n",
      "Step [700/870] - Training Loss: 0.2468 - Training Accuracy: 89.22%\n",
      "Step [800/870] - Training Loss: 0.2748 - Training Accuracy: 89.27%\n"
     ]
    },
    {
     "data": {
      "application/vnd.jupyter.widget-view+json": {
       "model_id": "fee6ceb7c1304e099cece7247185da1e",
       "version_major": 2,
       "version_minor": 0
      },
      "text/plain": [
       "Epoch 17/40 - Validation:   0%|          | 0/95 [00:00<?, ?it/s]"
      ]
     },
     "metadata": {},
     "output_type": "display_data"
    },
    {
     "name": "stdout",
     "output_type": "stream",
     "text": [
      "Epoch [17/40] - Training Loss: 0.2548, Training Accuracy: 89.31% - Validation Loss: 0.3528, Validation Accuracy: 85.21%\n"
     ]
    },
    {
     "data": {
      "application/vnd.jupyter.widget-view+json": {
       "model_id": "fba1332f84e2458ebe8395d6a4287b16",
       "version_major": 2,
       "version_minor": 0
      },
      "text/plain": [
       "Epoch 18/40 - Training:   0%|          | 0/870 [00:00<?, ?it/s]"
      ]
     },
     "metadata": {},
     "output_type": "display_data"
    },
    {
     "name": "stdout",
     "output_type": "stream",
     "text": [
      "Step [100/870] - Training Loss: 0.2917 - Training Accuracy: 89.39%\n",
      "Step [200/870] - Training Loss: 0.3361 - Training Accuracy: 89.29%\n",
      "Step [300/870] - Training Loss: 0.2642 - Training Accuracy: 89.30%\n",
      "Step [400/870] - Training Loss: 0.2580 - Training Accuracy: 89.29%\n",
      "Step [500/870] - Training Loss: 0.2440 - Training Accuracy: 89.28%\n",
      "Step [600/870] - Training Loss: 0.1966 - Training Accuracy: 89.30%\n",
      "Step [700/870] - Training Loss: 0.2978 - Training Accuracy: 89.36%\n",
      "Step [800/870] - Training Loss: 0.2693 - Training Accuracy: 89.37%\n"
     ]
    },
    {
     "data": {
      "application/vnd.jupyter.widget-view+json": {
       "model_id": "c18f3bc6f2fa4177b479fb7e4e74087b",
       "version_major": 2,
       "version_minor": 0
      },
      "text/plain": [
       "Epoch 18/40 - Validation:   0%|          | 0/95 [00:00<?, ?it/s]"
      ]
     },
     "metadata": {},
     "output_type": "display_data"
    },
    {
     "name": "stdout",
     "output_type": "stream",
     "text": [
      "Epoch [18/40] - Training Loss: 0.2542, Training Accuracy: 89.39% - Validation Loss: 0.3552, Validation Accuracy: 85.07%\n"
     ]
    },
    {
     "data": {
      "application/vnd.jupyter.widget-view+json": {
       "model_id": "a5dbe8da6df044ce9253fa9b0bf17a36",
       "version_major": 2,
       "version_minor": 0
      },
      "text/plain": [
       "Epoch 19/40 - Training:   0%|          | 0/870 [00:00<?, ?it/s]"
      ]
     },
     "metadata": {},
     "output_type": "display_data"
    },
    {
     "name": "stdout",
     "output_type": "stream",
     "text": [
      "Step [100/870] - Training Loss: 0.2910 - Training Accuracy: 89.35%\n",
      "Step [200/870] - Training Loss: 0.2365 - Training Accuracy: 89.39%\n",
      "Step [300/870] - Training Loss: 0.2297 - Training Accuracy: 89.42%\n",
      "Step [400/870] - Training Loss: 0.1939 - Training Accuracy: 89.33%\n",
      "Step [500/870] - Training Loss: 0.2298 - Training Accuracy: 89.42%\n",
      "Step [600/870] - Training Loss: 0.3033 - Training Accuracy: 89.41%\n",
      "Step [700/870] - Training Loss: 0.2596 - Training Accuracy: 89.37%\n",
      "Step [800/870] - Training Loss: 0.2253 - Training Accuracy: 89.37%\n"
     ]
    },
    {
     "data": {
      "application/vnd.jupyter.widget-view+json": {
       "model_id": "59b5c93937f14b8fbd467ed98a0e2009",
       "version_major": 2,
       "version_minor": 0
      },
      "text/plain": [
       "Epoch 19/40 - Validation:   0%|          | 0/95 [00:00<?, ?it/s]"
      ]
     },
     "metadata": {},
     "output_type": "display_data"
    },
    {
     "name": "stdout",
     "output_type": "stream",
     "text": [
      "Epoch [19/40] - Training Loss: 0.2543, Training Accuracy: 89.38% - Validation Loss: 0.3544, Validation Accuracy: 85.18%\n"
     ]
    },
    {
     "data": {
      "application/vnd.jupyter.widget-view+json": {
       "model_id": "099e38baf3004bb99597d9d2cbd1219a",
       "version_major": 2,
       "version_minor": 0
      },
      "text/plain": [
       "Epoch 20/40 - Training:   0%|          | 0/870 [00:00<?, ?it/s]"
      ]
     },
     "metadata": {},
     "output_type": "display_data"
    },
    {
     "name": "stdout",
     "output_type": "stream",
     "text": [
      "Step [100/870] - Training Loss: 0.2197 - Training Accuracy: 89.54%\n",
      "Step [200/870] - Training Loss: 0.2403 - Training Accuracy: 89.40%\n",
      "Step [300/870] - Training Loss: 0.2352 - Training Accuracy: 89.41%\n",
      "Step [400/870] - Training Loss: 0.2520 - Training Accuracy: 89.49%\n",
      "Step [500/870] - Training Loss: 0.2055 - Training Accuracy: 89.47%\n",
      "Step [600/870] - Training Loss: 0.2871 - Training Accuracy: 89.49%\n",
      "Step [700/870] - Training Loss: 0.2301 - Training Accuracy: 89.47%\n",
      "Step [800/870] - Training Loss: 0.2451 - Training Accuracy: 89.48%\n"
     ]
    },
    {
     "data": {
      "application/vnd.jupyter.widget-view+json": {
       "model_id": "fe2b7f2e02654fcaa30837050a1588e7",
       "version_major": 2,
       "version_minor": 0
      },
      "text/plain": [
       "Epoch 20/40 - Validation:   0%|          | 0/95 [00:00<?, ?it/s]"
      ]
     },
     "metadata": {},
     "output_type": "display_data"
    },
    {
     "name": "stdout",
     "output_type": "stream",
     "text": [
      "Epoch [20/40] - Training Loss: 0.2536, Training Accuracy: 89.43% - Validation Loss: 0.3527, Validation Accuracy: 85.11%\n"
     ]
    },
    {
     "data": {
      "application/vnd.jupyter.widget-view+json": {
       "model_id": "09f2be88615248168add5a4c8b96a0fa",
       "version_major": 2,
       "version_minor": 0
      },
      "text/plain": [
       "Epoch 21/40 - Training:   0%|          | 0/870 [00:00<?, ?it/s]"
      ]
     },
     "metadata": {},
     "output_type": "display_data"
    },
    {
     "name": "stdout",
     "output_type": "stream",
     "text": [
      "Step [100/870] - Training Loss: 0.2105 - Training Accuracy: 89.26%\n",
      "Step [200/870] - Training Loss: 0.2614 - Training Accuracy: 89.43%\n",
      "Step [300/870] - Training Loss: 0.2916 - Training Accuracy: 89.39%\n",
      "Step [400/870] - Training Loss: 0.2044 - Training Accuracy: 89.46%\n",
      "Step [500/870] - Training Loss: 0.1678 - Training Accuracy: 89.46%\n",
      "Step [600/870] - Training Loss: 0.2583 - Training Accuracy: 89.46%\n",
      "Step [700/870] - Training Loss: 0.2221 - Training Accuracy: 89.49%\n",
      "Step [800/870] - Training Loss: 0.2864 - Training Accuracy: 89.47%\n"
     ]
    },
    {
     "data": {
      "application/vnd.jupyter.widget-view+json": {
       "model_id": "b06ea4e4b54040869a63f0af5babf742",
       "version_major": 2,
       "version_minor": 0
      },
      "text/plain": [
       "Epoch 21/40 - Validation:   0%|          | 0/95 [00:00<?, ?it/s]"
      ]
     },
     "metadata": {},
     "output_type": "display_data"
    },
    {
     "name": "stdout",
     "output_type": "stream",
     "text": [
      "Epoch [21/40] - Training Loss: 0.2524, Training Accuracy: 89.47% - Validation Loss: 0.3524, Validation Accuracy: 84.95%\n"
     ]
    },
    {
     "data": {
      "application/vnd.jupyter.widget-view+json": {
       "model_id": "26f45f00b31e446da666544553dae3ce",
       "version_major": 2,
       "version_minor": 0
      },
      "text/plain": [
       "Epoch 22/40 - Training:   0%|          | 0/870 [00:00<?, ?it/s]"
      ]
     },
     "metadata": {},
     "output_type": "display_data"
    },
    {
     "name": "stdout",
     "output_type": "stream",
     "text": [
      "Step [100/870] - Training Loss: 0.2700 - Training Accuracy: 89.71%\n",
      "Step [200/870] - Training Loss: 0.2480 - Training Accuracy: 89.67%\n",
      "Step [300/870] - Training Loss: 0.2623 - Training Accuracy: 89.44%\n",
      "Step [400/870] - Training Loss: 0.2705 - Training Accuracy: 89.48%\n",
      "Step [500/870] - Training Loss: 0.1247 - Training Accuracy: 89.49%\n",
      "Step [600/870] - Training Loss: 0.2641 - Training Accuracy: 89.46%\n",
      "Step [700/870] - Training Loss: 0.2294 - Training Accuracy: 89.52%\n",
      "Step [800/870] - Training Loss: 0.1556 - Training Accuracy: 89.47%\n"
     ]
    },
    {
     "data": {
      "application/vnd.jupyter.widget-view+json": {
       "model_id": "832dd5882033416192fb69ba8fe38b88",
       "version_major": 2,
       "version_minor": 0
      },
      "text/plain": [
       "Epoch 22/40 - Validation:   0%|          | 0/95 [00:00<?, ?it/s]"
      ]
     },
     "metadata": {},
     "output_type": "display_data"
    },
    {
     "name": "stdout",
     "output_type": "stream",
     "text": [
      "Epoch [22/40] - Training Loss: 0.2524, Training Accuracy: 89.46% - Validation Loss: 0.3527, Validation Accuracy: 84.95%\n"
     ]
    },
    {
     "data": {
      "application/vnd.jupyter.widget-view+json": {
       "model_id": "3253081a52314b0ca5f7c354eff6e843",
       "version_major": 2,
       "version_minor": 0
      },
      "text/plain": [
       "Epoch 23/40 - Training:   0%|          | 0/870 [00:00<?, ?it/s]"
      ]
     },
     "metadata": {},
     "output_type": "display_data"
    },
    {
     "name": "stdout",
     "output_type": "stream",
     "text": [
      "Step [100/870] - Training Loss: 0.3204 - Training Accuracy: 89.68%\n",
      "Step [200/870] - Training Loss: 0.2704 - Training Accuracy: 89.57%\n",
      "Step [300/870] - Training Loss: 0.2039 - Training Accuracy: 89.60%\n",
      "Step [400/870] - Training Loss: 0.3014 - Training Accuracy: 89.56%\n",
      "Step [500/870] - Training Loss: 0.3023 - Training Accuracy: 89.53%\n",
      "Step [600/870] - Training Loss: 0.2841 - Training Accuracy: 89.54%\n",
      "Step [700/870] - Training Loss: 0.2721 - Training Accuracy: 89.49%\n",
      "Step [800/870] - Training Loss: 0.1878 - Training Accuracy: 89.49%\n"
     ]
    },
    {
     "data": {
      "application/vnd.jupyter.widget-view+json": {
       "model_id": "25fe7cf43a0d4b49a7505a00462afaa2",
       "version_major": 2,
       "version_minor": 0
      },
      "text/plain": [
       "Epoch 23/40 - Validation:   0%|          | 0/95 [00:00<?, ?it/s]"
      ]
     },
     "metadata": {},
     "output_type": "display_data"
    },
    {
     "name": "stdout",
     "output_type": "stream",
     "text": [
      "Epoch [23/40] - Training Loss: 0.2518, Training Accuracy: 89.50% - Validation Loss: 0.3628, Validation Accuracy: 84.94%\n"
     ]
    },
    {
     "data": {
      "application/vnd.jupyter.widget-view+json": {
       "model_id": "4116ead498594e9d89de64dd41d8da08",
       "version_major": 2,
       "version_minor": 0
      },
      "text/plain": [
       "Epoch 24/40 - Training:   0%|          | 0/870 [00:00<?, ?it/s]"
      ]
     },
     "metadata": {},
     "output_type": "display_data"
    },
    {
     "name": "stdout",
     "output_type": "stream",
     "text": [
      "Step [100/870] - Training Loss: 0.1735 - Training Accuracy: 89.20%\n",
      "Step [200/870] - Training Loss: 0.2967 - Training Accuracy: 89.27%\n",
      "Step [300/870] - Training Loss: 0.2068 - Training Accuracy: 89.40%\n",
      "Step [400/870] - Training Loss: 0.2170 - Training Accuracy: 89.51%\n",
      "Step [500/870] - Training Loss: 0.2520 - Training Accuracy: 89.43%\n",
      "Step [600/870] - Training Loss: 0.3148 - Training Accuracy: 89.43%\n",
      "Step [700/870] - Training Loss: 0.2447 - Training Accuracy: 89.41%\n",
      "Step [800/870] - Training Loss: 0.1883 - Training Accuracy: 89.43%\n"
     ]
    },
    {
     "data": {
      "application/vnd.jupyter.widget-view+json": {
       "model_id": "6ba959560f0949d1a4f91692d3f2920a",
       "version_major": 2,
       "version_minor": 0
      },
      "text/plain": [
       "Epoch 24/40 - Validation:   0%|          | 0/95 [00:00<?, ?it/s]"
      ]
     },
     "metadata": {},
     "output_type": "display_data"
    },
    {
     "name": "stdout",
     "output_type": "stream",
     "text": [
      "Epoch [24/40] - Training Loss: 0.2523, Training Accuracy: 89.44% - Validation Loss: 0.3524, Validation Accuracy: 85.09%\n"
     ]
    },
    {
     "data": {
      "application/vnd.jupyter.widget-view+json": {
       "model_id": "285919d3119d4c66af309dae0496801d",
       "version_major": 2,
       "version_minor": 0
      },
      "text/plain": [
       "Epoch 25/40 - Training:   0%|          | 0/870 [00:00<?, ?it/s]"
      ]
     },
     "metadata": {},
     "output_type": "display_data"
    },
    {
     "name": "stdout",
     "output_type": "stream",
     "text": [
      "Step [100/870] - Training Loss: 0.2999 - Training Accuracy: 89.22%\n",
      "Step [200/870] - Training Loss: 0.2676 - Training Accuracy: 89.25%\n",
      "Step [300/870] - Training Loss: 0.2659 - Training Accuracy: 89.37%\n",
      "Step [400/870] - Training Loss: 0.2125 - Training Accuracy: 89.45%\n",
      "Step [500/870] - Training Loss: 0.2812 - Training Accuracy: 89.39%\n",
      "Step [600/870] - Training Loss: 0.2167 - Training Accuracy: 89.40%\n",
      "Step [700/870] - Training Loss: 0.2210 - Training Accuracy: 89.40%\n",
      "Step [800/870] - Training Loss: 0.1964 - Training Accuracy: 89.44%\n"
     ]
    },
    {
     "data": {
      "application/vnd.jupyter.widget-view+json": {
       "model_id": "d3726706e1e144e0bd98ccfdc6cf9c6f",
       "version_major": 2,
       "version_minor": 0
      },
      "text/plain": [
       "Epoch 25/40 - Validation:   0%|          | 0/95 [00:00<?, ?it/s]"
      ]
     },
     "metadata": {},
     "output_type": "display_data"
    },
    {
     "name": "stdout",
     "output_type": "stream",
     "text": [
      "Epoch [25/40] - Training Loss: 0.2514, Training Accuracy: 89.45% - Validation Loss: 0.3525, Validation Accuracy: 85.05%\n"
     ]
    },
    {
     "data": {
      "application/vnd.jupyter.widget-view+json": {
       "model_id": "b3af6b41220e41f38b5264bcb974bf87",
       "version_major": 2,
       "version_minor": 0
      },
      "text/plain": [
       "Epoch 26/40 - Training:   0%|          | 0/870 [00:00<?, ?it/s]"
      ]
     },
     "metadata": {},
     "output_type": "display_data"
    },
    {
     "name": "stdout",
     "output_type": "stream",
     "text": [
      "Step [100/870] - Training Loss: 0.2772 - Training Accuracy: 89.52%\n",
      "Step [200/870] - Training Loss: 0.2697 - Training Accuracy: 89.50%\n",
      "Step [300/870] - Training Loss: 0.2252 - Training Accuracy: 89.51%\n",
      "Step [400/870] - Training Loss: 0.2866 - Training Accuracy: 89.53%\n",
      "Step [500/870] - Training Loss: 0.2551 - Training Accuracy: 89.56%\n",
      "Step [600/870] - Training Loss: 0.2151 - Training Accuracy: 89.57%\n",
      "Step [700/870] - Training Loss: 0.2836 - Training Accuracy: 89.54%\n",
      "Step [800/870] - Training Loss: 0.3179 - Training Accuracy: 89.51%\n"
     ]
    },
    {
     "data": {
      "application/vnd.jupyter.widget-view+json": {
       "model_id": "060dfc3133214347b6a7908979ad6d4b",
       "version_major": 2,
       "version_minor": 0
      },
      "text/plain": [
       "Epoch 26/40 - Validation:   0%|          | 0/95 [00:00<?, ?it/s]"
      ]
     },
     "metadata": {},
     "output_type": "display_data"
    },
    {
     "name": "stdout",
     "output_type": "stream",
     "text": [
      "Epoch [26/40] - Training Loss: 0.2510, Training Accuracy: 89.52% - Validation Loss: 0.3540, Validation Accuracy: 85.03%\n"
     ]
    },
    {
     "data": {
      "application/vnd.jupyter.widget-view+json": {
       "model_id": "5bcdf7b757f84f52857bcd5e1ff9febf",
       "version_major": 2,
       "version_minor": 0
      },
      "text/plain": [
       "Epoch 27/40 - Training:   0%|          | 0/870 [00:00<?, ?it/s]"
      ]
     },
     "metadata": {},
     "output_type": "display_data"
    },
    {
     "name": "stdout",
     "output_type": "stream",
     "text": [
      "Step [100/870] - Training Loss: 0.1788 - Training Accuracy: 89.95%\n",
      "Step [200/870] - Training Loss: 0.2768 - Training Accuracy: 89.95%\n",
      "Step [300/870] - Training Loss: 0.2256 - Training Accuracy: 89.68%\n",
      "Step [400/870] - Training Loss: 0.2802 - Training Accuracy: 89.61%\n",
      "Step [500/870] - Training Loss: 0.3605 - Training Accuracy: 89.52%\n",
      "Step [600/870] - Training Loss: 0.2487 - Training Accuracy: 89.54%\n",
      "Step [700/870] - Training Loss: 0.2436 - Training Accuracy: 89.48%\n",
      "Step [800/870] - Training Loss: 0.2434 - Training Accuracy: 89.43%\n"
     ]
    },
    {
     "data": {
      "application/vnd.jupyter.widget-view+json": {
       "model_id": "d81db7770762403c86b7ff0cea142957",
       "version_major": 2,
       "version_minor": 0
      },
      "text/plain": [
       "Epoch 27/40 - Validation:   0%|          | 0/95 [00:00<?, ?it/s]"
      ]
     },
     "metadata": {},
     "output_type": "display_data"
    },
    {
     "name": "stdout",
     "output_type": "stream",
     "text": [
      "Epoch [27/40] - Training Loss: 0.2509, Training Accuracy: 89.48% - Validation Loss: 0.3535, Validation Accuracy: 85.13%\n"
     ]
    },
    {
     "data": {
      "application/vnd.jupyter.widget-view+json": {
       "model_id": "c3ff6f5002024725b8b98865dc81537b",
       "version_major": 2,
       "version_minor": 0
      },
      "text/plain": [
       "Epoch 28/40 - Training:   0%|          | 0/870 [00:00<?, ?it/s]"
      ]
     },
     "metadata": {},
     "output_type": "display_data"
    },
    {
     "name": "stdout",
     "output_type": "stream",
     "text": [
      "Step [100/870] - Training Loss: 0.1924 - Training Accuracy: 89.31%\n",
      "Step [200/870] - Training Loss: 0.2306 - Training Accuracy: 89.57%\n",
      "Step [300/870] - Training Loss: 0.2965 - Training Accuracy: 89.56%\n",
      "Step [400/870] - Training Loss: 0.1997 - Training Accuracy: 89.53%\n",
      "Step [500/870] - Training Loss: 0.2739 - Training Accuracy: 89.50%\n",
      "Step [600/870] - Training Loss: 0.3258 - Training Accuracy: 89.51%\n",
      "Step [700/870] - Training Loss: 0.2402 - Training Accuracy: 89.48%\n",
      "Step [800/870] - Training Loss: 0.2738 - Training Accuracy: 89.51%\n"
     ]
    },
    {
     "data": {
      "application/vnd.jupyter.widget-view+json": {
       "model_id": "0300d0601a27427bb05943a954a6b91b",
       "version_major": 2,
       "version_minor": 0
      },
      "text/plain": [
       "Epoch 28/40 - Validation:   0%|          | 0/95 [00:00<?, ?it/s]"
      ]
     },
     "metadata": {},
     "output_type": "display_data"
    },
    {
     "name": "stdout",
     "output_type": "stream",
     "text": [
      "Epoch [28/40] - Training Loss: 0.2504, Training Accuracy: 89.53% - Validation Loss: 0.3517, Validation Accuracy: 85.15%\n"
     ]
    },
    {
     "data": {
      "application/vnd.jupyter.widget-view+json": {
       "model_id": "f12f198e92ca4d08a738bb1026f61409",
       "version_major": 2,
       "version_minor": 0
      },
      "text/plain": [
       "Epoch 29/40 - Training:   0%|          | 0/870 [00:00<?, ?it/s]"
      ]
     },
     "metadata": {},
     "output_type": "display_data"
    },
    {
     "name": "stdout",
     "output_type": "stream",
     "text": [
      "Step [100/870] - Training Loss: 0.2029 - Training Accuracy: 89.82%\n",
      "Step [200/870] - Training Loss: 0.2183 - Training Accuracy: 89.86%\n",
      "Step [300/870] - Training Loss: 0.2624 - Training Accuracy: 89.66%\n",
      "Step [400/870] - Training Loss: 0.3512 - Training Accuracy: 89.56%\n",
      "Step [500/870] - Training Loss: 0.2375 - Training Accuracy: 89.62%\n",
      "Step [600/870] - Training Loss: 0.2249 - Training Accuracy: 89.61%\n",
      "Step [700/870] - Training Loss: 0.1583 - Training Accuracy: 89.63%\n",
      "Step [800/870] - Training Loss: 0.2761 - Training Accuracy: 89.58%\n"
     ]
    },
    {
     "data": {
      "application/vnd.jupyter.widget-view+json": {
       "model_id": "10e0d5ec919543a3bccefed12c06c708",
       "version_major": 2,
       "version_minor": 0
      },
      "text/plain": [
       "Epoch 29/40 - Validation:   0%|          | 0/95 [00:00<?, ?it/s]"
      ]
     },
     "metadata": {},
     "output_type": "display_data"
    },
    {
     "name": "stdout",
     "output_type": "stream",
     "text": [
      "Epoch [29/40] - Training Loss: 0.2502, Training Accuracy: 89.57% - Validation Loss: 0.3534, Validation Accuracy: 85.19%\n"
     ]
    },
    {
     "data": {
      "application/vnd.jupyter.widget-view+json": {
       "model_id": "896c44b0b72641c1918f7e24418a221a",
       "version_major": 2,
       "version_minor": 0
      },
      "text/plain": [
       "Epoch 30/40 - Training:   0%|          | 0/870 [00:00<?, ?it/s]"
      ]
     },
     "metadata": {},
     "output_type": "display_data"
    },
    {
     "name": "stdout",
     "output_type": "stream",
     "text": [
      "Step [100/870] - Training Loss: 0.2647 - Training Accuracy: 90.14%\n",
      "Step [200/870] - Training Loss: 0.4083 - Training Accuracy: 89.88%\n",
      "Step [300/870] - Training Loss: 0.2445 - Training Accuracy: 89.90%\n",
      "Step [400/870] - Training Loss: 0.1627 - Training Accuracy: 89.76%\n",
      "Step [500/870] - Training Loss: 0.2396 - Training Accuracy: 89.72%\n",
      "Step [600/870] - Training Loss: 0.2744 - Training Accuracy: 89.70%\n",
      "Step [700/870] - Training Loss: 0.3266 - Training Accuracy: 89.66%\n",
      "Step [800/870] - Training Loss: 0.3038 - Training Accuracy: 89.59%\n"
     ]
    },
    {
     "data": {
      "application/vnd.jupyter.widget-view+json": {
       "model_id": "32d7b91f35ae468db1714fad85602fdb",
       "version_major": 2,
       "version_minor": 0
      },
      "text/plain": [
       "Epoch 30/40 - Validation:   0%|          | 0/95 [00:00<?, ?it/s]"
      ]
     },
     "metadata": {},
     "output_type": "display_data"
    },
    {
     "name": "stdout",
     "output_type": "stream",
     "text": [
      "Epoch [30/40] - Training Loss: 0.2500, Training Accuracy: 89.57% - Validation Loss: 0.3524, Validation Accuracy: 85.09%\n"
     ]
    },
    {
     "data": {
      "application/vnd.jupyter.widget-view+json": {
       "model_id": "633113251b5a4311b623af6d125a1180",
       "version_major": 2,
       "version_minor": 0
      },
      "text/plain": [
       "Epoch 31/40 - Training:   0%|          | 0/870 [00:00<?, ?it/s]"
      ]
     },
     "metadata": {},
     "output_type": "display_data"
    },
    {
     "name": "stdout",
     "output_type": "stream",
     "text": [
      "Step [100/870] - Training Loss: 0.2558 - Training Accuracy: 89.56%\n",
      "Step [200/870] - Training Loss: 0.1837 - Training Accuracy: 89.53%\n",
      "Step [300/870] - Training Loss: 0.3007 - Training Accuracy: 89.50%\n",
      "Step [400/870] - Training Loss: 0.2389 - Training Accuracy: 89.52%\n",
      "Step [500/870] - Training Loss: 0.2459 - Training Accuracy: 89.54%\n",
      "Step [600/870] - Training Loss: 0.2737 - Training Accuracy: 89.56%\n",
      "Step [700/870] - Training Loss: 0.1775 - Training Accuracy: 89.62%\n",
      "Step [800/870] - Training Loss: 0.2039 - Training Accuracy: 89.56%\n"
     ]
    },
    {
     "data": {
      "application/vnd.jupyter.widget-view+json": {
       "model_id": "4a13e74df82d4a20acae045a2e773d81",
       "version_major": 2,
       "version_minor": 0
      },
      "text/plain": [
       "Epoch 31/40 - Validation:   0%|          | 0/95 [00:00<?, ?it/s]"
      ]
     },
     "metadata": {},
     "output_type": "display_data"
    },
    {
     "name": "stdout",
     "output_type": "stream",
     "text": [
      "Epoch [31/40] - Training Loss: 0.2498, Training Accuracy: 89.56% - Validation Loss: 0.3524, Validation Accuracy: 85.17%\n"
     ]
    },
    {
     "data": {
      "application/vnd.jupyter.widget-view+json": {
       "model_id": "10758d5ae5674a48bbb539a6bc396d86",
       "version_major": 2,
       "version_minor": 0
      },
      "text/plain": [
       "Epoch 32/40 - Training:   0%|          | 0/870 [00:00<?, ?it/s]"
      ]
     },
     "metadata": {},
     "output_type": "display_data"
    },
    {
     "name": "stdout",
     "output_type": "stream",
     "text": [
      "Step [100/870] - Training Loss: 0.2843 - Training Accuracy: 89.69%\n",
      "Step [200/870] - Training Loss: 0.2442 - Training Accuracy: 89.54%\n",
      "Step [300/870] - Training Loss: 0.2238 - Training Accuracy: 89.55%\n",
      "Step [400/870] - Training Loss: 0.3089 - Training Accuracy: 89.59%\n",
      "Step [500/870] - Training Loss: 0.3343 - Training Accuracy: 89.59%\n",
      "Step [600/870] - Training Loss: 0.2383 - Training Accuracy: 89.56%\n",
      "Step [700/870] - Training Loss: 0.2727 - Training Accuracy: 89.59%\n",
      "Step [800/870] - Training Loss: 0.2914 - Training Accuracy: 89.59%\n"
     ]
    },
    {
     "data": {
      "application/vnd.jupyter.widget-view+json": {
       "model_id": "927a729cb9ec4d69992edde0d5655a23",
       "version_major": 2,
       "version_minor": 0
      },
      "text/plain": [
       "Epoch 32/40 - Validation:   0%|          | 0/95 [00:00<?, ?it/s]"
      ]
     },
     "metadata": {},
     "output_type": "display_data"
    },
    {
     "name": "stdout",
     "output_type": "stream",
     "text": [
      "Epoch [32/40] - Training Loss: 0.2500, Training Accuracy: 89.58% - Validation Loss: 0.3524, Validation Accuracy: 85.22%\n"
     ]
    },
    {
     "data": {
      "application/vnd.jupyter.widget-view+json": {
       "model_id": "e23cd11dc7d241e5ba718a4ff83b4851",
       "version_major": 2,
       "version_minor": 0
      },
      "text/plain": [
       "Epoch 33/40 - Training:   0%|          | 0/870 [00:00<?, ?it/s]"
      ]
     },
     "metadata": {},
     "output_type": "display_data"
    },
    {
     "name": "stdout",
     "output_type": "stream",
     "text": [
      "Step [100/870] - Training Loss: 0.1518 - Training Accuracy: 89.96%\n",
      "Step [200/870] - Training Loss: 0.2731 - Training Accuracy: 89.60%\n",
      "Step [300/870] - Training Loss: 0.2193 - Training Accuracy: 89.59%\n",
      "Step [400/870] - Training Loss: 0.2341 - Training Accuracy: 89.63%\n",
      "Step [500/870] - Training Loss: 0.2151 - Training Accuracy: 89.64%\n",
      "Step [600/870] - Training Loss: 0.2645 - Training Accuracy: 89.65%\n",
      "Step [700/870] - Training Loss: 0.2915 - Training Accuracy: 89.59%\n",
      "Step [800/870] - Training Loss: 0.3704 - Training Accuracy: 89.60%\n"
     ]
    },
    {
     "data": {
      "application/vnd.jupyter.widget-view+json": {
       "model_id": "2d0a95db510343bf8617f207b68ad774",
       "version_major": 2,
       "version_minor": 0
      },
      "text/plain": [
       "Epoch 33/40 - Validation:   0%|          | 0/95 [00:00<?, ?it/s]"
      ]
     },
     "metadata": {},
     "output_type": "display_data"
    },
    {
     "name": "stdout",
     "output_type": "stream",
     "text": [
      "Epoch [33/40] - Training Loss: 0.2495, Training Accuracy: 89.59% - Validation Loss: 0.3533, Validation Accuracy: 84.94%\n"
     ]
    },
    {
     "data": {
      "application/vnd.jupyter.widget-view+json": {
       "model_id": "fa6a11c0b543461bb36492137d9d4396",
       "version_major": 2,
       "version_minor": 0
      },
      "text/plain": [
       "Epoch 34/40 - Training:   0%|          | 0/870 [00:00<?, ?it/s]"
      ]
     },
     "metadata": {},
     "output_type": "display_data"
    },
    {
     "name": "stdout",
     "output_type": "stream",
     "text": [
      "Step [100/870] - Training Loss: 0.3287 - Training Accuracy: 89.43%\n",
      "Step [200/870] - Training Loss: 0.1638 - Training Accuracy: 89.57%\n",
      "Step [300/870] - Training Loss: 0.2753 - Training Accuracy: 89.59%\n",
      "Step [400/870] - Training Loss: 0.2974 - Training Accuracy: 89.67%\n",
      "Step [500/870] - Training Loss: 0.3586 - Training Accuracy: 89.65%\n",
      "Step [600/870] - Training Loss: 0.2959 - Training Accuracy: 89.60%\n",
      "Step [700/870] - Training Loss: 0.2120 - Training Accuracy: 89.57%\n",
      "Step [800/870] - Training Loss: 0.2232 - Training Accuracy: 89.60%\n"
     ]
    },
    {
     "data": {
      "application/vnd.jupyter.widget-view+json": {
       "model_id": "b8876690082f4b518ded8422f9765342",
       "version_major": 2,
       "version_minor": 0
      },
      "text/plain": [
       "Epoch 34/40 - Validation:   0%|          | 0/95 [00:00<?, ?it/s]"
      ]
     },
     "metadata": {},
     "output_type": "display_data"
    },
    {
     "name": "stdout",
     "output_type": "stream",
     "text": [
      "Epoch [34/40] - Training Loss: 0.2494, Training Accuracy: 89.61% - Validation Loss: 0.3525, Validation Accuracy: 85.04%\n"
     ]
    },
    {
     "data": {
      "application/vnd.jupyter.widget-view+json": {
       "model_id": "364171bed8e84515ba070d03c2778457",
       "version_major": 2,
       "version_minor": 0
      },
      "text/plain": [
       "Epoch 35/40 - Training:   0%|          | 0/870 [00:00<?, ?it/s]"
      ]
     },
     "metadata": {},
     "output_type": "display_data"
    },
    {
     "name": "stdout",
     "output_type": "stream",
     "text": [
      "Step [100/870] - Training Loss: 0.2531 - Training Accuracy: 89.77%\n",
      "Step [200/870] - Training Loss: 0.3092 - Training Accuracy: 89.58%\n",
      "Step [300/870] - Training Loss: 0.2040 - Training Accuracy: 89.56%\n",
      "Step [400/870] - Training Loss: 0.2643 - Training Accuracy: 89.50%\n",
      "Step [500/870] - Training Loss: 0.2427 - Training Accuracy: 89.57%\n",
      "Step [600/870] - Training Loss: 0.2212 - Training Accuracy: 89.53%\n",
      "Step [700/870] - Training Loss: 0.2518 - Training Accuracy: 89.56%\n",
      "Step [800/870] - Training Loss: 0.2854 - Training Accuracy: 89.60%\n"
     ]
    },
    {
     "data": {
      "application/vnd.jupyter.widget-view+json": {
       "model_id": "6bdd68612ae246fa9b6aef2b31babf60",
       "version_major": 2,
       "version_minor": 0
      },
      "text/plain": [
       "Epoch 35/40 - Validation:   0%|          | 0/95 [00:00<?, ?it/s]"
      ]
     },
     "metadata": {},
     "output_type": "display_data"
    },
    {
     "name": "stdout",
     "output_type": "stream",
     "text": [
      "Epoch [35/40] - Training Loss: 0.2492, Training Accuracy: 89.59% - Validation Loss: 0.3523, Validation Accuracy: 85.09%\n"
     ]
    },
    {
     "data": {
      "application/vnd.jupyter.widget-view+json": {
       "model_id": "029ff9d809924012b672965c65b25327",
       "version_major": 2,
       "version_minor": 0
      },
      "text/plain": [
       "Epoch 36/40 - Training:   0%|          | 0/870 [00:00<?, ?it/s]"
      ]
     },
     "metadata": {},
     "output_type": "display_data"
    },
    {
     "name": "stdout",
     "output_type": "stream",
     "text": [
      "Step [100/870] - Training Loss: 0.2030 - Training Accuracy: 89.65%\n",
      "Step [200/870] - Training Loss: 0.2785 - Training Accuracy: 89.70%\n",
      "Step [300/870] - Training Loss: 0.1533 - Training Accuracy: 89.72%\n",
      "Step [400/870] - Training Loss: 0.2158 - Training Accuracy: 89.77%\n",
      "Step [500/870] - Training Loss: 0.1960 - Training Accuracy: 89.69%\n",
      "Step [600/870] - Training Loss: 0.2353 - Training Accuracy: 89.67%\n",
      "Step [700/870] - Training Loss: 0.2195 - Training Accuracy: 89.69%\n",
      "Step [800/870] - Training Loss: 0.2312 - Training Accuracy: 89.62%\n"
     ]
    },
    {
     "data": {
      "application/vnd.jupyter.widget-view+json": {
       "model_id": "13f14cffacd14aba8c54c024aa91c5ff",
       "version_major": 2,
       "version_minor": 0
      },
      "text/plain": [
       "Epoch 36/40 - Validation:   0%|          | 0/95 [00:00<?, ?it/s]"
      ]
     },
     "metadata": {},
     "output_type": "display_data"
    },
    {
     "name": "stdout",
     "output_type": "stream",
     "text": [
      "Epoch [36/40] - Training Loss: 0.2491, Training Accuracy: 89.61% - Validation Loss: 0.3523, Validation Accuracy: 85.13%\n"
     ]
    },
    {
     "data": {
      "application/vnd.jupyter.widget-view+json": {
       "model_id": "71ba3c8438ec450ea1eac01cac549c61",
       "version_major": 2,
       "version_minor": 0
      },
      "text/plain": [
       "Epoch 37/40 - Training:   0%|          | 0/870 [00:00<?, ?it/s]"
      ]
     },
     "metadata": {},
     "output_type": "display_data"
    },
    {
     "name": "stdout",
     "output_type": "stream",
     "text": [
      "Step [100/870] - Training Loss: 0.2743 - Training Accuracy: 89.12%\n",
      "Step [200/870] - Training Loss: 0.1692 - Training Accuracy: 89.70%\n",
      "Step [300/870] - Training Loss: 0.2304 - Training Accuracy: 89.60%\n",
      "Step [400/870] - Training Loss: 0.2555 - Training Accuracy: 89.75%\n",
      "Step [500/870] - Training Loss: 0.1932 - Training Accuracy: 89.77%\n",
      "Step [600/870] - Training Loss: 0.2291 - Training Accuracy: 89.66%\n",
      "Step [700/870] - Training Loss: 0.3038 - Training Accuracy: 89.63%\n",
      "Step [800/870] - Training Loss: 0.2637 - Training Accuracy: 89.62%\n"
     ]
    },
    {
     "data": {
      "application/vnd.jupyter.widget-view+json": {
       "model_id": "8fcaeaf25fa64b27beddbc177bda986c",
       "version_major": 2,
       "version_minor": 0
      },
      "text/plain": [
       "Epoch 37/40 - Validation:   0%|          | 0/95 [00:00<?, ?it/s]"
      ]
     },
     "metadata": {},
     "output_type": "display_data"
    },
    {
     "name": "stdout",
     "output_type": "stream",
     "text": [
      "Epoch [37/40] - Training Loss: 0.2491, Training Accuracy: 89.60% - Validation Loss: 0.3523, Validation Accuracy: 85.09%\n"
     ]
    },
    {
     "data": {
      "application/vnd.jupyter.widget-view+json": {
       "model_id": "bf3ec3dc81624a25aafe547fc29ce17e",
       "version_major": 2,
       "version_minor": 0
      },
      "text/plain": [
       "Epoch 38/40 - Training:   0%|          | 0/870 [00:00<?, ?it/s]"
      ]
     },
     "metadata": {},
     "output_type": "display_data"
    },
    {
     "name": "stdout",
     "output_type": "stream",
     "text": [
      "Step [100/870] - Training Loss: 0.2809 - Training Accuracy: 89.44%\n",
      "Step [200/870] - Training Loss: 0.1959 - Training Accuracy: 89.68%\n",
      "Step [300/870] - Training Loss: 0.2330 - Training Accuracy: 89.61%\n",
      "Step [400/870] - Training Loss: 0.3635 - Training Accuracy: 89.67%\n",
      "Step [500/870] - Training Loss: 0.3186 - Training Accuracy: 89.64%\n",
      "Step [600/870] - Training Loss: 0.2932 - Training Accuracy: 89.72%\n",
      "Step [700/870] - Training Loss: 0.2346 - Training Accuracy: 89.67%\n",
      "Step [800/870] - Training Loss: 0.2753 - Training Accuracy: 89.67%\n"
     ]
    },
    {
     "data": {
      "application/vnd.jupyter.widget-view+json": {
       "model_id": "3650064b2f7e4378aeb5e8698d1ef0b5",
       "version_major": 2,
       "version_minor": 0
      },
      "text/plain": [
       "Epoch 38/40 - Validation:   0%|          | 0/95 [00:00<?, ?it/s]"
      ]
     },
     "metadata": {},
     "output_type": "display_data"
    },
    {
     "name": "stdout",
     "output_type": "stream",
     "text": [
      "Epoch [38/40] - Training Loss: 0.2490, Training Accuracy: 89.62% - Validation Loss: 0.3522, Validation Accuracy: 85.14%\n"
     ]
    },
    {
     "data": {
      "application/vnd.jupyter.widget-view+json": {
       "model_id": "ce4714db4ad148599aa586fe44ef62df",
       "version_major": 2,
       "version_minor": 0
      },
      "text/plain": [
       "Epoch 39/40 - Training:   0%|          | 0/870 [00:00<?, ?it/s]"
      ]
     },
     "metadata": {},
     "output_type": "display_data"
    },
    {
     "name": "stdout",
     "output_type": "stream",
     "text": [
      "Step [100/870] - Training Loss: 0.3513 - Training Accuracy: 89.24%\n",
      "Step [200/870] - Training Loss: 0.2517 - Training Accuracy: 89.62%\n",
      "Step [300/870] - Training Loss: 0.2804 - Training Accuracy: 89.47%\n",
      "Step [400/870] - Training Loss: 0.2709 - Training Accuracy: 89.54%\n",
      "Step [500/870] - Training Loss: 0.2327 - Training Accuracy: 89.55%\n",
      "Step [600/870] - Training Loss: 0.2713 - Training Accuracy: 89.53%\n",
      "Step [700/870] - Training Loss: 0.1986 - Training Accuracy: 89.55%\n",
      "Step [800/870] - Training Loss: 0.2839 - Training Accuracy: 89.60%\n"
     ]
    },
    {
     "data": {
      "application/vnd.jupyter.widget-view+json": {
       "model_id": "8f041b6794d44a1d88b9c1ce21d2a536",
       "version_major": 2,
       "version_minor": 0
      },
      "text/plain": [
       "Epoch 39/40 - Validation:   0%|          | 0/95 [00:00<?, ?it/s]"
      ]
     },
     "metadata": {},
     "output_type": "display_data"
    },
    {
     "name": "stdout",
     "output_type": "stream",
     "text": [
      "Epoch [39/40] - Training Loss: 0.2490, Training Accuracy: 89.61% - Validation Loss: 0.3522, Validation Accuracy: 85.12%\n"
     ]
    },
    {
     "data": {
      "application/vnd.jupyter.widget-view+json": {
       "model_id": "e78628e5de17467db768beaf588a9a70",
       "version_major": 2,
       "version_minor": 0
      },
      "text/plain": [
       "Epoch 40/40 - Training:   0%|          | 0/870 [00:00<?, ?it/s]"
      ]
     },
     "metadata": {},
     "output_type": "display_data"
    },
    {
     "name": "stdout",
     "output_type": "stream",
     "text": [
      "Step [100/870] - Training Loss: 0.2507 - Training Accuracy: 89.55%\n",
      "Step [200/870] - Training Loss: 0.2611 - Training Accuracy: 89.37%\n",
      "Step [300/870] - Training Loss: 0.2392 - Training Accuracy: 89.54%\n",
      "Step [400/870] - Training Loss: 0.2013 - Training Accuracy: 89.65%\n",
      "Step [500/870] - Training Loss: 0.1872 - Training Accuracy: 89.59%\n",
      "Step [600/870] - Training Loss: 0.3102 - Training Accuracy: 89.59%\n",
      "Step [700/870] - Training Loss: 0.3982 - Training Accuracy: 89.63%\n",
      "Step [800/870] - Training Loss: 0.2867 - Training Accuracy: 89.59%\n"
     ]
    },
    {
     "data": {
      "application/vnd.jupyter.widget-view+json": {
       "model_id": "700c98c906a2452f8ee8fb329a563c6e",
       "version_major": 2,
       "version_minor": 0
      },
      "text/plain": [
       "Epoch 40/40 - Validation:   0%|          | 0/95 [00:00<?, ?it/s]"
      ]
     },
     "metadata": {},
     "output_type": "display_data"
    },
    {
     "name": "stdout",
     "output_type": "stream",
     "text": [
      "Epoch [40/40] - Training Loss: 0.2489, Training Accuracy: 89.61% - Validation Loss: 0.3522, Validation Accuracy: 85.13%\n"
     ]
    }
   ],
   "source": [
    "for epoch in range(num_epochs):\n",
    "    running_train_loss = 0.0\n",
    "    correct_train = 0\n",
    "    mse_age_train = 0.0\n",
    "    total_train = 0\n",
    "    step = 0\n",
    "\n",
    "    # Training Phase\n",
    "    model.train()\n",
    "    optimizer.zero_grad()  # Reset gradients before starting training\n",
    "\n",
    "    for batch in tqdm(train_dl, desc=f\"Epoch {epoch+1}/{num_epochs} - Training\"):\n",
    "        optimizer.zero_grad()\n",
    "        images = batch[0].to(device).float()  # Shape: [batch_size, 1, 16, 144, 320]\n",
    "\n",
    "        # Prepare labels based on target type\n",
    "        if target == \"trial_type\":\n",
    "            labels = batch[1]  # List of labels\n",
    "            labels = label_encoder.transform(labels)\n",
    "            labels = torch.tensor(labels, dtype=torch.long).to(device)  # Shape: [batch_size]\n",
    "        elif target == \"age\":\n",
    "            labels = get_label_restricted(batch[2], 'age')\n",
    "            labels = torch.tensor(labels, dtype=torch.float).to(device)  # Shape: [batch_size]\n",
    "        elif target == \"sex\":\n",
    "            labels = get_label_restricted(batch[2], 'sex')\n",
    "            labels = torch.tensor(labels, dtype=torch.float).to(device)  # Shape: [batch_size]\n",
    "        # labels = labels.unsqueeze(1)\n",
    "        # Forward pass\n",
    "        outputs = model(images)  # Output shape depends on the target\n",
    "\n",
    "        # Compute loss\n",
    "        if target in [\"trial_type\", \"sex\"]:\n",
    "            # For classification, ensure outputs are logits\n",
    "            loss = criterion(outputs.squeeze(), labels.squeeze())\n",
    "        elif target == \"age\":\n",
    "            # For regression, ensure outputs are single values\n",
    "            loss = criterion(outputs.squeeze(), labels.squeeze())\n",
    "\n",
    "        # Backward pass and optimization\n",
    "        loss.backward()\n",
    "        optimizer.step()\n",
    "\n",
    "        # Accumulate loss\n",
    "        running_train_loss += loss.item() * images.size(0)\n",
    "\n",
    "        # Calculate and accumulate metrics\n",
    "        if target == \"trial_type\":\n",
    "            _, predicted = torch.max(outputs, 1)\n",
    "            correct_train += (predicted == labels).sum().item()\n",
    "        elif target == \"age\":\n",
    "            mse_age_train += (torch.sum((outputs.squeeze() - labels) ** 2).item())\n",
    "        elif target == \"sex\":\n",
    "            threshold = 0.5\n",
    "            predicted = (torch.sigmoid(outputs) > threshold).float().squeeze()\n",
    "            correct_train += (predicted == labels).sum().item()\n",
    "\n",
    "        total_train += labels.size(0)\n",
    "        step += 1\n",
    "\n",
    "        # Print intermediate metrics every 100 steps\n",
    "        if step % 100 == 0:\n",
    "            if target in [\"trial_type\", \"sex\"]:\n",
    "                current_accuracy = 100 * correct_train / total_train if total_train > 0 else 0.0\n",
    "                print(f\"Step [{step}/{len(train_dl)}] - Training Loss: {loss.item():.4f} - Training Accuracy: {current_accuracy:.2f}%\")\n",
    "            elif target == \"age\":\n",
    "                current_mse = mse_age_train / total_train if total_train > 0 else 0.0\n",
    "                print(f\"Step [{step}/{len(train_dl)}] - Training Loss: {loss.item():.4f} - Training MSE: {current_mse:.4f}\")\n",
    "\n",
    "        if lr_scheduler_type is not None:\n",
    "                lr_scheduler.step()\n",
    "\n",
    "    # Calculate epoch-level metrics\n",
    "    epoch_train_loss = running_train_loss / total_train if total_train > 0 else 0.0\n",
    "\n",
    "    if target in [\"trial_type\", \"sex\"]:\n",
    "        train_accuracy = 100 * correct_train / total_train if total_train > 0 else 0.0\n",
    "    elif target == \"age\":\n",
    "        train_mse = mse_age_train / total_train if total_train > 0 else 0.0\n",
    "\n",
    "    # Validation Phase\n",
    "    model.eval()\n",
    "    running_val_loss = 0.0\n",
    "    correct_val = 0\n",
    "    mse_age_val = 0.0\n",
    "    total_val = 0\n",
    "\n",
    "    with torch.no_grad():\n",
    "        for batch in tqdm(test_dl, desc=f\"Epoch {epoch+1}/{num_epochs} - Validation\"):\n",
    "            images = batch[0].to(device).float()  # Removed unsqueeze(1) unless specifically needed\n",
    "\n",
    "            # Prepare labels based on target type\n",
    "            if target == \"trial_type\":\n",
    "                labels = batch[1]  # List of labels\n",
    "                labels = label_encoder.transform(labels)\n",
    "                labels = torch.tensor(labels, dtype=torch.long).to(device)  # Shape: [batch_size]\n",
    "            elif target == \"age\":\n",
    "                labels = get_label_restricted(batch[2], 'age')\n",
    "                labels = torch.tensor(labels, dtype=torch.float).to(device)  # Shape: [batch_size]\n",
    "            elif target == \"sex\":\n",
    "                labels = get_label_restricted(batch[2], 'sex')\n",
    "                labels = torch.tensor(labels, dtype=torch.float).to(device)  # Shape: [batch_size]\n",
    "\n",
    "            # labels = labels.unsqueeze(1)\n",
    "            \n",
    "            # Forward pass\n",
    "            outputs = model(images)\n",
    "\n",
    "            # Compute loss\n",
    "            if target in [\"trial_type\", \"sex\"]:\n",
    "                loss = criterion(outputs.squeeze(), labels.squeeze())\n",
    "            elif target == \"age\":\n",
    "                loss = criterion(outputs.squeeze(), labels.squeeze())\n",
    "\n",
    "            # Accumulate loss\n",
    "            running_val_loss += loss.item() * images.size(0)\n",
    "\n",
    "            # Calculate and accumulate metrics\n",
    "            if target == \"trial_type\":\n",
    "                _, predicted = torch.max(outputs, 1)\n",
    "                correct_val += (predicted == labels).sum().item()\n",
    "            elif target == \"age\":\n",
    "                mse_age_val += (torch.sum((outputs.squeeze() - labels) ** 2).item()) \n",
    "            elif target == \"sex\":\n",
    "                threshold = 0.5\n",
    "                predicted = (torch.sigmoid(outputs) > threshold).float().squeeze()\n",
    "                correct_val += (predicted == labels).sum().item()\n",
    "\n",
    "            total_val += labels.size(0)\n",
    "\n",
    "    # Calculate epoch-level validation metrics\n",
    "    epoch_val_loss = running_val_loss / total_val if total_val > 0 else 0.0\n",
    "\n",
    "    if target in [\"trial_type\", \"sex\"]:\n",
    "        val_accuracy = 100 * correct_val / total_val if total_val > 0 else 0.0\n",
    "    elif target == \"age\":\n",
    "        val_mse = mse_age_val / total_val if total_val > 0 else 0.0\n",
    "\n",
    "    # Print epoch-level metrics\n",
    "    if target in [\"trial_type\", \"sex\"]:\n",
    "        print(f\"Epoch [{epoch+1}/{num_epochs}] \"\n",
    "              f\"- Training Loss: {epoch_train_loss:.4f}, Training Accuracy: {train_accuracy:.2f}% \"\n",
    "              f\"- Validation Loss: {epoch_val_loss:.4f}, Validation Accuracy: {val_accuracy:.2f}%\")\n",
    "    elif target == \"age\":\n",
    "        print(f\"Epoch [{epoch+1}/{num_epochs}] \"\n",
    "              f\"- Training Loss: {epoch_train_loss:.4f}, Training MSE: {train_mse:.4f} \"\n",
    "              f\"- Validation Loss: {epoch_val_loss:.4f}, Validation MSE: {val_mse:.4f}\")\n",
    "\n",
    "    # Log metrics with wandb\n",
    "    if wandb_log:\n",
    "        log_dict = {\n",
    "            \"epoch_train_loss\": epoch_train_loss,\n",
    "            \"epoch_val_loss\": epoch_val_loss,\n",
    "        }\n",
    "        if target in [\"trial_type\", \"sex\"]:\n",
    "            log_dict.update({\n",
    "                f\"train_accuracy_{target}\": train_accuracy,\n",
    "                f\"val_accuracy_{target}\": val_accuracy,\n",
    "            })\n",
    "        elif target == \"age\":\n",
    "            log_dict.update({\n",
    "                f\"train_mse_{target}\": train_mse,\n",
    "                f\"val_mse_{target}\": val_mse,\n",
    "            })\n",
    "        wandb.log(log_dict)\n",
    "\n",
    "# Save checkpoint if required\n",
    "if save_ckpt:\n",
    "    outdir = os.path.abspath(f'checkpoints/{\"HCPflat_raw\"+ f\"_{model_suffix}_{target}\"}_{random_id}')\n",
    "    os.makedirs(outdir, exist_ok=True)\n",
    "    print(\"Saving checkpoint to:\", outdir)\n",
    "    # Save model state\n",
    "    torch.save(model.state_dict(), os.path.join(outdir, \"model.pth\"))\n",
    "    # Save configuration\n",
    "    with open(os.path.join(outdir, \"config.yaml\"), 'w') as f:\n",
    "        yaml.dump(wandb_config, f)\n",
    "    print(f\"Model and config saved to {outdir}\")\n"
   ]
  }
 ],
 "metadata": {
  "kernelspec": {
   "display_name": "foundation_env",
   "language": "python",
   "name": "foundation_env"
  },
  "language_info": {
   "codemirror_mode": {
    "name": "ipython",
    "version": 3
   },
   "file_extension": ".py",
   "mimetype": "text/x-python",
   "name": "python",
   "nbconvert_exporter": "python",
   "pygments_lexer": "ipython3",
   "version": "3.11.11"
  }
 },
 "nbformat": 4,
 "nbformat_minor": 5
}
