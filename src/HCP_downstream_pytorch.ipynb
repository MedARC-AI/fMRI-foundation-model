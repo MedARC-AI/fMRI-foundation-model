{
 "cells": [
  {
   "cell_type": "code",
   "execution_count": 1,
   "id": "b8e236f1-385a-4d93-bb39-bea3ee384d76",
   "metadata": {
    "tags": []
   },
   "outputs": [
    {
     "name": "stdout",
     "output_type": "stream",
     "text": [
      "PID of this process = 1528545\n"
     ]
    }
   ],
   "source": [
    "# Import packages and setup gpu configuration.\n",
    "# This code block shouldnt need to be adjusted!\n",
    "import os\n",
    "import sys\n",
    "import json\n",
    "import yaml\n",
    "import numpy as np\n",
    "import copy\n",
    "import math\n",
    "import time\n",
    "import random\n",
    "from tqdm.auto import tqdm\n",
    "import webdataset as wds\n",
    "import matplotlib.pyplot as plt\n",
    "import pandas as pd\n",
    "\n",
    "import torch\n",
    "import torch.nn as nn\n",
    "from torchvision import transforms\n",
    "import utils\n",
    "from mae_utils.flat_models import *\n",
    "import h5py\n",
    "from typing import List, Dict, Any, Tuple\n",
    "from sklearn.preprocessing import StandardScaler\n",
    "import argparse\n",
    "\n",
    "# tf32 data type is faster than standard float32\n",
    "torch.backends.cuda.matmul.allow_tf32 = True\n",
    "# following fixes a Conv3D CUDNN_NOT_SUPPORTED error\n",
    "torch.backends.cudnn.benchmark = True\n",
    "\n",
    "# ## MODEL TO LOAD ##\n",
    "# model_name = \"HCPflat_large_gsrFalse_\"\n",
    "# parquet_folder = \"epoch99\"\n",
    "\n",
    "# # outdir = os.path.abspath(f'checkpoints/{model_name}')\n",
    "# outdir = os.path.abspath(f'checkpoints/{model_name}')\n",
    "\n",
    "# print(\"outdir\", outdir)\n",
    "# # Load previous config.yaml if available\n",
    "# if os.path.exists(f\"{outdir}/config.yaml\"):\n",
    "#     config = yaml.load(open(f\"{outdir}/config.yaml\", 'r'), Loader=yaml.FullLoader)\n",
    "#     print(f\"Loaded config.yaml from ckpt folder {outdir}\")\n",
    "#     # create global variables from the config\n",
    "#     print(\"\\n__CONFIG__\")\n",
    "#     for attribute_name in config.keys():\n",
    "#         print(f\"{attribute_name} = {config[attribute_name]}\")\n",
    "#         globals()[attribute_name] = config[f'{attribute_name}']\n",
    "#     print(\"\\n\")\n",
    "\n",
    "# world_size = os.getenv('WORLD_SIZE')\n",
    "# if world_size is None: \n",
    "#     world_size = 1\n",
    "# else:\n",
    "#     world_size = int(world_size)\n",
    "# print(f\"WORLD_SIZE={world_size}\")\n",
    "\n",
    "# if utils.is_interactive():\n",
    "#     # Following allows you to change functions in models.py or utils.py and \n",
    "#     # have this notebook automatically update with your revisions\n",
    "#     %load_ext autoreload\n",
    "#     %autoreload 2\n",
    "\n",
    "# batch_size = probe_batch_size\n",
    "# num_epochs = probe_num_epochs\n",
    "\n",
    "# data_type = torch.float32 # change depending on your mixed_precision\n",
    "# global_batch_size = batch_size * world_size\n",
    "\n",
    "device = torch.device('cuda')\n",
    "\n",
    "# hcp_flat_path = \"/weka/proj-medarc/shared/HCP-Flat\"\n",
    "# seed = 42\n",
    "num_frames = 16\n",
    "gsr = False\n",
    "# num_workers = 5\n",
    "batch_size = 128\n",
    "# target = 'sex' # This can be 'trial_type' 'age' 'sex'\n",
    "\n",
    "print(\"PID of this process =\",os.getpid())"
   ]
  },
  {
   "cell_type": "code",
   "execution_count": 2,
   "id": "c2539698-5566-48cf-8022-90cb70d94f9f",
   "metadata": {},
   "outputs": [
    {
     "name": "stdout",
     "output_type": "stream",
     "text": [
      "model_name: NSDflat_large_gsrFalse_5sess_57734\n",
      "--hcp_flat_path=/weka/proj-medarc/shared/HCP-Flat                     --target=trial_type                     --model_name=NSDflat_large_gsrFalse_5sess_57734                     --batch_size=128                     --max_lr=1e-3 --num_epochs=40 --no-save_ckpt --no-wandb_log --num_workers=10                     --weight_decay=1e-5                     --parquet_folder=epoch99                     --outdir=/weka/proj-fmri/ckadirt/fMRI-foundation-model/src/checkpoints/NSDflat_large_gsrFalse_5sess_57734                     --global_pooling\n"
     ]
    }
   ],
   "source": [
    "# if running this interactively, can specify jupyter_args here for argparser to use\n",
    "if utils.is_interactive():\n",
    "    model_name = \"NSDflat_large_gsrFalse_5sess_57734\"\n",
    "    print(\"model_name:\", model_name)\n",
    "    outdir = os.path.abspath(f'checkpoints/{model_name}')\n",
    "    # global_batch_size and batch_size should already be defined in the 2nd cell block\n",
    "    jupyter_args = f\"--hcp_flat_path=/weka/proj-medarc/shared/HCP-Flat \\\n",
    "                    --target=trial_type \\\n",
    "                    --model_name={model_name} \\\n",
    "                    --batch_size={batch_size} \\\n",
    "                    --max_lr=1e-3 --num_epochs=40 --no-save_ckpt --no-wandb_log --num_workers=10 \\\n",
    "                    --weight_decay=1e-5 \\\n",
    "                    --parquet_folder=epoch99 \\\n",
    "                    --outdir={outdir} \\\n",
    "                    --global_pooling\"\n",
    "    # --multisubject_ckpt=../train_logs/multisubject_subj01_1024_24bs_nolow\n",
    "    # recommended max_lr on trial_type 9e-3, on age 1e-3, on sex 1e-3\n",
    "    print(jupyter_args)\n",
    "    jupyter_args = jupyter_args.split()\n",
    "    \n",
    "    from IPython.display import clear_output # function to clear print outputs in cell\n",
    "    %load_ext autoreload \n",
    "    # this allows you to change functions in models.py or utils.py and have this notebook automatically update with your revisions\n",
    "    %autoreload 2 "
   ]
  },
  {
   "cell_type": "code",
   "execution_count": 3,
   "id": "e3b9ee45-5409-4a03-b1a1-f59af40ccc79",
   "metadata": {},
   "outputs": [
    {
     "name": "stdout",
     "output_type": "stream",
     "text": [
      "------ ARGS ------- \n",
      " Namespace(model_name='NSDflat_large_gsrFalse_5sess_57734', hcp_flat_path='/weka/proj-medarc/shared/HCP-Flat', batch_size=128, wandb_log=False, num_epochs=40, lr_scheduler_type='cycle', save_ckpt=False, seed=42, max_lr=0.001, target='trial_type', num_workers=10, weight_decay=1e-05, parquet_folder='epoch99', outdir='/weka/proj-fmri/ckadirt/fMRI-foundation-model/src/checkpoints/NSDflat_large_gsrFalse_5sess_57734', global_pooling=True)\n"
     ]
    }
   ],
   "source": [
    "parser = argparse.ArgumentParser(description=\"Model Training Configuration\")\n",
    "parser.add_argument(\n",
    "    \"--model_name\", type=str, default=\"HCPflat_large_gsrFalse_\",\n",
    "    help=\"name of model, used for ckpt saving and wandb logging (if enabled)\",\n",
    ")\n",
    "parser.add_argument(\n",
    "    \"--hcp_flat_path\", type=str, default=os.getcwd(),\n",
    "    help=\"Path to where NSD data is stored / where to download it to\",\n",
    ")\n",
    "parser.add_argument(\n",
    "    \"--batch_size\", type=int, default=128,\n",
    "    help=\"Batch size can be increased by 10x if only training retreival submodule and not diffusion prior\",\n",
    ")\n",
    "parser.add_argument(\n",
    "    \"--wandb_log\",action=argparse.BooleanOptionalAction,default=False,\n",
    "    help=\"whether to log to wandb\",\n",
    ")\n",
    "parser.add_argument(\n",
    "    \"--num_epochs\",type=int,default=150,\n",
    "    help=\"number of epochs of training\",\n",
    ")\n",
    "parser.add_argument(\n",
    "    \"--lr_scheduler_type\",type=str,default='cycle',choices=['cycle','linear'],\n",
    ")\n",
    "parser.add_argument(\n",
    "    \"--save_ckpt\",action=argparse.BooleanOptionalAction,default=True,\n",
    ")\n",
    "parser.add_argument(\n",
    "    \"--seed\",type=int,default=42,\n",
    ")\n",
    "parser.add_argument(\n",
    "    \"--max_lr\",type=float,default=3e-4,\n",
    ")\n",
    "parser.add_argument(\n",
    "    \"--target\",type=str,default='trial_type',choices=['trial_type','sex','age'],\n",
    ")\n",
    "parser.add_argument(\n",
    "    \"--num_workers\",type=int,default=10,\n",
    ")\n",
    "parser.add_argument(\n",
    "    \"--weight_decay\",type=float,default=1e-5,\n",
    ")\n",
    "parser.add_argument(\n",
    "    \"--parquet_folder\",type=str,default='epoch99',\n",
    ")\n",
    "parser.add_argument(\n",
    "    \"--outdir\",type=str,default='./checkpoints/HCPflat_large_gsrFalse_/',\n",
    "    help=\"Path where the precomputed features are located\"\n",
    ")\n",
    "parser.add_argument(\n",
    "    \"--global_pooling\",action=argparse.BooleanOptionalAction,default=True,\n",
    ")\n",
    "\n",
    "if utils.is_interactive():\n",
    "    args = parser.parse_args(jupyter_args)\n",
    "else:\n",
    "    args = parser.parse_args()\n",
    "\n",
    "print(f\"------ ARGS ------- \\n {args}\")\n",
    "\n",
    "# create global variables without the args prefix\n",
    "for attribute_name in vars(args).keys():\n",
    "    globals()[attribute_name] = getattr(args, attribute_name)\n",
    "    \n",
    "# seed all random functions\n",
    "utils.seed_everything(seed)\n"
   ]
  },
  {
   "cell_type": "code",
   "execution_count": 4,
   "id": "fc00235a-a9e1-4dc4-8fd3-359c1d91bfc7",
   "metadata": {},
   "outputs": [],
   "source": [
    "#### UNCOMMENT THIS TO SAVE THE HCP-FLAT IN HDF5 FORMAT\n",
    "\n",
    "\n",
    "# from torch.utils.data import default_collate\n",
    "# from mae_utils.flat import load_hcp_flat_mask\n",
    "# from mae_utils.flat import create_hcp_flat\n",
    "# from mae_utils.flat import batch_unmask\n",
    "# import mae_utils.visualize as vis\n",
    "\n",
    "\n",
    "# batch_size = 26\n",
    "# print(f\"changed batch_size to {batch_size}\")\n",
    "\n",
    "# ## Test ##\n",
    "# datasets_to_include = \"HCP\"\n",
    "# assert \"HCP\" in datasets_to_include\n",
    "# test_dataset = create_hcp_flat(root=hcp_flat_path, \n",
    "#                 clip_mode=\"event\", frames=num_frames, shuffle=False, gsr=gsr, sub_list = 'test')\n",
    "# test_dl = wds.WebLoader(\n",
    "#     test_dataset.batched(batch_size, partial=False, collation_fn=default_collate),\n",
    "#     batch_size=None,\n",
    "#     shuffle=False,\n",
    "#     num_workers=num_workers,\n",
    "#     pin_memory=True,\n",
    "# )\n",
    "\n",
    "# ## Train ##\n",
    "# assert \"HCP\" in datasets_to_include\n",
    "# train_dataset = create_hcp_flat(root=hcp_flat_path, \n",
    "#                 clip_mode=\"event\", frames=num_frames, shuffle=False, gsr=gsr, sub_list = 'train')\n",
    "# train_dl = wds.WebLoader(\n",
    "#     train_dataset.batched(batch_size, partial=False, collation_fn=default_collate),\n",
    "#     batch_size=None,\n",
    "#     shuffle=False,\n",
    "#     num_workers=num_workers,\n",
    "#     pin_memory=True,\n",
    "# )\n",
    "\n",
    "# def flatten_meta(meta_dict):\n",
    "#     \"\"\"\n",
    "#     Flatten the meta dictionary by:\n",
    "#     - Replacing single-item lists with the item itself.\n",
    "#     - Converting tensors to scalar numbers.\n",
    "#     \"\"\"\n",
    "#     flattened = {}\n",
    "#     for key, value in meta_dict.items():\n",
    "#         if isinstance(value, list):\n",
    "#             if len(value) == 1:\n",
    "#                 flattened[key] = value[0]  # Replace list with its single item\n",
    "#             else:\n",
    "#                 flattened[key] = value  # Keep as is if multiple items\n",
    "#         elif isinstance(value, torch.Tensor):\n",
    "#             # Convert tensor to scalar\n",
    "#             if value.numel() == 1:\n",
    "#                 flattened[key] = value.item()\n",
    "#             else:\n",
    "#                 flattened[key] = value.tolist()  # Convert multi-element tensor to list\n",
    "#         else:\n",
    "#             flattened[key] = value  # Keep the value as is\n",
    "#     return flattened\n",
    "\n",
    "# import h5py\n",
    "# meta_array = np.array([], dtype=object)\n",
    "# # Open an HDF5 file in write mode\n",
    "# with h5py.File('train_hcp_raw_flatmaps.hdf5', 'w') as h5f:\n",
    "#     flatmaps_dset = None\n",
    "    \n",
    "#     total_samples = 0\n",
    "\n",
    "#     for i, batch in tqdm(enumerate(train_dl), total = 120000):\n",
    "#         images = batch['image'][0]\n",
    "#         meta = batch['meta']\n",
    "#         batch_size = images.shape[0]\n",
    "#         meta_serializable = meta.copy()\n",
    "        \n",
    "        \n",
    "#         # Step 2: Serialize the dictionary to a JSON string\n",
    "#         meta_str = json.dumps(flatten_meta(meta_serializable), indent=4)\n",
    "#         meta_array = np.append(meta_array, meta_str)\n",
    "#         if flatmaps_dset is None:\n",
    "#             # Initialize datasets with unlimited (None) maxshape along the first axis\n",
    "#             flatmaps_shape = (0,) + images.shape[1:]\n",
    "#             flatmaps_maxshape = (None,) + images.shape[1:]\n",
    "\n",
    "#             flatmaps_dset = h5f.create_dataset(\n",
    "#                 'flatmaps',\n",
    "#                 shape=flatmaps_shape,\n",
    "#                 maxshape=flatmaps_maxshape,\n",
    "#                 dtype=np.float16,\n",
    "#                 chunks=True  # Enable chunking for efficient resizing\n",
    "#             )\n",
    "\n",
    "#         # Resize datasets to accommodate new data\n",
    "#         flatmaps_dset.resize(total_samples + batch_size, axis=0)\n",
    "\n",
    "#         # Write data to the datasets\n",
    "#         flatmaps_dset[total_samples:total_samples + batch_size] = images.numpy().astype(np.float16)\n",
    "\n",
    "#         total_samples += batch_size\n",
    "        \n",
    "#     print(f\"Processed {total_samples} samples\")\n",
    "# np.save('metadata_test_HCP_raw_flatmaps.npy', meta_array)\n",
    "\n",
    "\n",
    "# import h5py\n",
    "# meta_array = np.array([], dtype=object)\n",
    "# # Open an HDF5 file in write mode\n",
    "# with h5py.File('test_hcp_raw_flatmaps.hdf5', 'w') as h5f:\n",
    "#     flatmaps_dset = None\n",
    "    \n",
    "#     total_samples = 0\n",
    "\n",
    "#     for i, batch in tqdm(enumerate(test_dl), total = 12000):\n",
    "#         images = batch['image'][0]\n",
    "#         meta = batch['meta']\n",
    "#         batch_size = images.shape[0]\n",
    "#         meta_serializable = meta.copy()\n",
    "        \n",
    "        \n",
    "#         # Step 2: Serialize the dictionary to a JSON string\n",
    "#         meta_str = json.dumps(flatten_meta(meta_serializable), indent=4)\n",
    "#         meta_array = np.append(meta_array, meta_str)\n",
    "#         if flatmaps_dset is None:\n",
    "#             # Initialize datasets with unlimited (None) maxshape along the first axis\n",
    "#             flatmaps_shape = (0,) + images.shape[1:]\n",
    "#             flatmaps_maxshape = (None,) + images.shape[1:]\n",
    "\n",
    "#             flatmaps_dset = h5f.create_dataset(\n",
    "#                 'flatmaps',\n",
    "#                 shape=flatmaps_shape,\n",
    "#                 maxshape=flatmaps_maxshape,\n",
    "#                 dtype=np.float16,\n",
    "#                 chunks=True  # Enable chunking for efficient resizing\n",
    "#             )\n",
    "\n",
    "#         # Resize datasets to accommodate new data\n",
    "#         flatmaps_dset.resize(total_samples + batch_size, axis=0)\n",
    "\n",
    "#         # Write data to the datasets\n",
    "#         flatmaps_dset[total_samples:total_samples + batch_size] = images.numpy().astype(np.float16)\n",
    "\n",
    "#         total_samples += batch_size\n",
    "        \n",
    "#     print(f\"Processed {total_samples} samples\")\n",
    "# np.save('metadata_train_HCP_raw_flatmaps.npy', meta_array)"
   ]
  },
  {
   "cell_type": "markdown",
   "id": "98629867-6d64-45ef-823d-5f4fdb279ec7",
   "metadata": {},
   "source": [
    "### Data"
   ]
  },
  {
   "cell_type": "code",
   "execution_count": 5,
   "id": "6e66e2c0-6a73-42d7-8414-3b8acafdb0f4",
   "metadata": {},
   "outputs": [],
   "source": [
    "# f_train = h5py.File('/weka/proj-fmri/ckadirt/fMRI-foundation-model/src/train_hcp_raw_flatmaps.hdf5', 'r')\n",
    "# flatmaps_train = f_train['flatmaps']\n",
    "\n",
    "# f_test = h5py.File('/weka/proj-fmri/ckadirt/fMRI-foundation-model/src/test_hcp_raw_flatmaps.hdf5', 'r')\n",
    "# flatmaps_test = f_test['flatmaps']\n",
    "\n",
    "# metadata_train = np.load('/weka/proj-fmri/ckadirt/fMRI-foundation-model/src/metadata_train_HCP_raw_flatmaps.npy', allow_pickle=True)\n",
    "# metadata_test = np.load('/weka/proj-fmri/ckadirt/fMRI-foundation-model/src/metadata_test_HCP_raw_flatmaps.npy', allow_pickle=True)\n",
    "\n",
    "train_features = pd.read_parquet(f\"{outdir}_gp{str(global_pooling)}/{parquet_folder}/HCP/train.parquet\")\n",
    "test_features = pd.read_parquet(f\"{outdir}_gp{str(global_pooling)}/{parquet_folder}/HCP/test.parquet\")"
   ]
  },
  {
   "cell_type": "markdown",
   "id": "a368c4fa-f2f3-4997-8ea4-ae6542efc32c",
   "metadata": {},
   "source": [
    "### Create the dataloader"
   ]
  },
  {
   "cell_type": "code",
   "execution_count": 6,
   "id": "b52b668f-c143-40fe-b3d4-c21c7a406d0d",
   "metadata": {},
   "outputs": [],
   "source": [
    "from torch.utils.data import Dataset, DataLoader\n",
    "\n",
    "class HCPFlatDataset(Dataset):\n",
    "    def __init__(self, parquet_data):\n",
    "        self.parquet_data = parquet_data\n",
    "\n",
    "    def __len__(self):\n",
    "        return len(self.parquet_data)\n",
    "\n",
    "    def __getitem__(self, idx):\n",
    "        c_feature = torch.Tensor(self.parquet_data.iloc[idx]['feature'])\n",
    "        c_sub = self.parquet_data.iloc[idx]['sub'][0]\n",
    "        c_trial_type = self.parquet_data.iloc[idx]['trial_type'][0]\n",
    "        return c_feature, c_trial_type, c_sub\n",
    "\n",
    "# Loading to cpu for faster training, this can take several minutes.  Remove this [:] if you want to move one at the time.\n",
    "train_dataset = HCPFlatDataset(train_features)\n",
    "train_dl = DataLoader(train_dataset, batch_size=batch_size, shuffle=True, num_workers=0)\n",
    "\n",
    "test_dataset = HCPFlatDataset(test_features)\n",
    "test_dl = DataLoader(test_dataset, batch_size=batch_size, shuffle=False, num_workers=0)\n"
   ]
  },
  {
   "cell_type": "code",
   "execution_count": 7,
   "id": "397b02db-4007-4119-b3e5-93c657a27953",
   "metadata": {},
   "outputs": [],
   "source": [
    "# for a in test_dl:\n",
    "#     print(a[0], a[1], a[2])\n",
    "#     break"
   ]
  },
  {
   "cell_type": "markdown",
   "id": "247a9b16-3c06-4c40-8c81-5b6169ef166e",
   "metadata": {},
   "source": [
    "### Load subject information"
   ]
  },
  {
   "cell_type": "code",
   "execution_count": 8,
   "id": "a7d8760b-2e62-4ba5-ae34-b42376ad0eaf",
   "metadata": {},
   "outputs": [],
   "source": [
    "# open the file containing subject information\n",
    "if target == \"age\" or target == \"sex\":\n",
    "    subject_information_HCP_path = os.path.join(hcp_flat_path, \"subjects_data_restricted.csv\")\n",
    "    try:\n",
    "        subject_information_HCP = pd.read_csv(subject_information_HCP_path)\n",
    "    except:\n",
    "        try:\n",
    "            subject_information_HCP = pd.read_csv('./unrestricted_clane9_4_23_2024_13_28_14.csv')   \n",
    "        except:\n",
    "            assert False, \"Subject information file not found\"\n",
    "\n",
    "    ###### This is for unrestricted\n",
    "    # age_related_columns = [\n",
    "    #     'Age', 'PicSeq_AgeAdj', 'CardSort_AgeAdj', 'Flanker_AgeAdj',\n",
    "    #     'ReadEng_AgeAdj', 'PicVocab_AgeAdj', 'ProcSpeed_AgeAdj',\n",
    "    #     'CogFluidComp_AgeAdj', 'CogEarlyComp_AgeAdj', 'CogTotalComp_AgeAdj',\n",
    "    #     'CogCrystalComp_AgeAdj', 'Endurance_AgeAdj', 'Dexterity_AgeAdj',\n",
    "    #     'Strength_AgeAdj', 'Odor_AgeAdj', 'Taste_AgeAdj'\n",
    "    # ]\n",
    "    \n",
    "    # sex_related_columns = [\n",
    "    #     'Gender'\n",
    "    # ]\n",
    "\n",
    "    ###### This is for restricted\n",
    "    gender_related_columns = [\n",
    "        'Gender'\n",
    "    ]\n",
    "\n",
    "    age_related_columns = [\n",
    "        'Age_in_Yrs',\n",
    "        'Menstrual_AgeBegan',\n",
    "        'Menstrual_AgeIrreg',\n",
    "        'Menstrual_AgeStop',\n",
    "        'SSAGA_Alc_Age_1st_Use',\n",
    "        'SSAGA_TB_Age_1st_Cig',\n",
    "        'SSAGA_Mj_Age_1st_Use',\n",
    "        'Endurance_AgeAdj',\n",
    "        'Dexterity_AgeAdj',\n",
    "        'Strength_AgeAdj',\n",
    "        'PicSeq_AgeAdj',\n",
    "        'CardSort_AgeAdj',\n",
    "        'Flanker_AgeAdj',\n",
    "        'ReadEng_AgeAdj',\n",
    "        'PicVocab_AgeAdj',\n",
    "        'ProcSpeed_AgeAdj',\n",
    "        'Odor_AgeAdj',\n",
    "        'Taste_AgeAdj'\n",
    "    ]\n",
    "\n",
    "    # # show the first few rows of the subject information\n",
    "    # subject_information_HCP[age_related_columns + sex_related_columns].head()\n",
    "\n",
    "    # Handle missing values (e.g., impute with mean)\n",
    "    mean_age = subject_information_HCP['Age_in_Yrs'].mean()\n",
    "    \n",
    "    # Initialize the scaler\n",
    "    scaler = StandardScaler()\n",
    "    \n",
    "    # Perform z-score normalization\n",
    "    subject_information_HCP['Age_in_Yrs_z'] = scaler.fit_transform(subject_information_HCP[['Age_in_Yrs']])\n",
    "\n",
    "\n",
    "    \n",
    "def get_label_unrestricted(subject_id: List[str], target: str, method_for_age: str = 'mean') -> List:\n",
    "    \"\"\"\n",
    "    Get the label for the given subject id and target.\n",
    "\n",
    "    For sex 0 is F and 1 is M\n",
    "    \"\"\"\n",
    "\n",
    "    # convert to list of ints\n",
    "    subject_id = [int(x) for x in subject_id]\n",
    "\n",
    "    if target == \"age\":\n",
    "        age_array = []\n",
    "        for subject in subject_id:\n",
    "            c_age = subject_information_HCP[subject_information_HCP['Subject'] == subject]['Age'].values\n",
    "            # if the subject is not in the subject information file trigger an error\n",
    "            if len(c_age) == 0:\n",
    "                assert False, f\"Subject {subject} not found in subject information file\"\n",
    "            if len(c_age) > 1:\n",
    "                print(f\"Warning: Multiple entries for subject {subject}\")\n",
    "\n",
    "            c_age = c_age[0].split('-')\n",
    "            if len(c_age) < 2:\n",
    "                c_age = c_age[0].split('+')\n",
    "                age_array.append(int(c_age[0]))\n",
    "            else:\n",
    "                if method_for_age == 'mean':\n",
    "                    age_array.append(np.mean([int(x) for x in c_age]))\n",
    "                elif method_for_age == 'min':\n",
    "                    age_array.append(np.min([int(x) for x in c_age]))\n",
    "                elif method_for_age == 'max':\n",
    "                    age_array.append(np.max([int(x) for x in c_age]))\n",
    "                else:\n",
    "                    assert False, f\"Method {method_for_age} not recognized\"\n",
    "\n",
    "        return np.array(age_array)  \n",
    "    \n",
    "    elif target == 'sex':\n",
    "        sex_array = []\n",
    "        for subject in subject_id:\n",
    "            c_sex = subject_information_HCP[subject_information_HCP['Subject'] == subject]['Gender'].values\n",
    "            # if the subject is not in the subject information file trigger an error\n",
    "            if len(c_sex) == 0:\n",
    "                assert False, f\"Subject {subject} not found in subject information file\"\n",
    "            if len(c_sex) > 1:\n",
    "                print(f\"Warning: Multiple entries for subject {subject}\")\n",
    "            sex_array.append(int(c_sex[0] == 'M'))\n",
    "        return sex_array\n",
    "\n",
    "def get_label_restricted(subject_id: List[str], target: str, normalized: bool = True) -> List:\n",
    "    \"\"\"\n",
    "    Get the label for the given subject id and target.\n",
    "\n",
    "    For sex 0 is F and 1 is M\n",
    "    \"\"\"\n",
    "\n",
    "    # convert to list of ints\n",
    "    subject_id = [int(x) for x in subject_id]\n",
    "\n",
    "    if target == \"age\":\n",
    "        age_array = []\n",
    "        for subject in subject_id:\n",
    "            c_age = subject_information_HCP[subject_information_HCP['Subject'] == subject]['Age_in_Yrs' if not normalized else 'Age_in_Yrs_z'].values\n",
    "            # if the subject is not in the subject information file trigger an error\n",
    "            if len(c_age) == 0:\n",
    "                assert False, f\"Subject {subject} not found in subject information file\"\n",
    "            if len(c_age) > 1:\n",
    "                print(f\"Warning: Multiple entries for subject {subject}\")\n",
    "\n",
    "            age_array.append(np.int8(c_age[0]))\n",
    "\n",
    "        return np.array(age_array)  \n",
    "    \n",
    "    elif target == 'sex':\n",
    "        sex_array = []\n",
    "        for subject in subject_id:\n",
    "            c_sex = subject_information_HCP[subject_information_HCP['Subject'] == subject]['Gender'].values\n",
    "            # if the subject is not in the subject information file trigger an error\n",
    "            if len(c_sex) == 0:\n",
    "                assert False, f\"Subject {subject} not found in subject information file\"\n",
    "            if len(c_sex) > 1:\n",
    "                print(f\"Warning: Multiple entries for subject {subject}\")\n",
    "            sex_array.append(int(c_sex[0] == 'M'))\n",
    "        return sex_array"
   ]
  },
  {
   "cell_type": "code",
   "execution_count": 9,
   "id": "40f04009-13f1-473d-9808-181a46d3e97e",
   "metadata": {},
   "outputs": [
    {
     "name": "stdout",
     "output_type": "stream",
     "text": [
      "Number of classes: 21\n"
     ]
    }
   ],
   "source": [
    "from sklearn.preprocessing import LabelEncoder\n",
    "\n",
    "if target == \"trial_type\":\n",
    "    \n",
    "    INCLUDE_CONDS = {\n",
    "        \"fear\",\n",
    "        \"neut\",\n",
    "        \"math\",\n",
    "        \"story\",\n",
    "        \"lf\",\n",
    "        \"lh\",\n",
    "        \"rf\",\n",
    "        \"rh\",\n",
    "        \"t\",\n",
    "        \"match\",\n",
    "        \"relation\",\n",
    "        \"mental\",\n",
    "        \"rnd\",\n",
    "        \"0bk_body\",\n",
    "        \"2bk_body\",\n",
    "        \"0bk_faces\",\n",
    "        \"2bk_faces\",\n",
    "        \"0bk_places\",\n",
    "        \"2bk_places\",\n",
    "        \"0bk_tools\",\n",
    "        \"2bk_tools\",\n",
    "    }\n",
    "\n",
    "    # test_data = []\n",
    "\n",
    "    # # Iterate over the DataLoader with a progress bar\n",
    "    # for sample in tqdm(train_dl, desc=\"Processing samples\"):\n",
    "    #     x = sample['image']\n",
    "    #     y = sample['meta']['trial_type']\n",
    "    #     key = sample['meta']['key']\n",
    "    #     print(x.shape, y, key)\n",
    "    #     break\n",
    "    # Initialize the label encoder\n",
    "    label_encoder = LabelEncoder()\n",
    "    label_encoder.fit(sorted(INCLUDE_CONDS))  # Ensure consistent ordering\n",
    "\n",
    "    num_classes = len(label_encoder.classes_)\n",
    "    print(f\"Number of classes: {num_classes}\")"
   ]
  },
  {
   "cell_type": "code",
   "execution_count": 10,
   "id": "592b3cd3-6232-4cff-8d90-9034067b3ab9",
   "metadata": {},
   "outputs": [],
   "source": [
    "# for sample in tqdm(train_dl):\n",
    "#     x = sample[0]\n",
    "#     subject_id = sample[1]['sub']\n",
    "\n",
    "#     # benchmark time\n",
    "#     start = time.time()\n",
    "#     y = get_label(subject_id, 'age')\n",
    "#     end = time.time()\n",
    "#     print(f\"Time taken: {end - start}\")\n",
    "#     print(x.shape, y, subject_id, torch.Tensor(y).shape)\n",
    "#     break"
   ]
  },
  {
   "cell_type": "markdown",
   "id": "bb2d7e4f-eb34-498b-bbc6-127eb4a7bdc8",
   "metadata": {},
   "source": [
    "### Create pytorch model"
   ]
  },
  {
   "cell_type": "code",
   "execution_count": 11,
   "id": "1a2c6527-fa75-42ba-be43-3d753ed8100c",
   "metadata": {},
   "outputs": [
    {
     "name": "stdout",
     "output_type": "stream",
     "text": [
      "Input dimension: 1024\n"
     ]
    }
   ],
   "source": [
    "class LinearClassifier(nn.Module):\n",
    "    def __init__(self, input_dim, num_classes):\n",
    "        super(LinearClassifier, self).__init__()\n",
    "        self.linear = nn.Linear(input_dim, num_classes)\n",
    "        \n",
    "    def forward(self, x):\n",
    "        # Flatten the input except for the batch dimension\n",
    "        x = x.view(x.size(0), -1)\n",
    "        out = self.linear(x)\n",
    "        return out  # Raw logits\n",
    "\n",
    "# Determine the input dimension from a single sample\n",
    "# Assuming images are of shape [1, 16, 144, 320]\n",
    "sample_batch = next(iter(train_dl))\n",
    "sample_image = sample_batch[0][0]  # Shape: [1, 16, 144, 320]\n",
    "input_dim = sample_image.view(-1).size(0)\n",
    "print(f\"Input dimension: {input_dim}\")\n"
   ]
  },
  {
   "cell_type": "code",
   "execution_count": 12,
   "id": "b8983a0b-c810-4424-8c31-32b9921ebd9c",
   "metadata": {},
   "outputs": [
    {
     "name": "stdout",
     "output_type": "stream",
     "text": [
      "total_steps 27440\n"
     ]
    }
   ],
   "source": [
    "# Initialize the model\n",
    "\n",
    "if target == \"trial_type\":\n",
    "    model = LinearClassifier(input_dim=input_dim, num_classes=num_classes)\n",
    "    criterion = nn.CrossEntropyLoss()\n",
    "\n",
    "elif target == \"age\":\n",
    "    model = LinearClassifier(input_dim=input_dim, num_classes=1)\n",
    "    criterion = nn.MSELoss()\n",
    "\n",
    "elif target == \"sex\":\n",
    "    model = LinearClassifier(input_dim=input_dim, num_classes=1)\n",
    "    criterion = nn.BCEWithLogitsLoss()\n",
    "\n",
    "# Move the model to GPU if available\n",
    "device = torch.device('cuda' if torch.cuda.is_available() else 'cpu')\n",
    "model.to(device)\n",
    "\n",
    "# import schedulefree\n",
    "# optimizer = schedulefree.AdamWScheduleFree(model.parameters(), lr=learning_rate, weight_decay=weight_decay)\n",
    "optimizer = torch.optim.AdamW(model.parameters(), lr=max_lr, weight_decay=weight_decay)\n",
    "\n",
    "num_iterations_per_epoch = math.ceil(train_features.shape[0]/batch_size)\n",
    "\n",
    "if lr_scheduler_type == 'linear':\n",
    "    lr_scheduler = torch.optim.lr_scheduler.LinearLR(\n",
    "        optimizer,\n",
    "        total_iters=int(np.floor(num_epochs*num_iterations_per_epoch)),\n",
    "        last_epoch=-1\n",
    "    )\n",
    "elif lr_scheduler_type == 'cycle':\n",
    "    total_steps=int(np.floor(num_epochs*num_iterations_per_epoch))\n",
    "    print(\"total_steps\", total_steps)\n",
    "    lr_scheduler = torch.optim.lr_scheduler.OneCycleLR(\n",
    "        optimizer, \n",
    "        max_lr=max_lr,\n",
    "        total_steps=total_steps,\n",
    "        final_div_factor=1000,\n",
    "        last_epoch=-1, pct_start=2/num_epochs\n",
    "    )\n"
   ]
  },
  {
   "cell_type": "markdown",
   "id": "6b205b2c-730c-4d9e-89b7-c28031de78a7",
   "metadata": {},
   "source": [
    "### Wandb logging"
   ]
  },
  {
   "cell_type": "code",
   "execution_count": 13,
   "id": "63ce8f26-a1b9-4e29-badc-7b9b30d0d3b3",
   "metadata": {},
   "outputs": [
    {
     "name": "stdout",
     "output_type": "stream",
     "text": [
      "Running in interactive notebook. Disabling W&B and ckpt saving.\n"
     ]
    }
   ],
   "source": [
    "import wandb\n",
    "import uuid\n",
    "\n",
    "myuuid = uuid.uuid4()\n",
    "str(myuuid)\n",
    "if utils.is_interactive():\n",
    "    print(\"Running in interactive notebook. Disabling W&B and ckpt saving.\")\n",
    "    wandb_log = False\n",
    "    save_ckpt = False\n",
    "\n",
    "if wandb_log:\n",
    "    wandb_project = 'fMRI-foundation-model'\n",
    "    wandb_config = {\n",
    "        \"model_name\": f\"HCPflat_raw_{target}\",\n",
    "        \"batch_size\": batch_size,\n",
    "        \"weight_decay\": weight_decay,\n",
    "        \"num_epochs\": num_epochs,\n",
    "        \"seed\": seed,\n",
    "        \"lr_scheduler_type\": lr_scheduler_type,\n",
    "        \"save_ckpt\": save_ckpt,\n",
    "        \"seed\": seed,\n",
    "        \"max_lr\": max_lr,\n",
    "        \"target\": target,\n",
    "        \"num_workers\": num_workers,\n",
    "        \"weight_decay\": weight_decay\n",
    "    }\n",
    "    print(\"wandb_config:\\n\", wandb_config)\n",
    "    random_id = random.randint(0, 100000)\n",
    "    wandb_id = \"HCPflat_raw\" + f\"_{model_suffix}_{target}_{myuuid}\"\n",
    "    print(\"wandb_id:\", wandb_id)\n",
    "    wandb.init(\n",
    "        id=wandb_id,\n",
    "        project=wandb_project,\n",
    "        name=\"HCPflat_raw\"+ f\"_{model_suffix}_{target}\",\n",
    "        config=wandb_config,\n",
    "        resume=\"allow\",\n",
    "    )"
   ]
  },
  {
   "cell_type": "markdown",
   "id": "b7d87e5c-94fc-4528-b2eb-65ef59c79634",
   "metadata": {},
   "source": [
    "### Training loop"
   ]
  },
  {
   "cell_type": "code",
   "execution_count": 14,
   "id": "f43535f4-0f6e-4655-b4f0-926416685358",
   "metadata": {},
   "outputs": [
    {
     "data": {
      "application/vnd.jupyter.widget-view+json": {
       "model_id": "cba32fa28a084aa5a48180cbfaba13ce",
       "version_major": 2,
       "version_minor": 0
      },
      "text/plain": [
       "Epoch 1/40 - Training:   0%|          | 0/686 [00:00<?, ?it/s]"
      ]
     },
     "metadata": {},
     "output_type": "display_data"
    },
    {
     "name": "stdout",
     "output_type": "stream",
     "text": [
      "Step [100/686] - Training Loss: 2.7016 - Training Accuracy: 13.76%\n",
      "Step [200/686] - Training Loss: 2.6310 - Training Accuracy: 15.51%\n",
      "Step [300/686] - Training Loss: 2.6203 - Training Accuracy: 18.09%\n",
      "Step [400/686] - Training Loss: 2.4680 - Training Accuracy: 20.80%\n",
      "Step [500/686] - Training Loss: 2.1677 - Training Accuracy: 23.54%\n",
      "Step [600/686] - Training Loss: 2.0576 - Training Accuracy: 26.01%\n"
     ]
    },
    {
     "data": {
      "application/vnd.jupyter.widget-view+json": {
       "model_id": "e53a815151ef45faba45e805ea8f8691",
       "version_major": 2,
       "version_minor": 0
      },
      "text/plain": [
       "Epoch 1/40 - Validation:   0%|          | 0/75 [00:00<?, ?it/s]"
      ]
     },
     "metadata": {},
     "output_type": "display_data"
    },
    {
     "name": "stderr",
     "output_type": "stream",
     "text": [
      "/tmp/ipykernel_1528545/2834989338.py:11: UserWarning: The given NumPy array is not writable, and PyTorch does not support non-writable tensors. This means writing to this tensor will result in undefined behavior. You may want to copy the array to protect its data or make it writable before converting it to a tensor. This type of warning will be suppressed for the rest of this program. (Triggered internally at ../torch/csrc/utils/tensor_numpy.cpp:206.)\n",
      "  c_feature = torch.Tensor(self.parquet_data.iloc[idx]['feature'])\n"
     ]
    },
    {
     "name": "stdout",
     "output_type": "stream",
     "text": [
      "Epoch [1/40] - Training Loss: 2.5084, Training Accuracy: 28.02% - Validation Loss: 2.0204, Validation Accuracy: 45.51%\n"
     ]
    },
    {
     "data": {
      "application/vnd.jupyter.widget-view+json": {
       "model_id": "582f4bbf178b4586891b1d03d0bbc71e",
       "version_major": 2,
       "version_minor": 0
      },
      "text/plain": [
       "Epoch 2/40 - Training:   0%|          | 0/686 [00:00<?, ?it/s]"
      ]
     },
     "metadata": {},
     "output_type": "display_data"
    },
    {
     "name": "stdout",
     "output_type": "stream",
     "text": [
      "Step [100/686] - Training Loss: 1.7735 - Training Accuracy: 45.51%\n",
      "Step [200/686] - Training Loss: 1.7895 - Training Accuracy: 47.44%\n",
      "Step [300/686] - Training Loss: 1.6624 - Training Accuracy: 48.86%\n",
      "Step [400/686] - Training Loss: 1.5297 - Training Accuracy: 50.10%\n",
      "Step [500/686] - Training Loss: 1.4417 - Training Accuracy: 51.42%\n",
      "Step [600/686] - Training Loss: 1.5057 - Training Accuracy: 52.51%\n"
     ]
    },
    {
     "data": {
      "application/vnd.jupyter.widget-view+json": {
       "model_id": "5df486845ec243f0ab5538d52392f2d9",
       "version_major": 2,
       "version_minor": 0
      },
      "text/plain": [
       "Epoch 2/40 - Validation:   0%|          | 0/75 [00:00<?, ?it/s]"
      ]
     },
     "metadata": {},
     "output_type": "display_data"
    },
    {
     "name": "stdout",
     "output_type": "stream",
     "text": [
      "Epoch [2/40] - Training Loss: 1.6540, Training Accuracy: 53.28% - Validation Loss: 1.4284, Validation Accuracy: 58.40%\n"
     ]
    },
    {
     "data": {
      "application/vnd.jupyter.widget-view+json": {
       "model_id": "c67513af8b0e414eabfe9f6089b0238b",
       "version_major": 2,
       "version_minor": 0
      },
      "text/plain": [
       "Epoch 3/40 - Training:   0%|          | 0/686 [00:00<?, ?it/s]"
      ]
     },
     "metadata": {},
     "output_type": "display_data"
    },
    {
     "name": "stdout",
     "output_type": "stream",
     "text": [
      "Step [100/686] - Training Loss: 1.3333 - Training Accuracy: 61.30%\n",
      "Step [200/686] - Training Loss: 1.4868 - Training Accuracy: 61.65%\n",
      "Step [300/686] - Training Loss: 1.2865 - Training Accuracy: 62.15%\n",
      "Step [400/686] - Training Loss: 1.1577 - Training Accuracy: 62.70%\n",
      "Step [500/686] - Training Loss: 1.1574 - Training Accuracy: 63.01%\n",
      "Step [600/686] - Training Loss: 1.2670 - Training Accuracy: 63.36%\n"
     ]
    },
    {
     "data": {
      "application/vnd.jupyter.widget-view+json": {
       "model_id": "8c3e230973f04ff0b80101bd0260784b",
       "version_major": 2,
       "version_minor": 0
      },
      "text/plain": [
       "Epoch 3/40 - Validation:   0%|          | 0/75 [00:00<?, ?it/s]"
      ]
     },
     "metadata": {},
     "output_type": "display_data"
    },
    {
     "name": "stdout",
     "output_type": "stream",
     "text": [
      "Epoch [3/40] - Training Loss: 1.2743, Training Accuracy: 63.60% - Validation Loss: 1.1941, Validation Accuracy: 65.11%\n"
     ]
    },
    {
     "data": {
      "application/vnd.jupyter.widget-view+json": {
       "model_id": "ae67a78ccd8841d08909b4bd4afb32b5",
       "version_major": 2,
       "version_minor": 0
      },
      "text/plain": [
       "Epoch 4/40 - Training:   0%|          | 0/686 [00:00<?, ?it/s]"
      ]
     },
     "metadata": {},
     "output_type": "display_data"
    },
    {
     "name": "stdout",
     "output_type": "stream",
     "text": [
      "Step [100/686] - Training Loss: 1.2009 - Training Accuracy: 65.73%\n",
      "Step [200/686] - Training Loss: 1.0874 - Training Accuracy: 66.19%\n",
      "Step [300/686] - Training Loss: 1.1425 - Training Accuracy: 66.64%\n",
      "Step [400/686] - Training Loss: 1.0273 - Training Accuracy: 67.08%\n",
      "Step [500/686] - Training Loss: 1.0646 - Training Accuracy: 67.26%\n",
      "Step [600/686] - Training Loss: 1.0992 - Training Accuracy: 67.46%\n"
     ]
    },
    {
     "data": {
      "application/vnd.jupyter.widget-view+json": {
       "model_id": "7062d36f00ab477785185d9898f34b11",
       "version_major": 2,
       "version_minor": 0
      },
      "text/plain": [
       "Epoch 4/40 - Validation:   0%|          | 0/75 [00:00<?, ?it/s]"
      ]
     },
     "metadata": {},
     "output_type": "display_data"
    },
    {
     "name": "stdout",
     "output_type": "stream",
     "text": [
      "Epoch [4/40] - Training Loss: 1.1142, Training Accuracy: 67.66% - Validation Loss: 1.0786, Validation Accuracy: 68.33%\n"
     ]
    },
    {
     "data": {
      "application/vnd.jupyter.widget-view+json": {
       "model_id": "4467f8c2629140d68fccfaffba77737f",
       "version_major": 2,
       "version_minor": 0
      },
      "text/plain": [
       "Epoch 5/40 - Training:   0%|          | 0/686 [00:00<?, ?it/s]"
      ]
     },
     "metadata": {},
     "output_type": "display_data"
    },
    {
     "name": "stdout",
     "output_type": "stream",
     "text": [
      "Step [100/686] - Training Loss: 1.0663 - Training Accuracy: 69.30%\n",
      "Step [200/686] - Training Loss: 0.8630 - Training Accuracy: 69.31%\n",
      "Step [300/686] - Training Loss: 0.8572 - Training Accuracy: 69.63%\n",
      "Step [400/686] - Training Loss: 1.0679 - Training Accuracy: 70.01%\n",
      "Step [500/686] - Training Loss: 1.0208 - Training Accuracy: 70.17%\n",
      "Step [600/686] - Training Loss: 0.9717 - Training Accuracy: 70.23%\n"
     ]
    },
    {
     "data": {
      "application/vnd.jupyter.widget-view+json": {
       "model_id": "cffbbbf4e4d947ce895302cd51359816",
       "version_major": 2,
       "version_minor": 0
      },
      "text/plain": [
       "Epoch 5/40 - Validation:   0%|          | 0/75 [00:00<?, ?it/s]"
      ]
     },
     "metadata": {},
     "output_type": "display_data"
    },
    {
     "name": "stdout",
     "output_type": "stream",
     "text": [
      "Epoch [5/40] - Training Loss: 1.0180, Training Accuracy: 70.38% - Validation Loss: 0.9944, Validation Accuracy: 71.45%\n"
     ]
    },
    {
     "data": {
      "application/vnd.jupyter.widget-view+json": {
       "model_id": "e5d5e4fea8c642eab6b7effafe597059",
       "version_major": 2,
       "version_minor": 0
      },
      "text/plain": [
       "Epoch 6/40 - Training:   0%|          | 0/686 [00:00<?, ?it/s]"
      ]
     },
     "metadata": {},
     "output_type": "display_data"
    },
    {
     "name": "stdout",
     "output_type": "stream",
     "text": [
      "Step [100/686] - Training Loss: 0.9781 - Training Accuracy: 71.37%\n",
      "Step [200/686] - Training Loss: 0.9345 - Training Accuracy: 71.47%\n",
      "Step [300/686] - Training Loss: 1.0475 - Training Accuracy: 71.57%\n",
      "Step [400/686] - Training Loss: 0.9181 - Training Accuracy: 71.65%\n",
      "Step [500/686] - Training Loss: 0.8760 - Training Accuracy: 71.75%\n",
      "Step [600/686] - Training Loss: 0.8472 - Training Accuracy: 71.98%\n"
     ]
    },
    {
     "data": {
      "application/vnd.jupyter.widget-view+json": {
       "model_id": "6e6c95c3914044799385c7074171de63",
       "version_major": 2,
       "version_minor": 0
      },
      "text/plain": [
       "Epoch 6/40 - Validation:   0%|          | 0/75 [00:00<?, ?it/s]"
      ]
     },
     "metadata": {},
     "output_type": "display_data"
    },
    {
     "name": "stdout",
     "output_type": "stream",
     "text": [
      "Epoch [6/40] - Training Loss: 0.9544, Training Accuracy: 72.03% - Validation Loss: 0.9566, Validation Accuracy: 71.24%\n"
     ]
    },
    {
     "data": {
      "application/vnd.jupyter.widget-view+json": {
       "model_id": "6955916347d44dea848212a2ca39de25",
       "version_major": 2,
       "version_minor": 0
      },
      "text/plain": [
       "Epoch 7/40 - Training:   0%|          | 0/686 [00:00<?, ?it/s]"
      ]
     },
     "metadata": {},
     "output_type": "display_data"
    },
    {
     "name": "stdout",
     "output_type": "stream",
     "text": [
      "Step [100/686] - Training Loss: 0.9876 - Training Accuracy: 72.78%\n",
      "Step [200/686] - Training Loss: 1.0164 - Training Accuracy: 72.68%\n",
      "Step [300/686] - Training Loss: 0.9242 - Training Accuracy: 72.86%\n",
      "Step [400/686] - Training Loss: 0.8587 - Training Accuracy: 72.97%\n",
      "Step [500/686] - Training Loss: 0.9321 - Training Accuracy: 73.22%\n",
      "Step [600/686] - Training Loss: 0.7263 - Training Accuracy: 73.25%\n"
     ]
    },
    {
     "data": {
      "application/vnd.jupyter.widget-view+json": {
       "model_id": "3ba369929d4545b3980bd22db5fbac8e",
       "version_major": 2,
       "version_minor": 0
      },
      "text/plain": [
       "Epoch 7/40 - Validation:   0%|          | 0/75 [00:00<?, ?it/s]"
      ]
     },
     "metadata": {},
     "output_type": "display_data"
    },
    {
     "name": "stdout",
     "output_type": "stream",
     "text": [
      "Epoch [7/40] - Training Loss: 0.9050, Training Accuracy: 73.36% - Validation Loss: 0.9069, Validation Accuracy: 72.89%\n"
     ]
    },
    {
     "data": {
      "application/vnd.jupyter.widget-view+json": {
       "model_id": "a271cebb17e1411ea9d78c59db7a1663",
       "version_major": 2,
       "version_minor": 0
      },
      "text/plain": [
       "Epoch 8/40 - Training:   0%|          | 0/686 [00:00<?, ?it/s]"
      ]
     },
     "metadata": {},
     "output_type": "display_data"
    },
    {
     "name": "stdout",
     "output_type": "stream",
     "text": [
      "Step [100/686] - Training Loss: 0.7036 - Training Accuracy: 74.83%\n",
      "Step [200/686] - Training Loss: 0.8654 - Training Accuracy: 74.59%\n",
      "Step [300/686] - Training Loss: 0.7743 - Training Accuracy: 74.38%\n",
      "Step [400/686] - Training Loss: 1.0090 - Training Accuracy: 74.37%\n",
      "Step [500/686] - Training Loss: 0.8664 - Training Accuracy: 74.54%\n",
      "Step [600/686] - Training Loss: 0.9431 - Training Accuracy: 74.62%\n"
     ]
    },
    {
     "data": {
      "application/vnd.jupyter.widget-view+json": {
       "model_id": "96f4082075a3426fb13fce42176b4447",
       "version_major": 2,
       "version_minor": 0
      },
      "text/plain": [
       "Epoch 8/40 - Validation:   0%|          | 0/75 [00:00<?, ?it/s]"
      ]
     },
     "metadata": {},
     "output_type": "display_data"
    },
    {
     "name": "stdout",
     "output_type": "stream",
     "text": [
      "Epoch [8/40] - Training Loss: 0.8658, Training Accuracy: 74.62% - Validation Loss: 0.8857, Validation Accuracy: 73.47%\n"
     ]
    },
    {
     "data": {
      "application/vnd.jupyter.widget-view+json": {
       "model_id": "a1b7f8fc41ff42559def497ac36e3004",
       "version_major": 2,
       "version_minor": 0
      },
      "text/plain": [
       "Epoch 9/40 - Training:   0%|          | 0/686 [00:00<?, ?it/s]"
      ]
     },
     "metadata": {},
     "output_type": "display_data"
    },
    {
     "name": "stdout",
     "output_type": "stream",
     "text": [
      "Step [100/686] - Training Loss: 0.6187 - Training Accuracy: 75.38%\n",
      "Step [200/686] - Training Loss: 1.0099 - Training Accuracy: 75.52%\n",
      "Step [300/686] - Training Loss: 0.9552 - Training Accuracy: 75.29%\n",
      "Step [400/686] - Training Loss: 0.7726 - Training Accuracy: 75.26%\n",
      "Step [500/686] - Training Loss: 0.9254 - Training Accuracy: 75.23%\n",
      "Step [600/686] - Training Loss: 0.7069 - Training Accuracy: 75.30%\n"
     ]
    },
    {
     "data": {
      "application/vnd.jupyter.widget-view+json": {
       "model_id": "326c64120a884019adcfebe6ec526545",
       "version_major": 2,
       "version_minor": 0
      },
      "text/plain": [
       "Epoch 9/40 - Validation:   0%|          | 0/75 [00:00<?, ?it/s]"
      ]
     },
     "metadata": {},
     "output_type": "display_data"
    },
    {
     "name": "stdout",
     "output_type": "stream",
     "text": [
      "Epoch [9/40] - Training Loss: 0.8373, Training Accuracy: 75.33% - Validation Loss: 0.8355, Validation Accuracy: 75.03%\n"
     ]
    },
    {
     "data": {
      "application/vnd.jupyter.widget-view+json": {
       "model_id": "86a103b859a84ef69214cf6489f3ca1d",
       "version_major": 2,
       "version_minor": 0
      },
      "text/plain": [
       "Epoch 10/40 - Training:   0%|          | 0/686 [00:00<?, ?it/s]"
      ]
     },
     "metadata": {},
     "output_type": "display_data"
    },
    {
     "name": "stdout",
     "output_type": "stream",
     "text": [
      "Step [100/686] - Training Loss: 0.8411 - Training Accuracy: 75.79%\n",
      "Step [200/686] - Training Loss: 0.7295 - Training Accuracy: 75.83%\n",
      "Step [300/686] - Training Loss: 0.7694 - Training Accuracy: 75.78%\n",
      "Step [400/686] - Training Loss: 0.8075 - Training Accuracy: 75.87%\n",
      "Step [500/686] - Training Loss: 0.7651 - Training Accuracy: 75.86%\n",
      "Step [600/686] - Training Loss: 0.8077 - Training Accuracy: 75.88%\n"
     ]
    },
    {
     "data": {
      "application/vnd.jupyter.widget-view+json": {
       "model_id": "4d104d4f349a4a6fba37215933afe89c",
       "version_major": 2,
       "version_minor": 0
      },
      "text/plain": [
       "Epoch 10/40 - Validation:   0%|          | 0/75 [00:00<?, ?it/s]"
      ]
     },
     "metadata": {},
     "output_type": "display_data"
    },
    {
     "name": "stdout",
     "output_type": "stream",
     "text": [
      "Epoch [10/40] - Training Loss: 0.8106, Training Accuracy: 75.93% - Validation Loss: 0.8300, Validation Accuracy: 74.87%\n"
     ]
    },
    {
     "data": {
      "application/vnd.jupyter.widget-view+json": {
       "model_id": "37c32d1e4124460bbee1d22ebd157e2d",
       "version_major": 2,
       "version_minor": 0
      },
      "text/plain": [
       "Epoch 11/40 - Training:   0%|          | 0/686 [00:00<?, ?it/s]"
      ]
     },
     "metadata": {},
     "output_type": "display_data"
    },
    {
     "name": "stdout",
     "output_type": "stream",
     "text": [
      "Step [100/686] - Training Loss: 0.8823 - Training Accuracy: 76.16%\n",
      "Step [200/686] - Training Loss: 0.8973 - Training Accuracy: 76.19%\n",
      "Step [300/686] - Training Loss: 0.7441 - Training Accuracy: 76.24%\n",
      "Step [400/686] - Training Loss: 0.9554 - Training Accuracy: 76.41%\n",
      "Step [500/686] - Training Loss: 1.0021 - Training Accuracy: 76.35%\n",
      "Step [600/686] - Training Loss: 0.6674 - Training Accuracy: 76.43%\n"
     ]
    },
    {
     "data": {
      "application/vnd.jupyter.widget-view+json": {
       "model_id": "811ef7113dc04af88f29f7bdf124a989",
       "version_major": 2,
       "version_minor": 0
      },
      "text/plain": [
       "Epoch 11/40 - Validation:   0%|          | 0/75 [00:00<?, ?it/s]"
      ]
     },
     "metadata": {},
     "output_type": "display_data"
    },
    {
     "name": "stdout",
     "output_type": "stream",
     "text": [
      "Epoch [11/40] - Training Loss: 0.7897, Training Accuracy: 76.51% - Validation Loss: 0.7935, Validation Accuracy: 76.47%\n"
     ]
    },
    {
     "data": {
      "application/vnd.jupyter.widget-view+json": {
       "model_id": "175fac7b01b446c995d3d4dda7aee8f4",
       "version_major": 2,
       "version_minor": 0
      },
      "text/plain": [
       "Epoch 12/40 - Training:   0%|          | 0/686 [00:00<?, ?it/s]"
      ]
     },
     "metadata": {},
     "output_type": "display_data"
    },
    {
     "name": "stdout",
     "output_type": "stream",
     "text": [
      "Step [100/686] - Training Loss: 0.9409 - Training Accuracy: 76.80%\n",
      "Step [200/686] - Training Loss: 0.7620 - Training Accuracy: 77.32%\n",
      "Step [300/686] - Training Loss: 0.9015 - Training Accuracy: 77.28%\n",
      "Step [400/686] - Training Loss: 0.8309 - Training Accuracy: 77.13%\n",
      "Step [500/686] - Training Loss: 0.8877 - Training Accuracy: 77.13%\n",
      "Step [600/686] - Training Loss: 0.7163 - Training Accuracy: 77.23%\n"
     ]
    },
    {
     "data": {
      "application/vnd.jupyter.widget-view+json": {
       "model_id": "ed3ad8462672488fb37f71b201404e76",
       "version_major": 2,
       "version_minor": 0
      },
      "text/plain": [
       "Epoch 12/40 - Validation:   0%|          | 0/75 [00:00<?, ?it/s]"
      ]
     },
     "metadata": {},
     "output_type": "display_data"
    },
    {
     "name": "stdout",
     "output_type": "stream",
     "text": [
      "Epoch [12/40] - Training Loss: 0.7696, Training Accuracy: 77.20% - Validation Loss: 0.7911, Validation Accuracy: 76.12%\n"
     ]
    },
    {
     "data": {
      "application/vnd.jupyter.widget-view+json": {
       "model_id": "a290abc46245486f8b023bd0ed2e076e",
       "version_major": 2,
       "version_minor": 0
      },
      "text/plain": [
       "Epoch 13/40 - Training:   0%|          | 0/686 [00:00<?, ?it/s]"
      ]
     },
     "metadata": {},
     "output_type": "display_data"
    },
    {
     "name": "stdout",
     "output_type": "stream",
     "text": [
      "Step [100/686] - Training Loss: 0.8614 - Training Accuracy: 77.21%\n",
      "Step [200/686] - Training Loss: 0.7735 - Training Accuracy: 77.27%\n",
      "Step [300/686] - Training Loss: 0.7308 - Training Accuracy: 77.38%\n",
      "Step [400/686] - Training Loss: 0.9185 - Training Accuracy: 77.51%\n",
      "Step [500/686] - Training Loss: 0.7008 - Training Accuracy: 77.55%\n",
      "Step [600/686] - Training Loss: 0.7320 - Training Accuracy: 77.56%\n"
     ]
    },
    {
     "data": {
      "application/vnd.jupyter.widget-view+json": {
       "model_id": "10bd179491f74521a3d0b13c586fce67",
       "version_major": 2,
       "version_minor": 0
      },
      "text/plain": [
       "Epoch 13/40 - Validation:   0%|          | 0/75 [00:00<?, ?it/s]"
      ]
     },
     "metadata": {},
     "output_type": "display_data"
    },
    {
     "name": "stdout",
     "output_type": "stream",
     "text": [
      "Epoch [13/40] - Training Loss: 0.7543, Training Accuracy: 77.59% - Validation Loss: 0.7739, Validation Accuracy: 77.21%\n"
     ]
    },
    {
     "data": {
      "application/vnd.jupyter.widget-view+json": {
       "model_id": "ebd357bffc5146df9fd794ef13660ad2",
       "version_major": 2,
       "version_minor": 0
      },
      "text/plain": [
       "Epoch 14/40 - Training:   0%|          | 0/686 [00:00<?, ?it/s]"
      ]
     },
     "metadata": {},
     "output_type": "display_data"
    },
    {
     "name": "stdout",
     "output_type": "stream",
     "text": [
      "Step [100/686] - Training Loss: 0.7188 - Training Accuracy: 78.15%\n",
      "Step [200/686] - Training Loss: 0.7617 - Training Accuracy: 77.90%\n",
      "Step [300/686] - Training Loss: 0.6517 - Training Accuracy: 77.92%\n",
      "Step [400/686] - Training Loss: 0.7863 - Training Accuracy: 78.01%\n",
      "Step [500/686] - Training Loss: 0.6384 - Training Accuracy: 78.08%\n",
      "Step [600/686] - Training Loss: 0.6251 - Training Accuracy: 78.07%\n"
     ]
    },
    {
     "data": {
      "application/vnd.jupyter.widget-view+json": {
       "model_id": "cc011feb86bc4895b6f6bb3bba699ab1",
       "version_major": 2,
       "version_minor": 0
      },
      "text/plain": [
       "Epoch 14/40 - Validation:   0%|          | 0/75 [00:00<?, ?it/s]"
      ]
     },
     "metadata": {},
     "output_type": "display_data"
    },
    {
     "name": "stdout",
     "output_type": "stream",
     "text": [
      "Epoch [14/40] - Training Loss: 0.7402, Training Accuracy: 78.05% - Validation Loss: 0.7634, Validation Accuracy: 77.33%\n"
     ]
    },
    {
     "data": {
      "application/vnd.jupyter.widget-view+json": {
       "model_id": "b039021f3ce64f768324803355dbe1dd",
       "version_major": 2,
       "version_minor": 0
      },
      "text/plain": [
       "Epoch 15/40 - Training:   0%|          | 0/686 [00:00<?, ?it/s]"
      ]
     },
     "metadata": {},
     "output_type": "display_data"
    },
    {
     "name": "stdout",
     "output_type": "stream",
     "text": [
      "Step [100/686] - Training Loss: 0.6581 - Training Accuracy: 78.38%\n",
      "Step [200/686] - Training Loss: 0.7589 - Training Accuracy: 78.37%\n",
      "Step [300/686] - Training Loss: 0.6691 - Training Accuracy: 78.36%\n",
      "Step [400/686] - Training Loss: 0.7499 - Training Accuracy: 78.17%\n",
      "Step [500/686] - Training Loss: 0.5399 - Training Accuracy: 78.34%\n",
      "Step [600/686] - Training Loss: 0.9901 - Training Accuracy: 78.29%\n"
     ]
    },
    {
     "data": {
      "application/vnd.jupyter.widget-view+json": {
       "model_id": "c6846f3ecacb421d80abb1dda957067a",
       "version_major": 2,
       "version_minor": 0
      },
      "text/plain": [
       "Epoch 15/40 - Validation:   0%|          | 0/75 [00:00<?, ?it/s]"
      ]
     },
     "metadata": {},
     "output_type": "display_data"
    },
    {
     "name": "stdout",
     "output_type": "stream",
     "text": [
      "Epoch [15/40] - Training Loss: 0.7265, Training Accuracy: 78.34% - Validation Loss: 0.7442, Validation Accuracy: 78.23%\n"
     ]
    },
    {
     "data": {
      "application/vnd.jupyter.widget-view+json": {
       "model_id": "22d0b03e1de9414e9cc2d2f20c1f2d68",
       "version_major": 2,
       "version_minor": 0
      },
      "text/plain": [
       "Epoch 16/40 - Training:   0%|          | 0/686 [00:00<?, ?it/s]"
      ]
     },
     "metadata": {},
     "output_type": "display_data"
    },
    {
     "name": "stdout",
     "output_type": "stream",
     "text": [
      "Step [100/686] - Training Loss: 0.6664 - Training Accuracy: 78.77%\n",
      "Step [200/686] - Training Loss: 0.7874 - Training Accuracy: 78.79%\n",
      "Step [300/686] - Training Loss: 0.7822 - Training Accuracy: 78.83%\n",
      "Step [400/686] - Training Loss: 0.8954 - Training Accuracy: 78.92%\n",
      "Step [500/686] - Training Loss: 0.7218 - Training Accuracy: 78.79%\n",
      "Step [600/686] - Training Loss: 0.6352 - Training Accuracy: 78.70%\n"
     ]
    },
    {
     "data": {
      "application/vnd.jupyter.widget-view+json": {
       "model_id": "6e89ce0265ec4110b7d4dd7171953c5a",
       "version_major": 2,
       "version_minor": 0
      },
      "text/plain": [
       "Epoch 16/40 - Validation:   0%|          | 0/75 [00:00<?, ?it/s]"
      ]
     },
     "metadata": {},
     "output_type": "display_data"
    },
    {
     "name": "stdout",
     "output_type": "stream",
     "text": [
      "Epoch [16/40] - Training Loss: 0.7153, Training Accuracy: 78.75% - Validation Loss: 0.7447, Validation Accuracy: 77.64%\n"
     ]
    },
    {
     "data": {
      "application/vnd.jupyter.widget-view+json": {
       "model_id": "32d6238eb2e143a499d1bf15666545b4",
       "version_major": 2,
       "version_minor": 0
      },
      "text/plain": [
       "Epoch 17/40 - Training:   0%|          | 0/686 [00:00<?, ?it/s]"
      ]
     },
     "metadata": {},
     "output_type": "display_data"
    },
    {
     "name": "stdout",
     "output_type": "stream",
     "text": [
      "Step [100/686] - Training Loss: 0.5587 - Training Accuracy: 79.17%\n",
      "Step [200/686] - Training Loss: 0.7908 - Training Accuracy: 79.06%\n",
      "Step [300/686] - Training Loss: 0.7040 - Training Accuracy: 79.18%\n",
      "Step [400/686] - Training Loss: 0.7163 - Training Accuracy: 79.18%\n",
      "Step [500/686] - Training Loss: 0.6508 - Training Accuracy: 78.97%\n",
      "Step [600/686] - Training Loss: 0.8175 - Training Accuracy: 78.89%\n"
     ]
    },
    {
     "data": {
      "application/vnd.jupyter.widget-view+json": {
       "model_id": "a50e7d5301d641cd97a98c27b49cc7c2",
       "version_major": 2,
       "version_minor": 0
      },
      "text/plain": [
       "Epoch 17/40 - Validation:   0%|          | 0/75 [00:00<?, ?it/s]"
      ]
     },
     "metadata": {},
     "output_type": "display_data"
    },
    {
     "name": "stdout",
     "output_type": "stream",
     "text": [
      "Epoch [17/40] - Training Loss: 0.7061, Training Accuracy: 78.95% - Validation Loss: 0.7299, Validation Accuracy: 78.18%\n"
     ]
    },
    {
     "data": {
      "application/vnd.jupyter.widget-view+json": {
       "model_id": "2bf8ff1b1f20447cbc42de6598d9696d",
       "version_major": 2,
       "version_minor": 0
      },
      "text/plain": [
       "Epoch 18/40 - Training:   0%|          | 0/686 [00:00<?, ?it/s]"
      ]
     },
     "metadata": {},
     "output_type": "display_data"
    },
    {
     "name": "stdout",
     "output_type": "stream",
     "text": [
      "Step [100/686] - Training Loss: 0.5956 - Training Accuracy: 79.43%\n",
      "Step [200/686] - Training Loss: 0.7073 - Training Accuracy: 79.58%\n",
      "Step [300/686] - Training Loss: 0.7490 - Training Accuracy: 79.40%\n",
      "Step [400/686] - Training Loss: 0.6096 - Training Accuracy: 79.29%\n",
      "Step [500/686] - Training Loss: 0.7831 - Training Accuracy: 79.30%\n",
      "Step [600/686] - Training Loss: 0.6923 - Training Accuracy: 79.32%\n"
     ]
    },
    {
     "data": {
      "application/vnd.jupyter.widget-view+json": {
       "model_id": "fa9b16a4ba624a3fa55366ff304d56fd",
       "version_major": 2,
       "version_minor": 0
      },
      "text/plain": [
       "Epoch 18/40 - Validation:   0%|          | 0/75 [00:00<?, ?it/s]"
      ]
     },
     "metadata": {},
     "output_type": "display_data"
    },
    {
     "name": "stdout",
     "output_type": "stream",
     "text": [
      "Epoch [18/40] - Training Loss: 0.6970, Training Accuracy: 79.35% - Validation Loss: 0.7228, Validation Accuracy: 78.11%\n"
     ]
    },
    {
     "data": {
      "application/vnd.jupyter.widget-view+json": {
       "model_id": "aed2328a32b04e04882d93f8499d549f",
       "version_major": 2,
       "version_minor": 0
      },
      "text/plain": [
       "Epoch 19/40 - Training:   0%|          | 0/686 [00:00<?, ?it/s]"
      ]
     },
     "metadata": {},
     "output_type": "display_data"
    },
    {
     "name": "stdout",
     "output_type": "stream",
     "text": [
      "Step [100/686] - Training Loss: 0.6933 - Training Accuracy: 78.89%\n",
      "Step [200/686] - Training Loss: 0.6236 - Training Accuracy: 79.18%\n",
      "Step [300/686] - Training Loss: 0.7329 - Training Accuracy: 79.12%\n",
      "Step [400/686] - Training Loss: 0.6355 - Training Accuracy: 79.32%\n",
      "Step [500/686] - Training Loss: 0.7849 - Training Accuracy: 79.38%\n",
      "Step [600/686] - Training Loss: 0.7463 - Training Accuracy: 79.44%\n"
     ]
    },
    {
     "data": {
      "application/vnd.jupyter.widget-view+json": {
       "model_id": "f12a7c5b9f854df0a7d5e687d96b2f4f",
       "version_major": 2,
       "version_minor": 0
      },
      "text/plain": [
       "Epoch 19/40 - Validation:   0%|          | 0/75 [00:00<?, ?it/s]"
      ]
     },
     "metadata": {},
     "output_type": "display_data"
    },
    {
     "name": "stdout",
     "output_type": "stream",
     "text": [
      "Epoch [19/40] - Training Loss: 0.6887, Training Accuracy: 79.55% - Validation Loss: 0.7095, Validation Accuracy: 78.93%\n"
     ]
    },
    {
     "data": {
      "application/vnd.jupyter.widget-view+json": {
       "model_id": "bd032295c90248db84d77a7e6b124ea9",
       "version_major": 2,
       "version_minor": 0
      },
      "text/plain": [
       "Epoch 20/40 - Training:   0%|          | 0/686 [00:00<?, ?it/s]"
      ]
     },
     "metadata": {},
     "output_type": "display_data"
    },
    {
     "name": "stdout",
     "output_type": "stream",
     "text": [
      "Step [100/686] - Training Loss: 0.7141 - Training Accuracy: 79.91%\n",
      "Step [200/686] - Training Loss: 0.8219 - Training Accuracy: 80.07%\n",
      "Step [300/686] - Training Loss: 0.6378 - Training Accuracy: 80.13%\n",
      "Step [400/686] - Training Loss: 0.6146 - Training Accuracy: 80.05%\n",
      "Step [500/686] - Training Loss: 0.6771 - Training Accuracy: 80.02%\n",
      "Step [600/686] - Training Loss: 0.7413 - Training Accuracy: 79.98%\n"
     ]
    },
    {
     "data": {
      "application/vnd.jupyter.widget-view+json": {
       "model_id": "46fff5a4262b48afad7b6aea0b6eb6b5",
       "version_major": 2,
       "version_minor": 0
      },
      "text/plain": [
       "Epoch 20/40 - Validation:   0%|          | 0/75 [00:00<?, ?it/s]"
      ]
     },
     "metadata": {},
     "output_type": "display_data"
    },
    {
     "name": "stdout",
     "output_type": "stream",
     "text": [
      "Epoch [20/40] - Training Loss: 0.6802, Training Accuracy: 79.89% - Validation Loss: 0.7083, Validation Accuracy: 78.81%\n"
     ]
    },
    {
     "data": {
      "application/vnd.jupyter.widget-view+json": {
       "model_id": "ffec69a6f1f24585aa82c6929d60bc88",
       "version_major": 2,
       "version_minor": 0
      },
      "text/plain": [
       "Epoch 21/40 - Training:   0%|          | 0/686 [00:00<?, ?it/s]"
      ]
     },
     "metadata": {},
     "output_type": "display_data"
    },
    {
     "name": "stdout",
     "output_type": "stream",
     "text": [
      "Step [100/686] - Training Loss: 0.7510 - Training Accuracy: 79.58%\n",
      "Step [200/686] - Training Loss: 0.6402 - Training Accuracy: 79.80%\n",
      "Step [300/686] - Training Loss: 0.6940 - Training Accuracy: 79.68%\n",
      "Step [400/686] - Training Loss: 0.5792 - Training Accuracy: 79.79%\n",
      "Step [500/686] - Training Loss: 0.4857 - Training Accuracy: 79.85%\n",
      "Step [600/686] - Training Loss: 0.6847 - Training Accuracy: 79.79%\n"
     ]
    },
    {
     "data": {
      "application/vnd.jupyter.widget-view+json": {
       "model_id": "2329b7fb3c784679bcabf6e70949e315",
       "version_major": 2,
       "version_minor": 0
      },
      "text/plain": [
       "Epoch 21/40 - Validation:   0%|          | 0/75 [00:00<?, ?it/s]"
      ]
     },
     "metadata": {},
     "output_type": "display_data"
    },
    {
     "name": "stdout",
     "output_type": "stream",
     "text": [
      "Epoch [21/40] - Training Loss: 0.6750, Training Accuracy: 79.89% - Validation Loss: 0.7082, Validation Accuracy: 79.09%\n"
     ]
    },
    {
     "data": {
      "application/vnd.jupyter.widget-view+json": {
       "model_id": "a860394e015741b681fc6bad803807ab",
       "version_major": 2,
       "version_minor": 0
      },
      "text/plain": [
       "Epoch 22/40 - Training:   0%|          | 0/686 [00:00<?, ?it/s]"
      ]
     },
     "metadata": {},
     "output_type": "display_data"
    },
    {
     "name": "stdout",
     "output_type": "stream",
     "text": [
      "Step [100/686] - Training Loss: 0.6053 - Training Accuracy: 79.53%\n",
      "Step [200/686] - Training Loss: 0.5978 - Training Accuracy: 79.89%\n",
      "Step [300/686] - Training Loss: 0.6597 - Training Accuracy: 80.22%\n",
      "Step [400/686] - Training Loss: 0.7377 - Training Accuracy: 80.32%\n",
      "Step [500/686] - Training Loss: 0.6157 - Training Accuracy: 80.38%\n",
      "Step [600/686] - Training Loss: 0.6855 - Training Accuracy: 80.29%\n"
     ]
    },
    {
     "data": {
      "application/vnd.jupyter.widget-view+json": {
       "model_id": "2be50286e1dc4e22aad55540df27ca7e",
       "version_major": 2,
       "version_minor": 0
      },
      "text/plain": [
       "Epoch 22/40 - Validation:   0%|          | 0/75 [00:00<?, ?it/s]"
      ]
     },
     "metadata": {},
     "output_type": "display_data"
    },
    {
     "name": "stdout",
     "output_type": "stream",
     "text": [
      "Epoch [22/40] - Training Loss: 0.6679, Training Accuracy: 80.24% - Validation Loss: 0.6979, Validation Accuracy: 79.42%\n"
     ]
    },
    {
     "data": {
      "application/vnd.jupyter.widget-view+json": {
       "model_id": "dfe59352a034476186e55553dcbc553a",
       "version_major": 2,
       "version_minor": 0
      },
      "text/plain": [
       "Epoch 23/40 - Training:   0%|          | 0/686 [00:00<?, ?it/s]"
      ]
     },
     "metadata": {},
     "output_type": "display_data"
    },
    {
     "name": "stdout",
     "output_type": "stream",
     "text": [
      "Step [100/686] - Training Loss: 0.6731 - Training Accuracy: 80.98%\n",
      "Step [200/686] - Training Loss: 0.6390 - Training Accuracy: 80.75%\n",
      "Step [300/686] - Training Loss: 0.7803 - Training Accuracy: 80.62%\n",
      "Step [400/686] - Training Loss: 0.6693 - Training Accuracy: 80.46%\n",
      "Step [500/686] - Training Loss: 0.6469 - Training Accuracy: 80.40%\n",
      "Step [600/686] - Training Loss: 0.6909 - Training Accuracy: 80.35%\n"
     ]
    },
    {
     "data": {
      "application/vnd.jupyter.widget-view+json": {
       "model_id": "1afc87ca743a4921b9812742ae6e31f1",
       "version_major": 2,
       "version_minor": 0
      },
      "text/plain": [
       "Epoch 23/40 - Validation:   0%|          | 0/75 [00:00<?, ?it/s]"
      ]
     },
     "metadata": {},
     "output_type": "display_data"
    },
    {
     "name": "stdout",
     "output_type": "stream",
     "text": [
      "Epoch [23/40] - Training Loss: 0.6624, Training Accuracy: 80.34% - Validation Loss: 0.6976, Validation Accuracy: 78.82%\n"
     ]
    },
    {
     "data": {
      "application/vnd.jupyter.widget-view+json": {
       "model_id": "dc8477bdaa9b45fa997da58a9bf53ab4",
       "version_major": 2,
       "version_minor": 0
      },
      "text/plain": [
       "Epoch 24/40 - Training:   0%|          | 0/686 [00:00<?, ?it/s]"
      ]
     },
     "metadata": {},
     "output_type": "display_data"
    },
    {
     "name": "stdout",
     "output_type": "stream",
     "text": [
      "Step [100/686] - Training Loss: 0.6651 - Training Accuracy: 81.10%\n",
      "Step [200/686] - Training Loss: 0.8588 - Training Accuracy: 81.05%\n",
      "Step [300/686] - Training Loss: 0.6043 - Training Accuracy: 80.77%\n",
      "Step [400/686] - Training Loss: 0.7843 - Training Accuracy: 80.67%\n",
      "Step [500/686] - Training Loss: 0.8437 - Training Accuracy: 80.63%\n",
      "Step [600/686] - Training Loss: 0.4085 - Training Accuracy: 80.52%\n"
     ]
    },
    {
     "data": {
      "application/vnd.jupyter.widget-view+json": {
       "model_id": "492169d72dcf4682a2f66fc5094553e3",
       "version_major": 2,
       "version_minor": 0
      },
      "text/plain": [
       "Epoch 24/40 - Validation:   0%|          | 0/75 [00:00<?, ?it/s]"
      ]
     },
     "metadata": {},
     "output_type": "display_data"
    },
    {
     "name": "stdout",
     "output_type": "stream",
     "text": [
      "Epoch [24/40] - Training Loss: 0.6586, Training Accuracy: 80.45% - Validation Loss: 0.6842, Validation Accuracy: 79.63%\n"
     ]
    },
    {
     "data": {
      "application/vnd.jupyter.widget-view+json": {
       "model_id": "343f044349c24b8e866e66cc78b6a3db",
       "version_major": 2,
       "version_minor": 0
      },
      "text/plain": [
       "Epoch 25/40 - Training:   0%|          | 0/686 [00:00<?, ?it/s]"
      ]
     },
     "metadata": {},
     "output_type": "display_data"
    },
    {
     "name": "stdout",
     "output_type": "stream",
     "text": [
      "Step [100/686] - Training Loss: 0.6130 - Training Accuracy: 80.70%\n",
      "Step [200/686] - Training Loss: 0.7765 - Training Accuracy: 80.84%\n",
      "Step [300/686] - Training Loss: 0.5147 - Training Accuracy: 80.91%\n",
      "Step [400/686] - Training Loss: 0.7093 - Training Accuracy: 80.98%\n",
      "Step [500/686] - Training Loss: 0.6034 - Training Accuracy: 80.93%\n",
      "Step [600/686] - Training Loss: 0.6899 - Training Accuracy: 80.83%\n"
     ]
    },
    {
     "data": {
      "application/vnd.jupyter.widget-view+json": {
       "model_id": "0a9e1f0a8fa84eafb6d5fbd0975f9ab8",
       "version_major": 2,
       "version_minor": 0
      },
      "text/plain": [
       "Epoch 25/40 - Validation:   0%|          | 0/75 [00:00<?, ?it/s]"
      ]
     },
     "metadata": {},
     "output_type": "display_data"
    },
    {
     "name": "stdout",
     "output_type": "stream",
     "text": [
      "Epoch [25/40] - Training Loss: 0.6531, Training Accuracy: 80.67% - Validation Loss: 0.6836, Validation Accuracy: 79.53%\n"
     ]
    },
    {
     "data": {
      "application/vnd.jupyter.widget-view+json": {
       "model_id": "9b6a81b313cc4899a6a45909d0c741d1",
       "version_major": 2,
       "version_minor": 0
      },
      "text/plain": [
       "Epoch 26/40 - Training:   0%|          | 0/686 [00:00<?, ?it/s]"
      ]
     },
     "metadata": {},
     "output_type": "display_data"
    },
    {
     "name": "stdout",
     "output_type": "stream",
     "text": [
      "Step [100/686] - Training Loss: 0.8575 - Training Accuracy: 80.46%\n",
      "Step [200/686] - Training Loss: 0.7080 - Training Accuracy: 80.50%\n",
      "Step [300/686] - Training Loss: 0.7057 - Training Accuracy: 80.70%\n",
      "Step [400/686] - Training Loss: 0.4809 - Training Accuracy: 80.71%\n",
      "Step [500/686] - Training Loss: 0.6854 - Training Accuracy: 80.73%\n",
      "Step [600/686] - Training Loss: 0.6093 - Training Accuracy: 80.70%\n"
     ]
    },
    {
     "data": {
      "application/vnd.jupyter.widget-view+json": {
       "model_id": "a7bcb2f01a7c40639ea98df967bedcdc",
       "version_major": 2,
       "version_minor": 0
      },
      "text/plain": [
       "Epoch 26/40 - Validation:   0%|          | 0/75 [00:00<?, ?it/s]"
      ]
     },
     "metadata": {},
     "output_type": "display_data"
    },
    {
     "name": "stdout",
     "output_type": "stream",
     "text": [
      "Epoch [26/40] - Training Loss: 0.6480, Training Accuracy: 80.78% - Validation Loss: 0.6856, Validation Accuracy: 79.22%\n"
     ]
    },
    {
     "data": {
      "application/vnd.jupyter.widget-view+json": {
       "model_id": "7992ff9153244811949bb5f5f6f1b3ea",
       "version_major": 2,
       "version_minor": 0
      },
      "text/plain": [
       "Epoch 27/40 - Training:   0%|          | 0/686 [00:00<?, ?it/s]"
      ]
     },
     "metadata": {},
     "output_type": "display_data"
    },
    {
     "name": "stdout",
     "output_type": "stream",
     "text": [
      "Step [100/686] - Training Loss: 0.6210 - Training Accuracy: 81.55%\n",
      "Step [200/686] - Training Loss: 0.5855 - Training Accuracy: 81.07%\n",
      "Step [300/686] - Training Loss: 0.6062 - Training Accuracy: 80.99%\n",
      "Step [400/686] - Training Loss: 0.6797 - Training Accuracy: 80.87%\n",
      "Step [500/686] - Training Loss: 0.6928 - Training Accuracy: 80.88%\n",
      "Step [600/686] - Training Loss: 0.6450 - Training Accuracy: 80.92%\n"
     ]
    },
    {
     "data": {
      "application/vnd.jupyter.widget-view+json": {
       "model_id": "7984adfe641643c9adb85fb072129936",
       "version_major": 2,
       "version_minor": 0
      },
      "text/plain": [
       "Epoch 27/40 - Validation:   0%|          | 0/75 [00:00<?, ?it/s]"
      ]
     },
     "metadata": {},
     "output_type": "display_data"
    },
    {
     "name": "stdout",
     "output_type": "stream",
     "text": [
      "Epoch [27/40] - Training Loss: 0.6441, Training Accuracy: 80.96% - Validation Loss: 0.6807, Validation Accuracy: 79.40%\n"
     ]
    },
    {
     "data": {
      "application/vnd.jupyter.widget-view+json": {
       "model_id": "7bf6a42fe5fc4b119ff66b9cab6cc753",
       "version_major": 2,
       "version_minor": 0
      },
      "text/plain": [
       "Epoch 28/40 - Training:   0%|          | 0/686 [00:00<?, ?it/s]"
      ]
     },
     "metadata": {},
     "output_type": "display_data"
    },
    {
     "name": "stdout",
     "output_type": "stream",
     "text": [
      "Step [100/686] - Training Loss: 0.6847 - Training Accuracy: 80.98%\n",
      "Step [200/686] - Training Loss: 0.6942 - Training Accuracy: 81.02%\n",
      "Step [300/686] - Training Loss: 0.6461 - Training Accuracy: 81.07%\n",
      "Step [400/686] - Training Loss: 0.5920 - Training Accuracy: 81.13%\n",
      "Step [500/686] - Training Loss: 0.7764 - Training Accuracy: 81.10%\n",
      "Step [600/686] - Training Loss: 0.6588 - Training Accuracy: 81.07%\n"
     ]
    },
    {
     "data": {
      "application/vnd.jupyter.widget-view+json": {
       "model_id": "d7bd0177cb33483ea05ba904ade010b1",
       "version_major": 2,
       "version_minor": 0
      },
      "text/plain": [
       "Epoch 28/40 - Validation:   0%|          | 0/75 [00:00<?, ?it/s]"
      ]
     },
     "metadata": {},
     "output_type": "display_data"
    },
    {
     "name": "stdout",
     "output_type": "stream",
     "text": [
      "Epoch [28/40] - Training Loss: 0.6409, Training Accuracy: 81.08% - Validation Loss: 0.6765, Validation Accuracy: 79.69%\n"
     ]
    },
    {
     "data": {
      "application/vnd.jupyter.widget-view+json": {
       "model_id": "ddace0c2f65446daa3078360659cf4ce",
       "version_major": 2,
       "version_minor": 0
      },
      "text/plain": [
       "Epoch 29/40 - Training:   0%|          | 0/686 [00:00<?, ?it/s]"
      ]
     },
     "metadata": {},
     "output_type": "display_data"
    },
    {
     "name": "stdout",
     "output_type": "stream",
     "text": [
      "Step [100/686] - Training Loss: 0.7036 - Training Accuracy: 80.91%\n",
      "Step [200/686] - Training Loss: 0.6866 - Training Accuracy: 81.08%\n",
      "Step [300/686] - Training Loss: 0.6481 - Training Accuracy: 81.24%\n",
      "Step [400/686] - Training Loss: 0.7214 - Training Accuracy: 81.38%\n",
      "Step [500/686] - Training Loss: 0.6836 - Training Accuracy: 81.23%\n",
      "Step [600/686] - Training Loss: 0.7345 - Training Accuracy: 81.25%\n"
     ]
    },
    {
     "data": {
      "application/vnd.jupyter.widget-view+json": {
       "model_id": "2d19aa9bf3f6458c8e5a32d5d636506b",
       "version_major": 2,
       "version_minor": 0
      },
      "text/plain": [
       "Epoch 29/40 - Validation:   0%|          | 0/75 [00:00<?, ?it/s]"
      ]
     },
     "metadata": {},
     "output_type": "display_data"
    },
    {
     "name": "stdout",
     "output_type": "stream",
     "text": [
      "Epoch [29/40] - Training Loss: 0.6373, Training Accuracy: 81.24% - Validation Loss: 0.6774, Validation Accuracy: 79.36%\n"
     ]
    },
    {
     "data": {
      "application/vnd.jupyter.widget-view+json": {
       "model_id": "0107bbc8614c4aacb09709b9dc80df15",
       "version_major": 2,
       "version_minor": 0
      },
      "text/plain": [
       "Epoch 30/40 - Training:   0%|          | 0/686 [00:00<?, ?it/s]"
      ]
     },
     "metadata": {},
     "output_type": "display_data"
    },
    {
     "name": "stdout",
     "output_type": "stream",
     "text": [
      "Step [100/686] - Training Loss: 0.7221 - Training Accuracy: 80.97%\n",
      "Step [200/686] - Training Loss: 0.6623 - Training Accuracy: 81.45%\n",
      "Step [300/686] - Training Loss: 0.5930 - Training Accuracy: 81.37%\n",
      "Step [400/686] - Training Loss: 0.4367 - Training Accuracy: 81.31%\n",
      "Step [500/686] - Training Loss: 0.5449 - Training Accuracy: 81.32%\n",
      "Step [600/686] - Training Loss: 0.7184 - Training Accuracy: 81.39%\n"
     ]
    },
    {
     "data": {
      "application/vnd.jupyter.widget-view+json": {
       "model_id": "87307da17e8943539cf2271beeefdd1e",
       "version_major": 2,
       "version_minor": 0
      },
      "text/plain": [
       "Epoch 30/40 - Validation:   0%|          | 0/75 [00:00<?, ?it/s]"
      ]
     },
     "metadata": {},
     "output_type": "display_data"
    },
    {
     "name": "stdout",
     "output_type": "stream",
     "text": [
      "Epoch [30/40] - Training Loss: 0.6354, Training Accuracy: 81.36% - Validation Loss: 0.6724, Validation Accuracy: 79.86%\n"
     ]
    },
    {
     "data": {
      "application/vnd.jupyter.widget-view+json": {
       "model_id": "256f925b0ccc48acade9a5d434b300de",
       "version_major": 2,
       "version_minor": 0
      },
      "text/plain": [
       "Epoch 31/40 - Training:   0%|          | 0/686 [00:00<?, ?it/s]"
      ]
     },
     "metadata": {},
     "output_type": "display_data"
    },
    {
     "name": "stdout",
     "output_type": "stream",
     "text": [
      "Step [100/686] - Training Loss: 0.6140 - Training Accuracy: 81.12%\n",
      "Step [200/686] - Training Loss: 0.6597 - Training Accuracy: 81.17%\n",
      "Step [300/686] - Training Loss: 0.7084 - Training Accuracy: 81.28%\n",
      "Step [400/686] - Training Loss: 0.5940 - Training Accuracy: 81.36%\n",
      "Step [500/686] - Training Loss: 0.6060 - Training Accuracy: 81.35%\n",
      "Step [600/686] - Training Loss: 0.8128 - Training Accuracy: 81.30%\n"
     ]
    },
    {
     "data": {
      "application/vnd.jupyter.widget-view+json": {
       "model_id": "c345a55bc6cf4846943108e21b9f2674",
       "version_major": 2,
       "version_minor": 0
      },
      "text/plain": [
       "Epoch 31/40 - Validation:   0%|          | 0/75 [00:00<?, ?it/s]"
      ]
     },
     "metadata": {},
     "output_type": "display_data"
    },
    {
     "name": "stdout",
     "output_type": "stream",
     "text": [
      "Epoch [31/40] - Training Loss: 0.6325, Training Accuracy: 81.34% - Validation Loss: 0.6729, Validation Accuracy: 79.96%\n"
     ]
    },
    {
     "data": {
      "application/vnd.jupyter.widget-view+json": {
       "model_id": "762f653c1582482d85962fcc6d433012",
       "version_major": 2,
       "version_minor": 0
      },
      "text/plain": [
       "Epoch 32/40 - Training:   0%|          | 0/686 [00:00<?, ?it/s]"
      ]
     },
     "metadata": {},
     "output_type": "display_data"
    },
    {
     "name": "stdout",
     "output_type": "stream",
     "text": [
      "Step [100/686] - Training Loss: 0.5603 - Training Accuracy: 81.30%\n",
      "Step [200/686] - Training Loss: 0.6032 - Training Accuracy: 80.98%\n",
      "Step [300/686] - Training Loss: 0.6762 - Training Accuracy: 81.13%\n",
      "Step [400/686] - Training Loss: 0.6190 - Training Accuracy: 81.28%\n",
      "Step [500/686] - Training Loss: 0.6255 - Training Accuracy: 81.31%\n",
      "Step [600/686] - Training Loss: 0.6352 - Training Accuracy: 81.38%\n"
     ]
    },
    {
     "data": {
      "application/vnd.jupyter.widget-view+json": {
       "model_id": "6c999e3e439f4b4e8e8d8b78aed0f728",
       "version_major": 2,
       "version_minor": 0
      },
      "text/plain": [
       "Epoch 32/40 - Validation:   0%|          | 0/75 [00:00<?, ?it/s]"
      ]
     },
     "metadata": {},
     "output_type": "display_data"
    },
    {
     "name": "stdout",
     "output_type": "stream",
     "text": [
      "Epoch [32/40] - Training Loss: 0.6308, Training Accuracy: 81.46% - Validation Loss: 0.6680, Validation Accuracy: 80.12%\n"
     ]
    },
    {
     "data": {
      "application/vnd.jupyter.widget-view+json": {
       "model_id": "fd9c251eaed54b65bd681e98fede3f28",
       "version_major": 2,
       "version_minor": 0
      },
      "text/plain": [
       "Epoch 33/40 - Training:   0%|          | 0/686 [00:00<?, ?it/s]"
      ]
     },
     "metadata": {},
     "output_type": "display_data"
    },
    {
     "name": "stdout",
     "output_type": "stream",
     "text": [
      "Step [100/686] - Training Loss: 0.7435 - Training Accuracy: 81.71%\n",
      "Step [200/686] - Training Loss: 0.6248 - Training Accuracy: 81.58%\n",
      "Step [300/686] - Training Loss: 0.6549 - Training Accuracy: 81.37%\n",
      "Step [400/686] - Training Loss: 0.7346 - Training Accuracy: 81.54%\n",
      "Step [500/686] - Training Loss: 0.7497 - Training Accuracy: 81.52%\n",
      "Step [600/686] - Training Loss: 0.5461 - Training Accuracy: 81.59%\n"
     ]
    },
    {
     "data": {
      "application/vnd.jupyter.widget-view+json": {
       "model_id": "dbc4c1d6c76b429489c638495fab74f9",
       "version_major": 2,
       "version_minor": 0
      },
      "text/plain": [
       "Epoch 33/40 - Validation:   0%|          | 0/75 [00:00<?, ?it/s]"
      ]
     },
     "metadata": {},
     "output_type": "display_data"
    },
    {
     "name": "stdout",
     "output_type": "stream",
     "text": [
      "Epoch [33/40] - Training Loss: 0.6290, Training Accuracy: 81.53% - Validation Loss: 0.6672, Validation Accuracy: 79.99%\n"
     ]
    },
    {
     "data": {
      "application/vnd.jupyter.widget-view+json": {
       "model_id": "381c6a2a0508480eb03eeddf42f6a8a4",
       "version_major": 2,
       "version_minor": 0
      },
      "text/plain": [
       "Epoch 34/40 - Training:   0%|          | 0/686 [00:00<?, ?it/s]"
      ]
     },
     "metadata": {},
     "output_type": "display_data"
    },
    {
     "name": "stdout",
     "output_type": "stream",
     "text": [
      "Step [100/686] - Training Loss: 0.5875 - Training Accuracy: 82.25%\n",
      "Step [200/686] - Training Loss: 0.6342 - Training Accuracy: 81.74%\n",
      "Step [300/686] - Training Loss: 0.8866 - Training Accuracy: 81.88%\n",
      "Step [400/686] - Training Loss: 0.6435 - Training Accuracy: 81.55%\n",
      "Step [500/686] - Training Loss: 0.7536 - Training Accuracy: 81.53%\n",
      "Step [600/686] - Training Loss: 0.6181 - Training Accuracy: 81.59%\n"
     ]
    },
    {
     "data": {
      "application/vnd.jupyter.widget-view+json": {
       "model_id": "fbcdfca5b85049c68f54c74f1985e1dc",
       "version_major": 2,
       "version_minor": 0
      },
      "text/plain": [
       "Epoch 34/40 - Validation:   0%|          | 0/75 [00:00<?, ?it/s]"
      ]
     },
     "metadata": {},
     "output_type": "display_data"
    },
    {
     "name": "stdout",
     "output_type": "stream",
     "text": [
      "Epoch [34/40] - Training Loss: 0.6275, Training Accuracy: 81.60% - Validation Loss: 0.6673, Validation Accuracy: 80.26%\n"
     ]
    },
    {
     "data": {
      "application/vnd.jupyter.widget-view+json": {
       "model_id": "2a705e51db73470b946b30fa7315f38a",
       "version_major": 2,
       "version_minor": 0
      },
      "text/plain": [
       "Epoch 35/40 - Training:   0%|          | 0/686 [00:00<?, ?it/s]"
      ]
     },
     "metadata": {},
     "output_type": "display_data"
    },
    {
     "name": "stdout",
     "output_type": "stream",
     "text": [
      "Step [100/686] - Training Loss: 0.5739 - Training Accuracy: 81.80%\n",
      "Step [200/686] - Training Loss: 0.7139 - Training Accuracy: 81.50%\n",
      "Step [300/686] - Training Loss: 0.6038 - Training Accuracy: 81.50%\n",
      "Step [400/686] - Training Loss: 0.6294 - Training Accuracy: 81.52%\n",
      "Step [500/686] - Training Loss: 0.5503 - Training Accuracy: 81.53%\n",
      "Step [600/686] - Training Loss: 0.7323 - Training Accuracy: 81.58%\n"
     ]
    },
    {
     "data": {
      "application/vnd.jupyter.widget-view+json": {
       "model_id": "979a519db8d04b9cbd13d893651eef2d",
       "version_major": 2,
       "version_minor": 0
      },
      "text/plain": [
       "Epoch 35/40 - Validation:   0%|          | 0/75 [00:00<?, ?it/s]"
      ]
     },
     "metadata": {},
     "output_type": "display_data"
    },
    {
     "name": "stdout",
     "output_type": "stream",
     "text": [
      "Epoch [35/40] - Training Loss: 0.6264, Training Accuracy: 81.60% - Validation Loss: 0.6665, Validation Accuracy: 79.90%\n"
     ]
    },
    {
     "data": {
      "application/vnd.jupyter.widget-view+json": {
       "model_id": "05ed4a59476c421691263060dd39f039",
       "version_major": 2,
       "version_minor": 0
      },
      "text/plain": [
       "Epoch 36/40 - Training:   0%|          | 0/686 [00:00<?, ?it/s]"
      ]
     },
     "metadata": {},
     "output_type": "display_data"
    },
    {
     "name": "stdout",
     "output_type": "stream",
     "text": [
      "Step [100/686] - Training Loss: 0.7799 - Training Accuracy: 81.33%\n",
      "Step [200/686] - Training Loss: 0.5752 - Training Accuracy: 81.48%\n",
      "Step [300/686] - Training Loss: 0.7844 - Training Accuracy: 81.82%\n",
      "Step [400/686] - Training Loss: 0.5678 - Training Accuracy: 81.79%\n",
      "Step [500/686] - Training Loss: 0.7470 - Training Accuracy: 81.71%\n",
      "Step [600/686] - Training Loss: 0.5768 - Training Accuracy: 81.65%\n"
     ]
    },
    {
     "data": {
      "application/vnd.jupyter.widget-view+json": {
       "model_id": "dd5e1491298749bab4dfec4e240de7a0",
       "version_major": 2,
       "version_minor": 0
      },
      "text/plain": [
       "Epoch 36/40 - Validation:   0%|          | 0/75 [00:00<?, ?it/s]"
      ]
     },
     "metadata": {},
     "output_type": "display_data"
    },
    {
     "name": "stdout",
     "output_type": "stream",
     "text": [
      "Epoch [36/40] - Training Loss: 0.6253, Training Accuracy: 81.67% - Validation Loss: 0.6661, Validation Accuracy: 80.19%\n"
     ]
    },
    {
     "data": {
      "application/vnd.jupyter.widget-view+json": {
       "model_id": "9d1df2ca4b3448d08fab30c5814e728d",
       "version_major": 2,
       "version_minor": 0
      },
      "text/plain": [
       "Epoch 37/40 - Training:   0%|          | 0/686 [00:00<?, ?it/s]"
      ]
     },
     "metadata": {},
     "output_type": "display_data"
    },
    {
     "name": "stdout",
     "output_type": "stream",
     "text": [
      "Step [100/686] - Training Loss: 0.6337 - Training Accuracy: 81.67%\n",
      "Step [200/686] - Training Loss: 0.5783 - Training Accuracy: 81.93%\n",
      "Step [300/686] - Training Loss: 0.6138 - Training Accuracy: 81.87%\n",
      "Step [400/686] - Training Loss: 0.5516 - Training Accuracy: 81.83%\n",
      "Step [500/686] - Training Loss: 0.5242 - Training Accuracy: 81.83%\n",
      "Step [600/686] - Training Loss: 0.5533 - Training Accuracy: 81.63%\n"
     ]
    },
    {
     "data": {
      "application/vnd.jupyter.widget-view+json": {
       "model_id": "6697427a779245e1aad000b469294d4a",
       "version_major": 2,
       "version_minor": 0
      },
      "text/plain": [
       "Epoch 37/40 - Validation:   0%|          | 0/75 [00:00<?, ?it/s]"
      ]
     },
     "metadata": {},
     "output_type": "display_data"
    },
    {
     "name": "stdout",
     "output_type": "stream",
     "text": [
      "Epoch [37/40] - Training Loss: 0.6247, Training Accuracy: 81.67% - Validation Loss: 0.6645, Validation Accuracy: 80.21%\n"
     ]
    },
    {
     "data": {
      "application/vnd.jupyter.widget-view+json": {
       "model_id": "34abd5a123e14ce6b36f1b68a908ce1c",
       "version_major": 2,
       "version_minor": 0
      },
      "text/plain": [
       "Epoch 38/40 - Training:   0%|          | 0/686 [00:00<?, ?it/s]"
      ]
     },
     "metadata": {},
     "output_type": "display_data"
    },
    {
     "name": "stdout",
     "output_type": "stream",
     "text": [
      "Step [100/686] - Training Loss: 0.8174 - Training Accuracy: 81.34%\n",
      "Step [200/686] - Training Loss: 0.6899 - Training Accuracy: 81.50%\n",
      "Step [300/686] - Training Loss: 0.5370 - Training Accuracy: 81.72%\n",
      "Step [400/686] - Training Loss: 0.5437 - Training Accuracy: 81.78%\n",
      "Step [500/686] - Training Loss: 0.5939 - Training Accuracy: 81.74%\n",
      "Step [600/686] - Training Loss: 0.7343 - Training Accuracy: 81.70%\n"
     ]
    },
    {
     "data": {
      "application/vnd.jupyter.widget-view+json": {
       "model_id": "5f24d737495d46f6a7e778be446b0cc9",
       "version_major": 2,
       "version_minor": 0
      },
      "text/plain": [
       "Epoch 38/40 - Validation:   0%|          | 0/75 [00:00<?, ?it/s]"
      ]
     },
     "metadata": {},
     "output_type": "display_data"
    },
    {
     "name": "stdout",
     "output_type": "stream",
     "text": [
      "Epoch [38/40] - Training Loss: 0.6240, Training Accuracy: 81.74% - Validation Loss: 0.6648, Validation Accuracy: 80.10%\n"
     ]
    },
    {
     "data": {
      "application/vnd.jupyter.widget-view+json": {
       "model_id": "c9675ab50f6744f69112a87695651359",
       "version_major": 2,
       "version_minor": 0
      },
      "text/plain": [
       "Epoch 39/40 - Training:   0%|          | 0/686 [00:00<?, ?it/s]"
      ]
     },
     "metadata": {},
     "output_type": "display_data"
    },
    {
     "name": "stdout",
     "output_type": "stream",
     "text": [
      "Step [100/686] - Training Loss: 0.8638 - Training Accuracy: 81.96%\n",
      "Step [200/686] - Training Loss: 0.6630 - Training Accuracy: 82.11%\n",
      "Step [300/686] - Training Loss: 0.8184 - Training Accuracy: 81.83%\n",
      "Step [400/686] - Training Loss: 0.6907 - Training Accuracy: 81.79%\n",
      "Step [500/686] - Training Loss: 0.6536 - Training Accuracy: 81.78%\n",
      "Step [600/686] - Training Loss: 0.6892 - Training Accuracy: 81.76%\n"
     ]
    },
    {
     "data": {
      "application/vnd.jupyter.widget-view+json": {
       "model_id": "dd97653bd20b46ed87e05c35ccf52aa9",
       "version_major": 2,
       "version_minor": 0
      },
      "text/plain": [
       "Epoch 39/40 - Validation:   0%|          | 0/75 [00:00<?, ?it/s]"
      ]
     },
     "metadata": {},
     "output_type": "display_data"
    },
    {
     "name": "stdout",
     "output_type": "stream",
     "text": [
      "Epoch [39/40] - Training Loss: 0.6237, Training Accuracy: 81.76% - Validation Loss: 0.6646, Validation Accuracy: 80.10%\n"
     ]
    },
    {
     "data": {
      "application/vnd.jupyter.widget-view+json": {
       "model_id": "4f78417c610f4697a2814559bae2295f",
       "version_major": 2,
       "version_minor": 0
      },
      "text/plain": [
       "Epoch 40/40 - Training:   0%|          | 0/686 [00:00<?, ?it/s]"
      ]
     },
     "metadata": {},
     "output_type": "display_data"
    },
    {
     "name": "stdout",
     "output_type": "stream",
     "text": [
      "Step [100/686] - Training Loss: 0.6083 - Training Accuracy: 81.20%\n",
      "Step [200/686] - Training Loss: 0.4797 - Training Accuracy: 81.49%\n",
      "Step [300/686] - Training Loss: 0.6480 - Training Accuracy: 81.52%\n",
      "Step [400/686] - Training Loss: 0.4935 - Training Accuracy: 81.67%\n",
      "Step [500/686] - Training Loss: 0.6445 - Training Accuracy: 81.64%\n",
      "Step [600/686] - Training Loss: 0.7286 - Training Accuracy: 81.76%\n"
     ]
    },
    {
     "data": {
      "application/vnd.jupyter.widget-view+json": {
       "model_id": "c1c14549db9e47dca9d29748c899e24e",
       "version_major": 2,
       "version_minor": 0
      },
      "text/plain": [
       "Epoch 40/40 - Validation:   0%|          | 0/75 [00:00<?, ?it/s]"
      ]
     },
     "metadata": {},
     "output_type": "display_data"
    },
    {
     "name": "stdout",
     "output_type": "stream",
     "text": [
      "Epoch [40/40] - Training Loss: 0.6235, Training Accuracy: 81.76% - Validation Loss: 0.6646, Validation Accuracy: 80.07%\n"
     ]
    }
   ],
   "source": [
    "for epoch in range(num_epochs):\n",
    "    running_train_loss = 0.0\n",
    "    correct_train = 0\n",
    "    mse_age_train = 0.0\n",
    "    total_train = 0\n",
    "    step = 0\n",
    "\n",
    "    # Training Phase\n",
    "    model.train()\n",
    "    optimizer.zero_grad()  # Reset gradients before starting training\n",
    "\n",
    "    for batch in tqdm(train_dl, desc=f\"Epoch {epoch+1}/{num_epochs} - Training\"):\n",
    "        optimizer.zero_grad()\n",
    "        images = batch[0].to(device).float()  # Shape: [batch_size, 1, 16, 144, 320]\n",
    "\n",
    "        # Prepare labels based on target type\n",
    "        if target == \"trial_type\":\n",
    "            labels = batch[1]  # List of labels\n",
    "            labels = label_encoder.transform(labels)\n",
    "            labels = torch.tensor(labels, dtype=torch.long).to(device)  # Shape: [batch_size]\n",
    "        elif target == \"age\":\n",
    "            labels = get_label_restricted(batch[2], 'age')\n",
    "            labels = torch.tensor(labels, dtype=torch.float).to(device)  # Shape: [batch_size]\n",
    "        elif target == \"sex\":\n",
    "            labels = get_label_restricted(batch[2], 'sex')\n",
    "            labels = torch.tensor(labels, dtype=torch.float).to(device)  # Shape: [batch_size]\n",
    "        # labels = labels.unsqueeze(1)\n",
    "        # Forward pass\n",
    "        outputs = model(images)  # Output shape depends on the target\n",
    "\n",
    "        # Compute loss\n",
    "        if target in [\"trial_type\", \"sex\"]:\n",
    "            # For classification, ensure outputs are logits\n",
    "            loss = criterion(outputs.squeeze(), labels.squeeze())\n",
    "        elif target == \"age\":\n",
    "            # For regression, ensure outputs are single values\n",
    "            loss = criterion(outputs.squeeze(), labels.squeeze())\n",
    "\n",
    "        # Backward pass and optimization\n",
    "        loss.backward()\n",
    "        optimizer.step()\n",
    "\n",
    "        # Accumulate loss\n",
    "        running_train_loss += loss.item() * images.size(0)\n",
    "\n",
    "        # Calculate and accumulate metrics\n",
    "        if target == \"trial_type\":\n",
    "            _, predicted = torch.max(outputs, 1)\n",
    "            correct_train += (predicted == labels).sum().item()\n",
    "        elif target == \"age\":\n",
    "            mse_age_train += (torch.sum((outputs.squeeze() - labels) ** 2).item())\n",
    "        elif target == \"sex\":\n",
    "            threshold = 0.5\n",
    "            predicted = (torch.sigmoid(outputs) > threshold).float().squeeze()\n",
    "            correct_train += (predicted == labels).sum().item()\n",
    "\n",
    "        total_train += labels.size(0)\n",
    "        step += 1\n",
    "\n",
    "        # Print intermediate metrics every 100 steps\n",
    "        if step % 100 == 0:\n",
    "            if target in [\"trial_type\", \"sex\"]:\n",
    "                current_accuracy = 100 * correct_train / total_train if total_train > 0 else 0.0\n",
    "                print(f\"Step [{step}/{len(train_dl)}] - Training Loss: {loss.item():.4f} - Training Accuracy: {current_accuracy:.2f}%\")\n",
    "            elif target == \"age\":\n",
    "                current_mse = mse_age_train / total_train if total_train > 0 else 0.0\n",
    "                print(f\"Step [{step}/{len(train_dl)}] - Training Loss: {loss.item():.4f} - Training MSE: {current_mse:.4f}\")\n",
    "\n",
    "        if lr_scheduler_type is not None:\n",
    "                lr_scheduler.step()\n",
    "\n",
    "    # Calculate epoch-level metrics\n",
    "    epoch_train_loss = running_train_loss / total_train if total_train > 0 else 0.0\n",
    "\n",
    "    if target in [\"trial_type\", \"sex\"]:\n",
    "        train_accuracy = 100 * correct_train / total_train if total_train > 0 else 0.0\n",
    "    elif target == \"age\":\n",
    "        train_mse = mse_age_train / total_train if total_train > 0 else 0.0\n",
    "\n",
    "    # Validation Phase\n",
    "    model.eval()\n",
    "    running_val_loss = 0.0\n",
    "    correct_val = 0\n",
    "    mse_age_val = 0.0\n",
    "    total_val = 0\n",
    "\n",
    "    with torch.no_grad():\n",
    "        for batch in tqdm(test_dl, desc=f\"Epoch {epoch+1}/{num_epochs} - Validation\"):\n",
    "            images = batch[0].to(device).float()  # Removed unsqueeze(1) unless specifically needed\n",
    "\n",
    "            # Prepare labels based on target type\n",
    "            if target == \"trial_type\":\n",
    "                labels = batch[1]  # List of labels\n",
    "                labels = label_encoder.transform(labels)\n",
    "                labels = torch.tensor(labels, dtype=torch.long).to(device)  # Shape: [batch_size]\n",
    "            elif target == \"age\":\n",
    "                labels = get_label_restricted(batch[2], 'age')\n",
    "                labels = torch.tensor(labels, dtype=torch.float).to(device)  # Shape: [batch_size]\n",
    "            elif target == \"sex\":\n",
    "                labels = get_label_restricted(batch[2], 'sex')\n",
    "                labels = torch.tensor(labels, dtype=torch.float).to(device)  # Shape: [batch_size]\n",
    "\n",
    "            # labels = labels.unsqueeze(1)\n",
    "            \n",
    "            # Forward pass\n",
    "            outputs = model(images)\n",
    "\n",
    "            # Compute loss\n",
    "            if target in [\"trial_type\", \"sex\"]:\n",
    "                loss = criterion(outputs.squeeze(), labels.squeeze())\n",
    "            elif target == \"age\":\n",
    "                loss = criterion(outputs.squeeze(), labels.squeeze())\n",
    "\n",
    "            # Accumulate loss\n",
    "            running_val_loss += loss.item() * images.size(0)\n",
    "\n",
    "            # Calculate and accumulate metrics\n",
    "            if target == \"trial_type\":\n",
    "                _, predicted = torch.max(outputs, 1)\n",
    "                correct_val += (predicted == labels).sum().item()\n",
    "            elif target == \"age\":\n",
    "                mse_age_val += (torch.sum((outputs.squeeze() - labels) ** 2).item()) \n",
    "            elif target == \"sex\":\n",
    "                threshold = 0.5\n",
    "                predicted = (torch.sigmoid(outputs) > threshold).float().squeeze()\n",
    "                correct_val += (predicted == labels).sum().item()\n",
    "\n",
    "            total_val += labels.size(0)\n",
    "\n",
    "    # Calculate epoch-level validation metrics\n",
    "    epoch_val_loss = running_val_loss / total_val if total_val > 0 else 0.0\n",
    "\n",
    "    if target in [\"trial_type\", \"sex\"]:\n",
    "        val_accuracy = 100 * correct_val / total_val if total_val > 0 else 0.0\n",
    "    elif target == \"age\":\n",
    "        val_mse = mse_age_val / total_val if total_val > 0 else 0.0\n",
    "\n",
    "    # Print epoch-level metrics\n",
    "    if target in [\"trial_type\", \"sex\"]:\n",
    "        print(f\"Epoch [{epoch+1}/{num_epochs}] \"\n",
    "              f\"- Training Loss: {epoch_train_loss:.4f}, Training Accuracy: {train_accuracy:.2f}% \"\n",
    "              f\"- Validation Loss: {epoch_val_loss:.4f}, Validation Accuracy: {val_accuracy:.2f}%\")\n",
    "    elif target == \"age\":\n",
    "        print(f\"Epoch [{epoch+1}/{num_epochs}] \"\n",
    "              f\"- Training Loss: {epoch_train_loss:.4f}, Training MSE: {train_mse:.4f} \"\n",
    "              f\"- Validation Loss: {epoch_val_loss:.4f}, Validation MSE: {val_mse:.4f}\")\n",
    "\n",
    "    # Log metrics with wandb\n",
    "    if wandb_log:\n",
    "        log_dict = {\n",
    "            \"epoch_train_loss\": epoch_train_loss,\n",
    "            \"epoch_val_loss\": epoch_val_loss,\n",
    "        }\n",
    "        if target in [\"trial_type\", \"sex\"]:\n",
    "            log_dict.update({\n",
    "                f\"train_accuracy_{target}\": train_accuracy,\n",
    "                f\"val_accuracy_{target}\": val_accuracy,\n",
    "            })\n",
    "        elif target == \"age\":\n",
    "            log_dict.update({\n",
    "                f\"train_mse_{target}\": train_mse,\n",
    "                f\"val_mse_{target}\": val_mse,\n",
    "            })\n",
    "        wandb.log(log_dict)\n",
    "\n",
    "# Save checkpoint if required\n",
    "if save_ckpt:\n",
    "    outdir = os.path.abspath(f'checkpoints/{\"HCPflat_raw\"+ f\"_{model_suffix}_{target}\"}_{random_id}')\n",
    "    os.makedirs(outdir, exist_ok=True)\n",
    "    print(\"Saving checkpoint to:\", outdir)\n",
    "    # Save model state\n",
    "    torch.save(model.state_dict(), os.path.join(outdir, \"model.pth\"))\n",
    "    # Save configuration\n",
    "    with open(os.path.join(outdir, \"config.yaml\"), 'w') as f:\n",
    "        yaml.dump(wandb_config, f)\n",
    "    print(f\"Model and config saved to {outdir}\")\n"
   ]
  }
 ],
 "metadata": {
  "kernelspec": {
   "display_name": "foundation_env",
   "language": "python",
   "name": "foundation_env"
  },
  "language_info": {
   "codemirror_mode": {
    "name": "ipython",
    "version": 3
   },
   "file_extension": ".py",
   "mimetype": "text/x-python",
   "name": "python",
   "nbconvert_exporter": "python",
   "pygments_lexer": "ipython3",
   "version": "3.11.11"
  }
 },
 "nbformat": 4,
 "nbformat_minor": 5
}
